{
 "cells": [
  {
   "cell_type": "code",
   "execution_count": 0,
   "metadata": {
    "application/vnd.databricks.v1+cell": {
     "cellMetadata": {
      "byteLimit": 2048000,
      "rowLimit": 10000
     },
     "inputWidgets": {},
     "nuid": "3823b864-9541-4f14-9ff5-f9cae2e2bc2b",
     "showTitle": false,
     "tableResultSettingsMap": {},
     "title": ""
    }
   },
   "outputs": [
    {
     "output_type": "display_data",
     "data": {
      "application/vnd.databricks.v1+bamboolib_hint": "{\"pd.DataFrames\": [], \"version\": \"0.0.1\"}",
      "text/plain": []
     },
     "metadata": {},
     "output_type": "display_data"
    }
   ],
   "source": [
    "from csv import reader\n",
    "from pyspark.sql import Row \n",
    "from pyspark.sql import SparkSession\n",
    "from pyspark.sql.types import *\n",
    "import pandas as pd\n",
    "import numpy as np\n",
    "import seaborn as sb\n",
    "import matplotlib.pyplot as plt\n",
    "import warnings\n",
    "\n",
    "import os\n",
    "os.environ[\"PYSPARK_PYTHON\"] = \"python3\""
   ]
  },
  {
   "cell_type": "code",
   "execution_count": 0,
   "metadata": {
    "application/vnd.databricks.v1+cell": {
     "cellMetadata": {
      "byteLimit": 2048000,
      "rowLimit": 10000
     },
     "inputWidgets": {},
     "nuid": "313bef41-8a32-4e6b-872d-c69dc5e41030",
     "showTitle": false,
     "tableResultSettingsMap": {},
     "title": ""
    }
   },
   "outputs": [
    {
     "output_type": "display_data",
     "data": {
      "text/html": [
       "<style scoped>\n",
       "  .table-result-container {\n",
       "    max-height: 300px;\n",
       "    overflow: auto;\n",
       "  }\n",
       "  table, th, td {\n",
       "    border: 1px solid black;\n",
       "    border-collapse: collapse;\n",
       "  }\n",
       "  th, td {\n",
       "    padding: 5px;\n",
       "  }\n",
       "  th {\n",
       "    text-align: left;\n",
       "  }\n",
       "</style><div class='table-result-container'><table class='table-result'><thead style='background-color: white'><tr><th>path</th><th>name</th><th>size</th><th>modificationTime</th></tr></thead><tbody><tr><td>dbfs:/laioffer/spark_hw1/data/sf_03_01.csv</td><td>sf_03_01.csv</td><td>550945238</td><td>1741453342000</td></tr><tr><td>dbfs:/laioffer/spark_hw1/data/sf_03_18.csv</td><td>sf_03_18.csv</td><td>550945238</td><td>1740853256000</td></tr></tbody></table></div>"
      ]
     },
     "metadata": {
      "application/vnd.databricks.v1+output": {
       "addedWidgets": {},
       "aggData": [],
       "aggError": "",
       "aggOverflow": false,
       "aggSchema": [],
       "aggSeriesLimitReached": false,
       "aggType": "",
       "arguments": {},
       "columnCustomDisplayInfos": {},
       "data": [
        [
         "dbfs:/laioffer/spark_hw1/data/sf_03_01.csv",
         "sf_03_01.csv",
         550945238,
         1741453342000
        ],
        [
         "dbfs:/laioffer/spark_hw1/data/sf_03_18.csv",
         "sf_03_18.csv",
         550945238,
         1740853256000
        ]
       ],
       "datasetInfos": [],
       "dbfsResultPath": null,
       "isJsonSchema": true,
       "metadata": {},
       "overflow": false,
       "plotOptions": {
        "customPlotOptions": {},
        "displayType": "table",
        "pivotAggregation": null,
        "pivotColumns": null,
        "xColumns": null,
        "yColumns": null
       },
       "removedWidgets": [],
       "schema": [
        {
         "metadata": "{}",
         "name": "path",
         "type": "\"string\""
        },
        {
         "metadata": "{}",
         "name": "name",
         "type": "\"string\""
        },
        {
         "metadata": "{}",
         "name": "size",
         "type": "\"long\""
        },
        {
         "metadata": "{}",
         "name": "modificationTime",
         "type": "\"long\""
        }
       ],
       "type": "table"
      }
     },
     "output_type": "display_data"
    }
   ],
   "source": [
    "import urllib.request\n",
    "urllib.request.urlretrieve(\"https://data.sfgov.org/api/views/tmnf-yvry/rows.csv?accessType=DOWNLOAD\", \"/tmp/myxxxx.csv\")\n",
    "dbutils.fs.mv(\"file:/tmp/myxxxx.csv\", \"dbfs:/laioffer/spark_hw1/data/sf_03_01.csv\")\n",
    "display(dbutils.fs.ls(\"dbfs:/laioffer/spark_hw1/data/\"))"
   ]
  },
  {
   "cell_type": "code",
   "execution_count": 0,
   "metadata": {
    "application/vnd.databricks.v1+cell": {
     "cellMetadata": {
      "byteLimit": 2048000,
      "rowLimit": 10000
     },
     "inputWidgets": {},
     "nuid": "1a099022-9fc3-457e-87ba-0d9732510a14",
     "showTitle": false,
     "tableResultSettingsMap": {},
     "title": ""
    }
   },
   "outputs": [],
   "source": [
    "data_path = \"dbfs:/laioffer/spark_hw1/data/sf_03_01.csv\""
   ]
  },
  {
   "cell_type": "markdown",
   "metadata": {
    "application/vnd.databricks.v1+cell": {
     "cellMetadata": {},
     "inputWidgets": {},
     "nuid": "4511b311-da5d-4d0c-86ea-157fceadca9d",
     "showTitle": false,
     "tableResultSettingsMap": {},
     "title": ""
    }
   },
   "source": [
    "from pyspark.sql import SparkSession\n",
    "spark = SparkSession \\\n",
    "    .builder \\\n",
    "    .appName(\"crime analysis\") \\\n",
    "    .config(\"spark.some.config.option\", \"some-value\") \\\n",
    "    .getOrCreate()\n",
    "\n",
    "df_opt1 = spark.read.format(\"csv\").option(\"header\", \"true\").load(data_path)"
   ]
  },
  {
   "cell_type": "markdown",
   "metadata": {
    "application/vnd.databricks.v1+cell": {
     "cellMetadata": {},
     "inputWidgets": {},
     "nuid": "a8431049-3fc7-4ab3-bcde-4a9fadd9667a",
     "showTitle": false,
     "tableResultSettingsMap": {},
     "title": ""
    }
   },
   "source": [
    "from pyspark.sql import SparkSession\n",
    "spark = SparkSession \\\n",
    "    .builder \\\n",
    "    .appName(\"crime analysis\") \\\n",
    "    .config(\"spark.some.config.option\", \"some-value\") \\\n",
    "    .getOrCreate()\n",
    "\n",
    "df_opt1 = spark.read.format(\"csv\").option(\"header\", \"true\").load(data_path)"
   ]
  },
  {
   "cell_type": "code",
   "execution_count": 0,
   "metadata": {
    "application/vnd.databricks.v1+cell": {
     "cellMetadata": {
      "byteLimit": 2048000,
      "rowLimit": 10000
     },
     "inputWidgets": {},
     "nuid": "f7018fbd-add7-435e-8a97-e5a999626709",
     "showTitle": false,
     "tableResultSettingsMap": {},
     "title": ""
    }
   },
   "outputs": [
    {
     "output_type": "stream",
     "name": "stdout",
     "output_type": "stream",
     "text": [
      "Out[5]: [('spark.executor.extraClassPath',\n  '/databricks/spark/dbconf/log4j/executor:/databricks/spark/dbconf/jets3t/:/databricks/spark/dbconf/hadoop:/databricks/hive/conf:/databricks/jars/*'),\n ('spark.executor.memory', '8278m'),\n ('spark.executor.extraJavaOptions',\n  '-Djava.io.tmpdir=/local_disk0/tmp -XX:ReservedCodeCacheSize=512m -XX:+UseCodeCacheFlushing -XX:PerMethodRecompilationCutoff=-1 -XX:PerBytecodeRecompilationCutoff=-1 -Djava.security.properties=/databricks/spark/dbconf/java/extra.security -XX:-UseContainerSupport -XX:+PrintFlagsFinal -XX:+PrintGCDateStamps -XX:+PrintGCDetails -verbose:gc -Xss4m -Djava.library.path=/usr/java/packages/lib/amd64:/usr/lib64:/lib64:/lib:/usr/lib:/usr/lib/x86_64-linux-gnu/jni:/lib/x86_64-linux-gnu:/usr/lib/x86_64-linux-gnu:/usr/lib/jni -Djavax.xml.datatype.DatatypeFactory=com.sun.org.apache.xerces.internal.jaxp.datatype.DatatypeFactoryImpl -Djavax.xml.parsers.DocumentBuilderFactory=com.sun.org.apache.xerces.internal.jaxp.DocumentBuilderFactoryImpl -Djavax.xml.parsers.SAXParserFactory=com.sun.org.apache.xerces.internal.jaxp.SAXParserFactoryImpl -Djavax.xml.validation.SchemaFactory:http://www.w3.org/2001/XMLSchema=com.sun.org.apache.xerces.internal.jaxp.validation.XMLSchemaFactory -Dorg.xml.sax.driver=com.sun.org.apache.xerces.internal.parsers.SAXParser -Dorg.w3c.dom.DOMImplementationSourceList=com.sun.org.apache.xerces.internal.dom.DOMXSImplementationSourceImpl -Djavax.net.ssl.sessionCacheSize=10000 -Dscala.reflect.runtime.disable.typetag.cache=true -Dcom.google.cloud.spark.bigquery.repackaged.io.netty.tryReflectionSetAccessible=true -Dlog4j2.formatMsgNoLookups=true -Ddatabricks.serviceName=spark-executor-1'),\n ('spark.ui.port', '40001')]"
     ]
    }
   ],
   "source": [
    "from pyspark import SparkConf\n",
    "SparkConf().getAll()"
   ]
  },
  {
   "cell_type": "code",
   "execution_count": 0,
   "metadata": {
    "application/vnd.databricks.v1+cell": {
     "cellMetadata": {
      "byteLimit": 2048000,
      "rowLimit": 10000
     },
     "inputWidgets": {},
     "nuid": "bd2d7cd1-9c58-4ac6-a3fa-9d3a0bfb062b",
     "showTitle": false,
     "tableResultSettingsMap": {},
     "title": ""
    }
   },
   "outputs": [
    {
     "output_type": "stream",
     "name": "stdout",
     "output_type": "stream",
     "text": [
      "Out[6]: 2129525"
     ]
    }
   ],
   "source": [
    "df_opt1.count()"
   ]
  },
  {
   "cell_type": "code",
   "execution_count": 0,
   "metadata": {
    "application/vnd.databricks.v1+cell": {
     "cellMetadata": {
      "byteLimit": 2048000,
      "rowLimit": 10000
     },
     "inputWidgets": {},
     "nuid": "9f87e665-7833-4935-919d-a313e5047add",
     "showTitle": false,
     "tableResultSettingsMap": {},
     "title": ""
    }
   },
   "outputs": [
    {
     "output_type": "stream",
     "name": "stdout",
     "output_type": "stream",
     "text": [
      "Out[7]: pyspark.sql.dataframe.DataFrame"
     ]
    }
   ],
   "source": [
    "type(df_opt1)"
   ]
  },
  {
   "cell_type": "markdown",
   "metadata": {
    "application/vnd.databricks.v1+cell": {
     "cellMetadata": {},
     "inputWidgets": {},
     "nuid": "238d2ea5-7d22-4a45-883f-6a04dc39b579",
     "showTitle": false,
     "tableResultSettingsMap": {},
     "title": ""
    }
   },
   "source": [
    "\n",
    "**Q1 question:**\n",
    "Write a Spark program that counts the number of crimes for different category.\n",
    "Below are some example codes to demonstrate the way to use Spark RDD, DF, and SQL to work with big data. You can follow this example to finish other questions."
   ]
  },
  {
   "cell_type": "code",
   "execution_count": 0,
   "metadata": {
    "application/vnd.databricks.v1+cell": {
     "cellMetadata": {
      "byteLimit": 2048000,
      "rowLimit": 10000
     },
     "inputWidgets": {},
     "nuid": "e36381a1-ab60-4c3d-8b7b-81cac46cd716",
     "showTitle": false,
     "tableResultSettingsMap": {},
     "title": ""
    }
   },
   "outputs": [
    {
     "output_type": "display_data",
     "data": {
      "text/html": [
       "<style scoped>\n",
       "  .table-result-container {\n",
       "    max-height: 300px;\n",
       "    overflow: auto;\n",
       "  }\n",
       "  table, th, td {\n",
       "    border: 1px solid black;\n",
       "    border-collapse: collapse;\n",
       "  }\n",
       "  th, td {\n",
       "    padding: 5px;\n",
       "  }\n",
       "  th {\n",
       "    text-align: left;\n",
       "  }\n",
       "</style><div class='table-result-container'><table class='table-result'><thead style='background-color: white'><tr><th>category</th><th>Count</th></tr></thead><tbody><tr><td>LARCENY/THEFT</td><td>477975</td></tr><tr><td>OTHER OFFENSES</td><td>301874</td></tr><tr><td>NON-CRIMINAL</td><td>236928</td></tr><tr><td>ASSAULT</td><td>167042</td></tr><tr><td>VEHICLE THEFT</td><td>126228</td></tr><tr><td>DRUG/NARCOTIC</td><td>117821</td></tr><tr><td>VANDALISM</td><td>114718</td></tr><tr><td>WARRANTS</td><td>99821</td></tr><tr><td>BURGLARY</td><td>91067</td></tr><tr><td>SUSPICIOUS OCC</td><td>79087</td></tr><tr><td>ROBBERY</td><td>54467</td></tr><tr><td>MISSING PERSON</td><td>44268</td></tr><tr><td>FRAUD</td><td>41348</td></tr><tr><td>FORGERY/COUNTERFEITING</td><td>22995</td></tr><tr><td>SECONDARY CODES</td><td>22378</td></tr><tr><td>WEAPON LAWS</td><td>21004</td></tr><tr><td>TRESPASS</td><td>19194</td></tr><tr><td>PROSTITUTION</td><td>16501</td></tr><tr><td>STOLEN PROPERTY</td><td>11450</td></tr><tr><td>DISORDERLY CONDUCT</td><td>9932</td></tr><tr><td>DRUNKENNESS</td><td>9760</td></tr><tr><td>SEX OFFENSES, FORCIBLE</td><td>8747</td></tr><tr><td>RECOVERED VEHICLE</td><td>8688</td></tr><tr><td>DRIVING UNDER THE INFLUENCE</td><td>5652</td></tr><tr><td>KIDNAPPING</td><td>4282</td></tr><tr><td>ARSON</td><td>3875</td></tr><tr><td>EMBEZZLEMENT</td><td>2984</td></tr><tr><td>LIQUOR LAWS</td><td>2840</td></tr><tr><td>LOITERING</td><td>2402</td></tr><tr><td>SUICIDE</td><td>1291</td></tr><tr><td>BAD CHECKS</td><td>924</td></tr><tr><td>BRIBERY</td><td>796</td></tr><tr><td>EXTORTION</td><td>729</td></tr><tr><td>GAMBLING</td><td>343</td></tr><tr><td>PORNOGRAPHY/OBSCENE MAT</td><td>57</td></tr><tr><td>SEX OFFENSES, NON FORCIBLE</td><td>43</td></tr><tr><td>TREA</td><td>14</td></tr></tbody></table></div>"
      ]
     },
     "metadata": {
      "application/vnd.databricks.v1+output": {
       "addedWidgets": {},
       "aggData": [],
       "aggError": "",
       "aggOverflow": false,
       "aggSchema": [],
       "aggSeriesLimitReached": false,
       "aggType": "",
       "arguments": {},
       "columnCustomDisplayInfos": {},
       "data": [
        [
         "LARCENY/THEFT",
         477975
        ],
        [
         "OTHER OFFENSES",
         301874
        ],
        [
         "NON-CRIMINAL",
         236928
        ],
        [
         "ASSAULT",
         167042
        ],
        [
         "VEHICLE THEFT",
         126228
        ],
        [
         "DRUG/NARCOTIC",
         117821
        ],
        [
         "VANDALISM",
         114718
        ],
        [
         "WARRANTS",
         99821
        ],
        [
         "BURGLARY",
         91067
        ],
        [
         "SUSPICIOUS OCC",
         79087
        ],
        [
         "ROBBERY",
         54467
        ],
        [
         "MISSING PERSON",
         44268
        ],
        [
         "FRAUD",
         41348
        ],
        [
         "FORGERY/COUNTERFEITING",
         22995
        ],
        [
         "SECONDARY CODES",
         22378
        ],
        [
         "WEAPON LAWS",
         21004
        ],
        [
         "TRESPASS",
         19194
        ],
        [
         "PROSTITUTION",
         16501
        ],
        [
         "STOLEN PROPERTY",
         11450
        ],
        [
         "DISORDERLY CONDUCT",
         9932
        ],
        [
         "DRUNKENNESS",
         9760
        ],
        [
         "SEX OFFENSES, FORCIBLE",
         8747
        ],
        [
         "RECOVERED VEHICLE",
         8688
        ],
        [
         "DRIVING UNDER THE INFLUENCE",
         5652
        ],
        [
         "KIDNAPPING",
         4282
        ],
        [
         "ARSON",
         3875
        ],
        [
         "EMBEZZLEMENT",
         2984
        ],
        [
         "LIQUOR LAWS",
         2840
        ],
        [
         "LOITERING",
         2402
        ],
        [
         "SUICIDE",
         1291
        ],
        [
         "BAD CHECKS",
         924
        ],
        [
         "BRIBERY",
         796
        ],
        [
         "EXTORTION",
         729
        ],
        [
         "GAMBLING",
         343
        ],
        [
         "PORNOGRAPHY/OBSCENE MAT",
         57
        ],
        [
         "SEX OFFENSES, NON FORCIBLE",
         43
        ],
        [
         "TREA",
         14
        ]
       ],
       "datasetInfos": [],
       "dbfsResultPath": null,
       "isJsonSchema": true,
       "metadata": {},
       "overflow": false,
       "plotOptions": {
        "customPlotOptions": {},
        "displayType": "table",
        "pivotAggregation": null,
        "pivotColumns": null,
        "xColumns": null,
        "yColumns": null
       },
       "removedWidgets": [],
       "schema": [
        {
         "metadata": "{}",
         "name": "category",
         "type": "\"string\""
        },
        {
         "metadata": "{}",
         "name": "Count",
         "type": "\"long\""
        }
       ],
       "type": "table"
      }
     },
     "output_type": "display_data"
    }
   ],
   "source": [
    "\n",
    "spark_sql_q1 = spark.sql(\"SELECT category, COUNT(*) AS Count FROM sf_crime GROUP BY category ORDER BY Count DESC\")\n",
    "\n",
    "display(spark_sql_q1)\n",
    " "
   ]
  },
  {
   "cell_type": "code",
   "execution_count": 0,
   "metadata": {
    "application/vnd.databricks.v1+cell": {
     "cellMetadata": {
      "byteLimit": 2048000,
      "rowLimit": 10000
     },
     "inputWidgets": {},
     "nuid": "366fcc48-5024-49a2-9e5d-c910d050c2e9",
     "showTitle": false,
     "tableResultSettingsMap": {},
     "title": ""
    }
   },
   "outputs": [
    {
     "output_type": "display_data",
     "data": {
      "text/html": [
       "<style scoped>\n",
       "  .table-result-container {\n",
       "    max-height: 300px;\n",
       "    overflow: auto;\n",
       "  }\n",
       "  table, th, td {\n",
       "    border: 1px solid black;\n",
       "    border-collapse: collapse;\n",
       "  }\n",
       "  th, td {\n",
       "    padding: 5px;\n",
       "  }\n",
       "  th {\n",
       "    text-align: left;\n",
       "  }\n",
       "</style><div class='table-result-container'><table class='table-result'><thead style='background-color: white'><tr><th>category</th><th>count</th></tr></thead><tbody><tr><td>LARCENY/THEFT</td><td>477975</td></tr><tr><td>OTHER OFFENSES</td><td>301874</td></tr><tr><td>NON-CRIMINAL</td><td>236928</td></tr><tr><td>ASSAULT</td><td>167042</td></tr><tr><td>VEHICLE THEFT</td><td>126228</td></tr><tr><td>DRUG/NARCOTIC</td><td>117821</td></tr><tr><td>VANDALISM</td><td>114718</td></tr><tr><td>WARRANTS</td><td>99821</td></tr><tr><td>BURGLARY</td><td>91067</td></tr><tr><td>SUSPICIOUS OCC</td><td>79087</td></tr><tr><td>ROBBERY</td><td>54467</td></tr><tr><td>MISSING PERSON</td><td>44268</td></tr><tr><td>FRAUD</td><td>41348</td></tr><tr><td>FORGERY/COUNTERFEITING</td><td>22995</td></tr><tr><td>SECONDARY CODES</td><td>22378</td></tr><tr><td>WEAPON LAWS</td><td>21004</td></tr><tr><td>TRESPASS</td><td>19194</td></tr><tr><td>PROSTITUTION</td><td>16501</td></tr><tr><td>STOLEN PROPERTY</td><td>11450</td></tr><tr><td>DISORDERLY CONDUCT</td><td>9932</td></tr><tr><td>DRUNKENNESS</td><td>9760</td></tr><tr><td>SEX OFFENSES, FORCIBLE</td><td>8747</td></tr><tr><td>RECOVERED VEHICLE</td><td>8688</td></tr><tr><td>DRIVING UNDER THE INFLUENCE</td><td>5652</td></tr><tr><td>KIDNAPPING</td><td>4282</td></tr><tr><td>ARSON</td><td>3875</td></tr><tr><td>EMBEZZLEMENT</td><td>2984</td></tr><tr><td>LIQUOR LAWS</td><td>2840</td></tr><tr><td>LOITERING</td><td>2402</td></tr><tr><td>SUICIDE</td><td>1291</td></tr><tr><td>BAD CHECKS</td><td>924</td></tr><tr><td>BRIBERY</td><td>796</td></tr><tr><td>EXTORTION</td><td>729</td></tr><tr><td>GAMBLING</td><td>343</td></tr><tr><td>PORNOGRAPHY/OBSCENE MAT</td><td>57</td></tr><tr><td>SEX OFFENSES, NON FORCIBLE</td><td>43</td></tr><tr><td>TREA</td><td>14</td></tr></tbody></table></div>"
      ]
     },
     "metadata": {
      "application/vnd.databricks.v1+output": {
       "addedWidgets": {},
       "aggData": [],
       "aggError": "",
       "aggOverflow": false,
       "aggSchema": [],
       "aggSeriesLimitReached": false,
       "aggType": "",
       "arguments": {},
       "columnCustomDisplayInfos": {},
       "data": [
        [
         "LARCENY/THEFT",
         477975
        ],
        [
         "OTHER OFFENSES",
         301874
        ],
        [
         "NON-CRIMINAL",
         236928
        ],
        [
         "ASSAULT",
         167042
        ],
        [
         "VEHICLE THEFT",
         126228
        ],
        [
         "DRUG/NARCOTIC",
         117821
        ],
        [
         "VANDALISM",
         114718
        ],
        [
         "WARRANTS",
         99821
        ],
        [
         "BURGLARY",
         91067
        ],
        [
         "SUSPICIOUS OCC",
         79087
        ],
        [
         "ROBBERY",
         54467
        ],
        [
         "MISSING PERSON",
         44268
        ],
        [
         "FRAUD",
         41348
        ],
        [
         "FORGERY/COUNTERFEITING",
         22995
        ],
        [
         "SECONDARY CODES",
         22378
        ],
        [
         "WEAPON LAWS",
         21004
        ],
        [
         "TRESPASS",
         19194
        ],
        [
         "PROSTITUTION",
         16501
        ],
        [
         "STOLEN PROPERTY",
         11450
        ],
        [
         "DISORDERLY CONDUCT",
         9932
        ],
        [
         "DRUNKENNESS",
         9760
        ],
        [
         "SEX OFFENSES, FORCIBLE",
         8747
        ],
        [
         "RECOVERED VEHICLE",
         8688
        ],
        [
         "DRIVING UNDER THE INFLUENCE",
         5652
        ],
        [
         "KIDNAPPING",
         4282
        ],
        [
         "ARSON",
         3875
        ],
        [
         "EMBEZZLEMENT",
         2984
        ],
        [
         "LIQUOR LAWS",
         2840
        ],
        [
         "LOITERING",
         2402
        ],
        [
         "SUICIDE",
         1291
        ],
        [
         "BAD CHECKS",
         924
        ],
        [
         "BRIBERY",
         796
        ],
        [
         "EXTORTION",
         729
        ],
        [
         "GAMBLING",
         343
        ],
        [
         "PORNOGRAPHY/OBSCENE MAT",
         57
        ],
        [
         "SEX OFFENSES, NON FORCIBLE",
         43
        ],
        [
         "TREA",
         14
        ]
       ],
       "datasetInfos": [],
       "dbfsResultPath": null,
       "isJsonSchema": true,
       "metadata": {},
       "overflow": false,
       "plotOptions": {
        "customPlotOptions": {},
        "displayType": "table",
        "pivotAggregation": null,
        "pivotColumns": null,
        "xColumns": null,
        "yColumns": null
       },
       "removedWidgets": [],
       "schema": [
        {
         "metadata": "{}",
         "name": "category",
         "type": "\"string\""
        },
        {
         "metadata": "{}",
         "name": "count",
         "type": "\"long\""
        }
       ],
       "type": "table"
      }
     },
     "output_type": "display_data"
    }
   ],
   "source": [
    "\n",
    "spark_df_q1 = df_opt1.groupBy('category').count().orderBy('count', ascending=False)\n",
    "display(spark_df_q1)\n"
   ]
  },
  {
   "cell_type": "code",
   "execution_count": 0,
   "metadata": {
    "application/vnd.databricks.v1+cell": {
     "cellMetadata": {
      "byteLimit": 2048000,
      "rowLimit": 10000
     },
     "inputWidgets": {},
     "nuid": "35020d5b-6e6d-4a23-9150-37a1821f7654",
     "showTitle": false,
     "tableResultSettingsMap": {},
     "title": ""
    }
   },
   "outputs": [
    {
     "output_type": "display_data",
     "data": {
      "text/html": [
       "<style scoped>\n",
       "  .table-result-container {\n",
       "    max-height: 300px;\n",
       "    overflow: auto;\n",
       "  }\n",
       "  table, th, td {\n",
       "    border: 1px solid black;\n",
       "    border-collapse: collapse;\n",
       "  }\n",
       "  th, td {\n",
       "    padding: 5px;\n",
       "  }\n",
       "  th {\n",
       "    text-align: left;\n",
       "  }\n",
       "</style><div class='table-result-container'><table class='table-result'><thead style='background-color: white'><tr><th>category</th><th>Count</th></tr></thead><tbody><tr><td>LARCENY/THEFT</td><td>477975</td></tr><tr><td>OTHER OFFENSES</td><td>301874</td></tr><tr><td>NON-CRIMINAL</td><td>236928</td></tr><tr><td>ASSAULT</td><td>167042</td></tr><tr><td>VEHICLE THEFT</td><td>126228</td></tr><tr><td>DRUG/NARCOTIC</td><td>117821</td></tr><tr><td>VANDALISM</td><td>114718</td></tr><tr><td>WARRANTS</td><td>99821</td></tr><tr><td>BURGLARY</td><td>91067</td></tr><tr><td>SUSPICIOUS OCC</td><td>79087</td></tr><tr><td>ROBBERY</td><td>54467</td></tr><tr><td>MISSING PERSON</td><td>44268</td></tr><tr><td>FRAUD</td><td>41348</td></tr><tr><td>FORGERY/COUNTERFEITING</td><td>22995</td></tr><tr><td>SECONDARY CODES</td><td>22378</td></tr><tr><td>WEAPON LAWS</td><td>21004</td></tr><tr><td>TRESPASS</td><td>19194</td></tr><tr><td>PROSTITUTION</td><td>16501</td></tr><tr><td>STOLEN PROPERTY</td><td>11450</td></tr><tr><td>DISORDERLY CONDUCT</td><td>9932</td></tr><tr><td>DRUNKENNESS</td><td>9760</td></tr><tr><td>SEX OFFENSES, FORCIBLE</td><td>8747</td></tr><tr><td>RECOVERED VEHICLE</td><td>8688</td></tr><tr><td>DRIVING UNDER THE INFLUENCE</td><td>5652</td></tr><tr><td>KIDNAPPING</td><td>4282</td></tr><tr><td>ARSON</td><td>3875</td></tr><tr><td>EMBEZZLEMENT</td><td>2984</td></tr><tr><td>LIQUOR LAWS</td><td>2840</td></tr><tr><td>LOITERING</td><td>2402</td></tr><tr><td>SUICIDE</td><td>1291</td></tr><tr><td>BAD CHECKS</td><td>924</td></tr><tr><td>BRIBERY</td><td>796</td></tr><tr><td>EXTORTION</td><td>729</td></tr><tr><td>GAMBLING</td><td>343</td></tr><tr><td>PORNOGRAPHY/OBSCENE MAT</td><td>57</td></tr><tr><td>SEX OFFENSES, NON FORCIBLE</td><td>43</td></tr><tr><td>TREA</td><td>14</td></tr></tbody></table></div>"
      ]
     },
     "metadata": {
      "application/vnd.databricks.v1+output": {
       "addedWidgets": {},
       "aggData": [],
       "aggError": "",
       "aggOverflow": false,
       "aggSchema": [],
       "aggSeriesLimitReached": false,
       "aggType": "",
       "arguments": {},
       "columnCustomDisplayInfos": {},
       "data": [
        [
         "LARCENY/THEFT",
         477975
        ],
        [
         "OTHER OFFENSES",
         301874
        ],
        [
         "NON-CRIMINAL",
         236928
        ],
        [
         "ASSAULT",
         167042
        ],
        [
         "VEHICLE THEFT",
         126228
        ],
        [
         "DRUG/NARCOTIC",
         117821
        ],
        [
         "VANDALISM",
         114718
        ],
        [
         "WARRANTS",
         99821
        ],
        [
         "BURGLARY",
         91067
        ],
        [
         "SUSPICIOUS OCC",
         79087
        ],
        [
         "ROBBERY",
         54467
        ],
        [
         "MISSING PERSON",
         44268
        ],
        [
         "FRAUD",
         41348
        ],
        [
         "FORGERY/COUNTERFEITING",
         22995
        ],
        [
         "SECONDARY CODES",
         22378
        ],
        [
         "WEAPON LAWS",
         21004
        ],
        [
         "TRESPASS",
         19194
        ],
        [
         "PROSTITUTION",
         16501
        ],
        [
         "STOLEN PROPERTY",
         11450
        ],
        [
         "DISORDERLY CONDUCT",
         9932
        ],
        [
         "DRUNKENNESS",
         9760
        ],
        [
         "SEX OFFENSES, FORCIBLE",
         8747
        ],
        [
         "RECOVERED VEHICLE",
         8688
        ],
        [
         "DRIVING UNDER THE INFLUENCE",
         5652
        ],
        [
         "KIDNAPPING",
         4282
        ],
        [
         "ARSON",
         3875
        ],
        [
         "EMBEZZLEMENT",
         2984
        ],
        [
         "LIQUOR LAWS",
         2840
        ],
        [
         "LOITERING",
         2402
        ],
        [
         "SUICIDE",
         1291
        ],
        [
         "BAD CHECKS",
         924
        ],
        [
         "BRIBERY",
         796
        ],
        [
         "EXTORTION",
         729
        ],
        [
         "GAMBLING",
         343
        ],
        [
         "PORNOGRAPHY/OBSCENE MAT",
         57
        ],
        [
         "SEX OFFENSES, NON FORCIBLE",
         43
        ],
        [
         "TREA",
         14
        ]
       ],
       "datasetInfos": [],
       "dbfsResultPath": null,
       "isJsonSchema": true,
       "metadata": {},
       "overflow": false,
       "plotOptions": {
        "customPlotOptions": {},
        "displayType": "table",
        "pivotAggregation": null,
        "pivotColumns": null,
        "xColumns": null,
        "yColumns": null
       },
       "removedWidgets": [],
       "schema": [
        {
         "metadata": "{}",
         "name": "category",
         "type": "\"string\""
        },
        {
         "metadata": "{}",
         "name": "Count",
         "type": "\"long\""
        }
       ],
       "type": "table"
      }
     },
     "output_type": "display_data"
    },
    {
     "output_type": "stream",
     "name": "stdout",
     "output_type": "stream",
     "text": [
      "<class 'pandas.core.frame.DataFrame'>\n"
     ]
    }
   ],
   "source": [
    "crimes_pd_df = spark_sql_q1.toPandas()\n",
    "\n",
    "display(crimes_pd_df)\n",
    "print (type(crimes_pd_df))"
   ]
  },
  {
   "cell_type": "code",
   "execution_count": 0,
   "metadata": {
    "application/vnd.databricks.v1+cell": {
     "cellMetadata": {
      "byteLimit": 2048000,
      "rowLimit": 10000
     },
     "inputWidgets": {},
     "nuid": "b470da45-f8d4-4034-b177-b04949255e5e",
     "showTitle": false,
     "tableResultSettingsMap": {},
     "title": ""
    }
   },
   "outputs": [
    {
     "output_type": "stream",
     "name": "stdout",
     "output_type": "stream",
     "text": [
      "<Figure size 432x288 with 0 Axes>"
     ]
    },
    {
     "output_type": "display_data",
     "data": {
      "image/png": "[encoded data removed]"
     },
     "metadata": {
      "application/vnd.databricks.v1+output": {
       "addedWidgets": {},
       "arguments": {},
       "data": "data:image/png;base64,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\n",
       "datasetInfos": [],
       "metadata": {},
       "removedWidgets": [],
       "type": "image"
      }
     },
     "output_type": "display_data"
    }
   ],
   "source": [
    "plt.figure()\n",
    "\n",
    "ax = crimes_pd_df.plot(kind = 'bar',x = 'category',y = 'Count',logy= True,color = 'pink',legend = False, align = 'center')\n",
    "ax.set_ylabel('count',fontsize = 12)\n",
    "ax.set_xlabel('category',fontsize = 12)\n",
    "plt.xticks(fontsize=5, rotation=90)\n",
    "plt.title('#1 Number of crimes for different categories')\n",
    "display()"
   ]
  },
  {
   "cell_type": "markdown",
   "metadata": {
    "application/vnd.databricks.v1+cell": {
     "cellMetadata": {},
     "inputWidgets": {},
     "nuid": "88107ddb-b608-4379-a1a4-cd2edebba579",
     "showTitle": false,
     "tableResultSettingsMap": {},
     "title": ""
    }
   },
   "source": [
    "\n",
    "**Q2 question**\n",
    "Counts the number of crimes for different district, and visualize your results"
   ]
  },
  {
   "cell_type": "code",
   "execution_count": 0,
   "metadata": {
    "application/vnd.databricks.v1+cell": {
     "cellMetadata": {
      "byteLimit": 2048000,
      "rowLimit": 10000
     },
     "inputWidgets": {},
     "nuid": "76e169ef-fc9f-4bdf-9dbe-74a58d296a0a",
     "showTitle": false,
     "tableResultSettingsMap": {},
     "title": ""
    }
   },
   "outputs": [
    {
     "output_type": "display_data",
     "data": {
      "text/html": [
       "<style scoped>\n",
       "  .table-result-container {\n",
       "    max-height: 300px;\n",
       "    overflow: auto;\n",
       "  }\n",
       "  table, th, td {\n",
       "    border: 1px solid black;\n",
       "    border-collapse: collapse;\n",
       "  }\n",
       "  th, td {\n",
       "    padding: 5px;\n",
       "  }\n",
       "  th {\n",
       "    text-align: left;\n",
       "  }\n",
       "</style><div class='table-result-container'><table class='table-result'><thead style='background-color: white'><tr><th>PdDistrict</th><th>Count</th></tr></thead><tbody><tr><td>SOUTHERN</td><td>390692</td></tr><tr><td>MISSION</td><td>288985</td></tr><tr><td>NORTHERN</td><td>266435</td></tr><tr><td>CENTRAL</td><td>221923</td></tr><tr><td>BAYVIEW</td><td>205480</td></tr><tr><td>TENDERLOIN</td><td>186954</td></tr><tr><td>INGLESIDE</td><td>181092</td></tr><tr><td>TARAVAL</td><td>155461</td></tr><tr><td>PARK</td><td>119698</td></tr><tr><td>RICHMOND</td><td>112804</td></tr><tr><td>NA</td><td>1</td></tr></tbody></table></div>"
      ]
     },
     "metadata": {
      "application/vnd.databricks.v1+output": {
       "addedWidgets": {},
       "aggData": [],
       "aggError": "",
       "aggOverflow": false,
       "aggSchema": [],
       "aggSeriesLimitReached": false,
       "aggType": "",
       "arguments": {},
       "columnCustomDisplayInfos": {},
       "data": [
        [
         "SOUTHERN",
         390692
        ],
        [
         "MISSION",
         288985
        ],
        [
         "NORTHERN",
         266435
        ],
        [
         "CENTRAL",
         221923
        ],
        [
         "BAYVIEW",
         205480
        ],
        [
         "TENDERLOIN",
         186954
        ],
        [
         "INGLESIDE",
         181092
        ],
        [
         "TARAVAL",
         155461
        ],
        [
         "PARK",
         119698
        ],
        [
         "RICHMOND",
         112804
        ],
        [
         "NA",
         1
        ]
       ],
       "datasetInfos": [],
       "dbfsResultPath": null,
       "isJsonSchema": true,
       "metadata": {},
       "overflow": false,
       "plotOptions": {
        "customPlotOptions": {},
        "displayType": "table",
        "pivotAggregation": null,
        "pivotColumns": null,
        "xColumns": null,
        "yColumns": null
       },
       "removedWidgets": [],
       "schema": [
        {
         "metadata": "{}",
         "name": "PdDistrict",
         "type": "\"string\""
        },
        {
         "metadata": "{}",
         "name": "Count",
         "type": "\"long\""
        }
       ],
       "type": "table"
      }
     },
     "output_type": "display_data"
    }
   ],
   "source": [
    "spark_sql_q2 = spark.sql(\"SELECT PdDistrict, COUNT(*) AS Count FROM sf_crime GROUP BY 1 ORDER BY 2 DESC\")\n",
    "display(spark_sql_q2)"
   ]
  },
  {
   "cell_type": "code",
   "execution_count": 0,
   "metadata": {
    "application/vnd.databricks.v1+cell": {
     "cellMetadata": {
      "byteLimit": 2048000,
      "rowLimit": 10000
     },
     "inputWidgets": {},
     "nuid": "037036f2-26af-48a7-8c2c-2726e0f27f10",
     "showTitle": false,
     "tableResultSettingsMap": {},
     "title": ""
    }
   },
   "outputs": [
    {
     "output_type": "stream",
     "name": "stdout",
     "output_type": "stream",
     "text": [
      "<Figure size 432x288 with 0 Axes>"
     ]
    },
    {
     "output_type": "display_data",
     "data": {
      "image/png": "[encoded data removed]"
     },
     "metadata": {
      "application/vnd.databricks.v1+output": {
       "addedWidgets": {},
       "arguments": {},
       "data": "data:image/png;base64,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\n",
       "datasetInfos": [],
       "metadata": {},
       "removedWidgets": [],
       "type": "image"
      }
     },
     "output_type": "display_data"
    }
   ],
   "source": [
    "crimes_dis_pd_df = spark_sql_q2.toPandas()\n",
    "plt.figure()\n",
    "\n",
    "ax = crimes_dis_pd_df.plot(kind = 'bar',x='PdDistrict',y = 'Count',logy= True,color = 'pink',legend = False, align = 'center')\n",
    "ax.set_ylabel('count',fontsize = 12)\n",
    "ax.set_xlabel('district',fontsize = 12)\n",
    "plt.xticks(fontsize=8, rotation=30)\n",
    "plt.title('#2 Number of crimes for different districts')\n",
    "display()"
   ]
  },
  {
   "cell_type": "markdown",
   "metadata": {
    "application/vnd.databricks.v1+cell": {
     "cellMetadata": {},
     "inputWidgets": {},
     "nuid": "b11e0c05-3695-4e0e-8e20-f7bbb0f52b8b",
     "showTitle": false,
     "tableResultSettingsMap": {},
     "title": ""
    }
   },
   "source": [
    "\n",
    "**Q3 question**\n",
    "Count the number of crimes each \"Sunday\" at \"SF downtown\".\n",
    "hint 1: SF downtown is defiend via the range of spatial location. For example, you can use a rectangle to define the SF downtown, or you can define a cicle with center as well. Thus, you need to write your own UDF function to filter data which are located inside certain spatial range. You can follow the example here: https://changhsinlee.com/pyspark-udf/\n",
    "\n",
    "hint 2: SF downtown 物理范围可以是 rectangle a < x < b and c < y < d. thus, San Francisco Latitude and longitude coordinates are: 37.773972, -122.431297. X and Y represents each. So we assume SF downtown spacial range: X (-122.4213,-122.4313), Y(37.7540,37.7740). 也可以是中心一个圈，距离小于多少算做downtown"
   ]
  },
  {
   "cell_type": "code",
   "execution_count": 0,
   "metadata": {
    "application/vnd.databricks.v1+cell": {
     "cellMetadata": {
      "byteLimit": 2048000,
      "rowLimit": 10000
     },
     "inputWidgets": {},
     "nuid": "3b6ffd7e-25d7-47d1-baf5-afd1a218e532",
     "showTitle": false,
     "tableResultSettingsMap": {},
     "title": ""
    }
   },
   "outputs": [
    {
     "output_type": "display_data",
     "data": {
      "text/html": [
       "<style scoped>\n",
       "  .table-result-container {\n",
       "    max-height: 300px;\n",
       "    overflow: auto;\n",
       "  }\n",
       "  table, th, td {\n",
       "    border: 1px solid black;\n",
       "    border-collapse: collapse;\n",
       "  }\n",
       "  th, td {\n",
       "    padding: 5px;\n",
       "  }\n",
       "  th {\n",
       "    text-align: left;\n",
       "  }\n",
       "</style><div class='table-result-container'><table class='table-result'><thead style='background-color: white'><tr><th>Year</th><th>Date</th><th>Count</th></tr></thead><tbody><tr><td>2003</td><td>01/05</td><td>28</td></tr><tr><td>2003</td><td>01/12</td><td>33</td></tr><tr><td>2003</td><td>01/19</td><td>19</td></tr><tr><td>2003</td><td>01/26</td><td>32</td></tr><tr><td>2003</td><td>02/02</td><td>44</td></tr><tr><td>2003</td><td>02/09</td><td>46</td></tr><tr><td>2003</td><td>02/16</td><td>50</td></tr><tr><td>2003</td><td>02/23</td><td>48</td></tr><tr><td>2003</td><td>03/02</td><td>40</td></tr><tr><td>2003</td><td>03/09</td><td>49</td></tr><tr><td>2003</td><td>03/16</td><td>43</td></tr><tr><td>2003</td><td>03/23</td><td>32</td></tr><tr><td>2003</td><td>03/30</td><td>45</td></tr><tr><td>2003</td><td>04/06</td><td>41</td></tr><tr><td>2003</td><td>04/13</td><td>44</td></tr><tr><td>2003</td><td>04/20</td><td>42</td></tr><tr><td>2003</td><td>04/27</td><td>43</td></tr><tr><td>2003</td><td>05/04</td><td>33</td></tr><tr><td>2003</td><td>05/11</td><td>30</td></tr><tr><td>2003</td><td>05/18</td><td>49</td></tr><tr><td>2003</td><td>05/25</td><td>39</td></tr><tr><td>2003</td><td>06/01</td><td>75</td></tr><tr><td>2003</td><td>06/08</td><td>37</td></tr><tr><td>2003</td><td>06/15</td><td>41</td></tr><tr><td>2003</td><td>06/22</td><td>38</td></tr><tr><td>2003</td><td>06/29</td><td>65</td></tr><tr><td>2003</td><td>07/06</td><td>36</td></tr><tr><td>2003</td><td>07/13</td><td>47</td></tr><tr><td>2003</td><td>07/20</td><td>48</td></tr><tr><td>2003</td><td>07/27</td><td>34</td></tr><tr><td>2003</td><td>08/03</td><td>39</td></tr><tr><td>2003</td><td>08/10</td><td>42</td></tr><tr><td>2003</td><td>08/17</td><td>26</td></tr><tr><td>2003</td><td>08/24</td><td>40</td></tr><tr><td>2003</td><td>08/31</td><td>38</td></tr><tr><td>2003</td><td>09/07</td><td>41</td></tr><tr><td>2003</td><td>09/14</td><td>38</td></tr><tr><td>2003</td><td>09/21</td><td>44</td></tr><tr><td>2003</td><td>09/28</td><td>39</td></tr><tr><td>2003</td><td>10/05</td><td>37</td></tr><tr><td>2003</td><td>10/12</td><td>39</td></tr><tr><td>2003</td><td>10/19</td><td>37</td></tr><tr><td>2003</td><td>10/26</td><td>29</td></tr><tr><td>2003</td><td>11/02</td><td>30</td></tr><tr><td>2003</td><td>11/09</td><td>44</td></tr><tr><td>2003</td><td>11/16</td><td>36</td></tr><tr><td>2003</td><td>11/23</td><td>35</td></tr><tr><td>2003</td><td>11/30</td><td>35</td></tr><tr><td>2003</td><td>12/07</td><td>39</td></tr><tr><td>2003</td><td>12/14</td><td>22</td></tr><tr><td>2003</td><td>12/21</td><td>43</td></tr><tr><td>2003</td><td>12/28</td><td>31</td></tr><tr><td>2004</td><td>01/04</td><td>49</td></tr><tr><td>2004</td><td>01/11</td><td>28</td></tr><tr><td>2004</td><td>01/18</td><td>24</td></tr><tr><td>2004</td><td>01/25</td><td>46</td></tr><tr><td>2004</td><td>02/01</td><td>39</td></tr><tr><td>2004</td><td>02/08</td><td>42</td></tr><tr><td>2004</td><td>02/15</td><td>50</td></tr><tr><td>2004</td><td>02/22</td><td>35</td></tr><tr><td>2004</td><td>02/29</td><td>48</td></tr><tr><td>2004</td><td>03/07</td><td>33</td></tr><tr><td>2004</td><td>03/14</td><td>50</td></tr><tr><td>2004</td><td>03/21</td><td>31</td></tr><tr><td>2004</td><td>03/28</td><td>37</td></tr><tr><td>2004</td><td>04/04</td><td>38</td></tr><tr><td>2004</td><td>04/11</td><td>48</td></tr><tr><td>2004</td><td>04/18</td><td>46</td></tr><tr><td>2004</td><td>04/25</td><td>47</td></tr><tr><td>2004</td><td>05/02</td><td>47</td></tr><tr><td>2004</td><td>05/09</td><td>30</td></tr><tr><td>2004</td><td>05/16</td><td>40</td></tr><tr><td>2004</td><td>05/23</td><td>33</td></tr><tr><td>2004</td><td>05/30</td><td>49</td></tr><tr><td>2004</td><td>06/06</td><td>17</td></tr><tr><td>2004</td><td>06/13</td><td>38</td></tr><tr><td>2004</td><td>06/20</td><td>53</td></tr><tr><td>2004</td><td>06/27</td><td>64</td></tr><tr><td>2004</td><td>07/04</td><td>50</td></tr><tr><td>2004</td><td>07/11</td><td>39</td></tr><tr><td>2004</td><td>07/18</td><td>45</td></tr><tr><td>2004</td><td>07/25</td><td>43</td></tr><tr><td>2004</td><td>08/01</td><td>58</td></tr><tr><td>2004</td><td>08/08</td><td>39</td></tr><tr><td>2004</td><td>08/15</td><td>39</td></tr><tr><td>2004</td><td>08/22</td><td>47</td></tr><tr><td>2004</td><td>08/29</td><td>43</td></tr><tr><td>2004</td><td>09/05</td><td>40</td></tr><tr><td>2004</td><td>09/12</td><td>42</td></tr><tr><td>2004</td><td>09/19</td><td>27</td></tr><tr><td>2004</td><td>09/26</td><td>45</td></tr><tr><td>2004</td><td>10/03</td><td>23</td></tr><tr><td>2004</td><td>10/10</td><td>38</td></tr><tr><td>2004</td><td>10/17</td><td>39</td></tr><tr><td>2004</td><td>10/24</td><td>47</td></tr><tr><td>2004</td><td>10/31</td><td>43</td></tr><tr><td>2004</td><td>11/07</td><td>37</td></tr><tr><td>2004</td><td>11/14</td><td>35</td></tr><tr><td>2004</td><td>11/21</td><td>33</td></tr><tr><td>2004</td><td>11/28</td><td>41</td></tr><tr><td>2004</td><td>12/05</td><td>38</td></tr><tr><td>2004</td><td>12/12</td><td>40</td></tr><tr><td>2004</td><td>12/19</td><td>41</td></tr><tr><td>2004</td><td>12/26</td><td>23</td></tr><tr><td>2005</td><td>01/02</td><td>29</td></tr><tr><td>2005</td><td>01/09</td><td>26</td></tr><tr><td>2005</td><td>01/16</td><td>40</td></tr><tr><td>2005</td><td>01/23</td><td>46</td></tr><tr><td>2005</td><td>01/30</td><td>50</td></tr><tr><td>2005</td><td>02/06</td><td>38</td></tr><tr><td>2005</td><td>02/13</td><td>36</td></tr><tr><td>2005</td><td>02/20</td><td>38</td></tr><tr><td>2005</td><td>02/27</td><td>35</td></tr><tr><td>2005</td><td>03/06</td><td>35</td></tr><tr><td>2005</td><td>03/13</td><td>49</td></tr><tr><td>2005</td><td>03/20</td><td>51</td></tr><tr><td>2005</td><td>03/27</td><td>25</td></tr><tr><td>2005</td><td>04/03</td><td>37</td></tr><tr><td>2005</td><td>04/10</td><td>51</td></tr><tr><td>2005</td><td>04/17</td><td>33</td></tr><tr><td>2005</td><td>04/24</td><td>39</td></tr><tr><td>2005</td><td>05/01</td><td>52</td></tr><tr><td>2005</td><td>05/08</td><td>69</td></tr><tr><td>2005</td><td>05/15</td><td>41</td></tr><tr><td>2005</td><td>05/22</td><td>49</td></tr><tr><td>2005</td><td>05/29</td><td>47</td></tr><tr><td>2005</td><td>06/05</td><td>34</td></tr><tr><td>2005</td><td>06/12</td><td>37</td></tr><tr><td>2005</td><td>06/19</td><td>46</td></tr><tr><td>2005</td><td>06/26</td><td>64</td></tr><tr><td>2005</td><td>07/03</td><td>44</td></tr><tr><td>2005</td><td>07/10</td><td>43</td></tr><tr><td>2005</td><td>07/17</td><td>42</td></tr><tr><td>2005</td><td>07/24</td><td>34</td></tr><tr><td>2005</td><td>07/31</td><td>41</td></tr><tr><td>2005</td><td>08/07</td><td>50</td></tr><tr><td>2005</td><td>08/14</td><td>48</td></tr><tr><td>2005</td><td>08/21</td><td>49</td></tr><tr><td>2005</td><td>08/28</td><td>35</td></tr><tr><td>2005</td><td>09/04</td><td>34</td></tr><tr><td>2005</td><td>09/11</td><td>34</td></tr><tr><td>2005</td><td>09/18</td><td>40</td></tr><tr><td>2005</td><td>09/25</td><td>50</td></tr><tr><td>2005</td><td>10/02</td><td>38</td></tr><tr><td>2005</td><td>10/09</td><td>34</td></tr><tr><td>2005</td><td>10/16</td><td>40</td></tr><tr><td>2005</td><td>10/23</td><td>24</td></tr><tr><td>2005</td><td>10/30</td><td>32</td></tr><tr><td>2005</td><td>11/06</td><td>49</td></tr><tr><td>2005</td><td>11/13</td><td>50</td></tr><tr><td>2005</td><td>11/20</td><td>42</td></tr><tr><td>2005</td><td>11/27</td><td>34</td></tr><tr><td>2005</td><td>12/04</td><td>42</td></tr><tr><td>2005</td><td>12/11</td><td>38</td></tr><tr><td>2005</td><td>12/18</td><td>31</td></tr><tr><td>2005</td><td>12/25</td><td>23</td></tr><tr><td>2006</td><td>01/01</td><td>77</td></tr><tr><td>2006</td><td>01/08</td><td>50</td></tr><tr><td>2006</td><td>01/15</td><td>48</td></tr><tr><td>2006</td><td>01/22</td><td>48</td></tr><tr><td>2006</td><td>01/29</td><td>44</td></tr><tr><td>2006</td><td>02/05</td><td>38</td></tr><tr><td>2006</td><td>02/12</td><td>41</td></tr><tr><td>2006</td><td>02/19</td><td>54</td></tr><tr><td>2006</td><td>02/26</td><td>40</td></tr><tr><td>2006</td><td>03/05</td><td>50</td></tr><tr><td>2006</td><td>03/12</td><td>34</td></tr><tr><td>2006</td><td>03/19</td><td>56</td></tr><tr><td>2006</td><td>03/26</td><td>52</td></tr><tr><td>2006</td><td>04/02</td><td>45</td></tr><tr><td>2006</td><td>04/09</td><td>38</td></tr><tr><td>2006</td><td>04/16</td><td>36</td></tr><tr><td>2006</td><td>04/23</td><td>50</td></tr><tr><td>2006</td><td>04/30</td><td>44</td></tr><tr><td>2006</td><td>05/07</td><td>53</td></tr><tr><td>2006</td><td>05/14</td><td>46</td></tr><tr><td>2006</td><td>05/21</td><td>48</td></tr><tr><td>2006</td><td>05/28</td><td>49</td></tr><tr><td>2006</td><td>06/04</td><td>39</td></tr><tr><td>2006</td><td>06/11</td><td>43</td></tr><tr><td>2006</td><td>06/18</td><td>51</td></tr><tr><td>2006</td><td>06/25</td><td>41</td></tr><tr><td>2006</td><td>07/02</td><td>35</td></tr><tr><td>2006</td><td>07/09</td><td>40</td></tr><tr><td>2006</td><td>07/16</td><td>41</td></tr><tr><td>2006</td><td>07/23</td><td>43</td></tr><tr><td>2006</td><td>07/30</td><td>50</td></tr><tr><td>2006</td><td>08/06</td><td>49</td></tr><tr><td>2006</td><td>08/13</td><td>47</td></tr><tr><td>2006</td><td>08/20</td><td>36</td></tr><tr><td>2006</td><td>08/27</td><td>48</td></tr><tr><td>2006</td><td>09/03</td><td>27</td></tr><tr><td>2006</td><td>09/10</td><td>54</td></tr><tr><td>2006</td><td>09/17</td><td>48</td></tr><tr><td>2006</td><td>09/24</td><td>51</td></tr><tr><td>2006</td><td>10/01</td><td>47</td></tr><tr><td>2006</td><td>10/08</td><td>57</td></tr><tr><td>2006</td><td>10/15</td><td>42</td></tr><tr><td>2006</td><td>10/22</td><td>41</td></tr><tr><td>2006</td><td>10/29</td><td>51</td></tr><tr><td>2006</td><td>11/05</td><td>34</td></tr><tr><td>2006</td><td>11/12</td><td>35</td></tr><tr><td>2006</td><td>11/19</td><td>44</td></tr><tr><td>2006</td><td>11/26</td><td>38</td></tr><tr><td>2006</td><td>12/03</td><td>52</td></tr><tr><td>2006</td><td>12/10</td><td>36</td></tr><tr><td>2006</td><td>12/17</td><td>36</td></tr><tr><td>2006</td><td>12/24</td><td>27</td></tr><tr><td>2006</td><td>12/31</td><td>53</td></tr><tr><td>2007</td><td>01/07</td><td>52</td></tr><tr><td>2007</td><td>01/14</td><td>33</td></tr><tr><td>2007</td><td>01/21</td><td>41</td></tr><tr><td>2007</td><td>01/28</td><td>42</td></tr><tr><td>2007</td><td>02/04</td><td>48</td></tr><tr><td>2007</td><td>02/11</td><td>42</td></tr><tr><td>2007</td><td>02/18</td><td>46</td></tr><tr><td>2007</td><td>02/25</td><td>48</td></tr><tr><td>2007</td><td>03/04</td><td>58</td></tr><tr><td>2007</td><td>03/11</td><td>41</td></tr><tr><td>2007</td><td>03/18</td><td>44</td></tr><tr><td>2007</td><td>03/25</td><td>47</td></tr><tr><td>2007</td><td>04/01</td><td>57</td></tr><tr><td>2007</td><td>04/08</td><td>40</td></tr><tr><td>2007</td><td>04/15</td><td>41</td></tr><tr><td>2007</td><td>04/22</td><td>64</td></tr><tr><td>2007</td><td>04/29</td><td>33</td></tr><tr><td>2007</td><td>05/06</td><td>68</td></tr><tr><td>2007</td><td>05/13</td><td>41</td></tr><tr><td>2007</td><td>05/20</td><td>60</td></tr><tr><td>2007</td><td>05/27</td><td>43</td></tr><tr><td>2007</td><td>06/03</td><td>43</td></tr><tr><td>2007</td><td>06/10</td><td>41</td></tr><tr><td>2007</td><td>06/17</td><td>33</td></tr><tr><td>2007</td><td>06/24</td><td>61</td></tr><tr><td>2007</td><td>07/01</td><td>53</td></tr><tr><td>2007</td><td>07/08</td><td>57</td></tr><tr><td>2007</td><td>07/15</td><td>58</td></tr><tr><td>2007</td><td>07/22</td><td>42</td></tr><tr><td>2007</td><td>07/29</td><td>57</td></tr><tr><td>2007</td><td>08/05</td><td>41</td></tr><tr><td>2007</td><td>08/12</td><td>60</td></tr><tr><td>2007</td><td>08/19</td><td>58</td></tr><tr><td>2007</td><td>08/26</td><td>52</td></tr><tr><td>2007</td><td>09/02</td><td>31</td></tr><tr><td>2007</td><td>09/09</td><td>58</td></tr><tr><td>2007</td><td>09/16</td><td>52</td></tr><tr><td>2007</td><td>09/23</td><td>46</td></tr><tr><td>2007</td><td>09/30</td><td>70</td></tr><tr><td>2007</td><td>10/07</td><td>56</td></tr><tr><td>2007</td><td>10/14</td><td>51</td></tr><tr><td>2007</td><td>10/21</td><td>45</td></tr><tr><td>2007</td><td>10/28</td><td>51</td></tr><tr><td>2007</td><td>11/04</td><td>44</td></tr><tr><td>2007</td><td>11/11</td><td>40</td></tr><tr><td>2007</td><td>11/18</td><td>43</td></tr><tr><td>2007</td><td>11/25</td><td>40</td></tr><tr><td>2007</td><td>12/02</td><td>47</td></tr><tr><td>2007</td><td>12/09</td><td>44</td></tr><tr><td>2007</td><td>12/23</td><td>48</td></tr><tr><td>2007</td><td>12/30</td><td>39</td></tr><tr><td>2008</td><td>01/06</td><td>43</td></tr><tr><td>2008</td><td>01/13</td><td>47</td></tr><tr><td>2008</td><td>01/20</td><td>30</td></tr><tr><td>2008</td><td>01/27</td><td>39</td></tr><tr><td>2008</td><td>02/03</td><td>36</td></tr><tr><td>2008</td><td>02/10</td><td>36</td></tr><tr><td>2008</td><td>02/17</td><td>31</td></tr><tr><td>2008</td><td>02/24</td><td>43</td></tr><tr><td>2008</td><td>03/02</td><td>64</td></tr><tr><td>2008</td><td>03/09</td><td>44</td></tr><tr><td>2008</td><td>03/16</td><td>49</td></tr><tr><td>2008</td><td>03/23</td><td>39</td></tr><tr><td>2008</td><td>03/30</td><td>44</td></tr><tr><td>2008</td><td>04/06</td><td>38</td></tr><tr><td>2008</td><td>04/13</td><td>48</td></tr><tr><td>2008</td><td>04/20</td><td>40</td></tr><tr><td>2008</td><td>04/27</td><td>37</td></tr><tr><td>2008</td><td>05/04</td><td>44</td></tr><tr><td>2008</td><td>05/11</td><td>39</td></tr><tr><td>2008</td><td>05/18</td><td>44</td></tr><tr><td>2008</td><td>05/25</td><td>45</td></tr><tr><td>2008</td><td>06/01</td><td>75</td></tr><tr><td>2008</td><td>06/08</td><td>56</td></tr><tr><td>2008</td><td>06/15</td><td>53</td></tr><tr><td>2008</td><td>06/22</td><td>54</td></tr><tr><td>2008</td><td>06/29</td><td>54</td></tr><tr><td>2008</td><td>07/06</td><td>32</td></tr><tr><td>2008</td><td>07/13</td><td>46</td></tr><tr><td>2008</td><td>07/20</td><td>43</td></tr><tr><td>2008</td><td>07/27</td><td>51</td></tr><tr><td>2008</td><td>08/03</td><td>45</td></tr><tr><td>2008</td><td>08/10</td><td>49</td></tr><tr><td>2008</td><td>08/17</td><td>49</td></tr><tr><td>2008</td><td>08/24</td><td>47</td></tr><tr><td>2008</td><td>08/31</td><td>50</td></tr><tr><td>2008</td><td>09/07</td><td>36</td></tr><tr><td>2008</td><td>09/14</td><td>52</td></tr><tr><td>2008</td><td>09/21</td><td>55</td></tr><tr><td>2008</td><td>09/28</td><td>54</td></tr><tr><td>2008</td><td>10/05</td><td>37</td></tr><tr><td>2008</td><td>10/12</td><td>48</td></tr><tr><td>2008</td><td>10/19</td><td>38</td></tr><tr><td>2008</td><td>10/26</td><td>33</td></tr><tr><td>2008</td><td>11/02</td><td>55</td></tr><tr><td>2008</td><td>11/09</td><td>48</td></tr><tr><td>2008</td><td>11/16</td><td>56</td></tr><tr><td>2008</td><td>11/23</td><td>57</td></tr><tr><td>2008</td><td>11/30</td><td>38</td></tr><tr><td>2008</td><td>12/07</td><td>38</td></tr><tr><td>2008</td><td>12/14</td><td>23</td></tr><tr><td>2008</td><td>12/21</td><td>33</td></tr><tr><td>2008</td><td>12/28</td><td>42</td></tr><tr><td>2009</td><td>01/04</td><td>66</td></tr><tr><td>2009</td><td>01/11</td><td>56</td></tr><tr><td>2009</td><td>01/18</td><td>39</td></tr><tr><td>2009</td><td>01/25</td><td>55</td></tr><tr><td>2009</td><td>02/01</td><td>54</td></tr><tr><td>2009</td><td>02/08</td><td>42</td></tr><tr><td>2009</td><td>02/15</td><td>38</td></tr><tr><td>2009</td><td>02/22</td><td>31</td></tr><tr><td>2009</td><td>03/01</td><td>60</td></tr><tr><td>2009</td><td>03/08</td><td>42</td></tr><tr><td>2009</td><td>03/15</td><td>50</td></tr><tr><td>2009</td><td>03/22</td><td>43</td></tr><tr><td>2009</td><td>03/29</td><td>59</td></tr><tr><td>2009</td><td>04/05</td><td>43</td></tr><tr><td>2009</td><td>04/12</td><td>54</td></tr><tr><td>2009</td><td>04/19</td><td>59</td></tr><tr><td>2009</td><td>04/26</td><td>37</td></tr><tr><td>2009</td><td>05/03</td><td>56</td></tr><tr><td>2009</td><td>05/10</td><td>40</td></tr><tr><td>2009</td><td>05/17</td><td>51</td></tr><tr><td>2009</td><td>05/24</td><td>45</td></tr><tr><td>2009</td><td>05/31</td><td>41</td></tr><tr><td>2009</td><td>06/07</td><td>30</td></tr><tr><td>2009</td><td>06/14</td><td>41</td></tr><tr><td>2009</td><td>06/21</td><td>40</td></tr><tr><td>2009</td><td>06/28</td><td>63</td></tr><tr><td>2009</td><td>07/05</td><td>71</td></tr><tr><td>2009</td><td>07/12</td><td>57</td></tr><tr><td>2009</td><td>07/19</td><td>53</td></tr><tr><td>2009</td><td>07/26</td><td>44</td></tr><tr><td>2009</td><td>08/02</td><td>51</td></tr><tr><td>2009</td><td>08/09</td><td>39</td></tr><tr><td>2009</td><td>08/16</td><td>48</td></tr><tr><td>2009</td><td>08/23</td><td>72</td></tr><tr><td>2009</td><td>08/30</td><td>54</td></tr><tr><td>2009</td><td>09/06</td><td>45</td></tr><tr><td>2009</td><td>09/13</td><td>49</td></tr><tr><td>2009</td><td>09/20</td><td>44</td></tr><tr><td>2009</td><td>09/27</td><td>46</td></tr><tr><td>2009</td><td>10/04</td><td>59</td></tr><tr><td>2009</td><td>10/11</td><td>61</td></tr><tr><td>2009</td><td>10/18</td><td>36</td></tr><tr><td>2009</td><td>10/25</td><td>37</td></tr><tr><td>2009</td><td>11/01</td><td>60</td></tr><tr><td>2009</td><td>11/08</td><td>49</td></tr><tr><td>2009</td><td>11/15</td><td>30</td></tr><tr><td>2009</td><td>11/22</td><td>35</td></tr><tr><td>2009</td><td>11/29</td><td>37</td></tr><tr><td>2009</td><td>12/06</td><td>43</td></tr><tr><td>2009</td><td>12/13</td><td>35</td></tr><tr><td>2009</td><td>12/20</td><td>41</td></tr><tr><td>2009</td><td>12/27</td><td>34</td></tr><tr><td>2010</td><td>01/03</td><td>56</td></tr><tr><td>2010</td><td>01/10</td><td>52</td></tr><tr><td>2010</td><td>01/17</td><td>47</td></tr><tr><td>2010</td><td>01/24</td><td>50</td></tr><tr><td>2010</td><td>01/31</td><td>42</td></tr><tr><td>2010</td><td>02/07</td><td>37</td></tr><tr><td>2010</td><td>02/14</td><td>51</td></tr><tr><td>2010</td><td>02/21</td><td>35</td></tr><tr><td>2010</td><td>02/28</td><td>53</td></tr><tr><td>2010</td><td>03/07</td><td>36</td></tr><tr><td>2010</td><td>03/14</td><td>42</td></tr><tr><td>2010</td><td>03/21</td><td>38</td></tr><tr><td>2010</td><td>03/28</td><td>33</td></tr><tr><td>2010</td><td>04/04</td><td>31</td></tr><tr><td>2010</td><td>04/11</td><td>41</td></tr><tr><td>2010</td><td>04/18</td><td>31</td></tr><tr><td>2010</td><td>04/25</td><td>43</td></tr><tr><td>2010</td><td>05/02</td><td>47</td></tr><tr><td>2010</td><td>05/09</td><td>59</td></tr><tr><td>2010</td><td>05/16</td><td>44</td></tr><tr><td>2010</td><td>05/23</td><td>59</td></tr><tr><td>2010</td><td>05/30</td><td>65</td></tr><tr><td>2010</td><td>06/06</td><td>57</td></tr><tr><td>2010</td><td>06/13</td><td>67</td></tr><tr><td>2010</td><td>06/20</td><td>64</td></tr><tr><td>2010</td><td>06/27</td><td>87</td></tr><tr><td>2010</td><td>07/04</td><td>67</td></tr><tr><td>2010</td><td>07/11</td><td>57</td></tr><tr><td>2010</td><td>07/18</td><td>41</td></tr><tr><td>2010</td><td>07/25</td><td>56</td></tr><tr><td>2010</td><td>08/01</td><td>67</td></tr><tr><td>2010</td><td>08/08</td><td>54</td></tr><tr><td>2010</td><td>08/15</td><td>68</td></tr><tr><td>2010</td><td>08/22</td><td>63</td></tr><tr><td>2010</td><td>08/29</td><td>55</td></tr><tr><td>2010</td><td>09/05</td><td>60</td></tr><tr><td>2010</td><td>09/12</td><td>59</td></tr><tr><td>2010</td><td>09/19</td><td>44</td></tr><tr><td>2010</td><td>09/26</td><td>62</td></tr><tr><td>2010</td><td>10/03</td><td>60</td></tr><tr><td>2010</td><td>10/10</td><td>54</td></tr><tr><td>2010</td><td>10/17</td><td>42</td></tr><tr><td>2010</td><td>10/24</td><td>63</td></tr><tr><td>2010</td><td>10/31</td><td>55</td></tr><tr><td>2010</td><td>11/07</td><td>22</td></tr><tr><td>2010</td><td>11/14</td><td>69</td></tr><tr><td>2010</td><td>11/21</td><td>47</td></tr><tr><td>2010</td><td>11/28</td><td>30</td></tr><tr><td>2010</td><td>12/05</td><td>35</td></tr><tr><td>2010</td><td>12/12</td><td>38</td></tr><tr><td>2010</td><td>12/19</td><td>55</td></tr><tr><td>2010</td><td>12/26</td><td>42</td></tr><tr><td>2011</td><td>01/02</td><td>40</td></tr><tr><td>2011</td><td>01/09</td><td>67</td></tr><tr><td>2011</td><td>01/16</td><td>32</td></tr><tr><td>2011</td><td>01/23</td><td>37</td></tr><tr><td>2011</td><td>01/30</td><td>28</td></tr><tr><td>2011</td><td>02/06</td><td>61</td></tr><tr><td>2011</td><td>02/13</td><td>36</td></tr><tr><td>2011</td><td>02/20</td><td>28</td></tr><tr><td>2011</td><td>02/27</td><td>44</td></tr><tr><td>2011</td><td>03/06</td><td>35</td></tr><tr><td>2011</td><td>03/13</td><td>48</td></tr><tr><td>2011</td><td>03/20</td><td>35</td></tr><tr><td>2011</td><td>03/27</td><td>47</td></tr><tr><td>2011</td><td>04/03</td><td>36</td></tr><tr><td>2011</td><td>04/10</td><td>39</td></tr><tr><td>2011</td><td>04/17</td><td>36</td></tr><tr><td>2011</td><td>04/24</td><td>42</td></tr><tr><td>2011</td><td>05/01</td><td>69</td></tr><tr><td>2011</td><td>05/08</td><td>46</td></tr><tr><td>2011</td><td>05/15</td><td>44</td></tr><tr><td>2011</td><td>05/22</td><td>41</td></tr><tr><td>2011</td><td>05/29</td><td>44</td></tr><tr><td>2011</td><td>06/05</td><td>44</td></tr><tr><td>2011</td><td>06/12</td><td>46</td></tr><tr><td>2011</td><td>06/19</td><td>46</td></tr><tr><td>2011</td><td>06/26</td><td>87</td></tr><tr><td>2011</td><td>07/03</td><td>43</td></tr><tr><td>2011</td><td>07/10</td><td>48</td></tr><tr><td>2011</td><td>07/17</td><td>32</td></tr><tr><td>2011</td><td>07/24</td><td>45</td></tr><tr><td>2011</td><td>07/31</td><td>37</td></tr><tr><td>2011</td><td>08/07</td><td>45</td></tr><tr><td>2011</td><td>08/14</td><td>54</td></tr><tr><td>2011</td><td>08/21</td><td>42</td></tr><tr><td>2011</td><td>08/28</td><td>45</td></tr><tr><td>2011</td><td>09/04</td><td>41</td></tr><tr><td>2011</td><td>09/11</td><td>48</td></tr><tr><td>2011</td><td>09/18</td><td>44</td></tr><tr><td>2011</td><td>09/25</td><td>43</td></tr><tr><td>2011</td><td>10/02</td><td>50</td></tr><tr><td>2011</td><td>10/09</td><td>46</td></tr><tr><td>2011</td><td>10/16</td><td>34</td></tr><tr><td>2011</td><td>10/23</td><td>35</td></tr><tr><td>2011</td><td>10/30</td><td>40</td></tr><tr><td>2011</td><td>11/06</td><td>33</td></tr><tr><td>2011</td><td>11/13</td><td>38</td></tr><tr><td>2011</td><td>11/20</td><td>30</td></tr><tr><td>2011</td><td>11/27</td><td>39</td></tr><tr><td>2011</td><td>12/04</td><td>63</td></tr><tr><td>2011</td><td>12/11</td><td>37</td></tr><tr><td>2011</td><td>12/18</td><td>49</td></tr><tr><td>2011</td><td>12/25</td><td>36</td></tr><tr><td>2012</td><td>01/01</td><td>83</td></tr><tr><td>2012</td><td>01/08</td><td>58</td></tr><tr><td>2012</td><td>01/15</td><td>35</td></tr><tr><td>2012</td><td>01/22</td><td>53</td></tr><tr><td>2012</td><td>01/29</td><td>53</td></tr><tr><td>2012</td><td>02/05</td><td>56</td></tr><tr><td>2012</td><td>02/12</td><td>56</td></tr><tr><td>2012</td><td>02/19</td><td>41</td></tr><tr><td>2012</td><td>02/26</td><td>39</td></tr><tr><td>2012</td><td>03/04</td><td>40</td></tr><tr><td>2012</td><td>03/11</td><td>56</td></tr><tr><td>2012</td><td>03/18</td><td>39</td></tr><tr><td>2012</td><td>03/25</td><td>33</td></tr><tr><td>2012</td><td>04/01</td><td>39</td></tr><tr><td>2012</td><td>04/08</td><td>49</td></tr><tr><td>2012</td><td>04/15</td><td>44</td></tr><tr><td>2012</td><td>04/22</td><td>47</td></tr><tr><td>2012</td><td>04/29</td><td>41</td></tr><tr><td>2012</td><td>05/06</td><td>50</td></tr><tr><td>2012</td><td>05/13</td><td>41</td></tr><tr><td>2012</td><td>05/20</td><td>66</td></tr><tr><td>2012</td><td>05/27</td><td>38</td></tr><tr><td>2012</td><td>06/03</td><td>41</td></tr><tr><td>2012</td><td>06/10</td><td>41</td></tr><tr><td>2012</td><td>06/17</td><td>42</td></tr><tr><td>2012</td><td>06/24</td><td>108</td></tr><tr><td>2012</td><td>07/01</td><td>32</td></tr><tr><td>2012</td><td>07/08</td><td>26</td></tr><tr><td>2012</td><td>07/15</td><td>41</td></tr><tr><td>2012</td><td>07/22</td><td>30</td></tr><tr><td>2012</td><td>07/29</td><td>46</td></tr><tr><td>2012</td><td>08/05</td><td>59</td></tr><tr><td>2012</td><td>08/12</td><td>42</td></tr><tr><td>2012</td><td>08/19</td><td>49</td></tr><tr><td>2012</td><td>08/26</td><td>63</td></tr><tr><td>2012</td><td>09/02</td><td>53</td></tr><tr><td>2012</td><td>09/09</td><td>58</td></tr><tr><td>2012</td><td>09/16</td><td>71</td></tr><tr><td>2012</td><td>09/23</td><td>63</td></tr><tr><td>2012</td><td>09/30</td><td>41</td></tr><tr><td>2012</td><td>10/07</td><td>55</td></tr><tr><td>2012</td><td>10/14</td><td>67</td></tr><tr><td>2012</td><td>10/21</td><td>41</td></tr><tr><td>2012</td><td>10/28</td><td>89</td></tr><tr><td>2012</td><td>11/04</td><td>58</td></tr><tr><td>2012</td><td>11/11</td><td>47</td></tr><tr><td>2012</td><td>11/18</td><td>56</td></tr><tr><td>2012</td><td>11/25</td><td>48</td></tr><tr><td>2012</td><td>12/02</td><td>34</td></tr><tr><td>2012</td><td>12/09</td><td>51</td></tr><tr><td>2012</td><td>12/16</td><td>54</td></tr><tr><td>2012</td><td>12/23</td><td>38</td></tr><tr><td>2012</td><td>12/30</td><td>69</td></tr><tr><td>2013</td><td>01/06</td><td>51</td></tr><tr><td>2013</td><td>01/13</td><td>59</td></tr><tr><td>2013</td><td>01/20</td><td>31</td></tr><tr><td>2013</td><td>01/27</td><td>59</td></tr><tr><td>2013</td><td>02/03</td><td>38</td></tr><tr><td>2013</td><td>02/10</td><td>45</td></tr><tr><td>2013</td><td>02/17</td><td>63</td></tr><tr><td>2013</td><td>02/24</td><td>48</td></tr><tr><td>2013</td><td>03/03</td><td>50</td></tr><tr><td>2013</td><td>03/10</td><td>42</td></tr><tr><td>2013</td><td>03/17</td><td>62</td></tr><tr><td>2013</td><td>03/24</td><td>53</td></tr><tr><td>2013</td><td>03/31</td><td>48</td></tr><tr><td>2013</td><td>04/07</td><td>57</td></tr><tr><td>2013</td><td>04/14</td><td>44</td></tr><tr><td>2013</td><td>04/21</td><td>53</td></tr><tr><td>2013</td><td>04/28</td><td>52</td></tr><tr><td>2013</td><td>05/05</td><td>56</td></tr><tr><td>2013</td><td>05/12</td><td>26</td></tr><tr><td>2013</td><td>05/19</td><td>41</td></tr><tr><td>2013</td><td>05/26</td><td>57</td></tr><tr><td>2013</td><td>06/02</td><td>47</td></tr><tr><td>2013</td><td>06/09</td><td>55</td></tr><tr><td>2013</td><td>06/16</td><td>46</td></tr><tr><td>2013</td><td>06/23</td><td>44</td></tr><tr><td>2013</td><td>06/30</td><td>101</td></tr><tr><td>2013</td><td>07/07</td><td>55</td></tr><tr><td>2013</td><td>07/14</td><td>45</td></tr><tr><td>2013</td><td>07/21</td><td>57</td></tr><tr><td>2013</td><td>07/28</td><td>57</td></tr><tr><td>2013</td><td>08/04</td><td>79</td></tr><tr><td>2013</td><td>08/11</td><td>87</td></tr><tr><td>2013</td><td>08/18</td><td>59</td></tr><tr><td>2013</td><td>08/25</td><td>47</td></tr><tr><td>2013</td><td>09/01</td><td>73</td></tr><tr><td>2013</td><td>09/08</td><td>68</td></tr><tr><td>2013</td><td>09/15</td><td>51</td></tr><tr><td>2013</td><td>09/22</td><td>62</td></tr><tr><td>2013</td><td>09/29</td><td>62</td></tr><tr><td>2013</td><td>10/06</td><td>43</td></tr><tr><td>2013</td><td>10/13</td><td>52</td></tr><tr><td>2013</td><td>10/20</td><td>53</td></tr><tr><td>2013</td><td>10/27</td><td>42</td></tr><tr><td>2013</td><td>11/03</td><td>42</td></tr><tr><td>2013</td><td>11/10</td><td>54</td></tr><tr><td>2013</td><td>11/17</td><td>46</td></tr><tr><td>2013</td><td>11/24</td><td>55</td></tr><tr><td>2013</td><td>12/01</td><td>47</td></tr><tr><td>2013</td><td>12/08</td><td>38</td></tr><tr><td>2013</td><td>12/15</td><td>28</td></tr><tr><td>2013</td><td>12/22</td><td>36</td></tr><tr><td>2013</td><td>12/29</td><td>54</td></tr><tr><td>2014</td><td>01/05</td><td>39</td></tr><tr><td>2014</td><td>01/12</td><td>50</td></tr><tr><td>2014</td><td>01/19</td><td>42</td></tr><tr><td>2014</td><td>01/26</td><td>38</td></tr><tr><td>2014</td><td>02/02</td><td>38</td></tr><tr><td>2014</td><td>02/09</td><td>46</td></tr><tr><td>2014</td><td>02/16</td><td>49</td></tr><tr><td>2014</td><td>02/23</td><td>40</td></tr><tr><td>2014</td><td>03/02</td><td>50</td></tr><tr><td>2014</td><td>03/09</td><td>34</td></tr><tr><td>2014</td><td>03/16</td><td>34</td></tr><tr><td>2014</td><td>03/23</td><td>39</td></tr><tr><td>2014</td><td>03/30</td><td>43</td></tr><tr><td>2014</td><td>04/06</td><td>41</td></tr><tr><td>2014</td><td>04/13</td><td>31</td></tr><tr><td>2014</td><td>04/20</td><td>41</td></tr><tr><td>2014</td><td>04/27</td><td>35</td></tr><tr><td>2014</td><td>05/04</td><td>39</td></tr><tr><td>2014</td><td>05/11</td><td>40</td></tr><tr><td>2014</td><td>05/18</td><td>67</td></tr><tr><td>2014</td><td>05/25</td><td>52</td></tr><tr><td>2014</td><td>06/01</td><td>57</td></tr><tr><td>2014</td><td>06/08</td><td>31</td></tr><tr><td>2014</td><td>06/15</td><td>62</td></tr><tr><td>2014</td><td>06/22</td><td>31</td></tr><tr><td>2014</td><td>06/29</td><td>110</td></tr><tr><td>2014</td><td>07/06</td><td>47</td></tr><tr><td>2014</td><td>07/13</td><td>31</td></tr><tr><td>2014</td><td>07/20</td><td>50</td></tr><tr><td>2014</td><td>07/27</td><td>50</td></tr><tr><td>2014</td><td>08/03</td><td>47</td></tr><tr><td>2014</td><td>08/10</td><td>63</td></tr><tr><td>2014</td><td>08/17</td><td>56</td></tr><tr><td>2014</td><td>08/24</td><td>57</td></tr><tr><td>2014</td><td>08/31</td><td>66</td></tr><tr><td>2014</td><td>09/07</td><td>56</td></tr><tr><td>2014</td><td>09/14</td><td>56</td></tr><tr><td>2014</td><td>09/21</td><td>65</td></tr><tr><td>2014</td><td>09/28</td><td>57</td></tr><tr><td>2014</td><td>10/05</td><td>36</td></tr><tr><td>2014</td><td>10/12</td><td>54</td></tr><tr><td>2014</td><td>10/19</td><td>48</td></tr><tr><td>2014</td><td>10/26</td><td>56</td></tr><tr><td>2014</td><td>11/02</td><td>41</td></tr><tr><td>2014</td><td>11/09</td><td>52</td></tr><tr><td>2014</td><td>11/16</td><td>47</td></tr><tr><td>2014</td><td>11/23</td><td>56</td></tr><tr><td>2014</td><td>11/30</td><td>42</td></tr><tr><td>2014</td><td>12/07</td><td>51</td></tr><tr><td>2014</td><td>12/14</td><td>52</td></tr><tr><td>2014</td><td>12/21</td><td>54</td></tr><tr><td>2014</td><td>12/28</td><td>48</td></tr><tr><td>2015</td><td>01/04</td><td>43</td></tr><tr><td>2015</td><td>01/11</td><td>44</td></tr><tr><td>2015</td><td>01/18</td><td>42</td></tr><tr><td>2015</td><td>01/25</td><td>49</td></tr><tr><td>2015</td><td>02/01</td><td>45</td></tr><tr><td>2015</td><td>02/08</td><td>39</td></tr><tr><td>2015</td><td>02/15</td><td>50</td></tr><tr><td>2015</td><td>02/22</td><td>50</td></tr><tr><td>2015</td><td>03/01</td><td>56</td></tr><tr><td>2015</td><td>03/08</td><td>48</td></tr><tr><td>2015</td><td>03/15</td><td>65</td></tr><tr><td>2015</td><td>03/22</td><td>59</td></tr><tr><td>2015</td><td>03/29</td><td>54</td></tr><tr><td>2015</td><td>04/05</td><td>43</td></tr><tr><td>2015</td><td>04/12</td><td>47</td></tr><tr><td>2015</td><td>04/19</td><td>53</td></tr><tr><td>2015</td><td>04/26</td><td>52</td></tr><tr><td>2015</td><td>05/03</td><td>48</td></tr><tr><td>2015</td><td>05/10</td><td>61</td></tr><tr><td>2015</td><td>05/17</td><td>61</td></tr><tr><td>2015</td><td>05/24</td><td>38</td></tr><tr><td>2015</td><td>05/31</td><td>55</td></tr><tr><td>2015</td><td>06/07</td><td>50</td></tr><tr><td>2015</td><td>06/14</td><td>55</td></tr><tr><td>2015</td><td>06/21</td><td>45</td></tr><tr><td>2015</td><td>06/28</td><td>133</td></tr><tr><td>2015</td><td>07/05</td><td>50</td></tr><tr><td>2015</td><td>07/12</td><td>45</td></tr><tr><td>2015</td><td>07/19</td><td>67</td></tr><tr><td>2015</td><td>07/26</td><td>67</td></tr><tr><td>2015</td><td>08/02</td><td>41</td></tr><tr><td>2015</td><td>08/09</td><td>52</td></tr><tr><td>2015</td><td>08/16</td><td>49</td></tr><tr><td>2015</td><td>08/23</td><td>63</td></tr><tr><td>2015</td><td>08/30</td><td>66</td></tr><tr><td>2015</td><td>09/06</td><td>45</td></tr><tr><td>2015</td><td>09/13</td><td>79</td></tr><tr><td>2015</td><td>09/20</td><td>57</td></tr><tr><td>2015</td><td>09/27</td><td>69</td></tr><tr><td>2015</td><td>10/04</td><td>50</td></tr><tr><td>2015</td><td>10/11</td><td>35</td></tr><tr><td>2015</td><td>10/18</td><td>42</td></tr><tr><td>2015</td><td>10/25</td><td>49</td></tr><tr><td>2015</td><td>11/01</td><td>74</td></tr><tr><td>2015</td><td>11/08</td><td>44</td></tr><tr><td>2015</td><td>11/15</td><td>43</td></tr><tr><td>2015</td><td>11/22</td><td>47</td></tr><tr><td>2015</td><td>11/29</td><td>43</td></tr><tr><td>2015</td><td>12/06</td><td>49</td></tr><tr><td>2015</td><td>12/13</td><td>42</td></tr><tr><td>2015</td><td>12/20</td><td>41</td></tr><tr><td>2015</td><td>12/27</td><td>52</td></tr><tr><td>2016</td><td>01/03</td><td>36</td></tr><tr><td>2016</td><td>01/10</td><td>44</td></tr><tr><td>2016</td><td>01/17</td><td>41</td></tr><tr><td>2016</td><td>01/24</td><td>39</td></tr><tr><td>2016</td><td>01/31</td><td>51</td></tr><tr><td>2016</td><td>02/07</td><td>62</td></tr><tr><td>2016</td><td>02/14</td><td>64</td></tr><tr><td>2016</td><td>02/21</td><td>43</td></tr><tr><td>2016</td><td>02/28</td><td>49</td></tr><tr><td>2016</td><td>03/06</td><td>41</td></tr><tr><td>2016</td><td>03/13</td><td>43</td></tr><tr><td>2016</td><td>03/20</td><td>55</td></tr><tr><td>2016</td><td>03/27</td><td>39</td></tr><tr><td>2016</td><td>04/03</td><td>59</td></tr><tr><td>2016</td><td>04/10</td><td>39</td></tr><tr><td>2016</td><td>04/17</td><td>50</td></tr><tr><td>2016</td><td>04/24</td><td>53</td></tr><tr><td>2016</td><td>05/01</td><td>60</td></tr><tr><td>2016</td><td>05/08</td><td>44</td></tr><tr><td>2016</td><td>05/15</td><td>55</td></tr><tr><td>2016</td><td>05/22</td><td>40</td></tr><tr><td>2016</td><td>05/29</td><td>53</td></tr><tr><td>2016</td><td>06/05</td><td>43</td></tr><tr><td>2016</td><td>06/12</td><td>52</td></tr><tr><td>2016</td><td>06/19</td><td>39</td></tr><tr><td>2016</td><td>06/26</td><td>107</td></tr><tr><td>2016</td><td>07/03</td><td>64</td></tr><tr><td>2016</td><td>07/10</td><td>54</td></tr><tr><td>2016</td><td>07/17</td><td>45</td></tr><tr><td>2016</td><td>07/24</td><td>60</td></tr><tr><td>2016</td><td>07/31</td><td>49</td></tr><tr><td>2016</td><td>08/07</td><td>40</td></tr><tr><td>2016</td><td>08/14</td><td>41</td></tr><tr><td>2016</td><td>08/21</td><td>53</td></tr><tr><td>2016</td><td>08/28</td><td>38</td></tr><tr><td>2016</td><td>09/04</td><td>50</td></tr><tr><td>2016</td><td>09/11</td><td>60</td></tr><tr><td>2016</td><td>09/18</td><td>67</td></tr><tr><td>2016</td><td>09/25</td><td>41</td></tr><tr><td>2016</td><td>10/02</td><td>51</td></tr><tr><td>2016</td><td>10/09</td><td>50</td></tr><tr><td>2016</td><td>10/16</td><td>65</td></tr><tr><td>2016</td><td>10/23</td><td>42</td></tr><tr><td>2016</td><td>10/30</td><td>60</td></tr><tr><td>2016</td><td>11/06</td><td>50</td></tr><tr><td>2016</td><td>11/13</td><td>40</td></tr><tr><td>2016</td><td>11/20</td><td>68</td></tr><tr><td>2016</td><td>11/27</td><td>42</td></tr><tr><td>2016</td><td>12/04</td><td>59</td></tr><tr><td>2016</td><td>12/11</td><td>68</td></tr><tr><td>2016</td><td>12/18</td><td>47</td></tr><tr><td>2016</td><td>12/25</td><td>27</td></tr><tr><td>2017</td><td>01/01</td><td>54</td></tr><tr><td>2017</td><td>01/08</td><td>46</td></tr><tr><td>2017</td><td>01/15</td><td>76</td></tr><tr><td>2017</td><td>01/22</td><td>77</td></tr><tr><td>2017</td><td>01/29</td><td>48</td></tr><tr><td>2017</td><td>02/05</td><td>52</td></tr><tr><td>2017</td><td>02/12</td><td>50</td></tr><tr><td>2017</td><td>02/19</td><td>61</td></tr><tr><td>2017</td><td>02/26</td><td>52</td></tr><tr><td>2017</td><td>03/05</td><td>38</td></tr><tr><td>2017</td><td>03/12</td><td>54</td></tr><tr><td>2017</td><td>03/19</td><td>52</td></tr><tr><td>2017</td><td>03/26</td><td>50</td></tr><tr><td>2017</td><td>04/02</td><td>38</td></tr><tr><td>2017</td><td>04/09</td><td>41</td></tr><tr><td>2017</td><td>04/16</td><td>70</td></tr><tr><td>2017</td><td>04/23</td><td>56</td></tr><tr><td>2017</td><td>04/30</td><td>57</td></tr><tr><td>2017</td><td>05/07</td><td>65</td></tr><tr><td>2017</td><td>05/14</td><td>39</td></tr><tr><td>2017</td><td>05/21</td><td>73</td></tr><tr><td>2017</td><td>05/28</td><td>50</td></tr><tr><td>2017</td><td>06/04</td><td>59</td></tr><tr><td>2017</td><td>06/11</td><td>52</td></tr><tr><td>2017</td><td>06/18</td><td>46</td></tr><tr><td>2017</td><td>06/25</td><td>97</td></tr><tr><td>2017</td><td>07/02</td><td>47</td></tr><tr><td>2017</td><td>07/09</td><td>59</td></tr><tr><td>2017</td><td>07/16</td><td>48</td></tr><tr><td>2017</td><td>07/23</td><td>61</td></tr><tr><td>2017</td><td>07/30</td><td>48</td></tr><tr><td>2017</td><td>08/06</td><td>53</td></tr><tr><td>2017</td><td>08/13</td><td>61</td></tr><tr><td>2017</td><td>08/20</td><td>64</td></tr><tr><td>2017</td><td>08/27</td><td>60</td></tr><tr><td>2017</td><td>09/03</td><td>44</td></tr><tr><td>2017</td><td>09/10</td><td>45</td></tr><tr><td>2017</td><td>09/17</td><td>54</td></tr><tr><td>2017</td><td>09/24</td><td>62</td></tr><tr><td>2017</td><td>10/01</td><td>54</td></tr><tr><td>2017</td><td>10/08</td><td>55</td></tr><tr><td>2017</td><td>10/15</td><td>52</td></tr><tr><td>2017</td><td>10/22</td><td>58</td></tr><tr><td>2017</td><td>10/29</td><td>66</td></tr><tr><td>2017</td><td>11/05</td><td>49</td></tr><tr><td>2017</td><td>11/12</td><td>54</td></tr><tr><td>2017</td><td>11/19</td><td>52</td></tr><tr><td>2017</td><td>11/26</td><td>46</td></tr><tr><td>2017</td><td>12/03</td><td>55</td></tr><tr><td>2017</td><td>12/10</td><td>68</td></tr><tr><td>2017</td><td>12/17</td><td>44</td></tr><tr><td>2017</td><td>12/24</td><td>42</td></tr><tr><td>2017</td><td>12/31</td><td>60</td></tr><tr><td>2018</td><td>01/07</td><td>44</td></tr><tr><td>2018</td><td>01/14</td><td>55</td></tr><tr><td>2018</td><td>01/21</td><td>42</td></tr><tr><td>2018</td><td>01/28</td><td>47</td></tr><tr><td>2018</td><td>02/04</td><td>26</td></tr><tr><td>2018</td><td>02/11</td><td>26</td></tr><tr><td>2018</td><td>02/18</td><td>43</td></tr><tr><td>2018</td><td>02/25</td><td>43</td></tr><tr><td>2018</td><td>03/04</td><td>49</td></tr><tr><td>2018</td><td>03/11</td><td>34</td></tr><tr><td>2018</td><td>03/18</td><td>51</td></tr><tr><td>2018</td><td>03/25</td><td>55</td></tr><tr><td>2018</td><td>04/01</td><td>41</td></tr><tr><td>2018</td><td>04/08</td><td>49</td></tr><tr><td>2018</td><td>04/15</td><td>38</td></tr><tr><td>2018</td><td>04/22</td><td>42</td></tr><tr><td>2018</td><td>04/29</td><td>44</td></tr><tr><td>2018</td><td>05/06</td><td>54</td></tr><tr><td>2018</td><td>05/13</td><td>16</td></tr></tbody></table></div>"
      ]
     },
     "metadata": {
      "application/vnd.databricks.v1+output": {
       "addedWidgets": {},
       "aggData": [],
       "aggError": "",
       "aggOverflow": false,
       "aggSchema": [],
       "aggSeriesLimitReached": false,
       "aggType": "",
       "arguments": {},
       "columnCustomDisplayInfos": {},
       "data": [
        [
         "2003",
         "01/05",
         28
        ],
        [
         "2003",
         "01/12",
         33
        ],
        [
         "2003",
         "01/19",
         19
        ],
        [
         "2003",
         "01/26",
         32
        ],
        [
         "2003",
         "02/02",
         44
        ],
        [
         "2003",
         "02/09",
         46
        ],
        [
         "2003",
         "02/16",
         50
        ],
        [
         "2003",
         "02/23",
         48
        ],
        [
         "2003",
         "03/02",
         40
        ],
        [
         "2003",
         "03/09",
         49
        ],
        [
         "2003",
         "03/16",
         43
        ],
        [
         "2003",
         "03/23",
         32
        ],
        [
         "2003",
         "03/30",
         45
        ],
        [
         "2003",
         "04/06",
         41
        ],
        [
         "2003",
         "04/13",
         44
        ],
        [
         "2003",
         "04/20",
         42
        ],
        [
         "2003",
         "04/27",
         43
        ],
        [
         "2003",
         "05/04",
         33
        ],
        [
         "2003",
         "05/11",
         30
        ],
        [
         "2003",
         "05/18",
         49
        ],
        [
         "2003",
         "05/25",
         39
        ],
        [
         "2003",
         "06/01",
         75
        ],
        [
         "2003",
         "06/08",
         37
        ],
        [
         "2003",
         "06/15",
         41
        ],
        [
         "2003",
         "06/22",
         38
        ],
        [
         "2003",
         "06/29",
         65
        ],
        [
         "2003",
         "07/06",
         36
        ],
        [
         "2003",
         "07/13",
         47
        ],
        [
         "2003",
         "07/20",
         48
        ],
        [
         "2003",
         "07/27",
         34
        ],
        [
         "2003",
         "08/03",
         39
        ],
        [
         "2003",
         "08/10",
         42
        ],
        [
         "2003",
         "08/17",
         26
        ],
        [
         "2003",
         "08/24",
         40
        ],
        [
         "2003",
         "08/31",
         38
        ],
        [
         "2003",
         "09/07",
         41
        ],
        [
         "2003",
         "09/14",
         38
        ],
        [
         "2003",
         "09/21",
         44
        ],
        [
         "2003",
         "09/28",
         39
        ],
        [
         "2003",
         "10/05",
         37
        ],
        [
         "2003",
         "10/12",
         39
        ],
        [
         "2003",
         "10/19",
         37
        ],
        [
         "2003",
         "10/26",
         29
        ],
        [
         "2003",
         "11/02",
         30
        ],
        [
         "2003",
         "11/09",
         44
        ],
        [
         "2003",
         "11/16",
         36
        ],
        [
         "2003",
         "11/23",
         35
        ],
        [
         "2003",
         "11/30",
         35
        ],
        [
         "2003",
         "12/07",
         39
        ],
        [
         "2003",
         "12/14",
         22
        ],
        [
         "2003",
         "12/21",
         43
        ],
        [
         "2003",
         "12/28",
         31
        ],
        [
         "2004",
         "01/04",
         49
        ],
        [
         "2004",
         "01/11",
         28
        ],
        [
         "2004",
         "01/18",
         24
        ],
        [
         "2004",
         "01/25",
         46
        ],
        [
         "2004",
         "02/01",
         39
        ],
        [
         "2004",
         "02/08",
         42
        ],
        [
         "2004",
         "02/15",
         50
        ],
        [
         "2004",
         "02/22",
         35
        ],
        [
         "2004",
         "02/29",
         48
        ],
        [
         "2004",
         "03/07",
         33
        ],
        [
         "2004",
         "03/14",
         50
        ],
        [
         "2004",
         "03/21",
         31
        ],
        [
         "2004",
         "03/28",
         37
        ],
        [
         "2004",
         "04/04",
         38
        ],
        [
         "2004",
         "04/11",
         48
        ],
        [
         "2004",
         "04/18",
         46
        ],
        [
         "2004",
         "04/25",
         47
        ],
        [
         "2004",
         "05/02",
         47
        ],
        [
         "2004",
         "05/09",
         30
        ],
        [
         "2004",
         "05/16",
         40
        ],
        [
         "2004",
         "05/23",
         33
        ],
        [
         "2004",
         "05/30",
         49
        ],
        [
         "2004",
         "06/06",
         17
        ],
        [
         "2004",
         "06/13",
         38
        ],
        [
         "2004",
         "06/20",
         53
        ],
        [
         "2004",
         "06/27",
         64
        ],
        [
         "2004",
         "07/04",
         50
        ],
        [
         "2004",
         "07/11",
         39
        ],
        [
         "2004",
         "07/18",
         45
        ],
        [
         "2004",
         "07/25",
         43
        ],
        [
         "2004",
         "08/01",
         58
        ],
        [
         "2004",
         "08/08",
         39
        ],
        [
         "2004",
         "08/15",
         39
        ],
        [
         "2004",
         "08/22",
         47
        ],
        [
         "2004",
         "08/29",
         43
        ],
        [
         "2004",
         "09/05",
         40
        ],
        [
         "2004",
         "09/12",
         42
        ],
        [
         "2004",
         "09/19",
         27
        ],
        [
         "2004",
         "09/26",
         45
        ],
        [
         "2004",
         "10/03",
         23
        ],
        [
         "2004",
         "10/10",
         38
        ],
        [
         "2004",
         "10/17",
         39
        ],
        [
         "2004",
         "10/24",
         47
        ],
        [
         "2004",
         "10/31",
         43
        ],
        [
         "2004",
         "11/07",
         37
        ],
        [
         "2004",
         "11/14",
         35
        ],
        [
         "2004",
         "11/21",
         33
        ],
        [
         "2004",
         "11/28",
         41
        ],
        [
         "2004",
         "12/05",
         38
        ],
        [
         "2004",
         "12/12",
         40
        ],
        [
         "2004",
         "12/19",
         41
        ],
        [
         "2004",
         "12/26",
         23
        ],
        [
         "2005",
         "01/02",
         29
        ],
        [
         "2005",
         "01/09",
         26
        ],
        [
         "2005",
         "01/16",
         40
        ],
        [
         "2005",
         "01/23",
         46
        ],
        [
         "2005",
         "01/30",
         50
        ],
        [
         "2005",
         "02/06",
         38
        ],
        [
         "2005",
         "02/13",
         36
        ],
        [
         "2005",
         "02/20",
         38
        ],
        [
         "2005",
         "02/27",
         35
        ],
        [
         "2005",
         "03/06",
         35
        ],
        [
         "2005",
         "03/13",
         49
        ],
        [
         "2005",
         "03/20",
         51
        ],
        [
         "2005",
         "03/27",
         25
        ],
        [
         "2005",
         "04/03",
         37
        ],
        [
         "2005",
         "04/10",
         51
        ],
        [
         "2005",
         "04/17",
         33
        ],
        [
         "2005",
         "04/24",
         39
        ],
        [
         "2005",
         "05/01",
         52
        ],
        [
         "2005",
         "05/08",
         69
        ],
        [
         "2005",
         "05/15",
         41
        ],
        [
         "2005",
         "05/22",
         49
        ],
        [
         "2005",
         "05/29",
         47
        ],
        [
         "2005",
         "06/05",
         34
        ],
        [
         "2005",
         "06/12",
         37
        ],
        [
         "2005",
         "06/19",
         46
        ],
        [
         "2005",
         "06/26",
         64
        ],
        [
         "2005",
         "07/03",
         44
        ],
        [
         "2005",
         "07/10",
         43
        ],
        [
         "2005",
         "07/17",
         42
        ],
        [
         "2005",
         "07/24",
         34
        ],
        [
         "2005",
         "07/31",
         41
        ],
        [
         "2005",
         "08/07",
         50
        ],
        [
         "2005",
         "08/14",
         48
        ],
        [
         "2005",
         "08/21",
         49
        ],
        [
         "2005",
         "08/28",
         35
        ],
        [
         "2005",
         "09/04",
         34
        ],
        [
         "2005",
         "09/11",
         34
        ],
        [
         "2005",
         "09/18",
         40
        ],
        [
         "2005",
         "09/25",
         50
        ],
        [
         "2005",
         "10/02",
         38
        ],
        [
         "2005",
         "10/09",
         34
        ],
        [
         "2005",
         "10/16",
         40
        ],
        [
         "2005",
         "10/23",
         24
        ],
        [
         "2005",
         "10/30",
         32
        ],
        [
         "2005",
         "11/06",
         49
        ],
        [
         "2005",
         "11/13",
         50
        ],
        [
         "2005",
         "11/20",
         42
        ],
        [
         "2005",
         "11/27",
         34
        ],
        [
         "2005",
         "12/04",
         42
        ],
        [
         "2005",
         "12/11",
         38
        ],
        [
         "2005",
         "12/18",
         31
        ],
        [
         "2005",
         "12/25",
         23
        ],
        [
         "2006",
         "01/01",
         77
        ],
        [
         "2006",
         "01/08",
         50
        ],
        [
         "2006",
         "01/15",
         48
        ],
        [
         "2006",
         "01/22",
         48
        ],
        [
         "2006",
         "01/29",
         44
        ],
        [
         "2006",
         "02/05",
         38
        ],
        [
         "2006",
         "02/12",
         41
        ],
        [
         "2006",
         "02/19",
         54
        ],
        [
         "2006",
         "02/26",
         40
        ],
        [
         "2006",
         "03/05",
         50
        ],
        [
         "2006",
         "03/12",
         34
        ],
        [
         "2006",
         "03/19",
         56
        ],
        [
         "2006",
         "03/26",
         52
        ],
        [
         "2006",
         "04/02",
         45
        ],
        [
         "2006",
         "04/09",
         38
        ],
        [
         "2006",
         "04/16",
         36
        ],
        [
         "2006",
         "04/23",
         50
        ],
        [
         "2006",
         "04/30",
         44
        ],
        [
         "2006",
         "05/07",
         53
        ],
        [
         "2006",
         "05/14",
         46
        ],
        [
         "2006",
         "05/21",
         48
        ],
        [
         "2006",
         "05/28",
         49
        ],
        [
         "2006",
         "06/04",
         39
        ],
        [
         "2006",
         "06/11",
         43
        ],
        [
         "2006",
         "06/18",
         51
        ],
        [
         "2006",
         "06/25",
         41
        ],
        [
         "2006",
         "07/02",
         35
        ],
        [
         "2006",
         "07/09",
         40
        ],
        [
         "2006",
         "07/16",
         41
        ],
        [
         "2006",
         "07/23",
         43
        ],
        [
         "2006",
         "07/30",
         50
        ],
        [
         "2006",
         "08/06",
         49
        ],
        [
         "2006",
         "08/13",
         47
        ],
        [
         "2006",
         "08/20",
         36
        ],
        [
         "2006",
         "08/27",
         48
        ],
        [
         "2006",
         "09/03",
         27
        ],
        [
         "2006",
         "09/10",
         54
        ],
        [
         "2006",
         "09/17",
         48
        ],
        [
         "2006",
         "09/24",
         51
        ],
        [
         "2006",
         "10/01",
         47
        ],
        [
         "2006",
         "10/08",
         57
        ],
        [
         "2006",
         "10/15",
         42
        ],
        [
         "2006",
         "10/22",
         41
        ],
        [
         "2006",
         "10/29",
         51
        ],
        [
         "2006",
         "11/05",
         34
        ],
        [
         "2006",
         "11/12",
         35
        ],
        [
         "2006",
         "11/19",
         44
        ],
        [
         "2006",
         "11/26",
         38
        ],
        [
         "2006",
         "12/03",
         52
        ],
        [
         "2006",
         "12/10",
         36
        ],
        [
         "2006",
         "12/17",
         36
        ],
        [
         "2006",
         "12/24",
         27
        ],
        [
         "2006",
         "12/31",
         53
        ],
        [
         "2007",
         "01/07",
         52
        ],
        [
         "2007",
         "01/14",
         33
        ],
        [
         "2007",
         "01/21",
         41
        ],
        [
         "2007",
         "01/28",
         42
        ],
        [
         "2007",
         "02/04",
         48
        ],
        [
         "2007",
         "02/11",
         42
        ],
        [
         "2007",
         "02/18",
         46
        ],
        [
         "2007",
         "02/25",
         48
        ],
        [
         "2007",
         "03/04",
         58
        ],
        [
         "2007",
         "03/11",
         41
        ],
        [
         "2007",
         "03/18",
         44
        ],
        [
         "2007",
         "03/25",
         47
        ],
        [
         "2007",
         "04/01",
         57
        ],
        [
         "2007",
         "04/08",
         40
        ],
        [
         "2007",
         "04/15",
         41
        ],
        [
         "2007",
         "04/22",
         64
        ],
        [
         "2007",
         "04/29",
         33
        ],
        [
         "2007",
         "05/06",
         68
        ],
        [
         "2007",
         "05/13",
         41
        ],
        [
         "2007",
         "05/20",
         60
        ],
        [
         "2007",
         "05/27",
         43
        ],
        [
         "2007",
         "06/03",
         43
        ],
        [
         "2007",
         "06/10",
         41
        ],
        [
         "2007",
         "06/17",
         33
        ],
        [
         "2007",
         "06/24",
         61
        ],
        [
         "2007",
         "07/01",
         53
        ],
        [
         "2007",
         "07/08",
         57
        ],
        [
         "2007",
         "07/15",
         58
        ],
        [
         "2007",
         "07/22",
         42
        ],
        [
         "2007",
         "07/29",
         57
        ],
        [
         "2007",
         "08/05",
         41
        ],
        [
         "2007",
         "08/12",
         60
        ],
        [
         "2007",
         "08/19",
         58
        ],
        [
         "2007",
         "08/26",
         52
        ],
        [
         "2007",
         "09/02",
         31
        ],
        [
         "2007",
         "09/09",
         58
        ],
        [
         "2007",
         "09/16",
         52
        ],
        [
         "2007",
         "09/23",
         46
        ],
        [
         "2007",
         "09/30",
         70
        ],
        [
         "2007",
         "10/07",
         56
        ],
        [
         "2007",
         "10/14",
         51
        ],
        [
         "2007",
         "10/21",
         45
        ],
        [
         "2007",
         "10/28",
         51
        ],
        [
         "2007",
         "11/04",
         44
        ],
        [
         "2007",
         "11/11",
         40
        ],
        [
         "2007",
         "11/18",
         43
        ],
        [
         "2007",
         "11/25",
         40
        ],
        [
         "2007",
         "12/02",
         47
        ],
        [
         "2007",
         "12/09",
         44
        ],
        [
         "2007",
         "12/23",
         48
        ],
        [
         "2007",
         "12/30",
         39
        ],
        [
         "2008",
         "01/06",
         43
        ],
        [
         "2008",
         "01/13",
         47
        ],
        [
         "2008",
         "01/20",
         30
        ],
        [
         "2008",
         "01/27",
         39
        ],
        [
         "2008",
         "02/03",
         36
        ],
        [
         "2008",
         "02/10",
         36
        ],
        [
         "2008",
         "02/17",
         31
        ],
        [
         "2008",
         "02/24",
         43
        ],
        [
         "2008",
         "03/02",
         64
        ],
        [
         "2008",
         "03/09",
         44
        ],
        [
         "2008",
         "03/16",
         49
        ],
        [
         "2008",
         "03/23",
         39
        ],
        [
         "2008",
         "03/30",
         44
        ],
        [
         "2008",
         "04/06",
         38
        ],
        [
         "2008",
         "04/13",
         48
        ],
        [
         "2008",
         "04/20",
         40
        ],
        [
         "2008",
         "04/27",
         37
        ],
        [
         "2008",
         "05/04",
         44
        ],
        [
         "2008",
         "05/11",
         39
        ],
        [
         "2008",
         "05/18",
         44
        ],
        [
         "2008",
         "05/25",
         45
        ],
        [
         "2008",
         "06/01",
         75
        ],
        [
         "2008",
         "06/08",
         56
        ],
        [
         "2008",
         "06/15",
         53
        ],
        [
         "2008",
         "06/22",
         54
        ],
        [
         "2008",
         "06/29",
         54
        ],
        [
         "2008",
         "07/06",
         32
        ],
        [
         "2008",
         "07/13",
         46
        ],
        [
         "2008",
         "07/20",
         43
        ],
        [
         "2008",
         "07/27",
         51
        ],
        [
         "2008",
         "08/03",
         45
        ],
        [
         "2008",
         "08/10",
         49
        ],
        [
         "2008",
         "08/17",
         49
        ],
        [
         "2008",
         "08/24",
         47
        ],
        [
         "2008",
         "08/31",
         50
        ],
        [
         "2008",
         "09/07",
         36
        ],
        [
         "2008",
         "09/14",
         52
        ],
        [
         "2008",
         "09/21",
         55
        ],
        [
         "2008",
         "09/28",
         54
        ],
        [
         "2008",
         "10/05",
         37
        ],
        [
         "2008",
         "10/12",
         48
        ],
        [
         "2008",
         "10/19",
         38
        ],
        [
         "2008",
         "10/26",
         33
        ],
        [
         "2008",
         "11/02",
         55
        ],
        [
         "2008",
         "11/09",
         48
        ],
        [
         "2008",
         "11/16",
         56
        ],
        [
         "2008",
         "11/23",
         57
        ],
        [
         "2008",
         "11/30",
         38
        ],
        [
         "2008",
         "12/07",
         38
        ],
        [
         "2008",
         "12/14",
         23
        ],
        [
         "2008",
         "12/21",
         33
        ],
        [
         "2008",
         "12/28",
         42
        ],
        [
         "2009",
         "01/04",
         66
        ],
        [
         "2009",
         "01/11",
         56
        ],
        [
         "2009",
         "01/18",
         39
        ],
        [
         "2009",
         "01/25",
         55
        ],
        [
         "2009",
         "02/01",
         54
        ],
        [
         "2009",
         "02/08",
         42
        ],
        [
         "2009",
         "02/15",
         38
        ],
        [
         "2009",
         "02/22",
         31
        ],
        [
         "2009",
         "03/01",
         60
        ],
        [
         "2009",
         "03/08",
         42
        ],
        [
         "2009",
         "03/15",
         50
        ],
        [
         "2009",
         "03/22",
         43
        ],
        [
         "2009",
         "03/29",
         59
        ],
        [
         "2009",
         "04/05",
         43
        ],
        [
         "2009",
         "04/12",
         54
        ],
        [
         "2009",
         "04/19",
         59
        ],
        [
         "2009",
         "04/26",
         37
        ],
        [
         "2009",
         "05/03",
         56
        ],
        [
         "2009",
         "05/10",
         40
        ],
        [
         "2009",
         "05/17",
         51
        ],
        [
         "2009",
         "05/24",
         45
        ],
        [
         "2009",
         "05/31",
         41
        ],
        [
         "2009",
         "06/07",
         30
        ],
        [
         "2009",
         "06/14",
         41
        ],
        [
         "2009",
         "06/21",
         40
        ],
        [
         "2009",
         "06/28",
         63
        ],
        [
         "2009",
         "07/05",
         71
        ],
        [
         "2009",
         "07/12",
         57
        ],
        [
         "2009",
         "07/19",
         53
        ],
        [
         "2009",
         "07/26",
         44
        ],
        [
         "2009",
         "08/02",
         51
        ],
        [
         "2009",
         "08/09",
         39
        ],
        [
         "2009",
         "08/16",
         48
        ],
        [
         "2009",
         "08/23",
         72
        ],
        [
         "2009",
         "08/30",
         54
        ],
        [
         "2009",
         "09/06",
         45
        ],
        [
         "2009",
         "09/13",
         49
        ],
        [
         "2009",
         "09/20",
         44
        ],
        [
         "2009",
         "09/27",
         46
        ],
        [
         "2009",
         "10/04",
         59
        ],
        [
         "2009",
         "10/11",
         61
        ],
        [
         "2009",
         "10/18",
         36
        ],
        [
         "2009",
         "10/25",
         37
        ],
        [
         "2009",
         "11/01",
         60
        ],
        [
         "2009",
         "11/08",
         49
        ],
        [
         "2009",
         "11/15",
         30
        ],
        [
         "2009",
         "11/22",
         35
        ],
        [
         "2009",
         "11/29",
         37
        ],
        [
         "2009",
         "12/06",
         43
        ],
        [
         "2009",
         "12/13",
         35
        ],
        [
         "2009",
         "12/20",
         41
        ],
        [
         "2009",
         "12/27",
         34
        ],
        [
         "2010",
         "01/03",
         56
        ],
        [
         "2010",
         "01/10",
         52
        ],
        [
         "2010",
         "01/17",
         47
        ],
        [
         "2010",
         "01/24",
         50
        ],
        [
         "2010",
         "01/31",
         42
        ],
        [
         "2010",
         "02/07",
         37
        ],
        [
         "2010",
         "02/14",
         51
        ],
        [
         "2010",
         "02/21",
         35
        ],
        [
         "2010",
         "02/28",
         53
        ],
        [
         "2010",
         "03/07",
         36
        ],
        [
         "2010",
         "03/14",
         42
        ],
        [
         "2010",
         "03/21",
         38
        ],
        [
         "2010",
         "03/28",
         33
        ],
        [
         "2010",
         "04/04",
         31
        ],
        [
         "2010",
         "04/11",
         41
        ],
        [
         "2010",
         "04/18",
         31
        ],
        [
         "2010",
         "04/25",
         43
        ],
        [
         "2010",
         "05/02",
         47
        ],
        [
         "2010",
         "05/09",
         59
        ],
        [
         "2010",
         "05/16",
         44
        ],
        [
         "2010",
         "05/23",
         59
        ],
        [
         "2010",
         "05/30",
         65
        ],
        [
         "2010",
         "06/06",
         57
        ],
        [
         "2010",
         "06/13",
         67
        ],
        [
         "2010",
         "06/20",
         64
        ],
        [
         "2010",
         "06/27",
         87
        ],
        [
         "2010",
         "07/04",
         67
        ],
        [
         "2010",
         "07/11",
         57
        ],
        [
         "2010",
         "07/18",
         41
        ],
        [
         "2010",
         "07/25",
         56
        ],
        [
         "2010",
         "08/01",
         67
        ],
        [
         "2010",
         "08/08",
         54
        ],
        [
         "2010",
         "08/15",
         68
        ],
        [
         "2010",
         "08/22",
         63
        ],
        [
         "2010",
         "08/29",
         55
        ],
        [
         "2010",
         "09/05",
         60
        ],
        [
         "2010",
         "09/12",
         59
        ],
        [
         "2010",
         "09/19",
         44
        ],
        [
         "2010",
         "09/26",
         62
        ],
        [
         "2010",
         "10/03",
         60
        ],
        [
         "2010",
         "10/10",
         54
        ],
        [
         "2010",
         "10/17",
         42
        ],
        [
         "2010",
         "10/24",
         63
        ],
        [
         "2010",
         "10/31",
         55
        ],
        [
         "2010",
         "11/07",
         22
        ],
        [
         "2010",
         "11/14",
         69
        ],
        [
         "2010",
         "11/21",
         47
        ],
        [
         "2010",
         "11/28",
         30
        ],
        [
         "2010",
         "12/05",
         35
        ],
        [
         "2010",
         "12/12",
         38
        ],
        [
         "2010",
         "12/19",
         55
        ],
        [
         "2010",
         "12/26",
         42
        ],
        [
         "2011",
         "01/02",
         40
        ],
        [
         "2011",
         "01/09",
         67
        ],
        [
         "2011",
         "01/16",
         32
        ],
        [
         "2011",
         "01/23",
         37
        ],
        [
         "2011",
         "01/30",
         28
        ],
        [
         "2011",
         "02/06",
         61
        ],
        [
         "2011",
         "02/13",
         36
        ],
        [
         "2011",
         "02/20",
         28
        ],
        [
         "2011",
         "02/27",
         44
        ],
        [
         "2011",
         "03/06",
         35
        ],
        [
         "2011",
         "03/13",
         48
        ],
        [
         "2011",
         "03/20",
         35
        ],
        [
         "2011",
         "03/27",
         47
        ],
        [
         "2011",
         "04/03",
         36
        ],
        [
         "2011",
         "04/10",
         39
        ],
        [
         "2011",
         "04/17",
         36
        ],
        [
         "2011",
         "04/24",
         42
        ],
        [
         "2011",
         "05/01",
         69
        ],
        [
         "2011",
         "05/08",
         46
        ],
        [
         "2011",
         "05/15",
         44
        ],
        [
         "2011",
         "05/22",
         41
        ],
        [
         "2011",
         "05/29",
         44
        ],
        [
         "2011",
         "06/05",
         44
        ],
        [
         "2011",
         "06/12",
         46
        ],
        [
         "2011",
         "06/19",
         46
        ],
        [
         "2011",
         "06/26",
         87
        ],
        [
         "2011",
         "07/03",
         43
        ],
        [
         "2011",
         "07/10",
         48
        ],
        [
         "2011",
         "07/17",
         32
        ],
        [
         "2011",
         "07/24",
         45
        ],
        [
         "2011",
         "07/31",
         37
        ],
        [
         "2011",
         "08/07",
         45
        ],
        [
         "2011",
         "08/14",
         54
        ],
        [
         "2011",
         "08/21",
         42
        ],
        [
         "2011",
         "08/28",
         45
        ],
        [
         "2011",
         "09/04",
         41
        ],
        [
         "2011",
         "09/11",
         48
        ],
        [
         "2011",
         "09/18",
         44
        ],
        [
         "2011",
         "09/25",
         43
        ],
        [
         "2011",
         "10/02",
         50
        ],
        [
         "2011",
         "10/09",
         46
        ],
        [
         "2011",
         "10/16",
         34
        ],
        [
         "2011",
         "10/23",
         35
        ],
        [
         "2011",
         "10/30",
         40
        ],
        [
         "2011",
         "11/06",
         33
        ],
        [
         "2011",
         "11/13",
         38
        ],
        [
         "2011",
         "11/20",
         30
        ],
        [
         "2011",
         "11/27",
         39
        ],
        [
         "2011",
         "12/04",
         63
        ],
        [
         "2011",
         "12/11",
         37
        ],
        [
         "2011",
         "12/18",
         49
        ],
        [
         "2011",
         "12/25",
         36
        ],
        [
         "2012",
         "01/01",
         83
        ],
        [
         "2012",
         "01/08",
         58
        ],
        [
         "2012",
         "01/15",
         35
        ],
        [
         "2012",
         "01/22",
         53
        ],
        [
         "2012",
         "01/29",
         53
        ],
        [
         "2012",
         "02/05",
         56
        ],
        [
         "2012",
         "02/12",
         56
        ],
        [
         "2012",
         "02/19",
         41
        ],
        [
         "2012",
         "02/26",
         39
        ],
        [
         "2012",
         "03/04",
         40
        ],
        [
         "2012",
         "03/11",
         56
        ],
        [
         "2012",
         "03/18",
         39
        ],
        [
         "2012",
         "03/25",
         33
        ],
        [
         "2012",
         "04/01",
         39
        ],
        [
         "2012",
         "04/08",
         49
        ],
        [
         "2012",
         "04/15",
         44
        ],
        [
         "2012",
         "04/22",
         47
        ],
        [
         "2012",
         "04/29",
         41
        ],
        [
         "2012",
         "05/06",
         50
        ],
        [
         "2012",
         "05/13",
         41
        ],
        [
         "2012",
         "05/20",
         66
        ],
        [
         "2012",
         "05/27",
         38
        ],
        [
         "2012",
         "06/03",
         41
        ],
        [
         "2012",
         "06/10",
         41
        ],
        [
         "2012",
         "06/17",
         42
        ],
        [
         "2012",
         "06/24",
         108
        ],
        [
         "2012",
         "07/01",
         32
        ],
        [
         "2012",
         "07/08",
         26
        ],
        [
         "2012",
         "07/15",
         41
        ],
        [
         "2012",
         "07/22",
         30
        ],
        [
         "2012",
         "07/29",
         46
        ],
        [
         "2012",
         "08/05",
         59
        ],
        [
         "2012",
         "08/12",
         42
        ],
        [
         "2012",
         "08/19",
         49
        ],
        [
         "2012",
         "08/26",
         63
        ],
        [
         "2012",
         "09/02",
         53
        ],
        [
         "2012",
         "09/09",
         58
        ],
        [
         "2012",
         "09/16",
         71
        ],
        [
         "2012",
         "09/23",
         63
        ],
        [
         "2012",
         "09/30",
         41
        ],
        [
         "2012",
         "10/07",
         55
        ],
        [
         "2012",
         "10/14",
         67
        ],
        [
         "2012",
         "10/21",
         41
        ],
        [
         "2012",
         "10/28",
         89
        ],
        [
         "2012",
         "11/04",
         58
        ],
        [
         "2012",
         "11/11",
         47
        ],
        [
         "2012",
         "11/18",
         56
        ],
        [
         "2012",
         "11/25",
         48
        ],
        [
         "2012",
         "12/02",
         34
        ],
        [
         "2012",
         "12/09",
         51
        ],
        [
         "2012",
         "12/16",
         54
        ],
        [
         "2012",
         "12/23",
         38
        ],
        [
         "2012",
         "12/30",
         69
        ],
        [
         "2013",
         "01/06",
         51
        ],
        [
         "2013",
         "01/13",
         59
        ],
        [
         "2013",
         "01/20",
         31
        ],
        [
         "2013",
         "01/27",
         59
        ],
        [
         "2013",
         "02/03",
         38
        ],
        [
         "2013",
         "02/10",
         45
        ],
        [
         "2013",
         "02/17",
         63
        ],
        [
         "2013",
         "02/24",
         48
        ],
        [
         "2013",
         "03/03",
         50
        ],
        [
         "2013",
         "03/10",
         42
        ],
        [
         "2013",
         "03/17",
         62
        ],
        [
         "2013",
         "03/24",
         53
        ],
        [
         "2013",
         "03/31",
         48
        ],
        [
         "2013",
         "04/07",
         57
        ],
        [
         "2013",
         "04/14",
         44
        ],
        [
         "2013",
         "04/21",
         53
        ],
        [
         "2013",
         "04/28",
         52
        ],
        [
         "2013",
         "05/05",
         56
        ],
        [
         "2013",
         "05/12",
         26
        ],
        [
         "2013",
         "05/19",
         41
        ],
        [
         "2013",
         "05/26",
         57
        ],
        [
         "2013",
         "06/02",
         47
        ],
        [
         "2013",
         "06/09",
         55
        ],
        [
         "2013",
         "06/16",
         46
        ],
        [
         "2013",
         "06/23",
         44
        ],
        [
         "2013",
         "06/30",
         101
        ],
        [
         "2013",
         "07/07",
         55
        ],
        [
         "2013",
         "07/14",
         45
        ],
        [
         "2013",
         "07/21",
         57
        ],
        [
         "2013",
         "07/28",
         57
        ],
        [
         "2013",
         "08/04",
         79
        ],
        [
         "2013",
         "08/11",
         87
        ],
        [
         "2013",
         "08/18",
         59
        ],
        [
         "2013",
         "08/25",
         47
        ],
        [
         "2013",
         "09/01",
         73
        ],
        [
         "2013",
         "09/08",
         68
        ],
        [
         "2013",
         "09/15",
         51
        ],
        [
         "2013",
         "09/22",
         62
        ],
        [
         "2013",
         "09/29",
         62
        ],
        [
         "2013",
         "10/06",
         43
        ],
        [
         "2013",
         "10/13",
         52
        ],
        [
         "2013",
         "10/20",
         53
        ],
        [
         "2013",
         "10/27",
         42
        ],
        [
         "2013",
         "11/03",
         42
        ],
        [
         "2013",
         "11/10",
         54
        ],
        [
         "2013",
         "11/17",
         46
        ],
        [
         "2013",
         "11/24",
         55
        ],
        [
         "2013",
         "12/01",
         47
        ],
        [
         "2013",
         "12/08",
         38
        ],
        [
         "2013",
         "12/15",
         28
        ],
        [
         "2013",
         "12/22",
         36
        ],
        [
         "2013",
         "12/29",
         54
        ],
        [
         "2014",
         "01/05",
         39
        ],
        [
         "2014",
         "01/12",
         50
        ],
        [
         "2014",
         "01/19",
         42
        ],
        [
         "2014",
         "01/26",
         38
        ],
        [
         "2014",
         "02/02",
         38
        ],
        [
         "2014",
         "02/09",
         46
        ],
        [
         "2014",
         "02/16",
         49
        ],
        [
         "2014",
         "02/23",
         40
        ],
        [
         "2014",
         "03/02",
         50
        ],
        [
         "2014",
         "03/09",
         34
        ],
        [
         "2014",
         "03/16",
         34
        ],
        [
         "2014",
         "03/23",
         39
        ],
        [
         "2014",
         "03/30",
         43
        ],
        [
         "2014",
         "04/06",
         41
        ],
        [
         "2014",
         "04/13",
         31
        ],
        [
         "2014",
         "04/20",
         41
        ],
        [
         "2014",
         "04/27",
         35
        ],
        [
         "2014",
         "05/04",
         39
        ],
        [
         "2014",
         "05/11",
         40
        ],
        [
         "2014",
         "05/18",
         67
        ],
        [
         "2014",
         "05/25",
         52
        ],
        [
         "2014",
         "06/01",
         57
        ],
        [
         "2014",
         "06/08",
         31
        ],
        [
         "2014",
         "06/15",
         62
        ],
        [
         "2014",
         "06/22",
         31
        ],
        [
         "2014",
         "06/29",
         110
        ],
        [
         "2014",
         "07/06",
         47
        ],
        [
         "2014",
         "07/13",
         31
        ],
        [
         "2014",
         "07/20",
         50
        ],
        [
         "2014",
         "07/27",
         50
        ],
        [
         "2014",
         "08/03",
         47
        ],
        [
         "2014",
         "08/10",
         63
        ],
        [
         "2014",
         "08/17",
         56
        ],
        [
         "2014",
         "08/24",
         57
        ],
        [
         "2014",
         "08/31",
         66
        ],
        [
         "2014",
         "09/07",
         56
        ],
        [
         "2014",
         "09/14",
         56
        ],
        [
         "2014",
         "09/21",
         65
        ],
        [
         "2014",
         "09/28",
         57
        ],
        [
         "2014",
         "10/05",
         36
        ],
        [
         "2014",
         "10/12",
         54
        ],
        [
         "2014",
         "10/19",
         48
        ],
        [
         "2014",
         "10/26",
         56
        ],
        [
         "2014",
         "11/02",
         41
        ],
        [
         "2014",
         "11/09",
         52
        ],
        [
         "2014",
         "11/16",
         47
        ],
        [
         "2014",
         "11/23",
         56
        ],
        [
         "2014",
         "11/30",
         42
        ],
        [
         "2014",
         "12/07",
         51
        ],
        [
         "2014",
         "12/14",
         52
        ],
        [
         "2014",
         "12/21",
         54
        ],
        [
         "2014",
         "12/28",
         48
        ],
        [
         "2015",
         "01/04",
         43
        ],
        [
         "2015",
         "01/11",
         44
        ],
        [
         "2015",
         "01/18",
         42
        ],
        [
         "2015",
         "01/25",
         49
        ],
        [
         "2015",
         "02/01",
         45
        ],
        [
         "2015",
         "02/08",
         39
        ],
        [
         "2015",
         "02/15",
         50
        ],
        [
         "2015",
         "02/22",
         50
        ],
        [
         "2015",
         "03/01",
         56
        ],
        [
         "2015",
         "03/08",
         48
        ],
        [
         "2015",
         "03/15",
         65
        ],
        [
         "2015",
         "03/22",
         59
        ],
        [
         "2015",
         "03/29",
         54
        ],
        [
         "2015",
         "04/05",
         43
        ],
        [
         "2015",
         "04/12",
         47
        ],
        [
         "2015",
         "04/19",
         53
        ],
        [
         "2015",
         "04/26",
         52
        ],
        [
         "2015",
         "05/03",
         48
        ],
        [
         "2015",
         "05/10",
         61
        ],
        [
         "2015",
         "05/17",
         61
        ],
        [
         "2015",
         "05/24",
         38
        ],
        [
         "2015",
         "05/31",
         55
        ],
        [
         "2015",
         "06/07",
         50
        ],
        [
         "2015",
         "06/14",
         55
        ],
        [
         "2015",
         "06/21",
         45
        ],
        [
         "2015",
         "06/28",
         133
        ],
        [
         "2015",
         "07/05",
         50
        ],
        [
         "2015",
         "07/12",
         45
        ],
        [
         "2015",
         "07/19",
         67
        ],
        [
         "2015",
         "07/26",
         67
        ],
        [
         "2015",
         "08/02",
         41
        ],
        [
         "2015",
         "08/09",
         52
        ],
        [
         "2015",
         "08/16",
         49
        ],
        [
         "2015",
         "08/23",
         63
        ],
        [
         "2015",
         "08/30",
         66
        ],
        [
         "2015",
         "09/06",
         45
        ],
        [
         "2015",
         "09/13",
         79
        ],
        [
         "2015",
         "09/20",
         57
        ],
        [
         "2015",
         "09/27",
         69
        ],
        [
         "2015",
         "10/04",
         50
        ],
        [
         "2015",
         "10/11",
         35
        ],
        [
         "2015",
         "10/18",
         42
        ],
        [
         "2015",
         "10/25",
         49
        ],
        [
         "2015",
         "11/01",
         74
        ],
        [
         "2015",
         "11/08",
         44
        ],
        [
         "2015",
         "11/15",
         43
        ],
        [
         "2015",
         "11/22",
         47
        ],
        [
         "2015",
         "11/29",
         43
        ],
        [
         "2015",
         "12/06",
         49
        ],
        [
         "2015",
         "12/13",
         42
        ],
        [
         "2015",
         "12/20",
         41
        ],
        [
         "2015",
         "12/27",
         52
        ],
        [
         "2016",
         "01/03",
         36
        ],
        [
         "2016",
         "01/10",
         44
        ],
        [
         "2016",
         "01/17",
         41
        ],
        [
         "2016",
         "01/24",
         39
        ],
        [
         "2016",
         "01/31",
         51
        ],
        [
         "2016",
         "02/07",
         62
        ],
        [
         "2016",
         "02/14",
         64
        ],
        [
         "2016",
         "02/21",
         43
        ],
        [
         "2016",
         "02/28",
         49
        ],
        [
         "2016",
         "03/06",
         41
        ],
        [
         "2016",
         "03/13",
         43
        ],
        [
         "2016",
         "03/20",
         55
        ],
        [
         "2016",
         "03/27",
         39
        ],
        [
         "2016",
         "04/03",
         59
        ],
        [
         "2016",
         "04/10",
         39
        ],
        [
         "2016",
         "04/17",
         50
        ],
        [
         "2016",
         "04/24",
         53
        ],
        [
         "2016",
         "05/01",
         60
        ],
        [
         "2016",
         "05/08",
         44
        ],
        [
         "2016",
         "05/15",
         55
        ],
        [
         "2016",
         "05/22",
         40
        ],
        [
         "2016",
         "05/29",
         53
        ],
        [
         "2016",
         "06/05",
         43
        ],
        [
         "2016",
         "06/12",
         52
        ],
        [
         "2016",
         "06/19",
         39
        ],
        [
         "2016",
         "06/26",
         107
        ],
        [
         "2016",
         "07/03",
         64
        ],
        [
         "2016",
         "07/10",
         54
        ],
        [
         "2016",
         "07/17",
         45
        ],
        [
         "2016",
         "07/24",
         60
        ],
        [
         "2016",
         "07/31",
         49
        ],
        [
         "2016",
         "08/07",
         40
        ],
        [
         "2016",
         "08/14",
         41
        ],
        [
         "2016",
         "08/21",
         53
        ],
        [
         "2016",
         "08/28",
         38
        ],
        [
         "2016",
         "09/04",
         50
        ],
        [
         "2016",
         "09/11",
         60
        ],
        [
         "2016",
         "09/18",
         67
        ],
        [
         "2016",
         "09/25",
         41
        ],
        [
         "2016",
         "10/02",
         51
        ],
        [
         "2016",
         "10/09",
         50
        ],
        [
         "2016",
         "10/16",
         65
        ],
        [
         "2016",
         "10/23",
         42
        ],
        [
         "2016",
         "10/30",
         60
        ],
        [
         "2016",
         "11/06",
         50
        ],
        [
         "2016",
         "11/13",
         40
        ],
        [
         "2016",
         "11/20",
         68
        ],
        [
         "2016",
         "11/27",
         42
        ],
        [
         "2016",
         "12/04",
         59
        ],
        [
         "2016",
         "12/11",
         68
        ],
        [
         "2016",
         "12/18",
         47
        ],
        [
         "2016",
         "12/25",
         27
        ],
        [
         "2017",
         "01/01",
         54
        ],
        [
         "2017",
         "01/08",
         46
        ],
        [
         "2017",
         "01/15",
         76
        ],
        [
         "2017",
         "01/22",
         77
        ],
        [
         "2017",
         "01/29",
         48
        ],
        [
         "2017",
         "02/05",
         52
        ],
        [
         "2017",
         "02/12",
         50
        ],
        [
         "2017",
         "02/19",
         61
        ],
        [
         "2017",
         "02/26",
         52
        ],
        [
         "2017",
         "03/05",
         38
        ],
        [
         "2017",
         "03/12",
         54
        ],
        [
         "2017",
         "03/19",
         52
        ],
        [
         "2017",
         "03/26",
         50
        ],
        [
         "2017",
         "04/02",
         38
        ],
        [
         "2017",
         "04/09",
         41
        ],
        [
         "2017",
         "04/16",
         70
        ],
        [
         "2017",
         "04/23",
         56
        ],
        [
         "2017",
         "04/30",
         57
        ],
        [
         "2017",
         "05/07",
         65
        ],
        [
         "2017",
         "05/14",
         39
        ],
        [
         "2017",
         "05/21",
         73
        ],
        [
         "2017",
         "05/28",
         50
        ],
        [
         "2017",
         "06/04",
         59
        ],
        [
         "2017",
         "06/11",
         52
        ],
        [
         "2017",
         "06/18",
         46
        ],
        [
         "2017",
         "06/25",
         97
        ],
        [
         "2017",
         "07/02",
         47
        ],
        [
         "2017",
         "07/09",
         59
        ],
        [
         "2017",
         "07/16",
         48
        ],
        [
         "2017",
         "07/23",
         61
        ],
        [
         "2017",
         "07/30",
         48
        ],
        [
         "2017",
         "08/06",
         53
        ],
        [
         "2017",
         "08/13",
         61
        ],
        [
         "2017",
         "08/20",
         64
        ],
        [
         "2017",
         "08/27",
         60
        ],
        [
         "2017",
         "09/03",
         44
        ],
        [
         "2017",
         "09/10",
         45
        ],
        [
         "2017",
         "09/17",
         54
        ],
        [
         "2017",
         "09/24",
         62
        ],
        [
         "2017",
         "10/01",
         54
        ],
        [
         "2017",
         "10/08",
         55
        ],
        [
         "2017",
         "10/15",
         52
        ],
        [
         "2017",
         "10/22",
         58
        ],
        [
         "2017",
         "10/29",
         66
        ],
        [
         "2017",
         "11/05",
         49
        ],
        [
         "2017",
         "11/12",
         54
        ],
        [
         "2017",
         "11/19",
         52
        ],
        [
         "2017",
         "11/26",
         46
        ],
        [
         "2017",
         "12/03",
         55
        ],
        [
         "2017",
         "12/10",
         68
        ],
        [
         "2017",
         "12/17",
         44
        ],
        [
         "2017",
         "12/24",
         42
        ],
        [
         "2017",
         "12/31",
         60
        ],
        [
         "2018",
         "01/07",
         44
        ],
        [
         "2018",
         "01/14",
         55
        ],
        [
         "2018",
         "01/21",
         42
        ],
        [
         "2018",
         "01/28",
         47
        ],
        [
         "2018",
         "02/04",
         26
        ],
        [
         "2018",
         "02/11",
         26
        ],
        [
         "2018",
         "02/18",
         43
        ],
        [
         "2018",
         "02/25",
         43
        ],
        [
         "2018",
         "03/04",
         49
        ],
        [
         "2018",
         "03/11",
         34
        ],
        [
         "2018",
         "03/18",
         51
        ],
        [
         "2018",
         "03/25",
         55
        ],
        [
         "2018",
         "04/01",
         41
        ],
        [
         "2018",
         "04/08",
         49
        ],
        [
         "2018",
         "04/15",
         38
        ],
        [
         "2018",
         "04/22",
         42
        ],
        [
         "2018",
         "04/29",
         44
        ],
        [
         "2018",
         "05/06",
         54
        ],
        [
         "2018",
         "05/13",
         16
        ]
       ],
       "datasetInfos": [],
       "dbfsResultPath": null,
       "isJsonSchema": true,
       "metadata": {},
       "overflow": false,
       "plotOptions": {
        "customPlotOptions": {},
        "displayType": "table",
        "pivotAggregation": null,
        "pivotColumns": null,
        "xColumns": null,
        "yColumns": null
       },
       "removedWidgets": [],
       "schema": [
        {
         "metadata": "{}",
         "name": "Year",
         "type": "\"string\""
        },
        {
         "metadata": "{}",
         "name": "Date",
         "type": "\"string\""
        },
        {
         "metadata": "{}",
         "name": "Count",
         "type": "\"long\""
        }
       ],
       "type": "table"
      }
     },
     "output_type": "display_data"
    }
   ],
   "source": [
    "q3_result = spark.sql(\"\"\"\n",
    "                      with Sunday_dt_crime as(\n",
    "                      select substring(Date,1,5) as Date,\n",
    "                             substring(Date,7) as Year\n",
    "                      from sf_crime\n",
    "                      where (DayOfWeek = 'Sunday'\n",
    "                             and -122.423671 < X\n",
    "                             and X < 122.412497\n",
    "                             and 37.773510 < Y\n",
    "                             and Y < 37.782137)\n",
    "                             )\n",
    "                             \n",
    "                      select Year, Date, COUNT(*) as Count\n",
    "                      from Sunday_dt_crime\n",
    "                      group by Year, Date\n",
    "                      order by Year, Date\n",
    "                      \"\"\")\n",
    "display(q3_result)"
   ]
  },
  {
   "cell_type": "markdown",
   "metadata": {
    "application/vnd.databricks.v1+cell": {
     "cellMetadata": {},
     "inputWidgets": {},
     "nuid": "995560fa-28a3-405a-8962-6920982cc7d1",
     "showTitle": false,
     "tableResultSettingsMap": {},
     "title": ""
    }
   },
   "source": [
    "**Q4 question**\n",
    "Analysis the number of crime in each month of 2015, 2016, 2017, 2018. Then, give your insights for the output results. What is the business impact for your result?"
   ]
  },
  {
   "cell_type": "code",
   "execution_count": 0,
   "metadata": {
    "application/vnd.databricks.v1+cell": {
     "cellMetadata": {
      "byteLimit": 2048000,
      "implicitDf": true,
      "rowLimit": 10000
     },
     "inputWidgets": {},
     "nuid": "79ac2a56-1fd6-47f1-ae77-9ac4a41c5d10",
     "showTitle": false,
     "tableResultSettingsMap": {},
     "title": ""
    }
   },
   "outputs": [
    {
     "output_type": "display_data",
     "data": {
      "text/html": [
       "<style scoped>\n",
       "  .table-result-container {\n",
       "    max-height: 300px;\n",
       "    overflow: auto;\n",
       "  }\n",
       "  table, th, td {\n",
       "    border: 1px solid black;\n",
       "    border-collapse: collapse;\n",
       "  }\n",
       "  th, td {\n",
       "    padding: 5px;\n",
       "  }\n",
       "  th {\n",
       "    text-align: left;\n",
       "  }\n",
       "</style><div class='table-result-container'><table class='table-result'><thead style='background-color: white'><tr><th>Month</th><th>Year</th><th>crime_counts</th></tr></thead><tbody><tr><td>03</td><td>2015</td><td>13463</td></tr><tr><td>05</td><td>2015</td><td>13318</td></tr><tr><td>08</td><td>2015</td><td>13317</td></tr><tr><td>03</td><td>2017</td><td>13250</td></tr><tr><td>01</td><td>2015</td><td>13181</td></tr><tr><td>10</td><td>2017</td><td>12970</td></tr><tr><td>07</td><td>2015</td><td>12949</td></tr><tr><td>10</td><td>2016</td><td>12913</td></tr><tr><td>06</td><td>2015</td><td>12853</td></tr><tr><td>05</td><td>2017</td><td>12758</td></tr><tr><td>07</td><td>2017</td><td>12717</td></tr><tr><td>10</td><td>2015</td><td>12697</td></tr><tr><td>01</td><td>2017</td><td>12687</td></tr><tr><td>12</td><td>2016</td><td>12629</td></tr><tr><td>01</td><td>2016</td><td>12532</td></tr><tr><td>04</td><td>2015</td><td>12526</td></tr><tr><td>09</td><td>2015</td><td>12476</td></tr><tr><td>04</td><td>2017</td><td>12452</td></tr><tr><td>08</td><td>2017</td><td>12428</td></tr><tr><td>05</td><td>2016</td><td>12313</td></tr><tr><td>11</td><td>2016</td><td>12254</td></tr><tr><td>09</td><td>2017</td><td>12204</td></tr><tr><td>06</td><td>2017</td><td>12186</td></tr><tr><td>12</td><td>2017</td><td>12115</td></tr><tr><td>08</td><td>2016</td><td>12104</td></tr><tr><td>09</td><td>2016</td><td>12092</td></tr><tr><td>03</td><td>2016</td><td>11950</td></tr><tr><td>11</td><td>2017</td><td>11940</td></tr><tr><td>04</td><td>2016</td><td>11905</td></tr><tr><td>02</td><td>2015</td><td>11882</td></tr><tr><td>07</td><td>2016</td><td>11832</td></tr><tr><td>02</td><td>2017</td><td>11780</td></tr><tr><td>02</td><td>2016</td><td>11743</td></tr><tr><td>06</td><td>2016</td><td>11727</td></tr><tr><td>11</td><td>2015</td><td>11691</td></tr><tr><td>01</td><td>2018</td><td>11667</td></tr><tr><td>12</td><td>2015</td><td>11106</td></tr><tr><td>03</td><td>2018</td><td>10354</td></tr><tr><td>04</td><td>2018</td><td>9954</td></tr><tr><td>02</td><td>2018</td><td>9565</td></tr><tr><td>05</td><td>2018</td><td>3519</td></tr></tbody></table></div>"
      ]
     },
     "metadata": {
      "application/vnd.databricks.v1+output": {
       "addedWidgets": {},
       "aggData": [],
       "aggError": "",
       "aggOverflow": false,
       "aggSchema": [],
       "aggSeriesLimitReached": false,
       "aggType": "",
       "arguments": {},
       "columnCustomDisplayInfos": {},
       "data": [
        [
         "03",
         "2015",
         13463
        ],
        [
         "05",
         "2015",
         13318
        ],
        [
         "08",
         "2015",
         13317
        ],
        [
         "03",
         "2017",
         13250
        ],
        [
         "01",
         "2015",
         13181
        ],
        [
         "10",
         "2017",
         12970
        ],
        [
         "07",
         "2015",
         12949
        ],
        [
         "10",
         "2016",
         12913
        ],
        [
         "06",
         "2015",
         12853
        ],
        [
         "05",
         "2017",
         12758
        ],
        [
         "07",
         "2017",
         12717
        ],
        [
         "10",
         "2015",
         12697
        ],
        [
         "01",
         "2017",
         12687
        ],
        [
         "12",
         "2016",
         12629
        ],
        [
         "01",
         "2016",
         12532
        ],
        [
         "04",
         "2015",
         12526
        ],
        [
         "09",
         "2015",
         12476
        ],
        [
         "04",
         "2017",
         12452
        ],
        [
         "08",
         "2017",
         12428
        ],
        [
         "05",
         "2016",
         12313
        ],
        [
         "11",
         "2016",
         12254
        ],
        [
         "09",
         "2017",
         12204
        ],
        [
         "06",
         "2017",
         12186
        ],
        [
         "12",
         "2017",
         12115
        ],
        [
         "08",
         "2016",
         12104
        ],
        [
         "09",
         "2016",
         12092
        ],
        [
         "03",
         "2016",
         11950
        ],
        [
         "11",
         "2017",
         11940
        ],
        [
         "04",
         "2016",
         11905
        ],
        [
         "02",
         "2015",
         11882
        ],
        [
         "07",
         "2016",
         11832
        ],
        [
         "02",
         "2017",
         11780
        ],
        [
         "02",
         "2016",
         11743
        ],
        [
         "06",
         "2016",
         11727
        ],
        [
         "11",
         "2015",
         11691
        ],
        [
         "01",
         "2018",
         11667
        ],
        [
         "12",
         "2015",
         11106
        ],
        [
         "03",
         "2018",
         10354
        ],
        [
         "04",
         "2018",
         9954
        ],
        [
         "02",
         "2018",
         9565
        ],
        [
         "05",
         "2018",
         3519
        ]
       ],
       "datasetInfos": [],
       "dbfsResultPath": null,
       "isJsonSchema": true,
       "metadata": {},
       "overflow": false,
       "plotOptions": {
        "customPlotOptions": {},
        "displayType": "table",
        "pivotAggregation": null,
        "pivotColumns": null,
        "xColumns": null,
        "yColumns": null
       },
       "removedWidgets": [],
       "schema": [
        {
         "metadata": "{}",
         "name": "Month",
         "type": "\"string\""
        },
        {
         "metadata": "{}",
         "name": "Year",
         "type": "\"string\""
        },
        {
         "metadata": "{}",
         "name": "crime_counts",
         "type": "\"long\""
        }
       ],
       "type": "table"
      }
     },
     "output_type": "display_data"
    },
    {
     "output_type": "display_data",
     "data": {
      "text/plain": [
       "Databricks visualization. Run in Databricks to view."
      ]
     },
     "metadata": {
      "application/vnd.databricks.v1.subcommand+json": {
       "baseErrorDetails": null,
       "bindings": {},
       "collapsed": false,
       "command": "%sql WITH q AS (select SUBSTRING(Date,1,2) as Month, SUBSTRING(Date,7,4) as Year, count(*) as crime_counts\nfrom sf_crime\ngroup by month, year\nhaving Year in ('2015', '2016', '2017', '2018') \norder by crime_counts desc) SELECT `Month`,`Month`,SUM(`crime_counts`) `column_aaa6e47c231` FROM q GROUP BY `Month`",
       "commandTitle": "Visualization 1",
       "commandType": "auto",
       "commandVersion": 0,
       "commentThread": [],
       "commentsVisible": false,
       "contentSha256Hex": null,
       "customPlotOptions": {
        "redashChart": [
         {
          "key": "type",
          "value": "CHART"
         },
         {
          "key": "options",
          "value": {
           "alignYAxesAtZero": true,
           "coefficient": 1,
           "columnConfigurationMap": {
            "series": {
             "column": "Month",
             "id": "column_aaa6e47c233"
            },
            "x": {
             "column": "Month",
             "id": "column_aaa6e47c229"
            },
            "y": [
             {
              "column": "crime_counts",
              "id": "column_aaa6e47c231",
              "transform": "SUM"
             }
            ]
           },
           "dateTimeFormat": "DD/MM/YYYY HH:mm",
           "direction": {
            "type": "counterclockwise"
           },
           "error_y": {
            "type": "data",
            "visible": true
           },
           "globalSeriesType": "column",
           "isAggregationOn": true,
           "legend": {
            "traceorder": "normal"
           },
           "missingValuesAsZero": true,
           "numberFormat": "0,0.[00000]",
           "percentFormat": "0[.]00%",
           "series": {
            "error_y": {
             "type": "data",
             "visible": true
            },
            "stacking": "stack"
           },
           "seriesOptions": {
            "01": {
             "color": "#3BD973"
            },
            "02": {
             "color": "#3BD973"
            },
            "04": {
             "color": "#3BD973"
            },
            "05": {
             "color": "#3BD973"
            },
            "06": {
             "color": "#3BD973"
            },
            "07": {
             "color": "#3BD973"
            },
            "08": {
             "color": "#3BD973"
            },
            "09": {
             "color": "#3BD973"
            },
            "10": {
             "color": "#3BD973"
            },
            "11": {
             "color": "#3BD973"
            },
            "12": {
             "color": "#3BD973"
            },
            "column_aaa6e47c231": {
             "name": "crime_counts",
             "yAxis": 0
            }
           },
           "showDataLabels": false,
           "sizemode": "diameter",
           "sortX": true,
           "sortY": true,
           "swappedAxes": false,
           "textFormat": "",
           "useAggregationsUi": true,
           "valuesOptions": {},
           "version": 2,
           "xAxis": {
            "labels": {
             "enabled": true
            },
            "type": "-"
           },
           "yAxis": [
            {
             "type": "-"
            },
            {
             "opposite": true,
             "type": "-"
            }
           ]
          }
         }
        ]
       },
       "datasetPreviewNameToCmdIdMap": {},
       "diffDeletes": [],
       "diffInserts": [],
       "displayType": "redashChart",
       "error": null,
       "errorDetails": null,
       "errorSummary": null,
       "errorTraceType": null,
       "finishTime": 0,
       "globalVars": {},
       "guid": "",
       "height": "auto",
       "hideCommandCode": false,
       "hideCommandResult": false,
       "iPythonMetadata": null,
       "inputWidgets": {},
       "isLockedInExamMode": false,
       "latestUser": "a user",
       "latestUserId": null,
       "listResultMetadata": null,
       "metadata": {},
       "nuid": "c1b7ac6f-af72-4fdf-88de-c096f9fc4776",
       "origId": 0,
       "parentHierarchy": [],
       "pivotAggregation": null,
       "pivotColumns": null,
       "position": 20.0,
       "resultDbfsErrorMessage": null,
       "resultDbfsStatus": "INLINED_IN_TREE",
       "results": null,
       "showCommandTitle": false,
       "startTime": 0,
       "state": "input",
       "streamStates": {},
       "subcommandOptions": {
        "queryPlan": {
         "groups": [
          {
           "column": "Month",
           "type": "column"
          },
          {
           "column": "Month",
           "type": "column"
          }
         ],
         "selects": [
          {
           "column": "Month",
           "type": "column"
          },
          {
           "column": "Month",
           "type": "column"
          },
          {
           "alias": "column_aaa6e47c231",
           "args": [
            {
             "column": "crime_counts",
             "type": "column"
            }
           ],
           "function": "SUM",
           "type": "function"
          }
         ]
        }
       },
       "submitTime": 0,
       "subtype": "tableResultSubCmd.visualization",
       "tableResultIndex": 0,
       "tableResultSettingsMap": {},
       "useConsistentColors": false,
       "version": "CommandV1",
       "width": "auto",
       "workflows": [],
       "xColumns": null,
       "yColumns": null
      }
     },
     "output_type": "display_data"
    }
   ],
   "source": [
    "%sql\n",
    "\n",
    "select SUBSTRING(Date,1,2) as Month, SUBSTRING(Date,7,4) as Year, count(*) as crime_counts\n",
    "from sf_crime\n",
    "group by month, year\n",
    "having Year in ('2015', '2016', '2017', '2018') \n",
    "order by crime_counts desc\n",
    "\n"
   ]
  },
  {
   "cell_type": "markdown",
   "metadata": {
    "application/vnd.databricks.v1+cell": {
     "cellMetadata": {},
     "inputWidgets": {},
     "nuid": "7a722a16-cad3-4998-949a-fa5a9045805f",
     "showTitle": false,
     "tableResultSettingsMap": {},
     "title": ""
    }
   },
   "source": [
    "**Analysis**:\n",
    "In March 2015 and May 2015, the there are more than 13000 crime counts. Overal, 2015 has the top 3 crime counts. Oppositely, data in 2018 has lowest crime counts on May, Feb., April and March. "
   ]
  },
  {
   "cell_type": "markdown",
   "metadata": {
    "application/vnd.databricks.v1+cell": {
     "cellMetadata": {},
     "inputWidgets": {},
     "nuid": "1e9334fe-b85a-454b-b261-245c0d512d5f",
     "showTitle": false,
     "tableResultSettingsMap": {},
     "title": ""
    }
   },
   "source": [
    "**Q5 question**\n",
    "Analyze the number of crime with respsect to the hour in certian day like 2015/12/15, 2016/12/15, 2017/12/15. Then, give your travel suggestion to visit SF."
   ]
  },
  {
   "cell_type": "code",
   "execution_count": 0,
   "metadata": {
    "application/vnd.databricks.v1+cell": {
     "cellMetadata": {
      "byteLimit": 2048000,
      "implicitDf": true,
      "rowLimit": 10000
     },
     "inputWidgets": {},
     "nuid": "e71ff60f-d0c6-48c3-990a-2d1eab4b7b48",
     "showTitle": false,
     "tableResultSettingsMap": {},
     "title": ""
    }
   },
   "outputs": [
    {
     "output_type": "display_data",
     "data": {
      "text/html": [
       "<style scoped>\n",
       "  .table-result-container {\n",
       "    max-height: 300px;\n",
       "    overflow: auto;\n",
       "  }\n",
       "  table, th, td {\n",
       "    border: 1px solid black;\n",
       "    border-collapse: collapse;\n",
       "  }\n",
       "  th, td {\n",
       "    padding: 5px;\n",
       "  }\n",
       "  th {\n",
       "    text-align: left;\n",
       "  }\n",
       "</style><div class='table-result-container'><table class='table-result'><thead style='background-color: white'><tr><th>hour</th><th>crime_counts</th></tr></thead><tbody><tr><td>07</td><td>62</td></tr><tr><td>15</td><td>167</td></tr><tr><td>11</td><td>138</td></tr><tr><td>01</td><td>133</td></tr><tr><td>22</td><td>175</td></tr><tr><td>16</td><td>159</td></tr><tr><td>18</td><td>169</td></tr><tr><td>00</td><td>208</td></tr><tr><td>17</td><td>146</td></tr><tr><td>09</td><td>82</td></tr><tr><td>05</td><td>49</td></tr><tr><td>19</td><td>164</td></tr><tr><td>23</td><td>196</td></tr><tr><td>08</td><td>110</td></tr><tr><td>03</td><td>78</td></tr><tr><td>02</td><td>106</td></tr><tr><td>06</td><td>54</td></tr><tr><td>20</td><td>150</td></tr><tr><td>10</td><td>135</td></tr><tr><td>12</td><td>220</td></tr><tr><td>04</td><td>59</td></tr><tr><td>13</td><td>137</td></tr><tr><td>14</td><td>131</td></tr><tr><td>21</td><td>174</td></tr></tbody></table></div>"
      ]
     },
     "metadata": {
      "application/vnd.databricks.v1+output": {
       "addedWidgets": {},
       "aggData": [],
       "aggError": "",
       "aggOverflow": false,
       "aggSchema": [],
       "aggSeriesLimitReached": false,
       "aggType": "",
       "arguments": {},
       "columnCustomDisplayInfos": {},
       "data": [
        [
         "07",
         62
        ],
        [
         "15",
         167
        ],
        [
         "11",
         138
        ],
        [
         "01",
         133
        ],
        [
         "22",
         175
        ],
        [
         "16",
         159
        ],
        [
         "18",
         169
        ],
        [
         "00",
         208
        ],
        [
         "17",
         146
        ],
        [
         "09",
         82
        ],
        [
         "05",
         49
        ],
        [
         "19",
         164
        ],
        [
         "23",
         196
        ],
        [
         "08",
         110
        ],
        [
         "03",
         78
        ],
        [
         "02",
         106
        ],
        [
         "06",
         54
        ],
        [
         "20",
         150
        ],
        [
         "10",
         135
        ],
        [
         "12",
         220
        ],
        [
         "04",
         59
        ],
        [
         "13",
         137
        ],
        [
         "14",
         131
        ],
        [
         "21",
         174
        ]
       ],
       "datasetInfos": [],
       "dbfsResultPath": null,
       "isJsonSchema": true,
       "metadata": {},
       "overflow": false,
       "plotOptions": {
        "customPlotOptions": {},
        "displayType": "table",
        "pivotAggregation": null,
        "pivotColumns": null,
        "xColumns": null,
        "yColumns": null
       },
       "removedWidgets": [],
       "schema": [
        {
         "metadata": "{}",
         "name": "hour",
         "type": "\"string\""
        },
        {
         "metadata": "{}",
         "name": "crime_counts",
         "type": "\"long\""
        }
       ],
       "type": "table"
      }
     },
     "output_type": "display_data"
    },
    {
     "output_type": "display_data",
     "data": {
      "text/plain": [
       "Databricks visualization. Run in Databricks to view."
      ]
     },
     "metadata": {
      "application/vnd.databricks.v1.subcommand+json": {
       "baseErrorDetails": null,
       "bindings": {},
       "collapsed": false,
       "command": "%sql WITH q AS (select substring(time,1,2) as hour, count(*) as crime_counts\nfrom sf_crime\nwhere Date like '12/25/%' \ngroup by hour) SELECT `hour`,SUM(`crime_counts`) `column_aaa6e47c243` FROM q GROUP BY `hour`",
       "commandTitle": "Visualization 1",
       "commandType": "auto",
       "commandVersion": 0,
       "commentThread": [],
       "commentsVisible": false,
       "contentSha256Hex": null,
       "customPlotOptions": {
        "redashChart": [
         {
          "key": "type",
          "value": "CHART"
         },
         {
          "key": "options",
          "value": {
           "alignYAxesAtZero": true,
           "coefficient": 1,
           "columnConfigurationMap": {
            "x": {
             "column": "hour",
             "id": "column_aaa6e47c242"
            },
            "y": [
             {
              "column": "crime_counts",
              "id": "column_aaa6e47c243",
              "transform": "SUM"
             }
            ]
           },
           "dateTimeFormat": "DD/MM/YYYY HH:mm",
           "direction": {
            "type": "counterclockwise"
           },
           "error_y": {
            "type": "data",
            "visible": true
           },
           "globalSeriesType": "column",
           "isAggregationOn": true,
           "legend": {
            "traceorder": "normal"
           },
           "missingValuesAsZero": true,
           "numberFormat": "0,0.[00000]",
           "percentFormat": "0[.]00%",
           "series": {
            "error_y": {
             "type": "data",
             "visible": true
            },
            "stacking": null
           },
           "seriesOptions": {
            "column_aaa6e47c243": {
             "name": "crime_counts",
             "yAxis": 0
            }
           },
           "showDataLabels": false,
           "sizemode": "diameter",
           "sortX": true,
           "sortY": true,
           "swappedAxes": false,
           "textFormat": "",
           "useAggregationsUi": true,
           "valuesOptions": {},
           "version": 2,
           "xAxis": {
            "labels": {
             "enabled": true
            },
            "type": "-"
           },
           "yAxis": [
            {
             "type": "-"
            },
            {
             "opposite": true,
             "type": "-"
            }
           ]
          }
         }
        ]
       },
       "datasetPreviewNameToCmdIdMap": {},
       "diffDeletes": [],
       "diffInserts": [],
       "displayType": "redashChart",
       "error": null,
       "errorDetails": null,
       "errorSummary": null,
       "errorTraceType": null,
       "finishTime": 0,
       "globalVars": {},
       "guid": "",
       "height": "auto",
       "hideCommandCode": false,
       "hideCommandResult": false,
       "iPythonMetadata": null,
       "inputWidgets": {},
       "isLockedInExamMode": false,
       "latestUser": "a user",
       "latestUserId": null,
       "listResultMetadata": null,
       "metadata": {},
       "nuid": "cbe30782-95d9-41ff-a0f9-c68603f7e490",
       "origId": 0,
       "parentHierarchy": [],
       "pivotAggregation": null,
       "pivotColumns": null,
       "position": 23.0,
       "resultDbfsErrorMessage": null,
       "resultDbfsStatus": "INLINED_IN_TREE",
       "results": null,
       "showCommandTitle": false,
       "startTime": 0,
       "state": "input",
       "streamStates": {},
       "subcommandOptions": {
        "queryPlan": {
         "groups": [
          {
           "column": "hour",
           "type": "column"
          }
         ],
         "selects": [
          {
           "column": "hour",
           "type": "column"
          },
          {
           "alias": "column_aaa6e47c243",
           "args": [
            {
             "column": "crime_counts",
             "type": "column"
            }
           ],
           "function": "SUM",
           "type": "function"
          }
         ]
        }
       },
       "submitTime": 0,
       "subtype": "tableResultSubCmd.visualization",
       "tableResultIndex": 0,
       "tableResultSettingsMap": {},
       "useConsistentColors": false,
       "version": "CommandV1",
       "width": "auto",
       "workflows": [],
       "xColumns": null,
       "yColumns": null
      }
     },
     "output_type": "display_data"
    }
   ],
   "source": [
    "%sql\n",
    "\n",
    "select substring(time,1,2) as hour, count(*) as crime_counts\n",
    "from sf_crime\n",
    "where Date like '12/25/%' \n",
    "group by hour\n",
    "\n"
   ]
  },
  {
   "cell_type": "code",
   "execution_count": 0,
   "metadata": {
    "application/vnd.databricks.v1+cell": {
     "cellMetadata": {
      "byteLimit": 2048000,
      "implicitDf": true,
      "rowLimit": 10000
     },
     "inputWidgets": {},
     "nuid": "3be18a26-5a86-4995-a108-19ea8aea6d8a",
     "showTitle": false,
     "tableResultSettingsMap": {},
     "title": ""
    }
   },
   "outputs": [
    {
     "output_type": "display_data",
     "data": {
      "text/html": [
       "<style scoped>\n",
       "  .table-result-container {\n",
       "    max-height: 300px;\n",
       "    overflow: auto;\n",
       "  }\n",
       "  table, th, td {\n",
       "    border: 1px solid black;\n",
       "    border-collapse: collapse;\n",
       "  }\n",
       "  th, td {\n",
       "    padding: 5px;\n",
       "  }\n",
       "  th {\n",
       "    text-align: left;\n",
       "  }\n",
       "</style><div class='table-result-container'><table class='table-result'><thead style='background-color: white'><tr><th>hour</th><th>crime_counts</th></tr></thead><tbody><tr><td>07</td><td>146</td></tr><tr><td>15</td><td>329</td></tr><tr><td>11</td><td>263</td></tr><tr><td>01</td><td>174</td></tr><tr><td>22</td><td>289</td></tr><tr><td>16</td><td>346</td></tr><tr><td>18</td><td>389</td></tr><tr><td>00</td><td>284</td></tr><tr><td>17</td><td>366</td></tr><tr><td>09</td><td>229</td></tr><tr><td>05</td><td>59</td></tr><tr><td>19</td><td>369</td></tr><tr><td>23</td><td>286</td></tr><tr><td>08</td><td>195</td></tr><tr><td>03</td><td>108</td></tr><tr><td>02</td><td>133</td></tr><tr><td>06</td><td>88</td></tr><tr><td>20</td><td>324</td></tr><tr><td>10</td><td>249</td></tr><tr><td>12</td><td>327</td></tr><tr><td>04</td><td>76</td></tr><tr><td>13</td><td>284</td></tr><tr><td>14</td><td>318</td></tr><tr><td>21</td><td>316</td></tr></tbody></table></div>"
      ]
     },
     "metadata": {
      "application/vnd.databricks.v1+output": {
       "addedWidgets": {},
       "aggData": [],
       "aggError": "",
       "aggOverflow": false,
       "aggSchema": [],
       "aggSeriesLimitReached": false,
       "aggType": "",
       "arguments": {},
       "columnCustomDisplayInfos": {},
       "data": [
        [
         "07",
         146
        ],
        [
         "15",
         329
        ],
        [
         "11",
         263
        ],
        [
         "01",
         174
        ],
        [
         "22",
         289
        ],
        [
         "16",
         346
        ],
        [
         "18",
         389
        ],
        [
         "00",
         284
        ],
        [
         "17",
         366
        ],
        [
         "09",
         229
        ],
        [
         "05",
         59
        ],
        [
         "19",
         369
        ],
        [
         "23",
         286
        ],
        [
         "08",
         195
        ],
        [
         "03",
         108
        ],
        [
         "02",
         133
        ],
        [
         "06",
         88
        ],
        [
         "20",
         324
        ],
        [
         "10",
         249
        ],
        [
         "12",
         327
        ],
        [
         "04",
         76
        ],
        [
         "13",
         284
        ],
        [
         "14",
         318
        ],
        [
         "21",
         316
        ]
       ],
       "datasetInfos": [],
       "dbfsResultPath": null,
       "isJsonSchema": true,
       "metadata": {},
       "overflow": false,
       "plotOptions": {
        "customPlotOptions": {},
        "displayType": "table",
        "pivotAggregation": null,
        "pivotColumns": null,
        "xColumns": null,
        "yColumns": null
       },
       "removedWidgets": [],
       "schema": [
        {
         "metadata": "{}",
         "name": "hour",
         "type": "\"string\""
        },
        {
         "metadata": "{}",
         "name": "crime_counts",
         "type": "\"long\""
        }
       ],
       "type": "table"
      }
     },
     "output_type": "display_data"
    },
    {
     "output_type": "display_data",
     "data": {
      "text/plain": [
       "Databricks visualization. Run in Databricks to view."
      ]
     },
     "metadata": {
      "application/vnd.databricks.v1.subcommand+json": {
       "baseErrorDetails": null,
       "bindings": {},
       "collapsed": false,
       "command": "%sql WITH q AS (select substring(time,1,2) as hour, count(*) as crime_counts\nfrom sf_crime\nwhere Date like '10/25/%' \ngroup by hour) SELECT `hour`,SUM(`crime_counts`) `column_aaa6e47c248` FROM q GROUP BY `hour`",
       "commandTitle": "Visualization 1",
       "commandType": "auto",
       "commandVersion": 0,
       "commentThread": [],
       "commentsVisible": false,
       "contentSha256Hex": null,
       "customPlotOptions": {
        "redashChart": [
         {
          "key": "type",
          "value": "CHART"
         },
         {
          "key": "options",
          "value": {
           "alignYAxesAtZero": true,
           "coefficient": 1,
           "columnConfigurationMap": {
            "x": {
             "column": "hour",
             "id": "column_aaa6e47c247"
            },
            "y": [
             {
              "column": "crime_counts",
              "id": "column_aaa6e47c248",
              "transform": "SUM"
             }
            ]
           },
           "dateTimeFormat": "DD/MM/YYYY HH:mm",
           "direction": {
            "type": "counterclockwise"
           },
           "error_y": {
            "type": "data",
            "visible": true
           },
           "globalSeriesType": "column",
           "isAggregationOn": true,
           "legend": {
            "traceorder": "normal"
           },
           "missingValuesAsZero": true,
           "numberFormat": "0,0.[00000]",
           "percentFormat": "0[.]00%",
           "series": {
            "error_y": {
             "type": "data",
             "visible": true
            },
            "stacking": null
           },
           "seriesOptions": {
            "column_aaa6e47c248": {
             "name": "crime_counts",
             "yAxis": 0
            }
           },
           "showDataLabels": false,
           "sizemode": "diameter",
           "sortX": true,
           "sortY": true,
           "swappedAxes": false,
           "textFormat": "",
           "useAggregationsUi": true,
           "valuesOptions": {},
           "version": 2,
           "xAxis": {
            "labels": {
             "enabled": true
            },
            "type": "-"
           },
           "yAxis": [
            {
             "type": "-"
            },
            {
             "opposite": true,
             "type": "-"
            }
           ]
          }
         }
        ]
       },
       "datasetPreviewNameToCmdIdMap": {},
       "diffDeletes": [],
       "diffInserts": [],
       "displayType": "redashChart",
       "error": null,
       "errorDetails": null,
       "errorSummary": null,
       "errorTraceType": null,
       "finishTime": 0,
       "globalVars": {},
       "guid": "",
       "height": "auto",
       "hideCommandCode": false,
       "hideCommandResult": false,
       "iPythonMetadata": null,
       "inputWidgets": {},
       "isLockedInExamMode": false,
       "latestUser": "a user",
       "latestUserId": null,
       "listResultMetadata": null,
       "metadata": {},
       "nuid": "5fbf2d78-164e-44c6-a498-5a5a1eb88330",
       "origId": 0,
       "parentHierarchy": [],
       "pivotAggregation": null,
       "pivotColumns": null,
       "position": 23.125,
       "resultDbfsErrorMessage": null,
       "resultDbfsStatus": "INLINED_IN_TREE",
       "results": null,
       "showCommandTitle": false,
       "startTime": 0,
       "state": "input",
       "streamStates": {},
       "subcommandOptions": {
        "queryPlan": {
         "groups": [
          {
           "column": "hour",
           "type": "column"
          }
         ],
         "selects": [
          {
           "column": "hour",
           "type": "column"
          },
          {
           "alias": "column_aaa6e47c248",
           "args": [
            {
             "column": "crime_counts",
             "type": "column"
            }
           ],
           "function": "SUM",
           "type": "function"
          }
         ]
        }
       },
       "submitTime": 0,
       "subtype": "tableResultSubCmd.visualization",
       "tableResultIndex": 0,
       "tableResultSettingsMap": {},
       "useConsistentColors": false,
       "version": "CommandV1",
       "width": "auto",
       "workflows": [],
       "xColumns": null,
       "yColumns": null
      }
     },
     "output_type": "display_data"
    }
   ],
   "source": [
    "%sql\n",
    "select substring(time,1,2) as hour, count(*) as crime_counts\n",
    "from sf_crime\n",
    "where Date like '10/25/%' \n",
    "group by hour"
   ]
  },
  {
   "cell_type": "markdown",
   "metadata": {
    "application/vnd.databricks.v1+cell": {
     "cellMetadata": {},
     "inputWidgets": {},
     "nuid": "ff5c52e6-6244-444e-9ad3-874508467a6e",
     "showTitle": false,
     "tableResultSettingsMap": {},
     "title": ""
    }
   },
   "source": [
    "Analysis/Suggestion:\n",
    "\n",
    "According to the visualization, it is not very safe for going out at night, but also at noon at Christmas. I also visualized a random day just to want to see if Chistmas would have higher crime counts comparing with normal day, but the results showing that a normal day might have even higher crime counts. So, in my opinion, it is not really safe no matter its on holiday or its just a regular day. Be careful while travelling. "
   ]
  },
  {
   "cell_type": "markdown",
   "metadata": {
    "application/vnd.databricks.v1+cell": {
     "cellMetadata": {},
     "inputWidgets": {},
     "nuid": "f038729a-d910-4ace-ae5e-8f341fb792bf",
     "showTitle": false,
     "tableResultSettingsMap": {},
     "title": ""
    }
   },
   "source": [
    "**Q6 question**\n",
    "(1) Step1: Find out the top-3 danger disrict\n",
    "(2) Step2: find out the crime event w.r.t category and time (hour) from the result of step 1\n",
    "(3) give your advice to distribute the police based on your analysis results.\n"
   ]
  },
  {
   "cell_type": "markdown",
   "metadata": {
    "application/vnd.databricks.v1+cell": {
     "cellMetadata": {},
     "inputWidgets": {},
     "nuid": "6204d179-7791-44ef-9994-52a21a56cf62",
     "showTitle": false,
     "tableResultSettingsMap": {},
     "title": ""
    }
   },
   "source": [
    "According to step1, the three most dangerous districts are SOUTHERN, MISSION and NORTHERN.\n",
    "We can see from the picture above that among the top three dangerous streets, the crime rate around 5 am is the lowest, and the high incidence of crime rate is around 12pm and 18pm, especially pay attention to theft, so I recommend to increase police patrol during that periods."
   ]
  },
  {
   "cell_type": "code",
   "execution_count": 0,
   "metadata": {
    "application/vnd.databricks.v1+cell": {
     "cellMetadata": {
      "byteLimit": 2048000,
      "implicitDf": true,
      "rowLimit": 10000
     },
     "inputWidgets": {},
     "nuid": "2f56e457-76bf-4bf9-8cfe-0defe99170a2",
     "showTitle": false,
     "tableResultSettingsMap": {},
     "title": ""
    }
   },
   "outputs": [
    {
     "output_type": "display_data",
     "data": {
      "text/html": [
       "<style scoped>\n",
       "  .table-result-container {\n",
       "    max-height: 300px;\n",
       "    overflow: auto;\n",
       "  }\n",
       "  table, th, td {\n",
       "    border: 1px solid black;\n",
       "    border-collapse: collapse;\n",
       "  }\n",
       "  th, td {\n",
       "    padding: 5px;\n",
       "  }\n",
       "  th {\n",
       "    text-align: left;\n",
       "  }\n",
       "</style><div class='table-result-container'><table class='table-result'><thead style='background-color: white'><tr><th>PdDistrict</th><th>crime_counts</th></tr></thead><tbody><tr><td>SOUTHERN</td><td>390692</td></tr><tr><td>MISSION</td><td>288985</td></tr><tr><td>NORTHERN</td><td>266435</td></tr></tbody></table></div>"
      ]
     },
     "metadata": {
      "application/vnd.databricks.v1+output": {
       "addedWidgets": {},
       "aggData": [],
       "aggError": "",
       "aggOverflow": false,
       "aggSchema": [],
       "aggSeriesLimitReached": false,
       "aggType": "",
       "arguments": {},
       "columnCustomDisplayInfos": {},
       "data": [
        [
         "SOUTHERN",
         390692
        ],
        [
         "MISSION",
         288985
        ],
        [
         "NORTHERN",
         266435
        ]
       ],
       "datasetInfos": [],
       "dbfsResultPath": null,
       "isJsonSchema": true,
       "metadata": {},
       "overflow": false,
       "plotOptions": {
        "customPlotOptions": {},
        "displayType": "table",
        "pivotAggregation": null,
        "pivotColumns": null,
        "xColumns": null,
        "yColumns": null
       },
       "removedWidgets": [],
       "schema": [
        {
         "metadata": "{}",
         "name": "PdDistrict",
         "type": "\"string\""
        },
        {
         "metadata": "{}",
         "name": "crime_counts",
         "type": "\"long\""
        }
       ],
       "type": "table"
      }
     },
     "output_type": "display_data"
    },
    {
     "output_type": "display_data",
     "data": {
      "text/plain": [
       "Databricks visualization. Run in Databricks to view."
      ]
     },
     "metadata": {
      "application/vnd.databricks.v1.subcommand+json": {
       "baseErrorDetails": null,
       "bindings": {},
       "collapsed": false,
       "command": "%sql WITH q AS (select PdDistrict, count(*) as crime_counts\nfrom sf_crime\ngroup by PdDistrict\norder by crime_counts desc\nlimit 3) SELECT `PdDistrict`,SUM(`crime_counts`) `column_aaa6e47c251` FROM q GROUP BY `PdDistrict`",
       "commandTitle": "Visualization 1",
       "commandType": "auto",
       "commandVersion": 0,
       "commentThread": [],
       "commentsVisible": false,
       "contentSha256Hex": null,
       "customPlotOptions": {
        "redashChart": [
         {
          "key": "type",
          "value": "CHART"
         },
         {
          "key": "options",
          "value": {
           "alignYAxesAtZero": true,
           "coefficient": 1,
           "columnConfigurationMap": {
            "x": {
             "column": "PdDistrict",
             "id": "column_aaa6e47c250"
            },
            "y": [
             {
              "column": "crime_counts",
              "id": "column_aaa6e47c251",
              "transform": "SUM"
             }
            ]
           },
           "dateTimeFormat": "DD/MM/YYYY HH:mm",
           "direction": {
            "type": "counterclockwise"
           },
           "error_y": {
            "type": "data",
            "visible": true
           },
           "globalSeriesType": "column",
           "isAggregationOn": true,
           "legend": {
            "traceorder": "normal"
           },
           "missingValuesAsZero": true,
           "numberFormat": "0,0.[00000]",
           "percentFormat": "0[.]00%",
           "series": {
            "error_y": {
             "type": "data",
             "visible": true
            },
            "stacking": null
           },
           "seriesOptions": {
            "column_aaa6e47c251": {
             "name": "crime_counts",
             "yAxis": 0
            }
           },
           "showDataLabels": false,
           "sizemode": "diameter",
           "sortX": true,
           "sortY": true,
           "swappedAxes": false,
           "textFormat": "",
           "useAggregationsUi": true,
           "valuesOptions": {},
           "version": 2,
           "xAxis": {
            "labels": {
             "enabled": true
            },
            "type": "-"
           },
           "yAxis": [
            {
             "type": "-"
            },
            {
             "opposite": true,
             "type": "-"
            }
           ]
          }
         }
        ]
       },
       "datasetPreviewNameToCmdIdMap": {},
       "diffDeletes": [],
       "diffInserts": [],
       "displayType": "redashChart",
       "error": null,
       "errorDetails": null,
       "errorSummary": null,
       "errorTraceType": null,
       "finishTime": 0,
       "globalVars": {},
       "guid": "",
       "height": "auto",
       "hideCommandCode": false,
       "hideCommandResult": false,
       "iPythonMetadata": null,
       "inputWidgets": {},
       "isLockedInExamMode": false,
       "latestUser": "a user",
       "latestUserId": null,
       "listResultMetadata": null,
       "metadata": {},
       "nuid": "b7d59d4d-8e8b-4919-9ca7-8b988a4836c5",
       "origId": 0,
       "parentHierarchy": [],
       "pivotAggregation": null,
       "pivotColumns": null,
       "position": 23.75,
       "resultDbfsErrorMessage": null,
       "resultDbfsStatus": "INLINED_IN_TREE",
       "results": null,
       "showCommandTitle": false,
       "startTime": 0,
       "state": "input",
       "streamStates": {},
       "subcommandOptions": {
        "queryPlan": {
         "groups": [
          {
           "column": "PdDistrict",
           "type": "column"
          }
         ],
         "selects": [
          {
           "column": "PdDistrict",
           "type": "column"
          },
          {
           "alias": "column_aaa6e47c251",
           "args": [
            {
             "column": "crime_counts",
             "type": "column"
            }
           ],
           "function": "SUM",
           "type": "function"
          }
         ]
        }
       },
       "submitTime": 0,
       "subtype": "tableResultSubCmd.visualization",
       "tableResultIndex": 0,
       "tableResultSettingsMap": {},
       "useConsistentColors": false,
       "version": "CommandV1",
       "width": "auto",
       "workflows": [],
       "xColumns": null,
       "yColumns": null
      }
     },
     "output_type": "display_data"
    }
   ],
   "source": [
    "%sql\n",
    "\n",
    "select PdDistrict, count(*) as crime_counts\n",
    "from sf_crime\n",
    "group by PdDistrict\n",
    "order by crime_counts desc\n",
    "limit 3"
   ]
  },
  {
   "cell_type": "code",
   "execution_count": 0,
   "metadata": {
    "application/vnd.databricks.v1+cell": {
     "cellMetadata": {
      "byteLimit": 2048000,
      "implicitDf": true,
      "rowLimit": 10000
     },
     "inputWidgets": {},
     "nuid": "1d012c18-d105-4de7-81f2-134ca9497938",
     "showTitle": false,
     "tableResultSettingsMap": {},
     "title": ""
    }
   },
   "outputs": [
    {
     "output_type": "display_data",
     "data": {
      "text/html": [
       "<style scoped>\n",
       "  .table-result-container {\n",
       "    max-height: 300px;\n",
       "    overflow: auto;\n",
       "  }\n",
       "  table, th, td {\n",
       "    border: 1px solid black;\n",
       "    border-collapse: collapse;\n",
       "  }\n",
       "  th, td {\n",
       "    padding: 5px;\n",
       "  }\n",
       "  th {\n",
       "    text-align: left;\n",
       "  }\n",
       "</style><div class='table-result-container'><table class='table-result'><thead style='background-color: white'><tr><th>category</th><th>hour</th><th>crime_counts</th></tr></thead><tbody><tr><td>ARSON</td><td>00</td><td>84</td></tr><tr><td>ARSON</td><td>01</td><td>77</td></tr><tr><td>ARSON</td><td>02</td><td>84</td></tr><tr><td>ARSON</td><td>03</td><td>95</td></tr><tr><td>ARSON</td><td>04</td><td>74</td></tr><tr><td>ARSON</td><td>05</td><td>60</td></tr><tr><td>ARSON</td><td>06</td><td>50</td></tr><tr><td>ARSON</td><td>07</td><td>28</td></tr><tr><td>ARSON</td><td>08</td><td>34</td></tr><tr><td>ARSON</td><td>09</td><td>28</td></tr><tr><td>ARSON</td><td>10</td><td>44</td></tr><tr><td>ARSON</td><td>11</td><td>29</td></tr><tr><td>ARSON</td><td>12</td><td>37</td></tr><tr><td>ARSON</td><td>13</td><td>35</td></tr><tr><td>ARSON</td><td>14</td><td>36</td></tr><tr><td>ARSON</td><td>15</td><td>49</td></tr><tr><td>ARSON</td><td>16</td><td>31</td></tr><tr><td>ARSON</td><td>17</td><td>48</td></tr><tr><td>ARSON</td><td>18</td><td>53</td></tr><tr><td>ARSON</td><td>19</td><td>59</td></tr><tr><td>ARSON</td><td>20</td><td>69</td></tr><tr><td>ARSON</td><td>21</td><td>55</td></tr><tr><td>ARSON</td><td>22</td><td>61</td></tr><tr><td>ARSON</td><td>23</td><td>72</td></tr><tr><td>ASSAULT</td><td>00</td><td>4120</td></tr><tr><td>ASSAULT</td><td>01</td><td>3940</td></tr><tr><td>ASSAULT</td><td>02</td><td>3510</td></tr><tr><td>ASSAULT</td><td>03</td><td>1622</td></tr><tr><td>ASSAULT</td><td>04</td><td>1017</td></tr><tr><td>ASSAULT</td><td>05</td><td>772</td></tr><tr><td>ASSAULT</td><td>06</td><td>1089</td></tr><tr><td>ASSAULT</td><td>07</td><td>1581</td></tr><tr><td>ASSAULT</td><td>08</td><td>2325</td></tr><tr><td>ASSAULT</td><td>09</td><td>2629</td></tr><tr><td>ASSAULT</td><td>10</td><td>2860</td></tr><tr><td>ASSAULT</td><td>11</td><td>3076</td></tr><tr><td>ASSAULT</td><td>12</td><td>3735</td></tr><tr><td>ASSAULT</td><td>13</td><td>3407</td></tr><tr><td>ASSAULT</td><td>14</td><td>3529</td></tr><tr><td>ASSAULT</td><td>15</td><td>3862</td></tr><tr><td>ASSAULT</td><td>16</td><td>3876</td></tr><tr><td>ASSAULT</td><td>17</td><td>3826</td></tr><tr><td>ASSAULT</td><td>18</td><td>3726</td></tr><tr><td>ASSAULT</td><td>19</td><td>3591</td></tr><tr><td>ASSAULT</td><td>20</td><td>3498</td></tr><tr><td>ASSAULT</td><td>21</td><td>3609</td></tr><tr><td>ASSAULT</td><td>22</td><td>3623</td></tr><tr><td>ASSAULT</td><td>23</td><td>3480</td></tr><tr><td>BAD CHECKS</td><td>00</td><td>79</td></tr><tr><td>BAD CHECKS</td><td>01</td><td>3</td></tr><tr><td>BAD CHECKS</td><td>02</td><td>2</td></tr><tr><td>BAD CHECKS</td><td>04</td><td>2</td></tr><tr><td>BAD CHECKS</td><td>05</td><td>1</td></tr><tr><td>BAD CHECKS</td><td>06</td><td>2</td></tr><tr><td>BAD CHECKS</td><td>07</td><td>3</td></tr><tr><td>BAD CHECKS</td><td>08</td><td>24</td></tr><tr><td>BAD CHECKS</td><td>09</td><td>26</td></tr><tr><td>BAD CHECKS</td><td>10</td><td>24</td></tr><tr><td>BAD CHECKS</td><td>11</td><td>15</td></tr><tr><td>BAD CHECKS</td><td>12</td><td>76</td></tr><tr><td>BAD CHECKS</td><td>13</td><td>15</td></tr><tr><td>BAD CHECKS</td><td>14</td><td>21</td></tr><tr><td>BAD CHECKS</td><td>15</td><td>31</td></tr><tr><td>BAD CHECKS</td><td>16</td><td>19</td></tr><tr><td>BAD CHECKS</td><td>17</td><td>25</td></tr><tr><td>BAD CHECKS</td><td>18</td><td>10</td></tr><tr><td>BAD CHECKS</td><td>19</td><td>11</td></tr><tr><td>BAD CHECKS</td><td>20</td><td>8</td></tr><tr><td>BAD CHECKS</td><td>21</td><td>4</td></tr><tr><td>BAD CHECKS</td><td>22</td><td>2</td></tr><tr><td>BAD CHECKS</td><td>23</td><td>3</td></tr><tr><td>BRIBERY</td><td>00</td><td>20</td></tr><tr><td>BRIBERY</td><td>01</td><td>11</td></tr><tr><td>BRIBERY</td><td>02</td><td>12</td></tr><tr><td>BRIBERY</td><td>03</td><td>6</td></tr><tr><td>BRIBERY</td><td>04</td><td>5</td></tr><tr><td>BRIBERY</td><td>05</td><td>2</td></tr><tr><td>BRIBERY</td><td>06</td><td>2</td></tr><tr><td>BRIBERY</td><td>07</td><td>4</td></tr><tr><td>BRIBERY</td><td>08</td><td>6</td></tr><tr><td>BRIBERY</td><td>09</td><td>11</td></tr><tr><td>BRIBERY</td><td>10</td><td>18</td></tr><tr><td>BRIBERY</td><td>11</td><td>17</td></tr><tr><td>BRIBERY</td><td>12</td><td>17</td></tr><tr><td>BRIBERY</td><td>13</td><td>11</td></tr><tr><td>BRIBERY</td><td>14</td><td>14</td></tr><tr><td>BRIBERY</td><td>15</td><td>10</td></tr><tr><td>BRIBERY</td><td>16</td><td>14</td></tr><tr><td>BRIBERY</td><td>17</td><td>25</td></tr><tr><td>BRIBERY</td><td>18</td><td>13</td></tr><tr><td>BRIBERY</td><td>19</td><td>17</td></tr><tr><td>BRIBERY</td><td>20</td><td>16</td></tr><tr><td>BRIBERY</td><td>21</td><td>20</td></tr><tr><td>BRIBERY</td><td>22</td><td>20</td></tr><tr><td>BRIBERY</td><td>23</td><td>15</td></tr><tr><td>BURGLARY</td><td>00</td><td>1585</td></tr><tr><td>BURGLARY</td><td>01</td><td>1064</td></tr><tr><td>BURGLARY</td><td>02</td><td>1152</td></tr><tr><td>BURGLARY</td><td>03</td><td>1229</td></tr><tr><td>BURGLARY</td><td>04</td><td>1032</td></tr><tr><td>BURGLARY</td><td>05</td><td>948</td></tr><tr><td>BURGLARY</td><td>06</td><td>858</td></tr><tr><td>BURGLARY</td><td>07</td><td>998</td></tr><tr><td>BURGLARY</td><td>08</td><td>1669</td></tr><tr><td>BURGLARY</td><td>09</td><td>1379</td></tr><tr><td>BURGLARY</td><td>10</td><td>1220</td></tr><tr><td>BURGLARY</td><td>11</td><td>1193</td></tr><tr><td>BURGLARY</td><td>12</td><td>1775</td></tr><tr><td>BURGLARY</td><td>13</td><td>1157</td></tr><tr><td>BURGLARY</td><td>14</td><td>1391</td></tr><tr><td>BURGLARY</td><td>15</td><td>1635</td></tr><tr><td>BURGLARY</td><td>16</td><td>1893</td></tr><tr><td>BURGLARY</td><td>17</td><td>2613</td></tr><tr><td>BURGLARY</td><td>18</td><td>2654</td></tr><tr><td>BURGLARY</td><td>19</td><td>2102</td></tr><tr><td>BURGLARY</td><td>20</td><td>1843</td></tr><tr><td>BURGLARY</td><td>21</td><td>1680</td></tr><tr><td>BURGLARY</td><td>22</td><td>1727</td></tr><tr><td>BURGLARY</td><td>23</td><td>1567</td></tr><tr><td>DISORDERLY CONDUCT</td><td>00</td><td>301</td></tr><tr><td>DISORDERLY CONDUCT</td><td>01</td><td>225</td></tr><tr><td>DISORDERLY CONDUCT</td><td>02</td><td>212</td></tr><tr><td>DISORDERLY CONDUCT</td><td>03</td><td>140</td></tr><tr><td>DISORDERLY CONDUCT</td><td>04</td><td>100</td></tr><tr><td>DISORDERLY CONDUCT</td><td>05</td><td>163</td></tr><tr><td>DISORDERLY CONDUCT</td><td>06</td><td>396</td></tr><tr><td>DISORDERLY CONDUCT</td><td>07</td><td>451</td></tr><tr><td>DISORDERLY CONDUCT</td><td>08</td><td>362</td></tr><tr><td>DISORDERLY CONDUCT</td><td>09</td><td>311</td></tr><tr><td>DISORDERLY CONDUCT</td><td>10</td><td>244</td></tr><tr><td>DISORDERLY CONDUCT</td><td>11</td><td>200</td></tr><tr><td>DISORDERLY CONDUCT</td><td>12</td><td>177</td></tr><tr><td>DISORDERLY CONDUCT</td><td>13</td><td>172</td></tr><tr><td>DISORDERLY CONDUCT</td><td>14</td><td>165</td></tr><tr><td>DISORDERLY CONDUCT</td><td>15</td><td>117</td></tr><tr><td>DISORDERLY CONDUCT</td><td>16</td><td>142</td></tr><tr><td>DISORDERLY CONDUCT</td><td>17</td><td>128</td></tr><tr><td>DISORDERLY CONDUCT</td><td>18</td><td>158</td></tr><tr><td>DISORDERLY CONDUCT</td><td>19</td><td>131</td></tr><tr><td>DISORDERLY CONDUCT</td><td>20</td><td>129</td></tr><tr><td>DISORDERLY CONDUCT</td><td>21</td><td>146</td></tr><tr><td>DISORDERLY CONDUCT</td><td>22</td><td>208</td></tr><tr><td>DISORDERLY CONDUCT</td><td>23</td><td>260</td></tr><tr><td>DRIVING UNDER THE INFLUENCE</td><td>00</td><td>272</td></tr><tr><td>DRIVING UNDER THE INFLUENCE</td><td>01</td><td>274</td></tr><tr><td>DRIVING UNDER THE INFLUENCE</td><td>02</td><td>263</td></tr><tr><td>DRIVING UNDER THE INFLUENCE</td><td>03</td><td>117</td></tr><tr><td>DRIVING UNDER THE INFLUENCE</td><td>04</td><td>40</td></tr><tr><td>DRIVING UNDER THE INFLUENCE</td><td>05</td><td>27</td></tr><tr><td>DRIVING UNDER THE INFLUENCE</td><td>06</td><td>27</td></tr><tr><td>DRIVING UNDER THE INFLUENCE</td><td>07</td><td>19</td></tr><tr><td>DRIVING UNDER THE INFLUENCE</td><td>08</td><td>18</td></tr><tr><td>DRIVING UNDER THE INFLUENCE</td><td>09</td><td>25</td></tr><tr><td>DRIVING UNDER THE INFLUENCE</td><td>10</td><td>11</td></tr><tr><td>DRIVING UNDER THE INFLUENCE</td><td>11</td><td>23</td></tr><tr><td>DRIVING UNDER THE INFLUENCE</td><td>12</td><td>33</td></tr><tr><td>DRIVING UNDER THE INFLUENCE</td><td>13</td><td>20</td></tr><tr><td>DRIVING UNDER THE INFLUENCE</td><td>14</td><td>27</td></tr><tr><td>DRIVING UNDER THE INFLUENCE</td><td>15</td><td>48</td></tr><tr><td>DRIVING UNDER THE INFLUENCE</td><td>16</td><td>62</td></tr><tr><td>DRIVING UNDER THE INFLUENCE</td><td>17</td><td>66</td></tr><tr><td>DRIVING UNDER THE INFLUENCE</td><td>18</td><td>81</td></tr><tr><td>DRIVING UNDER THE INFLUENCE</td><td>19</td><td>92</td></tr><tr><td>DRIVING UNDER THE INFLUENCE</td><td>20</td><td>119</td></tr><tr><td>DRIVING UNDER THE INFLUENCE</td><td>21</td><td>167</td></tr><tr><td>DRIVING UNDER THE INFLUENCE</td><td>22</td><td>194</td></tr><tr><td>DRIVING UNDER THE INFLUENCE</td><td>23</td><td>239</td></tr><tr><td>DRUG/NARCOTIC</td><td>00</td><td>1756</td></tr><tr><td>DRUG/NARCOTIC</td><td>01</td><td>1156</td></tr><tr><td>DRUG/NARCOTIC</td><td>02</td><td>947</td></tr><tr><td>DRUG/NARCOTIC</td><td>03</td><td>607</td></tr><tr><td>DRUG/NARCOTIC</td><td>04</td><td>444</td></tr><tr><td>DRUG/NARCOTIC</td><td>05</td><td>216</td></tr><tr><td>DRUG/NARCOTIC</td><td>06</td><td>678</td></tr><tr><td>DRUG/NARCOTIC</td><td>07</td><td>1439</td></tr><tr><td>DRUG/NARCOTIC</td><td>08</td><td>1845</td></tr><tr><td>DRUG/NARCOTIC</td><td>09</td><td>2178</td></tr><tr><td>DRUG/NARCOTIC</td><td>10</td><td>2403</td></tr><tr><td>DRUG/NARCOTIC</td><td>11</td><td>2578</td></tr><tr><td>DRUG/NARCOTIC</td><td>12</td><td>2582</td></tr><tr><td>DRUG/NARCOTIC</td><td>13</td><td>3131</td></tr><tr><td>DRUG/NARCOTIC</td><td>14</td><td>3435</td></tr><tr><td>DRUG/NARCOTIC</td><td>15</td><td>3177</td></tr><tr><td>DRUG/NARCOTIC</td><td>16</td><td>3275</td></tr><tr><td>DRUG/NARCOTIC</td><td>17</td><td>3588</td></tr><tr><td>DRUG/NARCOTIC</td><td>18</td><td>3269</td></tr><tr><td>DRUG/NARCOTIC</td><td>19</td><td>2921</td></tr><tr><td>DRUG/NARCOTIC</td><td>20</td><td>2157</td></tr><tr><td>DRUG/NARCOTIC</td><td>21</td><td>1937</td></tr><tr><td>DRUG/NARCOTIC</td><td>22</td><td>2380</td></tr><tr><td>DRUG/NARCOTIC</td><td>23</td><td>2178</td></tr><tr><td>DRUNKENNESS</td><td>00</td><td>400</td></tr><tr><td>DRUNKENNESS</td><td>01</td><td>369</td></tr><tr><td>DRUNKENNESS</td><td>02</td><td>294</td></tr><tr><td>DRUNKENNESS</td><td>03</td><td>128</td></tr><tr><td>DRUNKENNESS</td><td>04</td><td>55</td></tr><tr><td>DRUNKENNESS</td><td>05</td><td>20</td></tr><tr><td>DRUNKENNESS</td><td>06</td><td>31</td></tr><tr><td>DRUNKENNESS</td><td>07</td><td>79</td></tr><tr><td>DRUNKENNESS</td><td>08</td><td>78</td></tr><tr><td>DRUNKENNESS</td><td>09</td><td>98</td></tr><tr><td>DRUNKENNESS</td><td>10</td><td>100</td></tr><tr><td>DRUNKENNESS</td><td>11</td><td>145</td></tr><tr><td>DRUNKENNESS</td><td>12</td><td>119</td></tr><tr><td>DRUNKENNESS</td><td>13</td><td>146</td></tr><tr><td>DRUNKENNESS</td><td>14</td><td>129</td></tr><tr><td>DRUNKENNESS</td><td>15</td><td>160</td></tr><tr><td>DRUNKENNESS</td><td>16</td><td>216</td></tr><tr><td>DRUNKENNESS</td><td>17</td><td>255</td></tr><tr><td>DRUNKENNESS</td><td>18</td><td>280</td></tr><tr><td>DRUNKENNESS</td><td>19</td><td>285</td></tr><tr><td>DRUNKENNESS</td><td>20</td><td>301</td></tr><tr><td>DRUNKENNESS</td><td>21</td><td>313</td></tr><tr><td>DRUNKENNESS</td><td>22</td><td>378</td></tr><tr><td>DRUNKENNESS</td><td>23</td><td>374</td></tr><tr><td>EMBEZZLEMENT</td><td>00</td><td>280</td></tr><tr><td>EMBEZZLEMENT</td><td>01</td><td>4</td></tr><tr><td>EMBEZZLEMENT</td><td>02</td><td>4</td></tr><tr><td>EMBEZZLEMENT</td><td>03</td><td>6</td></tr><tr><td>EMBEZZLEMENT</td><td>04</td><td>4</td></tr><tr><td>EMBEZZLEMENT</td><td>05</td><td>4</td></tr><tr><td>EMBEZZLEMENT</td><td>06</td><td>6</td></tr><tr><td>EMBEZZLEMENT</td><td>07</td><td>17</td></tr><tr><td>EMBEZZLEMENT</td><td>08</td><td>89</td></tr><tr><td>EMBEZZLEMENT</td><td>09</td><td>91</td></tr><tr><td>EMBEZZLEMENT</td><td>10</td><td>76</td></tr><tr><td>EMBEZZLEMENT</td><td>11</td><td>57</td></tr><tr><td>EMBEZZLEMENT</td><td>12</td><td>233</td></tr><tr><td>EMBEZZLEMENT</td><td>13</td><td>48</td></tr><tr><td>EMBEZZLEMENT</td><td>14</td><td>45</td></tr><tr><td>EMBEZZLEMENT</td><td>15</td><td>54</td></tr><tr><td>EMBEZZLEMENT</td><td>16</td><td>52</td></tr><tr><td>EMBEZZLEMENT</td><td>17</td><td>64</td></tr><tr><td>EMBEZZLEMENT</td><td>18</td><td>50</td></tr><tr><td>EMBEZZLEMENT</td><td>19</td><td>26</td></tr><tr><td>EMBEZZLEMENT</td><td>20</td><td>29</td></tr><tr><td>EMBEZZLEMENT</td><td>21</td><td>22</td></tr><tr><td>EMBEZZLEMENT</td><td>22</td><td>15</td></tr><tr><td>EMBEZZLEMENT</td><td>23</td><td>24</td></tr><tr><td>EXTORTION</td><td>00</td><td>29</td></tr><tr><td>EXTORTION</td><td>01</td><td>4</td></tr><tr><td>EXTORTION</td><td>02</td><td>3</td></tr><tr><td>EXTORTION</td><td>03</td><td>2</td></tr><tr><td>EXTORTION</td><td>04</td><td>2</td></tr><tr><td>EXTORTION</td><td>05</td><td>4</td></tr><tr><td>EXTORTION</td><td>06</td><td>3</td></tr><tr><td>EXTORTION</td><td>07</td><td>7</td></tr><tr><td>EXTORTION</td><td>08</td><td>9</td></tr><tr><td>EXTORTION</td><td>09</td><td>7</td></tr><tr><td>EXTORTION</td><td>10</td><td>17</td></tr><tr><td>EXTORTION</td><td>11</td><td>11</td></tr><tr><td>EXTORTION</td><td>12</td><td>30</td></tr><tr><td>EXTORTION</td><td>13</td><td>13</td></tr><tr><td>EXTORTION</td><td>14</td><td>9</td></tr><tr><td>EXTORTION</td><td>15</td><td>9</td></tr><tr><td>EXTORTION</td><td>16</td><td>13</td></tr><tr><td>EXTORTION</td><td>17</td><td>13</td></tr><tr><td>EXTORTION</td><td>18</td><td>10</td></tr><tr><td>EXTORTION</td><td>19</td><td>7</td></tr><tr><td>EXTORTION</td><td>20</td><td>6</td></tr><tr><td>EXTORTION</td><td>21</td><td>8</td></tr><tr><td>EXTORTION</td><td>22</td><td>2</td></tr><tr><td>EXTORTION</td><td>23</td><td>8</td></tr><tr><td>FORGERY/COUNTERFEITING</td><td>00</td><td>1644</td></tr><tr><td>FORGERY/COUNTERFEITING</td><td>01</td><td>92</td></tr><tr><td>FORGERY/COUNTERFEITING</td><td>02</td><td>64</td></tr><tr><td>FORGERY/COUNTERFEITING</td><td>03</td><td>61</td></tr><tr><td>FORGERY/COUNTERFEITING</td><td>04</td><td>35</td></tr><tr><td>FORGERY/COUNTERFEITING</td><td>05</td><td>25</td></tr><tr><td>FORGERY/COUNTERFEITING</td><td>06</td><td>69</td></tr><tr><td>FORGERY/COUNTERFEITING</td><td>07</td><td>141</td></tr><tr><td>FORGERY/COUNTERFEITING</td><td>08</td><td>494</td></tr><tr><td>FORGERY/COUNTERFEITING</td><td>09</td><td>618</td></tr><tr><td>FORGERY/COUNTERFEITING</td><td>10</td><td>559</td></tr><tr><td>FORGERY/COUNTERFEITING</td><td>11</td><td>514</td></tr><tr><td>FORGERY/COUNTERFEITING</td><td>12</td><td>1356</td></tr><tr><td>FORGERY/COUNTERFEITING</td><td>13</td><td>694</td></tr><tr><td>FORGERY/COUNTERFEITING</td><td>14</td><td>626</td></tr><tr><td>FORGERY/COUNTERFEITING</td><td>15</td><td>690</td></tr><tr><td>FORGERY/COUNTERFEITING</td><td>16</td><td>708</td></tr><tr><td>FORGERY/COUNTERFEITING</td><td>17</td><td>663</td></tr><tr><td>FORGERY/COUNTERFEITING</td><td>18</td><td>450</td></tr><tr><td>FORGERY/COUNTERFEITING</td><td>19</td><td>297</td></tr><tr><td>FORGERY/COUNTERFEITING</td><td>20</td><td>318</td></tr><tr><td>FORGERY/COUNTERFEITING</td><td>21</td><td>234</td></tr><tr><td>FORGERY/COUNTERFEITING</td><td>22</td><td>185</td></tr><tr><td>FORGERY/COUNTERFEITING</td><td>23</td><td>149</td></tr><tr><td>FRAUD</td><td>00</td><td>2489</td></tr><tr><td>FRAUD</td><td>01</td><td>414</td></tr><tr><td>FRAUD</td><td>02</td><td>283</td></tr><tr><td>FRAUD</td><td>03</td><td>160</td></tr><tr><td>FRAUD</td><td>04</td><td>103</td></tr><tr><td>FRAUD</td><td>05</td><td>85</td></tr><tr><td>FRAUD</td><td>06</td><td>178</td></tr><tr><td>FRAUD</td><td>07</td><td>330</td></tr><tr><td>FRAUD</td><td>08</td><td>829</td></tr><tr><td>FRAUD</td><td>09</td><td>864</td></tr><tr><td>FRAUD</td><td>10</td><td>863</td></tr><tr><td>FRAUD</td><td>11</td><td>727</td></tr><tr><td>FRAUD</td><td>12</td><td>2016</td></tr><tr><td>FRAUD</td><td>13</td><td>1028</td></tr><tr><td>FRAUD</td><td>14</td><td>948</td></tr><tr><td>FRAUD</td><td>15</td><td>1082</td></tr><tr><td>FRAUD</td><td>16</td><td>995</td></tr><tr><td>FRAUD</td><td>17</td><td>1049</td></tr><tr><td>FRAUD</td><td>18</td><td>958</td></tr><tr><td>FRAUD</td><td>19</td><td>741</td></tr><tr><td>FRAUD</td><td>20</td><td>630</td></tr><tr><td>FRAUD</td><td>21</td><td>504</td></tr><tr><td>FRAUD</td><td>22</td><td>578</td></tr><tr><td>FRAUD</td><td>23</td><td>660</td></tr><tr><td>GAMBLING</td><td>00</td><td>13</td></tr><tr><td>GAMBLING</td><td>01</td><td>1</td></tr><tr><td>GAMBLING</td><td>03</td><td>1</td></tr><tr><td>GAMBLING</td><td>05</td><td>1</td></tr><tr><td>GAMBLING</td><td>07</td><td>3</td></tr><tr><td>GAMBLING</td><td>08</td><td>5</td></tr><tr><td>GAMBLING</td><td>09</td><td>4</td></tr><tr><td>GAMBLING</td><td>10</td><td>5</td></tr><tr><td>GAMBLING</td><td>11</td><td>9</td></tr><tr><td>GAMBLING</td><td>12</td><td>15</td></tr><tr><td>GAMBLING</td><td>13</td><td>6</td></tr><tr><td>GAMBLING</td><td>14</td><td>9</td></tr><tr><td>GAMBLING</td><td>15</td><td>9</td></tr><tr><td>GAMBLING</td><td>16</td><td>2</td></tr><tr><td>GAMBLING</td><td>17</td><td>4</td></tr><tr><td>GAMBLING</td><td>18</td><td>3</td></tr><tr><td>GAMBLING</td><td>19</td><td>5</td></tr><tr><td>GAMBLING</td><td>20</td><td>2</td></tr><tr><td>GAMBLING</td><td>21</td><td>3</td></tr><tr><td>GAMBLING</td><td>22</td><td>3</td></tr><tr><td>GAMBLING</td><td>23</td><td>2</td></tr><tr><td>KIDNAPPING</td><td>00</td><td>116</td></tr><tr><td>KIDNAPPING</td><td>01</td><td>111</td></tr><tr><td>KIDNAPPING</td><td>02</td><td>106</td></tr><tr><td>KIDNAPPING</td><td>03</td><td>68</td></tr><tr><td>KIDNAPPING</td><td>04</td><td>37</td></tr><tr><td>KIDNAPPING</td><td>05</td><td>34</td></tr><tr><td>KIDNAPPING</td><td>06</td><td>31</td></tr><tr><td>KIDNAPPING</td><td>07</td><td>39</td></tr><tr><td>KIDNAPPING</td><td>08</td><td>40</td></tr><tr><td>KIDNAPPING</td><td>09</td><td>37</td></tr><tr><td>KIDNAPPING</td><td>10</td><td>42</td></tr><tr><td>KIDNAPPING</td><td>11</td><td>47</td></tr><tr><td>KIDNAPPING</td><td>12</td><td>65</td></tr><tr><td>KIDNAPPING</td><td>13</td><td>75</td></tr><tr><td>KIDNAPPING</td><td>14</td><td>66</td></tr><tr><td>KIDNAPPING</td><td>15</td><td>63</td></tr><tr><td>KIDNAPPING</td><td>16</td><td>74</td></tr><tr><td>KIDNAPPING</td><td>17</td><td>78</td></tr><tr><td>KIDNAPPING</td><td>18</td><td>84</td></tr><tr><td>KIDNAPPING</td><td>19</td><td>71</td></tr><tr><td>KIDNAPPING</td><td>20</td><td>75</td></tr><tr><td>KIDNAPPING</td><td>21</td><td>91</td></tr><tr><td>KIDNAPPING</td><td>22</td><td>84</td></tr><tr><td>KIDNAPPING</td><td>23</td><td>124</td></tr><tr><td>LARCENY/THEFT</td><td>00</td><td>10082</td></tr><tr><td>LARCENY/THEFT</td><td>01</td><td>6644</td></tr><tr><td>LARCENY/THEFT</td><td>02</td><td>4065</td></tr><tr><td>LARCENY/THEFT</td><td>03</td><td>2419</td></tr><tr><td>LARCENY/THEFT</td><td>04</td><td>1542</td></tr><tr><td>LARCENY/THEFT</td><td>05</td><td>1490</td></tr><tr><td>LARCENY/THEFT</td><td>06</td><td>2478</td></tr><tr><td>LARCENY/THEFT</td><td>07</td><td>3780</td></tr><tr><td>LARCENY/THEFT</td><td>08</td><td>6278</td></tr><tr><td>LARCENY/THEFT</td><td>09</td><td>7661</td></tr><tr><td>LARCENY/THEFT</td><td>10</td><td>9439</td></tr><tr><td>LARCENY/THEFT</td><td>11</td><td>10297</td></tr><tr><td>LARCENY/THEFT</td><td>12</td><td>13030</td></tr><tr><td>LARCENY/THEFT</td><td>13</td><td>11760</td></tr><tr><td>LARCENY/THEFT</td><td>14</td><td>12268</td></tr><tr><td>LARCENY/THEFT</td><td>15</td><td>12861</td></tr><tr><td>LARCENY/THEFT</td><td>16</td><td>13644</td></tr><tr><td>LARCENY/THEFT</td><td>17</td><td>15903</td></tr><tr><td>LARCENY/THEFT</td><td>18</td><td>19911</td></tr><tr><td>LARCENY/THEFT</td><td>19</td><td>19444</td></tr><tr><td>LARCENY/THEFT</td><td>20</td><td>16604</td></tr><tr><td>LARCENY/THEFT</td><td>21</td><td>13833</td></tr><tr><td>LARCENY/THEFT</td><td>22</td><td>13797</td></tr><tr><td>LARCENY/THEFT</td><td>23</td><td>13152</td></tr><tr><td>LIQUOR LAWS</td><td>00</td><td>63</td></tr><tr><td>LIQUOR LAWS</td><td>01</td><td>28</td></tr><tr><td>LIQUOR LAWS</td><td>02</td><td>23</td></tr><tr><td>LIQUOR LAWS</td><td>03</td><td>12</td></tr><tr><td>LIQUOR LAWS</td><td>04</td><td>7</td></tr><tr><td>LIQUOR LAWS</td><td>05</td><td>1</td></tr><tr><td>LIQUOR LAWS</td><td>06</td><td>17</td></tr><tr><td>LIQUOR LAWS</td><td>07</td><td>46</td></tr><tr><td>LIQUOR LAWS</td><td>08</td><td>59</td></tr><tr><td>LIQUOR LAWS</td><td>09</td><td>68</td></tr><tr><td>LIQUOR LAWS</td><td>10</td><td>76</td></tr><tr><td>LIQUOR LAWS</td><td>11</td><td>67</td></tr><tr><td>LIQUOR LAWS</td><td>12</td><td>104</td></tr><tr><td>LIQUOR LAWS</td><td>13</td><td>95</td></tr><tr><td>LIQUOR LAWS</td><td>14</td><td>69</td></tr><tr><td>LIQUOR LAWS</td><td>15</td><td>76</td></tr><tr><td>LIQUOR LAWS</td><td>16</td><td>96</td></tr><tr><td>LIQUOR LAWS</td><td>17</td><td>158</td></tr><tr><td>LIQUOR LAWS</td><td>18</td><td>129</td></tr><tr><td>LIQUOR LAWS</td><td>19</td><td>114</td></tr><tr><td>LIQUOR LAWS</td><td>20</td><td>59</td></tr><tr><td>LIQUOR LAWS</td><td>21</td><td>90</td></tr><tr><td>LIQUOR LAWS</td><td>22</td><td>71</td></tr><tr><td>LIQUOR LAWS</td><td>23</td><td>56</td></tr><tr><td>LOITERING</td><td>00</td><td>48</td></tr><tr><td>LOITERING</td><td>01</td><td>38</td></tr><tr><td>LOITERING</td><td>02</td><td>24</td></tr><tr><td>LOITERING</td><td>03</td><td>27</td></tr><tr><td>LOITERING</td><td>04</td><td>14</td></tr><tr><td>LOITERING</td><td>05</td><td>28</td></tr><tr><td>LOITERING</td><td>06</td><td>49</td></tr><tr><td>LOITERING</td><td>07</td><td>71</td></tr><tr><td>LOITERING</td><td>08</td><td>85</td></tr><tr><td>LOITERING</td><td>09</td><td>63</td></tr><tr><td>LOITERING</td><td>10</td><td>86</td></tr><tr><td>LOITERING</td><td>11</td><td>87</td></tr><tr><td>LOITERING</td><td>12</td><td>78</td></tr><tr><td>LOITERING</td><td>13</td><td>89</td></tr><tr><td>LOITERING</td><td>14</td><td>92</td></tr><tr><td>LOITERING</td><td>15</td><td>58</td></tr><tr><td>LOITERING</td><td>16</td><td>106</td></tr><tr><td>LOITERING</td><td>17</td><td>134</td></tr><tr><td>LOITERING</td><td>18</td><td>121</td></tr><tr><td>LOITERING</td><td>19</td><td>77</td></tr><tr><td>LOITERING</td><td>20</td><td>58</td></tr><tr><td>LOITERING</td><td>21</td><td>69</td></tr><tr><td>LOITERING</td><td>22</td><td>45</td></tr><tr><td>LOITERING</td><td>23</td><td>51</td></tr><tr><td>MISSING PERSON</td><td>00</td><td>784</td></tr><tr><td>MISSING PERSON</td><td>01</td><td>355</td></tr><tr><td>MISSING PERSON</td><td>02</td><td>271</td></tr><tr><td>MISSING PERSON</td><td>03</td><td>162</td></tr><tr><td>MISSING PERSON</td><td>04</td><td>107</td></tr><tr><td>MISSING PERSON</td><td>05</td><td>149</td></tr><tr><td>MISSING PERSON</td><td>06</td><td>239</td></tr><tr><td>MISSING PERSON</td><td>07</td><td>533</td></tr><tr><td>MISSING PERSON</td><td>08</td><td>879</td></tr><tr><td>MISSING PERSON</td><td>09</td><td>934</td></tr><tr><td>MISSING PERSON</td><td>10</td><td>951</td></tr><tr><td>MISSING PERSON</td><td>11</td><td>928</td></tr><tr><td>MISSING PERSON</td><td>12</td><td>1347</td></tr><tr><td>MISSING PERSON</td><td>13</td><td>872</td></tr><tr><td>MISSING PERSON</td><td>14</td><td>926</td></tr><tr><td>MISSING PERSON</td><td>15</td><td>1057</td></tr><tr><td>MISSING PERSON</td><td>16</td><td>930</td></tr><tr><td>MISSING PERSON</td><td>17</td><td>822</td></tr><tr><td>MISSING PERSON</td><td>18</td><td>772</td></tr><tr><td>MISSING PERSON</td><td>19</td><td>658</td></tr><tr><td>MISSING PERSON</td><td>20</td><td>628</td></tr><tr><td>MISSING PERSON</td><td>21</td><td>638</td></tr><tr><td>MISSING PERSON</td><td>22</td><td>607</td></tr><tr><td>MISSING PERSON</td><td>23</td><td>519</td></tr><tr><td>NON-CRIMINAL</td><td>00</td><td>5203</td></tr><tr><td>NON-CRIMINAL</td><td>01</td><td>2948</td></tr><tr><td>NON-CRIMINAL</td><td>02</td><td>2335</td></tr><tr><td>NON-CRIMINAL</td><td>03</td><td>1443</td></tr><tr><td>NON-CRIMINAL</td><td>04</td><td>1065</td></tr><tr><td>NON-CRIMINAL</td><td>05</td><td>1018</td></tr><tr><td>NON-CRIMINAL</td><td>06</td><td>1939</td></tr><tr><td>NON-CRIMINAL</td><td>07</td><td>2916</td></tr><tr><td>NON-CRIMINAL</td><td>08</td><td>4562</td></tr><tr><td>NON-CRIMINAL</td><td>09</td><td>5126</td></tr><tr><td>NON-CRIMINAL</td><td>10</td><td>5791</td></tr><tr><td>NON-CRIMINAL</td><td>11</td><td>5654</td></tr><tr><td>NON-CRIMINAL</td><td>12</td><td>7792</td></tr><tr><td>NON-CRIMINAL</td><td>13</td><td>6155</td></tr><tr><td>NON-CRIMINAL</td><td>14</td><td>6010</td></tr><tr><td>NON-CRIMINAL</td><td>15</td><td>6232</td></tr><tr><td>NON-CRIMINAL</td><td>16</td><td>6336</td></tr><tr><td>NON-CRIMINAL</td><td>17</td><td>5887</td></tr><tr><td>NON-CRIMINAL</td><td>18</td><td>5723</td></tr><tr><td>NON-CRIMINAL</td><td>19</td><td>5049</td></tr><tr><td>NON-CRIMINAL</td><td>20</td><td>4677</td></tr><tr><td>NON-CRIMINAL</td><td>21</td><td>4665</td></tr><tr><td>NON-CRIMINAL</td><td>22</td><td>4637</td></tr><tr><td>NON-CRIMINAL</td><td>23</td><td>4522</td></tr><tr><td>OTHER OFFENSES</td><td>00</td><td>7632</td></tr><tr><td>OTHER OFFENSES</td><td>01</td><td>3902</td></tr><tr><td>OTHER OFFENSES</td><td>02</td><td>3279</td></tr><tr><td>OTHER OFFENSES</td><td>03</td><td>2329</td></tr><tr><td>OTHER OFFENSES</td><td>04</td><td>1744</td></tr><tr><td>OTHER OFFENSES</td><td>05</td><td>1214</td></tr><tr><td>OTHER OFFENSES</td><td>06</td><td>1743</td></tr><tr><td>OTHER OFFENSES</td><td>07</td><td>3523</td></tr><tr><td>OTHER OFFENSES</td><td>08</td><td>5396</td></tr><tr><td>OTHER OFFENSES</td><td>09</td><td>6153</td></tr><tr><td>OTHER OFFENSES</td><td>10</td><td>5921</td></tr><tr><td>OTHER OFFENSES</td><td>11</td><td>5774</td></tr><tr><td>OTHER OFFENSES</td><td>12</td><td>7952</td></tr><tr><td>OTHER OFFENSES</td><td>13</td><td>6275</td></tr><tr><td>OTHER OFFENSES</td><td>14</td><td>6196</td></tr><tr><td>OTHER OFFENSES</td><td>15</td><td>6494</td></tr><tr><td>OTHER OFFENSES</td><td>16</td><td>7556</td></tr><tr><td>OTHER OFFENSES</td><td>17</td><td>7738</td></tr><tr><td>OTHER OFFENSES</td><td>18</td><td>6993</td></tr><tr><td>OTHER OFFENSES</td><td>19</td><td>6047</td></tr><tr><td>OTHER OFFENSES</td><td>20</td><td>5165</td></tr><tr><td>OTHER OFFENSES</td><td>21</td><td>5379</td></tr><tr><td>OTHER OFFENSES</td><td>22</td><td>6424</td></tr><tr><td>OTHER OFFENSES</td><td>23</td><td>6341</td></tr><tr><td>PORNOGRAPHY/OBSCENE MAT</td><td>00</td><td>1</td></tr><tr><td>PORNOGRAPHY/OBSCENE MAT</td><td>03</td><td>1</td></tr><tr><td>PORNOGRAPHY/OBSCENE MAT</td><td>06</td><td>1</td></tr><tr><td>PORNOGRAPHY/OBSCENE MAT</td><td>08</td><td>1</td></tr><tr><td>PORNOGRAPHY/OBSCENE MAT</td><td>09</td><td>3</td></tr><tr><td>PORNOGRAPHY/OBSCENE MAT</td><td>11</td><td>2</td></tr><tr><td>PORNOGRAPHY/OBSCENE MAT</td><td>12</td><td>2</td></tr><tr><td>PORNOGRAPHY/OBSCENE MAT</td><td>14</td><td>1</td></tr><tr><td>PORNOGRAPHY/OBSCENE MAT</td><td>16</td><td>2</td></tr><tr><td>PORNOGRAPHY/OBSCENE MAT</td><td>18</td><td>1</td></tr><tr><td>PORNOGRAPHY/OBSCENE MAT</td><td>20</td><td>1</td></tr><tr><td>PORNOGRAPHY/OBSCENE MAT</td><td>21</td><td>1</td></tr><tr><td>PORNOGRAPHY/OBSCENE MAT</td><td>22</td><td>2</td></tr><tr><td>PROSTITUTION</td><td>00</td><td>1107</td></tr><tr><td>PROSTITUTION</td><td>01</td><td>819</td></tr><tr><td>PROSTITUTION</td><td>02</td><td>630</td></tr><tr><td>PROSTITUTION</td><td>03</td><td>422</td></tr><tr><td>PROSTITUTION</td><td>04</td><td>328</td></tr><tr><td>PROSTITUTION</td><td>05</td><td>429</td></tr><tr><td>PROSTITUTION</td><td>06</td><td>414</td></tr><tr><td>PROSTITUTION</td><td>07</td><td>210</td></tr><tr><td>PROSTITUTION</td><td>08</td><td>117</td></tr><tr><td>PROSTITUTION</td><td>09</td><td>132</td></tr><tr><td>PROSTITUTION</td><td>10</td><td>143</td></tr><tr><td>PROSTITUTION</td><td>11</td><td>147</td></tr><tr><td>PROSTITUTION</td><td>12</td><td>309</td></tr><tr><td>PROSTITUTION</td><td>13</td><td>221</td></tr><tr><td>PROSTITUTION</td><td>14</td><td>195</td></tr><tr><td>PROSTITUTION</td><td>15</td><td>136</td></tr><tr><td>PROSTITUTION</td><td>16</td><td>173</td></tr><tr><td>PROSTITUTION</td><td>17</td><td>367</td></tr><tr><td>PROSTITUTION</td><td>18</td><td>726</td></tr><tr><td>PROSTITUTION</td><td>19</td><td>918</td></tr><tr><td>PROSTITUTION</td><td>20</td><td>802</td></tr><tr><td>PROSTITUTION</td><td>21</td><td>892</td></tr><tr><td>PROSTITUTION</td><td>22</td><td>1109</td></tr><tr><td>PROSTITUTION</td><td>23</td><td>1196</td></tr><tr><td>RECOVERED VEHICLE</td><td>00</td><td>138</td></tr><tr><td>RECOVERED VEHICLE</td><td>01</td><td>103</td></tr><tr><td>RECOVERED VEHICLE</td><td>02</td><td>77</td></tr><tr><td>RECOVERED VEHICLE</td><td>03</td><td>84</td></tr><tr><td>RECOVERED VEHICLE</td><td>04</td><td>59</td></tr><tr><td>RECOVERED VEHICLE</td><td>05</td><td>43</td></tr><tr><td>RECOVERED VEHICLE</td><td>06</td><td>35</td></tr><tr><td>RECOVERED VEHICLE</td><td>07</td><td>138</td></tr><tr><td>RECOVERED VEHICLE</td><td>08</td><td>131</td></tr><tr><td>RECOVERED VEHICLE</td><td>09</td><td>155</td></tr><tr><td>RECOVERED VEHICLE</td><td>10</td><td>151</td></tr><tr><td>RECOVERED VEHICLE</td><td>11</td><td>160</td></tr><tr><td>RECOVERED VEHICLE</td><td>12</td><td>157</td></tr><tr><td>RECOVERED VEHICLE</td><td>13</td><td>126</td></tr><tr><td>RECOVERED VEHICLE</td><td>14</td><td>94</td></tr><tr><td>RECOVERED VEHICLE</td><td>15</td><td>113</td></tr><tr><td>RECOVERED VEHICLE</td><td>16</td><td>189</td></tr><tr><td>RECOVERED VEHICLE</td><td>17</td><td>124</td></tr><tr><td>RECOVERED VEHICLE</td><td>18</td><td>95</td></tr><tr><td>RECOVERED VEHICLE</td><td>19</td><td>95</td></tr><tr><td>RECOVERED VEHICLE</td><td>20</td><td>93</td></tr><tr><td>RECOVERED VEHICLE</td><td>21</td><td>88</td></tr><tr><td>RECOVERED VEHICLE</td><td>22</td><td>88</td></tr><tr><td>RECOVERED VEHICLE</td><td>23</td><td>119</td></tr><tr><td>ROBBERY</td><td>00</td><td>1400</td></tr><tr><td>ROBBERY</td><td>01</td><td>1534</td></tr><tr><td>ROBBERY</td><td>02</td><td>1749</td></tr><tr><td>ROBBERY</td><td>03</td><td>988</td></tr><tr><td>ROBBERY</td><td>04</td><td>643</td></tr><tr><td>ROBBERY</td><td>05</td><td>486</td></tr><tr><td>ROBBERY</td><td>06</td><td>456</td></tr><tr><td>ROBBERY</td><td>07</td><td>370</td></tr><tr><td>ROBBERY</td><td>08</td><td>478</td></tr><tr><td>ROBBERY</td><td>09</td><td>524</td></tr><tr><td>ROBBERY</td><td>10</td><td>609</td></tr><tr><td>ROBBERY</td><td>11</td><td>680</td></tr><tr><td>ROBBERY</td><td>12</td><td>802</td></tr><tr><td>ROBBERY</td><td>13</td><td>863</td></tr><tr><td>ROBBERY</td><td>14</td><td>919</td></tr><tr><td>ROBBERY</td><td>15</td><td>1024</td></tr><tr><td>ROBBERY</td><td>16</td><td>1112</td></tr><tr><td>ROBBERY</td><td>17</td><td>1123</td></tr><tr><td>ROBBERY</td><td>18</td><td>1195</td></tr><tr><td>ROBBERY</td><td>19</td><td>1218</td></tr><tr><td>ROBBERY</td><td>20</td><td>1437</td></tr><tr><td>ROBBERY</td><td>21</td><td>1629</td></tr><tr><td>ROBBERY</td><td>22</td><td>1662</td></tr><tr><td>ROBBERY</td><td>23</td><td>1576</td></tr><tr><td>SECONDARY CODES</td><td>00</td><td>519</td></tr><tr><td>SECONDARY CODES</td><td>01</td><td>318</td></tr><tr><td>SECONDARY CODES</td><td>02</td><td>293</td></tr><tr><td>SECONDARY CODES</td><td>03</td><td>197</td></tr><tr><td>SECONDARY CODES</td><td>04</td><td>127</td></tr><tr><td>SECONDARY CODES</td><td>05</td><td>109</td></tr><tr><td>SECONDARY CODES</td><td>06</td><td>115</td></tr><tr><td>SECONDARY CODES</td><td>07</td><td>179</td></tr><tr><td>SECONDARY CODES</td><td>08</td><td>284</td></tr><tr><td>SECONDARY CODES</td><td>09</td><td>298</td></tr><tr><td>SECONDARY CODES</td><td>10</td><td>291</td></tr><tr><td>SECONDARY CODES</td><td>11</td><td>338</td></tr><tr><td>SECONDARY CODES</td><td>12</td><td>456</td></tr><tr><td>SECONDARY CODES</td><td>13</td><td>354</td></tr><tr><td>SECONDARY CODES</td><td>14</td><td>355</td></tr><tr><td>SECONDARY CODES</td><td>15</td><td>415</td></tr><tr><td>SECONDARY CODES</td><td>16</td><td>427</td></tr><tr><td>SECONDARY CODES</td><td>17</td><td>411</td></tr><tr><td>SECONDARY CODES</td><td>18</td><td>447</td></tr><tr><td>SECONDARY CODES</td><td>19</td><td>428</td></tr><tr><td>SECONDARY CODES</td><td>20</td><td>440</td></tr><tr><td>SECONDARY CODES</td><td>21</td><td>467</td></tr><tr><td>SECONDARY CODES</td><td>22</td><td>454</td></tr><tr><td>SECONDARY CODES</td><td>23</td><td>423</td></tr><tr><td>SEX OFFENSES, FORCIBLE</td><td>00</td><td>450</td></tr><tr><td>SEX OFFENSES, FORCIBLE</td><td>01</td><td>252</td></tr><tr><td>SEX OFFENSES, FORCIBLE</td><td>02</td><td>261</td></tr><tr><td>SEX OFFENSES, FORCIBLE</td><td>03</td><td>188</td></tr><tr><td>SEX OFFENSES, FORCIBLE</td><td>04</td><td>101</td></tr><tr><td>SEX OFFENSES, FORCIBLE</td><td>05</td><td>62</td></tr><tr><td>SEX OFFENSES, FORCIBLE</td><td>06</td><td>69</td></tr><tr><td>SEX OFFENSES, FORCIBLE</td><td>07</td><td>76</td></tr><tr><td>SEX OFFENSES, FORCIBLE</td><td>08</td><td>198</td></tr><tr><td>SEX OFFENSES, FORCIBLE</td><td>09</td><td>157</td></tr><tr><td>SEX OFFENSES, FORCIBLE</td><td>10</td><td>112</td></tr><tr><td>SEX OFFENSES, FORCIBLE</td><td>11</td><td>107</td></tr><tr><td>SEX OFFENSES, FORCIBLE</td><td>12</td><td>183</td></tr><tr><td>SEX OFFENSES, FORCIBLE</td><td>13</td><td>124</td></tr><tr><td>SEX OFFENSES, FORCIBLE</td><td>14</td><td>150</td></tr><tr><td>SEX OFFENSES, FORCIBLE</td><td>15</td><td>168</td></tr><tr><td>SEX OFFENSES, FORCIBLE</td><td>16</td><td>166</td></tr><tr><td>SEX OFFENSES, FORCIBLE</td><td>17</td><td>168</td></tr><tr><td>SEX OFFENSES, FORCIBLE</td><td>18</td><td>138</td></tr><tr><td>SEX OFFENSES, FORCIBLE</td><td>19</td><td>178</td></tr><tr><td>SEX OFFENSES, FORCIBLE</td><td>20</td><td>216</td></tr><tr><td>SEX OFFENSES, FORCIBLE</td><td>21</td><td>230</td></tr><tr><td>SEX OFFENSES, FORCIBLE</td><td>22</td><td>209</td></tr><tr><td>SEX OFFENSES, FORCIBLE</td><td>23</td><td>269</td></tr><tr><td>SEX OFFENSES, NON FORCIBLE</td><td>00</td><td>4</td></tr><tr><td>SEX OFFENSES, NON FORCIBLE</td><td>06</td><td>1</td></tr><tr><td>SEX OFFENSES, NON FORCIBLE</td><td>08</td><td>1</td></tr><tr><td>SEX OFFENSES, NON FORCIBLE</td><td>09</td><td>2</td></tr><tr><td>SEX OFFENSES, NON FORCIBLE</td><td>12</td><td>2</td></tr><tr><td>SEX OFFENSES, NON FORCIBLE</td><td>13</td><td>1</td></tr><tr><td>SEX OFFENSES, NON FORCIBLE</td><td>17</td><td>1</td></tr><tr><td>SEX OFFENSES, NON FORCIBLE</td><td>18</td><td>1</td></tr><tr><td>SEX OFFENSES, NON FORCIBLE</td><td>19</td><td>1</td></tr><tr><td>SEX OFFENSES, NON FORCIBLE</td><td>20</td><td>1</td></tr><tr><td>SEX OFFENSES, NON FORCIBLE</td><td>23</td><td>1</td></tr><tr><td>STOLEN PROPERTY</td><td>00</td><td>297</td></tr><tr><td>STOLEN PROPERTY</td><td>01</td><td>219</td></tr><tr><td>STOLEN PROPERTY</td><td>02</td><td>165</td></tr><tr><td>STOLEN PROPERTY</td><td>03</td><td>143</td></tr><tr><td>STOLEN PROPERTY</td><td>04</td><td>115</td></tr><tr><td>STOLEN PROPERTY</td><td>05</td><td>94</td></tr><tr><td>STOLEN PROPERTY</td><td>06</td><td>96</td></tr><tr><td>STOLEN PROPERTY</td><td>07</td><td>146</td></tr><tr><td>STOLEN PROPERTY</td><td>08</td><td>180</td></tr><tr><td>STOLEN PROPERTY</td><td>09</td><td>197</td></tr><tr><td>STOLEN PROPERTY</td><td>10</td><td>213</td></tr><tr><td>STOLEN PROPERTY</td><td>11</td><td>254</td></tr><tr><td>STOLEN PROPERTY</td><td>12</td><td>346</td></tr><tr><td>STOLEN PROPERTY</td><td>13</td><td>303</td></tr><tr><td>STOLEN PROPERTY</td><td>14</td><td>322</td></tr><tr><td>STOLEN PROPERTY</td><td>15</td><td>357</td></tr><tr><td>STOLEN PROPERTY</td><td>16</td><td>364</td></tr><tr><td>STOLEN PROPERTY</td><td>17</td><td>374</td></tr><tr><td>STOLEN PROPERTY</td><td>18</td><td>321</td></tr><tr><td>STOLEN PROPERTY</td><td>19</td><td>296</td></tr><tr><td>STOLEN PROPERTY</td><td>20</td><td>288</td></tr><tr><td>STOLEN PROPERTY</td><td>21</td><td>275</td></tr><tr><td>STOLEN PROPERTY</td><td>22</td><td>271</td></tr><tr><td>STOLEN PROPERTY</td><td>23</td><td>267</td></tr><tr><td>SUICIDE</td><td>00</td><td>12</td></tr><tr><td>SUICIDE</td><td>01</td><td>13</td></tr><tr><td>SUICIDE</td><td>02</td><td>13</td></tr><tr><td>SUICIDE</td><td>03</td><td>9</td></tr><tr><td>SUICIDE</td><td>04</td><td>4</td></tr><tr><td>SUICIDE</td><td>05</td><td>9</td></tr><tr><td>SUICIDE</td><td>06</td><td>13</td></tr><tr><td>SUICIDE</td><td>07</td><td>13</td></tr><tr><td>SUICIDE</td><td>08</td><td>24</td></tr><tr><td>SUICIDE</td><td>09</td><td>21</td></tr><tr><td>SUICIDE</td><td>10</td><td>26</td></tr><tr><td>SUICIDE</td><td>11</td><td>36</td></tr><tr><td>SUICIDE</td><td>12</td><td>33</td></tr><tr><td>SUICIDE</td><td>13</td><td>30</td></tr><tr><td>SUICIDE</td><td>14</td><td>40</td></tr><tr><td>SUICIDE</td><td>15</td><td>37</td></tr><tr><td>SUICIDE</td><td>16</td><td>29</td></tr><tr><td>SUICIDE</td><td>17</td><td>35</td></tr><tr><td>SUICIDE</td><td>18</td><td>23</td></tr><tr><td>SUICIDE</td><td>19</td><td>24</td></tr><tr><td>SUICIDE</td><td>20</td><td>25</td></tr><tr><td>SUICIDE</td><td>21</td><td>22</td></tr><tr><td>SUICIDE</td><td>22</td><td>15</td></tr><tr><td>SUICIDE</td><td>23</td><td>13</td></tr><tr><td>SUSPICIOUS OCC</td><td>00</td><td>2148</td></tr><tr><td>SUSPICIOUS OCC</td><td>01</td><td>996</td></tr><tr><td>SUSPICIOUS OCC</td><td>02</td><td>871</td></tr><tr><td>SUSPICIOUS OCC</td><td>03</td><td>626</td></tr><tr><td>SUSPICIOUS OCC</td><td>04</td><td>413</td></tr><tr><td>SUSPICIOUS OCC</td><td>05</td><td>297</td></tr><tr><td>SUSPICIOUS OCC</td><td>06</td><td>532</td></tr><tr><td>SUSPICIOUS OCC</td><td>07</td><td>794</td></tr><tr><td>SUSPICIOUS OCC</td><td>08</td><td>1325</td></tr><tr><td>SUSPICIOUS OCC</td><td>09</td><td>1462</td></tr><tr><td>SUSPICIOUS OCC</td><td>10</td><td>1527</td></tr><tr><td>SUSPICIOUS OCC</td><td>11</td><td>1545</td></tr><tr><td>SUSPICIOUS OCC</td><td>12</td><td>2175</td></tr><tr><td>SUSPICIOUS OCC</td><td>13</td><td>1628</td></tr><tr><td>SUSPICIOUS OCC</td><td>14</td><td>1635</td></tr><tr><td>SUSPICIOUS OCC</td><td>15</td><td>1737</td></tr><tr><td>SUSPICIOUS OCC</td><td>16</td><td>1690</td></tr><tr><td>SUSPICIOUS OCC</td><td>17</td><td>1607</td></tr><tr><td>SUSPICIOUS OCC</td><td>18</td><td>1628</td></tr><tr><td>SUSPICIOUS OCC</td><td>19</td><td>1480</td></tr><tr><td>SUSPICIOUS OCC</td><td>20</td><td>1322</td></tr><tr><td>SUSPICIOUS OCC</td><td>21</td><td>1368</td></tr><tr><td>SUSPICIOUS OCC</td><td>22</td><td>1318</td></tr><tr><td>SUSPICIOUS OCC</td><td>23</td><td>1202</td></tr><tr><td>TREA</td><td>05</td><td>1</td></tr><tr><td>TREA</td><td>06</td><td>1</td></tr><tr><td>TREA</td><td>12</td><td>1</td></tr><tr><td>TREA</td><td>20</td><td>1</td></tr><tr><td>TRESPASS</td><td>00</td><td>260</td></tr><tr><td>TRESPASS</td><td>01</td><td>180</td></tr><tr><td>TRESPASS</td><td>02</td><td>241</td></tr><tr><td>TRESPASS</td><td>03</td><td>174</td></tr><tr><td>TRESPASS</td><td>04</td><td>138</td></tr><tr><td>TRESPASS</td><td>05</td><td>213</td></tr><tr><td>TRESPASS</td><td>06</td><td>450</td></tr><tr><td>TRESPASS</td><td>07</td><td>623</td></tr><tr><td>TRESPASS</td><td>08</td><td>582</td></tr><tr><td>TRESPASS</td><td>09</td><td>519</td></tr><tr><td>TRESPASS</td><td>10</td><td>497</td></tr><tr><td>TRESPASS</td><td>11</td><td>446</td></tr><tr><td>TRESPASS</td><td>12</td><td>463</td></tr><tr><td>TRESPASS</td><td>13</td><td>402</td></tr><tr><td>TRESPASS</td><td>14</td><td>359</td></tr><tr><td>TRESPASS</td><td>15</td><td>441</td></tr><tr><td>TRESPASS</td><td>16</td><td>434</td></tr><tr><td>TRESPASS</td><td>17</td><td>431</td></tr><tr><td>TRESPASS</td><td>18</td><td>436</td></tr><tr><td>TRESPASS</td><td>19</td><td>406</td></tr><tr><td>TRESPASS</td><td>20</td><td>382</td></tr><tr><td>TRESPASS</td><td>21</td><td>384</td></tr><tr><td>TRESPASS</td><td>22</td><td>299</td></tr><tr><td>TRESPASS</td><td>23</td><td>246</td></tr><tr><td>VANDALISM</td><td>00</td><td>2654</td></tr><tr><td>VANDALISM</td><td>01</td><td>1916</td></tr><tr><td>VANDALISM</td><td>02</td><td>1780</td></tr><tr><td>VANDALISM</td><td>03</td><td>1223</td></tr><tr><td>VANDALISM</td><td>04</td><td>798</td></tr><tr><td>VANDALISM</td><td>05</td><td>697</td></tr><tr><td>VANDALISM</td><td>06</td><td>782</td></tr><tr><td>VANDALISM</td><td>07</td><td>932</td></tr><tr><td>VANDALISM</td><td>08</td><td>1347</td></tr><tr><td>VANDALISM</td><td>09</td><td>1375</td></tr><tr><td>VANDALISM</td><td>10</td><td>1385</td></tr><tr><td>VANDALISM</td><td>11</td><td>1290</td></tr><tr><td>VANDALISM</td><td>12</td><td>1683</td></tr><tr><td>VANDALISM</td><td>13</td><td>1343</td></tr><tr><td>VANDALISM</td><td>14</td><td>1534</td></tr><tr><td>VANDALISM</td><td>15</td><td>1833</td></tr><tr><td>VANDALISM</td><td>16</td><td>1988</td></tr><tr><td>VANDALISM</td><td>17</td><td>2696</td></tr><tr><td>VANDALISM</td><td>18</td><td>3200</td></tr><tr><td>VANDALISM</td><td>19</td><td>3053</td></tr><tr><td>VANDALISM</td><td>20</td><td>2956</td></tr><tr><td>VANDALISM</td><td>21</td><td>3149</td></tr><tr><td>VANDALISM</td><td>22</td><td>3124</td></tr><tr><td>VANDALISM</td><td>23</td><td>2853</td></tr><tr><td>VEHICLE THEFT</td><td>00</td><td>1568</td></tr><tr><td>VEHICLE THEFT</td><td>01</td><td>1129</td></tr><tr><td>VEHICLE THEFT</td><td>02</td><td>889</td></tr><tr><td>VEHICLE THEFT</td><td>03</td><td>552</td></tr><tr><td>VEHICLE THEFT</td><td>04</td><td>440</td></tr><tr><td>VEHICLE THEFT</td><td>05</td><td>392</td></tr><tr><td>VEHICLE THEFT</td><td>06</td><td>635</td></tr><tr><td>VEHICLE THEFT</td><td>07</td><td>1049</td></tr><tr><td>VEHICLE THEFT</td><td>08</td><td>1548</td></tr><tr><td>VEHICLE THEFT</td><td>09</td><td>1580</td></tr><tr><td>VEHICLE THEFT</td><td>10</td><td>1452</td></tr><tr><td>VEHICLE THEFT</td><td>11</td><td>1321</td></tr><tr><td>VEHICLE THEFT</td><td>12</td><td>1938</td></tr><tr><td>VEHICLE THEFT</td><td>13</td><td>1453</td></tr><tr><td>VEHICLE THEFT</td><td>14</td><td>1687</td></tr><tr><td>VEHICLE THEFT</td><td>15</td><td>1917</td></tr><tr><td>VEHICLE THEFT</td><td>16</td><td>2292</td></tr><tr><td>VEHICLE THEFT</td><td>17</td><td>2942</td></tr><tr><td>VEHICLE THEFT</td><td>18</td><td>3485</td></tr><tr><td>VEHICLE THEFT</td><td>19</td><td>3079</td></tr><tr><td>VEHICLE THEFT</td><td>20</td><td>3139</td></tr><tr><td>VEHICLE THEFT</td><td>21</td><td>2997</td></tr><tr><td>VEHICLE THEFT</td><td>22</td><td>3110</td></tr><tr><td>VEHICLE THEFT</td><td>23</td><td>2888</td></tr><tr><td>WARRANTS</td><td>00</td><td>1933</td></tr><tr><td>WARRANTS</td><td>01</td><td>1413</td></tr><tr><td>WARRANTS</td><td>02</td><td>1212</td></tr><tr><td>WARRANTS</td><td>03</td><td>950</td></tr><tr><td>WARRANTS</td><td>04</td><td>674</td></tr><tr><td>WARRANTS</td><td>05</td><td>459</td></tr><tr><td>WARRANTS</td><td>06</td><td>792</td></tr><tr><td>WARRANTS</td><td>07</td><td>1613</td></tr><tr><td>WARRANTS</td><td>08</td><td>2000</td></tr><tr><td>WARRANTS</td><td>09</td><td>2297</td></tr><tr><td>WARRANTS</td><td>10</td><td>2466</td></tr><tr><td>WARRANTS</td><td>11</td><td>2591</td></tr><tr><td>WARRANTS</td><td>12</td><td>2643</td></tr><tr><td>WARRANTS</td><td>13</td><td>2870</td></tr><tr><td>WARRANTS</td><td>14</td><td>2789</td></tr><tr><td>WARRANTS</td><td>15</td><td>2786</td></tr><tr><td>WARRANTS</td><td>16</td><td>3010</td></tr><tr><td>WARRANTS</td><td>17</td><td>3018</td></tr><tr><td>WARRANTS</td><td>18</td><td>2722</td></tr><tr><td>WARRANTS</td><td>19</td><td>2381</td></tr><tr><td>WARRANTS</td><td>20</td><td>1913</td></tr><tr><td>WARRANTS</td><td>21</td><td>1868</td></tr><tr><td>WARRANTS</td><td>22</td><td>2186</td></tr><tr><td>WARRANTS</td><td>23</td><td>2042</td></tr><tr><td>WEAPON LAWS</td><td>00</td><td>466</td></tr><tr><td>WEAPON LAWS</td><td>01</td><td>354</td></tr><tr><td>WEAPON LAWS</td><td>02</td><td>323</td></tr><tr><td>WEAPON LAWS</td><td>03</td><td>199</td></tr><tr><td>WEAPON LAWS</td><td>04</td><td>142</td></tr><tr><td>WEAPON LAWS</td><td>05</td><td>74</td></tr><tr><td>WEAPON LAWS</td><td>06</td><td>98</td></tr><tr><td>WEAPON LAWS</td><td>07</td><td>197</td></tr><tr><td>WEAPON LAWS</td><td>08</td><td>236</td></tr><tr><td>WEAPON LAWS</td><td>09</td><td>247</td></tr><tr><td>WEAPON LAWS</td><td>10</td><td>272</td></tr><tr><td>WEAPON LAWS</td><td>11</td><td>335</td></tr><tr><td>WEAPON LAWS</td><td>12</td><td>372</td></tr><tr><td>WEAPON LAWS</td><td>13</td><td>348</td></tr><tr><td>WEAPON LAWS</td><td>14</td><td>374</td></tr><tr><td>WEAPON LAWS</td><td>15</td><td>416</td></tr><tr><td>WEAPON LAWS</td><td>16</td><td>458</td></tr><tr><td>WEAPON LAWS</td><td>17</td><td>453</td></tr><tr><td>WEAPON LAWS</td><td>18</td><td>507</td></tr><tr><td>WEAPON LAWS</td><td>19</td><td>462</td></tr><tr><td>WEAPON LAWS</td><td>20</td><td>398</td></tr><tr><td>WEAPON LAWS</td><td>21</td><td>460</td></tr><tr><td>WEAPON LAWS</td><td>22</td><td>492</td></tr><tr><td>WEAPON LAWS</td><td>23</td><td>505</td></tr></tbody></table></div>"
      ]
     },
     "metadata": {
      "application/vnd.databricks.v1+output": {
       "addedWidgets": {},
       "aggData": [],
       "aggError": "",
       "aggOverflow": false,
       "aggSchema": [],
       "aggSeriesLimitReached": false,
       "aggType": "",
       "arguments": {},
       "columnCustomDisplayInfos": {},
       "data": [
        [
         "ARSON",
         "00",
         84
        ],
        [
         "ARSON",
         "01",
         77
        ],
        [
         "ARSON",
         "02",
         84
        ],
        [
         "ARSON",
         "03",
         95
        ],
        [
         "ARSON",
         "04",
         74
        ],
        [
         "ARSON",
         "05",
         60
        ],
        [
         "ARSON",
         "06",
         50
        ],
        [
         "ARSON",
         "07",
         28
        ],
        [
         "ARSON",
         "08",
         34
        ],
        [
         "ARSON",
         "09",
         28
        ],
        [
         "ARSON",
         "10",
         44
        ],
        [
         "ARSON",
         "11",
         29
        ],
        [
         "ARSON",
         "12",
         37
        ],
        [
         "ARSON",
         "13",
         35
        ],
        [
         "ARSON",
         "14",
         36
        ],
        [
         "ARSON",
         "15",
         49
        ],
        [
         "ARSON",
         "16",
         31
        ],
        [
         "ARSON",
         "17",
         48
        ],
        [
         "ARSON",
         "18",
         53
        ],
        [
         "ARSON",
         "19",
         59
        ],
        [
         "ARSON",
         "20",
         69
        ],
        [
         "ARSON",
         "21",
         55
        ],
        [
         "ARSON",
         "22",
         61
        ],
        [
         "ARSON",
         "23",
         72
        ],
        [
         "ASSAULT",
         "00",
         4120
        ],
        [
         "ASSAULT",
         "01",
         3940
        ],
        [
         "ASSAULT",
         "02",
         3510
        ],
        [
         "ASSAULT",
         "03",
         1622
        ],
        [
         "ASSAULT",
         "04",
         1017
        ],
        [
         "ASSAULT",
         "05",
         772
        ],
        [
         "ASSAULT",
         "06",
         1089
        ],
        [
         "ASSAULT",
         "07",
         1581
        ],
        [
         "ASSAULT",
         "08",
         2325
        ],
        [
         "ASSAULT",
         "09",
         2629
        ],
        [
         "ASSAULT",
         "10",
         2860
        ],
        [
         "ASSAULT",
         "11",
         3076
        ],
        [
         "ASSAULT",
         "12",
         3735
        ],
        [
         "ASSAULT",
         "13",
         3407
        ],
        [
         "ASSAULT",
         "14",
         3529
        ],
        [
         "ASSAULT",
         "15",
         3862
        ],
        [
         "ASSAULT",
         "16",
         3876
        ],
        [
         "ASSAULT",
         "17",
         3826
        ],
        [
         "ASSAULT",
         "18",
         3726
        ],
        [
         "ASSAULT",
         "19",
         3591
        ],
        [
         "ASSAULT",
         "20",
         3498
        ],
        [
         "ASSAULT",
         "21",
         3609
        ],
        [
         "ASSAULT",
         "22",
         3623
        ],
        [
         "ASSAULT",
         "23",
         3480
        ],
        [
         "BAD CHECKS",
         "00",
         79
        ],
        [
         "BAD CHECKS",
         "01",
         3
        ],
        [
         "BAD CHECKS",
         "02",
         2
        ],
        [
         "BAD CHECKS",
         "04",
         2
        ],
        [
         "BAD CHECKS",
         "05",
         1
        ],
        [
         "BAD CHECKS",
         "06",
         2
        ],
        [
         "BAD CHECKS",
         "07",
         3
        ],
        [
         "BAD CHECKS",
         "08",
         24
        ],
        [
         "BAD CHECKS",
         "09",
         26
        ],
        [
         "BAD CHECKS",
         "10",
         24
        ],
        [
         "BAD CHECKS",
         "11",
         15
        ],
        [
         "BAD CHECKS",
         "12",
         76
        ],
        [
         "BAD CHECKS",
         "13",
         15
        ],
        [
         "BAD CHECKS",
         "14",
         21
        ],
        [
         "BAD CHECKS",
         "15",
         31
        ],
        [
         "BAD CHECKS",
         "16",
         19
        ],
        [
         "BAD CHECKS",
         "17",
         25
        ],
        [
         "BAD CHECKS",
         "18",
         10
        ],
        [
         "BAD CHECKS",
         "19",
         11
        ],
        [
         "BAD CHECKS",
         "20",
         8
        ],
        [
         "BAD CHECKS",
         "21",
         4
        ],
        [
         "BAD CHECKS",
         "22",
         2
        ],
        [
         "BAD CHECKS",
         "23",
         3
        ],
        [
         "BRIBERY",
         "00",
         20
        ],
        [
         "BRIBERY",
         "01",
         11
        ],
        [
         "BRIBERY",
         "02",
         12
        ],
        [
         "BRIBERY",
         "03",
         6
        ],
        [
         "BRIBERY",
         "04",
         5
        ],
        [
         "BRIBERY",
         "05",
         2
        ],
        [
         "BRIBERY",
         "06",
         2
        ],
        [
         "BRIBERY",
         "07",
         4
        ],
        [
         "BRIBERY",
         "08",
         6
        ],
        [
         "BRIBERY",
         "09",
         11
        ],
        [
         "BRIBERY",
         "10",
         18
        ],
        [
         "BRIBERY",
         "11",
         17
        ],
        [
         "BRIBERY",
         "12",
         17
        ],
        [
         "BRIBERY",
         "13",
         11
        ],
        [
         "BRIBERY",
         "14",
         14
        ],
        [
         "BRIBERY",
         "15",
         10
        ],
        [
         "BRIBERY",
         "16",
         14
        ],
        [
         "BRIBERY",
         "17",
         25
        ],
        [
         "BRIBERY",
         "18",
         13
        ],
        [
         "BRIBERY",
         "19",
         17
        ],
        [
         "BRIBERY",
         "20",
         16
        ],
        [
         "BRIBERY",
         "21",
         20
        ],
        [
         "BRIBERY",
         "22",
         20
        ],
        [
         "BRIBERY",
         "23",
         15
        ],
        [
         "BURGLARY",
         "00",
         1585
        ],
        [
         "BURGLARY",
         "01",
         1064
        ],
        [
         "BURGLARY",
         "02",
         1152
        ],
        [
         "BURGLARY",
         "03",
         1229
        ],
        [
         "BURGLARY",
         "04",
         1032
        ],
        [
         "BURGLARY",
         "05",
         948
        ],
        [
         "BURGLARY",
         "06",
         858
        ],
        [
         "BURGLARY",
         "07",
         998
        ],
        [
         "BURGLARY",
         "08",
         1669
        ],
        [
         "BURGLARY",
         "09",
         1379
        ],
        [
         "BURGLARY",
         "10",
         1220
        ],
        [
         "BURGLARY",
         "11",
         1193
        ],
        [
         "BURGLARY",
         "12",
         1775
        ],
        [
         "BURGLARY",
         "13",
         1157
        ],
        [
         "BURGLARY",
         "14",
         1391
        ],
        [
         "BURGLARY",
         "15",
         1635
        ],
        [
         "BURGLARY",
         "16",
         1893
        ],
        [
         "BURGLARY",
         "17",
         2613
        ],
        [
         "BURGLARY",
         "18",
         2654
        ],
        [
         "BURGLARY",
         "19",
         2102
        ],
        [
         "BURGLARY",
         "20",
         1843
        ],
        [
         "BURGLARY",
         "21",
         1680
        ],
        [
         "BURGLARY",
         "22",
         1727
        ],
        [
         "BURGLARY",
         "23",
         1567
        ],
        [
         "DISORDERLY CONDUCT",
         "00",
         301
        ],
        [
         "DISORDERLY CONDUCT",
         "01",
         225
        ],
        [
         "DISORDERLY CONDUCT",
         "02",
         212
        ],
        [
         "DISORDERLY CONDUCT",
         "03",
         140
        ],
        [
         "DISORDERLY CONDUCT",
         "04",
         100
        ],
        [
         "DISORDERLY CONDUCT",
         "05",
         163
        ],
        [
         "DISORDERLY CONDUCT",
         "06",
         396
        ],
        [
         "DISORDERLY CONDUCT",
         "07",
         451
        ],
        [
         "DISORDERLY CONDUCT",
         "08",
         362
        ],
        [
         "DISORDERLY CONDUCT",
         "09",
         311
        ],
        [
         "DISORDERLY CONDUCT",
         "10",
         244
        ],
        [
         "DISORDERLY CONDUCT",
         "11",
         200
        ],
        [
         "DISORDERLY CONDUCT",
         "12",
         177
        ],
        [
         "DISORDERLY CONDUCT",
         "13",
         172
        ],
        [
         "DISORDERLY CONDUCT",
         "14",
         165
        ],
        [
         "DISORDERLY CONDUCT",
         "15",
         117
        ],
        [
         "DISORDERLY CONDUCT",
         "16",
         142
        ],
        [
         "DISORDERLY CONDUCT",
         "17",
         128
        ],
        [
         "DISORDERLY CONDUCT",
         "18",
         158
        ],
        [
         "DISORDERLY CONDUCT",
         "19",
         131
        ],
        [
         "DISORDERLY CONDUCT",
         "20",
         129
        ],
        [
         "DISORDERLY CONDUCT",
         "21",
         146
        ],
        [
         "DISORDERLY CONDUCT",
         "22",
         208
        ],
        [
         "DISORDERLY CONDUCT",
         "23",
         260
        ],
        [
         "DRIVING UNDER THE INFLUENCE",
         "00",
         272
        ],
        [
         "DRIVING UNDER THE INFLUENCE",
         "01",
         274
        ],
        [
         "DRIVING UNDER THE INFLUENCE",
         "02",
         263
        ],
        [
         "DRIVING UNDER THE INFLUENCE",
         "03",
         117
        ],
        [
         "DRIVING UNDER THE INFLUENCE",
         "04",
         40
        ],
        [
         "DRIVING UNDER THE INFLUENCE",
         "05",
         27
        ],
        [
         "DRIVING UNDER THE INFLUENCE",
         "06",
         27
        ],
        [
         "DRIVING UNDER THE INFLUENCE",
         "07",
         19
        ],
        [
         "DRIVING UNDER THE INFLUENCE",
         "08",
         18
        ],
        [
         "DRIVING UNDER THE INFLUENCE",
         "09",
         25
        ],
        [
         "DRIVING UNDER THE INFLUENCE",
         "10",
         11
        ],
        [
         "DRIVING UNDER THE INFLUENCE",
         "11",
         23
        ],
        [
         "DRIVING UNDER THE INFLUENCE",
         "12",
         33
        ],
        [
         "DRIVING UNDER THE INFLUENCE",
         "13",
         20
        ],
        [
         "DRIVING UNDER THE INFLUENCE",
         "14",
         27
        ],
        [
         "DRIVING UNDER THE INFLUENCE",
         "15",
         48
        ],
        [
         "DRIVING UNDER THE INFLUENCE",
         "16",
         62
        ],
        [
         "DRIVING UNDER THE INFLUENCE",
         "17",
         66
        ],
        [
         "DRIVING UNDER THE INFLUENCE",
         "18",
         81
        ],
        [
         "DRIVING UNDER THE INFLUENCE",
         "19",
         92
        ],
        [
         "DRIVING UNDER THE INFLUENCE",
         "20",
         119
        ],
        [
         "DRIVING UNDER THE INFLUENCE",
         "21",
         167
        ],
        [
         "DRIVING UNDER THE INFLUENCE",
         "22",
         194
        ],
        [
         "DRIVING UNDER THE INFLUENCE",
         "23",
         239
        ],
        [
         "DRUG/NARCOTIC",
         "00",
         1756
        ],
        [
         "DRUG/NARCOTIC",
         "01",
         1156
        ],
        [
         "DRUG/NARCOTIC",
         "02",
         947
        ],
        [
         "DRUG/NARCOTIC",
         "03",
         607
        ],
        [
         "DRUG/NARCOTIC",
         "04",
         444
        ],
        [
         "DRUG/NARCOTIC",
         "05",
         216
        ],
        [
         "DRUG/NARCOTIC",
         "06",
         678
        ],
        [
         "DRUG/NARCOTIC",
         "07",
         1439
        ],
        [
         "DRUG/NARCOTIC",
         "08",
         1845
        ],
        [
         "DRUG/NARCOTIC",
         "09",
         2178
        ],
        [
         "DRUG/NARCOTIC",
         "10",
         2403
        ],
        [
         "DRUG/NARCOTIC",
         "11",
         2578
        ],
        [
         "DRUG/NARCOTIC",
         "12",
         2582
        ],
        [
         "DRUG/NARCOTIC",
         "13",
         3131
        ],
        [
         "DRUG/NARCOTIC",
         "14",
         3435
        ],
        [
         "DRUG/NARCOTIC",
         "15",
         3177
        ],
        [
         "DRUG/NARCOTIC",
         "16",
         3275
        ],
        [
         "DRUG/NARCOTIC",
         "17",
         3588
        ],
        [
         "DRUG/NARCOTIC",
         "18",
         3269
        ],
        [
         "DRUG/NARCOTIC",
         "19",
         2921
        ],
        [
         "DRUG/NARCOTIC",
         "20",
         2157
        ],
        [
         "DRUG/NARCOTIC",
         "21",
         1937
        ],
        [
         "DRUG/NARCOTIC",
         "22",
         2380
        ],
        [
         "DRUG/NARCOTIC",
         "23",
         2178
        ],
        [
         "DRUNKENNESS",
         "00",
         400
        ],
        [
         "DRUNKENNESS",
         "01",
         369
        ],
        [
         "DRUNKENNESS",
         "02",
         294
        ],
        [
         "DRUNKENNESS",
         "03",
         128
        ],
        [
         "DRUNKENNESS",
         "04",
         55
        ],
        [
         "DRUNKENNESS",
         "05",
         20
        ],
        [
         "DRUNKENNESS",
         "06",
         31
        ],
        [
         "DRUNKENNESS",
         "07",
         79
        ],
        [
         "DRUNKENNESS",
         "08",
         78
        ],
        [
         "DRUNKENNESS",
         "09",
         98
        ],
        [
         "DRUNKENNESS",
         "10",
         100
        ],
        [
         "DRUNKENNESS",
         "11",
         145
        ],
        [
         "DRUNKENNESS",
         "12",
         119
        ],
        [
         "DRUNKENNESS",
         "13",
         146
        ],
        [
         "DRUNKENNESS",
         "14",
         129
        ],
        [
         "DRUNKENNESS",
         "15",
         160
        ],
        [
         "DRUNKENNESS",
         "16",
         216
        ],
        [
         "DRUNKENNESS",
         "17",
         255
        ],
        [
         "DRUNKENNESS",
         "18",
         280
        ],
        [
         "DRUNKENNESS",
         "19",
         285
        ],
        [
         "DRUNKENNESS",
         "20",
         301
        ],
        [
         "DRUNKENNESS",
         "21",
         313
        ],
        [
         "DRUNKENNESS",
         "22",
         378
        ],
        [
         "DRUNKENNESS",
         "23",
         374
        ],
        [
         "EMBEZZLEMENT",
         "00",
         280
        ],
        [
         "EMBEZZLEMENT",
         "01",
         4
        ],
        [
         "EMBEZZLEMENT",
         "02",
         4
        ],
        [
         "EMBEZZLEMENT",
         "03",
         6
        ],
        [
         "EMBEZZLEMENT",
         "04",
         4
        ],
        [
         "EMBEZZLEMENT",
         "05",
         4
        ],
        [
         "EMBEZZLEMENT",
         "06",
         6
        ],
        [
         "EMBEZZLEMENT",
         "07",
         17
        ],
        [
         "EMBEZZLEMENT",
         "08",
         89
        ],
        [
         "EMBEZZLEMENT",
         "09",
         91
        ],
        [
         "EMBEZZLEMENT",
         "10",
         76
        ],
        [
         "EMBEZZLEMENT",
         "11",
         57
        ],
        [
         "EMBEZZLEMENT",
         "12",
         233
        ],
        [
         "EMBEZZLEMENT",
         "13",
         48
        ],
        [
         "EMBEZZLEMENT",
         "14",
         45
        ],
        [
         "EMBEZZLEMENT",
         "15",
         54
        ],
        [
         "EMBEZZLEMENT",
         "16",
         52
        ],
        [
         "EMBEZZLEMENT",
         "17",
         64
        ],
        [
         "EMBEZZLEMENT",
         "18",
         50
        ],
        [
         "EMBEZZLEMENT",
         "19",
         26
        ],
        [
         "EMBEZZLEMENT",
         "20",
         29
        ],
        [
         "EMBEZZLEMENT",
         "21",
         22
        ],
        [
         "EMBEZZLEMENT",
         "22",
         15
        ],
        [
         "EMBEZZLEMENT",
         "23",
         24
        ],
        [
         "EXTORTION",
         "00",
         29
        ],
        [
         "EXTORTION",
         "01",
         4
        ],
        [
         "EXTORTION",
         "02",
         3
        ],
        [
         "EXTORTION",
         "03",
         2
        ],
        [
         "EXTORTION",
         "04",
         2
        ],
        [
         "EXTORTION",
         "05",
         4
        ],
        [
         "EXTORTION",
         "06",
         3
        ],
        [
         "EXTORTION",
         "07",
         7
        ],
        [
         "EXTORTION",
         "08",
         9
        ],
        [
         "EXTORTION",
         "09",
         7
        ],
        [
         "EXTORTION",
         "10",
         17
        ],
        [
         "EXTORTION",
         "11",
         11
        ],
        [
         "EXTORTION",
         "12",
         30
        ],
        [
         "EXTORTION",
         "13",
         13
        ],
        [
         "EXTORTION",
         "14",
         9
        ],
        [
         "EXTORTION",
         "15",
         9
        ],
        [
         "EXTORTION",
         "16",
         13
        ],
        [
         "EXTORTION",
         "17",
         13
        ],
        [
         "EXTORTION",
         "18",
         10
        ],
        [
         "EXTORTION",
         "19",
         7
        ],
        [
         "EXTORTION",
         "20",
         6
        ],
        [
         "EXTORTION",
         "21",
         8
        ],
        [
         "EXTORTION",
         "22",
         2
        ],
        [
         "EXTORTION",
         "23",
         8
        ],
        [
         "FORGERY/COUNTERFEITING",
         "00",
         1644
        ],
        [
         "FORGERY/COUNTERFEITING",
         "01",
         92
        ],
        [
         "FORGERY/COUNTERFEITING",
         "02",
         64
        ],
        [
         "FORGERY/COUNTERFEITING",
         "03",
         61
        ],
        [
         "FORGERY/COUNTERFEITING",
         "04",
         35
        ],
        [
         "FORGERY/COUNTERFEITING",
         "05",
         25
        ],
        [
         "FORGERY/COUNTERFEITING",
         "06",
         69
        ],
        [
         "FORGERY/COUNTERFEITING",
         "07",
         141
        ],
        [
         "FORGERY/COUNTERFEITING",
         "08",
         494
        ],
        [
         "FORGERY/COUNTERFEITING",
         "09",
         618
        ],
        [
         "FORGERY/COUNTERFEITING",
         "10",
         559
        ],
        [
         "FORGERY/COUNTERFEITING",
         "11",
         514
        ],
        [
         "FORGERY/COUNTERFEITING",
         "12",
         1356
        ],
        [
         "FORGERY/COUNTERFEITING",
         "13",
         694
        ],
        [
         "FORGERY/COUNTERFEITING",
         "14",
         626
        ],
        [
         "FORGERY/COUNTERFEITING",
         "15",
         690
        ],
        [
         "FORGERY/COUNTERFEITING",
         "16",
         708
        ],
        [
         "FORGERY/COUNTERFEITING",
         "17",
         663
        ],
        [
         "FORGERY/COUNTERFEITING",
         "18",
         450
        ],
        [
         "FORGERY/COUNTERFEITING",
         "19",
         297
        ],
        [
         "FORGERY/COUNTERFEITING",
         "20",
         318
        ],
        [
         "FORGERY/COUNTERFEITING",
         "21",
         234
        ],
        [
         "FORGERY/COUNTERFEITING",
         "22",
         185
        ],
        [
         "FORGERY/COUNTERFEITING",
         "23",
         149
        ],
        [
         "FRAUD",
         "00",
         2489
        ],
        [
         "FRAUD",
         "01",
         414
        ],
        [
         "FRAUD",
         "02",
         283
        ],
        [
         "FRAUD",
         "03",
         160
        ],
        [
         "FRAUD",
         "04",
         103
        ],
        [
         "FRAUD",
         "05",
         85
        ],
        [
         "FRAUD",
         "06",
         178
        ],
        [
         "FRAUD",
         "07",
         330
        ],
        [
         "FRAUD",
         "08",
         829
        ],
        [
         "FRAUD",
         "09",
         864
        ],
        [
         "FRAUD",
         "10",
         863
        ],
        [
         "FRAUD",
         "11",
         727
        ],
        [
         "FRAUD",
         "12",
         2016
        ],
        [
         "FRAUD",
         "13",
         1028
        ],
        [
         "FRAUD",
         "14",
         948
        ],
        [
         "FRAUD",
         "15",
         1082
        ],
        [
         "FRAUD",
         "16",
         995
        ],
        [
         "FRAUD",
         "17",
         1049
        ],
        [
         "FRAUD",
         "18",
         958
        ],
        [
         "FRAUD",
         "19",
         741
        ],
        [
         "FRAUD",
         "20",
         630
        ],
        [
         "FRAUD",
         "21",
         504
        ],
        [
         "FRAUD",
         "22",
         578
        ],
        [
         "FRAUD",
         "23",
         660
        ],
        [
         "GAMBLING",
         "00",
         13
        ],
        [
         "GAMBLING",
         "01",
         1
        ],
        [
         "GAMBLING",
         "03",
         1
        ],
        [
         "GAMBLING",
         "05",
         1
        ],
        [
         "GAMBLING",
         "07",
         3
        ],
        [
         "GAMBLING",
         "08",
         5
        ],
        [
         "GAMBLING",
         "09",
         4
        ],
        [
         "GAMBLING",
         "10",
         5
        ],
        [
         "GAMBLING",
         "11",
         9
        ],
        [
         "GAMBLING",
         "12",
         15
        ],
        [
         "GAMBLING",
         "13",
         6
        ],
        [
         "GAMBLING",
         "14",
         9
        ],
        [
         "GAMBLING",
         "15",
         9
        ],
        [
         "GAMBLING",
         "16",
         2
        ],
        [
         "GAMBLING",
         "17",
         4
        ],
        [
         "GAMBLING",
         "18",
         3
        ],
        [
         "GAMBLING",
         "19",
         5
        ],
        [
         "GAMBLING",
         "20",
         2
        ],
        [
         "GAMBLING",
         "21",
         3
        ],
        [
         "GAMBLING",
         "22",
         3
        ],
        [
         "GAMBLING",
         "23",
         2
        ],
        [
         "KIDNAPPING",
         "00",
         116
        ],
        [
         "KIDNAPPING",
         "01",
         111
        ],
        [
         "KIDNAPPING",
         "02",
         106
        ],
        [
         "KIDNAPPING",
         "03",
         68
        ],
        [
         "KIDNAPPING",
         "04",
         37
        ],
        [
         "KIDNAPPING",
         "05",
         34
        ],
        [
         "KIDNAPPING",
         "06",
         31
        ],
        [
         "KIDNAPPING",
         "07",
         39
        ],
        [
         "KIDNAPPING",
         "08",
         40
        ],
        [
         "KIDNAPPING",
         "09",
         37
        ],
        [
         "KIDNAPPING",
         "10",
         42
        ],
        [
         "KIDNAPPING",
         "11",
         47
        ],
        [
         "KIDNAPPING",
         "12",
         65
        ],
        [
         "KIDNAPPING",
         "13",
         75
        ],
        [
         "KIDNAPPING",
         "14",
         66
        ],
        [
         "KIDNAPPING",
         "15",
         63
        ],
        [
         "KIDNAPPING",
         "16",
         74
        ],
        [
         "KIDNAPPING",
         "17",
         78
        ],
        [
         "KIDNAPPING",
         "18",
         84
        ],
        [
         "KIDNAPPING",
         "19",
         71
        ],
        [
         "KIDNAPPING",
         "20",
         75
        ],
        [
         "KIDNAPPING",
         "21",
         91
        ],
        [
         "KIDNAPPING",
         "22",
         84
        ],
        [
         "KIDNAPPING",
         "23",
         124
        ],
        [
         "LARCENY/THEFT",
         "00",
         10082
        ],
        [
         "LARCENY/THEFT",
         "01",
         6644
        ],
        [
         "LARCENY/THEFT",
         "02",
         4065
        ],
        [
         "LARCENY/THEFT",
         "03",
         2419
        ],
        [
         "LARCENY/THEFT",
         "04",
         1542
        ],
        [
         "LARCENY/THEFT",
         "05",
         1490
        ],
        [
         "LARCENY/THEFT",
         "06",
         2478
        ],
        [
         "LARCENY/THEFT",
         "07",
         3780
        ],
        [
         "LARCENY/THEFT",
         "08",
         6278
        ],
        [
         "LARCENY/THEFT",
         "09",
         7661
        ],
        [
         "LARCENY/THEFT",
         "10",
         9439
        ],
        [
         "LARCENY/THEFT",
         "11",
         10297
        ],
        [
         "LARCENY/THEFT",
         "12",
         13030
        ],
        [
         "LARCENY/THEFT",
         "13",
         11760
        ],
        [
         "LARCENY/THEFT",
         "14",
         12268
        ],
        [
         "LARCENY/THEFT",
         "15",
         12861
        ],
        [
         "LARCENY/THEFT",
         "16",
         13644
        ],
        [
         "LARCENY/THEFT",
         "17",
         15903
        ],
        [
         "LARCENY/THEFT",
         "18",
         19911
        ],
        [
         "LARCENY/THEFT",
         "19",
         19444
        ],
        [
         "LARCENY/THEFT",
         "20",
         16604
        ],
        [
         "LARCENY/THEFT",
         "21",
         13833
        ],
        [
         "LARCENY/THEFT",
         "22",
         13797
        ],
        [
         "LARCENY/THEFT",
         "23",
         13152
        ],
        [
         "LIQUOR LAWS",
         "00",
         63
        ],
        [
         "LIQUOR LAWS",
         "01",
         28
        ],
        [
         "LIQUOR LAWS",
         "02",
         23
        ],
        [
         "LIQUOR LAWS",
         "03",
         12
        ],
        [
         "LIQUOR LAWS",
         "04",
         7
        ],
        [
         "LIQUOR LAWS",
         "05",
         1
        ],
        [
         "LIQUOR LAWS",
         "06",
         17
        ],
        [
         "LIQUOR LAWS",
         "07",
         46
        ],
        [
         "LIQUOR LAWS",
         "08",
         59
        ],
        [
         "LIQUOR LAWS",
         "09",
         68
        ],
        [
         "LIQUOR LAWS",
         "10",
         76
        ],
        [
         "LIQUOR LAWS",
         "11",
         67
        ],
        [
         "LIQUOR LAWS",
         "12",
         104
        ],
        [
         "LIQUOR LAWS",
         "13",
         95
        ],
        [
         "LIQUOR LAWS",
         "14",
         69
        ],
        [
         "LIQUOR LAWS",
         "15",
         76
        ],
        [
         "LIQUOR LAWS",
         "16",
         96
        ],
        [
         "LIQUOR LAWS",
         "17",
         158
        ],
        [
         "LIQUOR LAWS",
         "18",
         129
        ],
        [
         "LIQUOR LAWS",
         "19",
         114
        ],
        [
         "LIQUOR LAWS",
         "20",
         59
        ],
        [
         "LIQUOR LAWS",
         "21",
         90
        ],
        [
         "LIQUOR LAWS",
         "22",
         71
        ],
        [
         "LIQUOR LAWS",
         "23",
         56
        ],
        [
         "LOITERING",
         "00",
         48
        ],
        [
         "LOITERING",
         "01",
         38
        ],
        [
         "LOITERING",
         "02",
         24
        ],
        [
         "LOITERING",
         "03",
         27
        ],
        [
         "LOITERING",
         "04",
         14
        ],
        [
         "LOITERING",
         "05",
         28
        ],
        [
         "LOITERING",
         "06",
         49
        ],
        [
         "LOITERING",
         "07",
         71
        ],
        [
         "LOITERING",
         "08",
         85
        ],
        [
         "LOITERING",
         "09",
         63
        ],
        [
         "LOITERING",
         "10",
         86
        ],
        [
         "LOITERING",
         "11",
         87
        ],
        [
         "LOITERING",
         "12",
         78
        ],
        [
         "LOITERING",
         "13",
         89
        ],
        [
         "LOITERING",
         "14",
         92
        ],
        [
         "LOITERING",
         "15",
         58
        ],
        [
         "LOITERING",
         "16",
         106
        ],
        [
         "LOITERING",
         "17",
         134
        ],
        [
         "LOITERING",
         "18",
         121
        ],
        [
         "LOITERING",
         "19",
         77
        ],
        [
         "LOITERING",
         "20",
         58
        ],
        [
         "LOITERING",
         "21",
         69
        ],
        [
         "LOITERING",
         "22",
         45
        ],
        [
         "LOITERING",
         "23",
         51
        ],
        [
         "MISSING PERSON",
         "00",
         784
        ],
        [
         "MISSING PERSON",
         "01",
         355
        ],
        [
         "MISSING PERSON",
         "02",
         271
        ],
        [
         "MISSING PERSON",
         "03",
         162
        ],
        [
         "MISSING PERSON",
         "04",
         107
        ],
        [
         "MISSING PERSON",
         "05",
         149
        ],
        [
         "MISSING PERSON",
         "06",
         239
        ],
        [
         "MISSING PERSON",
         "07",
         533
        ],
        [
         "MISSING PERSON",
         "08",
         879
        ],
        [
         "MISSING PERSON",
         "09",
         934
        ],
        [
         "MISSING PERSON",
         "10",
         951
        ],
        [
         "MISSING PERSON",
         "11",
         928
        ],
        [
         "MISSING PERSON",
         "12",
         1347
        ],
        [
         "MISSING PERSON",
         "13",
         872
        ],
        [
         "MISSING PERSON",
         "14",
         926
        ],
        [
         "MISSING PERSON",
         "15",
         1057
        ],
        [
         "MISSING PERSON",
         "16",
         930
        ],
        [
         "MISSING PERSON",
         "17",
         822
        ],
        [
         "MISSING PERSON",
         "18",
         772
        ],
        [
         "MISSING PERSON",
         "19",
         658
        ],
        [
         "MISSING PERSON",
         "20",
         628
        ],
        [
         "MISSING PERSON",
         "21",
         638
        ],
        [
         "MISSING PERSON",
         "22",
         607
        ],
        [
         "MISSING PERSON",
         "23",
         519
        ],
        [
         "NON-CRIMINAL",
         "00",
         5203
        ],
        [
         "NON-CRIMINAL",
         "01",
         2948
        ],
        [
         "NON-CRIMINAL",
         "02",
         2335
        ],
        [
         "NON-CRIMINAL",
         "03",
         1443
        ],
        [
         "NON-CRIMINAL",
         "04",
         1065
        ],
        [
         "NON-CRIMINAL",
         "05",
         1018
        ],
        [
         "NON-CRIMINAL",
         "06",
         1939
        ],
        [
         "NON-CRIMINAL",
         "07",
         2916
        ],
        [
         "NON-CRIMINAL",
         "08",
         4562
        ],
        [
         "NON-CRIMINAL",
         "09",
         5126
        ],
        [
         "NON-CRIMINAL",
         "10",
         5791
        ],
        [
         "NON-CRIMINAL",
         "11",
         5654
        ],
        [
         "NON-CRIMINAL",
         "12",
         7792
        ],
        [
         "NON-CRIMINAL",
         "13",
         6155
        ],
        [
         "NON-CRIMINAL",
         "14",
         6010
        ],
        [
         "NON-CRIMINAL",
         "15",
         6232
        ],
        [
         "NON-CRIMINAL",
         "16",
         6336
        ],
        [
         "NON-CRIMINAL",
         "17",
         5887
        ],
        [
         "NON-CRIMINAL",
         "18",
         5723
        ],
        [
         "NON-CRIMINAL",
         "19",
         5049
        ],
        [
         "NON-CRIMINAL",
         "20",
         4677
        ],
        [
         "NON-CRIMINAL",
         "21",
         4665
        ],
        [
         "NON-CRIMINAL",
         "22",
         4637
        ],
        [
         "NON-CRIMINAL",
         "23",
         4522
        ],
        [
         "OTHER OFFENSES",
         "00",
         7632
        ],
        [
         "OTHER OFFENSES",
         "01",
         3902
        ],
        [
         "OTHER OFFENSES",
         "02",
         3279
        ],
        [
         "OTHER OFFENSES",
         "03",
         2329
        ],
        [
         "OTHER OFFENSES",
         "04",
         1744
        ],
        [
         "OTHER OFFENSES",
         "05",
         1214
        ],
        [
         "OTHER OFFENSES",
         "06",
         1743
        ],
        [
         "OTHER OFFENSES",
         "07",
         3523
        ],
        [
         "OTHER OFFENSES",
         "08",
         5396
        ],
        [
         "OTHER OFFENSES",
         "09",
         6153
        ],
        [
         "OTHER OFFENSES",
         "10",
         5921
        ],
        [
         "OTHER OFFENSES",
         "11",
         5774
        ],
        [
         "OTHER OFFENSES",
         "12",
         7952
        ],
        [
         "OTHER OFFENSES",
         "13",
         6275
        ],
        [
         "OTHER OFFENSES",
         "14",
         6196
        ],
        [
         "OTHER OFFENSES",
         "15",
         6494
        ],
        [
         "OTHER OFFENSES",
         "16",
         7556
        ],
        [
         "OTHER OFFENSES",
         "17",
         7738
        ],
        [
         "OTHER OFFENSES",
         "18",
         6993
        ],
        [
         "OTHER OFFENSES",
         "19",
         6047
        ],
        [
         "OTHER OFFENSES",
         "20",
         5165
        ],
        [
         "OTHER OFFENSES",
         "21",
         5379
        ],
        [
         "OTHER OFFENSES",
         "22",
         6424
        ],
        [
         "OTHER OFFENSES",
         "23",
         6341
        ],
        [
         "PORNOGRAPHY/OBSCENE MAT",
         "00",
         1
        ],
        [
         "PORNOGRAPHY/OBSCENE MAT",
         "03",
         1
        ],
        [
         "PORNOGRAPHY/OBSCENE MAT",
         "06",
         1
        ],
        [
         "PORNOGRAPHY/OBSCENE MAT",
         "08",
         1
        ],
        [
         "PORNOGRAPHY/OBSCENE MAT",
         "09",
         3
        ],
        [
         "PORNOGRAPHY/OBSCENE MAT",
         "11",
         2
        ],
        [
         "PORNOGRAPHY/OBSCENE MAT",
         "12",
         2
        ],
        [
         "PORNOGRAPHY/OBSCENE MAT",
         "14",
         1
        ],
        [
         "PORNOGRAPHY/OBSCENE MAT",
         "16",
         2
        ],
        [
         "PORNOGRAPHY/OBSCENE MAT",
         "18",
         1
        ],
        [
         "PORNOGRAPHY/OBSCENE MAT",
         "20",
         1
        ],
        [
         "PORNOGRAPHY/OBSCENE MAT",
         "21",
         1
        ],
        [
         "PORNOGRAPHY/OBSCENE MAT",
         "22",
         2
        ],
        [
         "PROSTITUTION",
         "00",
         1107
        ],
        [
         "PROSTITUTION",
         "01",
         819
        ],
        [
         "PROSTITUTION",
         "02",
         630
        ],
        [
         "PROSTITUTION",
         "03",
         422
        ],
        [
         "PROSTITUTION",
         "04",
         328
        ],
        [
         "PROSTITUTION",
         "05",
         429
        ],
        [
         "PROSTITUTION",
         "06",
         414
        ],
        [
         "PROSTITUTION",
         "07",
         210
        ],
        [
         "PROSTITUTION",
         "08",
         117
        ],
        [
         "PROSTITUTION",
         "09",
         132
        ],
        [
         "PROSTITUTION",
         "10",
         143
        ],
        [
         "PROSTITUTION",
         "11",
         147
        ],
        [
         "PROSTITUTION",
         "12",
         309
        ],
        [
         "PROSTITUTION",
         "13",
         221
        ],
        [
         "PROSTITUTION",
         "14",
         195
        ],
        [
         "PROSTITUTION",
         "15",
         136
        ],
        [
         "PROSTITUTION",
         "16",
         173
        ],
        [
         "PROSTITUTION",
         "17",
         367
        ],
        [
         "PROSTITUTION",
         "18",
         726
        ],
        [
         "PROSTITUTION",
         "19",
         918
        ],
        [
         "PROSTITUTION",
         "20",
         802
        ],
        [
         "PROSTITUTION",
         "21",
         892
        ],
        [
         "PROSTITUTION",
         "22",
         1109
        ],
        [
         "PROSTITUTION",
         "23",
         1196
        ],
        [
         "RECOVERED VEHICLE",
         "00",
         138
        ],
        [
         "RECOVERED VEHICLE",
         "01",
         103
        ],
        [
         "RECOVERED VEHICLE",
         "02",
         77
        ],
        [
         "RECOVERED VEHICLE",
         "03",
         84
        ],
        [
         "RECOVERED VEHICLE",
         "04",
         59
        ],
        [
         "RECOVERED VEHICLE",
         "05",
         43
        ],
        [
         "RECOVERED VEHICLE",
         "06",
         35
        ],
        [
         "RECOVERED VEHICLE",
         "07",
         138
        ],
        [
         "RECOVERED VEHICLE",
         "08",
         131
        ],
        [
         "RECOVERED VEHICLE",
         "09",
         155
        ],
        [
         "RECOVERED VEHICLE",
         "10",
         151
        ],
        [
         "RECOVERED VEHICLE",
         "11",
         160
        ],
        [
         "RECOVERED VEHICLE",
         "12",
         157
        ],
        [
         "RECOVERED VEHICLE",
         "13",
         126
        ],
        [
         "RECOVERED VEHICLE",
         "14",
         94
        ],
        [
         "RECOVERED VEHICLE",
         "15",
         113
        ],
        [
         "RECOVERED VEHICLE",
         "16",
         189
        ],
        [
         "RECOVERED VEHICLE",
         "17",
         124
        ],
        [
         "RECOVERED VEHICLE",
         "18",
         95
        ],
        [
         "RECOVERED VEHICLE",
         "19",
         95
        ],
        [
         "RECOVERED VEHICLE",
         "20",
         93
        ],
        [
         "RECOVERED VEHICLE",
         "21",
         88
        ],
        [
         "RECOVERED VEHICLE",
         "22",
         88
        ],
        [
         "RECOVERED VEHICLE",
         "23",
         119
        ],
        [
         "ROBBERY",
         "00",
         1400
        ],
        [
         "ROBBERY",
         "01",
         1534
        ],
        [
         "ROBBERY",
         "02",
         1749
        ],
        [
         "ROBBERY",
         "03",
         988
        ],
        [
         "ROBBERY",
         "04",
         643
        ],
        [
         "ROBBERY",
         "05",
         486
        ],
        [
         "ROBBERY",
         "06",
         456
        ],
        [
         "ROBBERY",
         "07",
         370
        ],
        [
         "ROBBERY",
         "08",
         478
        ],
        [
         "ROBBERY",
         "09",
         524
        ],
        [
         "ROBBERY",
         "10",
         609
        ],
        [
         "ROBBERY",
         "11",
         680
        ],
        [
         "ROBBERY",
         "12",
         802
        ],
        [
         "ROBBERY",
         "13",
         863
        ],
        [
         "ROBBERY",
         "14",
         919
        ],
        [
         "ROBBERY",
         "15",
         1024
        ],
        [
         "ROBBERY",
         "16",
         1112
        ],
        [
         "ROBBERY",
         "17",
         1123
        ],
        [
         "ROBBERY",
         "18",
         1195
        ],
        [
         "ROBBERY",
         "19",
         1218
        ],
        [
         "ROBBERY",
         "20",
         1437
        ],
        [
         "ROBBERY",
         "21",
         1629
        ],
        [
         "ROBBERY",
         "22",
         1662
        ],
        [
         "ROBBERY",
         "23",
         1576
        ],
        [
         "SECONDARY CODES",
         "00",
         519
        ],
        [
         "SECONDARY CODES",
         "01",
         318
        ],
        [
         "SECONDARY CODES",
         "02",
         293
        ],
        [
         "SECONDARY CODES",
         "03",
         197
        ],
        [
         "SECONDARY CODES",
         "04",
         127
        ],
        [
         "SECONDARY CODES",
         "05",
         109
        ],
        [
         "SECONDARY CODES",
         "06",
         115
        ],
        [
         "SECONDARY CODES",
         "07",
         179
        ],
        [
         "SECONDARY CODES",
         "08",
         284
        ],
        [
         "SECONDARY CODES",
         "09",
         298
        ],
        [
         "SECONDARY CODES",
         "10",
         291
        ],
        [
         "SECONDARY CODES",
         "11",
         338
        ],
        [
         "SECONDARY CODES",
         "12",
         456
        ],
        [
         "SECONDARY CODES",
         "13",
         354
        ],
        [
         "SECONDARY CODES",
         "14",
         355
        ],
        [
         "SECONDARY CODES",
         "15",
         415
        ],
        [
         "SECONDARY CODES",
         "16",
         427
        ],
        [
         "SECONDARY CODES",
         "17",
         411
        ],
        [
         "SECONDARY CODES",
         "18",
         447
        ],
        [
         "SECONDARY CODES",
         "19",
         428
        ],
        [
         "SECONDARY CODES",
         "20",
         440
        ],
        [
         "SECONDARY CODES",
         "21",
         467
        ],
        [
         "SECONDARY CODES",
         "22",
         454
        ],
        [
         "SECONDARY CODES",
         "23",
         423
        ],
        [
         "SEX OFFENSES, FORCIBLE",
         "00",
         450
        ],
        [
         "SEX OFFENSES, FORCIBLE",
         "01",
         252
        ],
        [
         "SEX OFFENSES, FORCIBLE",
         "02",
         261
        ],
        [
         "SEX OFFENSES, FORCIBLE",
         "03",
         188
        ],
        [
         "SEX OFFENSES, FORCIBLE",
         "04",
         101
        ],
        [
         "SEX OFFENSES, FORCIBLE",
         "05",
         62
        ],
        [
         "SEX OFFENSES, FORCIBLE",
         "06",
         69
        ],
        [
         "SEX OFFENSES, FORCIBLE",
         "07",
         76
        ],
        [
         "SEX OFFENSES, FORCIBLE",
         "08",
         198
        ],
        [
         "SEX OFFENSES, FORCIBLE",
         "09",
         157
        ],
        [
         "SEX OFFENSES, FORCIBLE",
         "10",
         112
        ],
        [
         "SEX OFFENSES, FORCIBLE",
         "11",
         107
        ],
        [
         "SEX OFFENSES, FORCIBLE",
         "12",
         183
        ],
        [
         "SEX OFFENSES, FORCIBLE",
         "13",
         124
        ],
        [
         "SEX OFFENSES, FORCIBLE",
         "14",
         150
        ],
        [
         "SEX OFFENSES, FORCIBLE",
         "15",
         168
        ],
        [
         "SEX OFFENSES, FORCIBLE",
         "16",
         166
        ],
        [
         "SEX OFFENSES, FORCIBLE",
         "17",
         168
        ],
        [
         "SEX OFFENSES, FORCIBLE",
         "18",
         138
        ],
        [
         "SEX OFFENSES, FORCIBLE",
         "19",
         178
        ],
        [
         "SEX OFFENSES, FORCIBLE",
         "20",
         216
        ],
        [
         "SEX OFFENSES, FORCIBLE",
         "21",
         230
        ],
        [
         "SEX OFFENSES, FORCIBLE",
         "22",
         209
        ],
        [
         "SEX OFFENSES, FORCIBLE",
         "23",
         269
        ],
        [
         "SEX OFFENSES, NON FORCIBLE",
         "00",
         4
        ],
        [
         "SEX OFFENSES, NON FORCIBLE",
         "06",
         1
        ],
        [
         "SEX OFFENSES, NON FORCIBLE",
         "08",
         1
        ],
        [
         "SEX OFFENSES, NON FORCIBLE",
         "09",
         2
        ],
        [
         "SEX OFFENSES, NON FORCIBLE",
         "12",
         2
        ],
        [
         "SEX OFFENSES, NON FORCIBLE",
         "13",
         1
        ],
        [
         "SEX OFFENSES, NON FORCIBLE",
         "17",
         1
        ],
        [
         "SEX OFFENSES, NON FORCIBLE",
         "18",
         1
        ],
        [
         "SEX OFFENSES, NON FORCIBLE",
         "19",
         1
        ],
        [
         "SEX OFFENSES, NON FORCIBLE",
         "20",
         1
        ],
        [
         "SEX OFFENSES, NON FORCIBLE",
         "23",
         1
        ],
        [
         "STOLEN PROPERTY",
         "00",
         297
        ],
        [
         "STOLEN PROPERTY",
         "01",
         219
        ],
        [
         "STOLEN PROPERTY",
         "02",
         165
        ],
        [
         "STOLEN PROPERTY",
         "03",
         143
        ],
        [
         "STOLEN PROPERTY",
         "04",
         115
        ],
        [
         "STOLEN PROPERTY",
         "05",
         94
        ],
        [
         "STOLEN PROPERTY",
         "06",
         96
        ],
        [
         "STOLEN PROPERTY",
         "07",
         146
        ],
        [
         "STOLEN PROPERTY",
         "08",
         180
        ],
        [
         "STOLEN PROPERTY",
         "09",
         197
        ],
        [
         "STOLEN PROPERTY",
         "10",
         213
        ],
        [
         "STOLEN PROPERTY",
         "11",
         254
        ],
        [
         "STOLEN PROPERTY",
         "12",
         346
        ],
        [
         "STOLEN PROPERTY",
         "13",
         303
        ],
        [
         "STOLEN PROPERTY",
         "14",
         322
        ],
        [
         "STOLEN PROPERTY",
         "15",
         357
        ],
        [
         "STOLEN PROPERTY",
         "16",
         364
        ],
        [
         "STOLEN PROPERTY",
         "17",
         374
        ],
        [
         "STOLEN PROPERTY",
         "18",
         321
        ],
        [
         "STOLEN PROPERTY",
         "19",
         296
        ],
        [
         "STOLEN PROPERTY",
         "20",
         288
        ],
        [
         "STOLEN PROPERTY",
         "21",
         275
        ],
        [
         "STOLEN PROPERTY",
         "22",
         271
        ],
        [
         "STOLEN PROPERTY",
         "23",
         267
        ],
        [
         "SUICIDE",
         "00",
         12
        ],
        [
         "SUICIDE",
         "01",
         13
        ],
        [
         "SUICIDE",
         "02",
         13
        ],
        [
         "SUICIDE",
         "03",
         9
        ],
        [
         "SUICIDE",
         "04",
         4
        ],
        [
         "SUICIDE",
         "05",
         9
        ],
        [
         "SUICIDE",
         "06",
         13
        ],
        [
         "SUICIDE",
         "07",
         13
        ],
        [
         "SUICIDE",
         "08",
         24
        ],
        [
         "SUICIDE",
         "09",
         21
        ],
        [
         "SUICIDE",
         "10",
         26
        ],
        [
         "SUICIDE",
         "11",
         36
        ],
        [
         "SUICIDE",
         "12",
         33
        ],
        [
         "SUICIDE",
         "13",
         30
        ],
        [
         "SUICIDE",
         "14",
         40
        ],
        [
         "SUICIDE",
         "15",
         37
        ],
        [
         "SUICIDE",
         "16",
         29
        ],
        [
         "SUICIDE",
         "17",
         35
        ],
        [
         "SUICIDE",
         "18",
         23
        ],
        [
         "SUICIDE",
         "19",
         24
        ],
        [
         "SUICIDE",
         "20",
         25
        ],
        [
         "SUICIDE",
         "21",
         22
        ],
        [
         "SUICIDE",
         "22",
         15
        ],
        [
         "SUICIDE",
         "23",
         13
        ],
        [
         "SUSPICIOUS OCC",
         "00",
         2148
        ],
        [
         "SUSPICIOUS OCC",
         "01",
         996
        ],
        [
         "SUSPICIOUS OCC",
         "02",
         871
        ],
        [
         "SUSPICIOUS OCC",
         "03",
         626
        ],
        [
         "SUSPICIOUS OCC",
         "04",
         413
        ],
        [
         "SUSPICIOUS OCC",
         "05",
         297
        ],
        [
         "SUSPICIOUS OCC",
         "06",
         532
        ],
        [
         "SUSPICIOUS OCC",
         "07",
         794
        ],
        [
         "SUSPICIOUS OCC",
         "08",
         1325
        ],
        [
         "SUSPICIOUS OCC",
         "09",
         1462
        ],
        [
         "SUSPICIOUS OCC",
         "10",
         1527
        ],
        [
         "SUSPICIOUS OCC",
         "11",
         1545
        ],
        [
         "SUSPICIOUS OCC",
         "12",
         2175
        ],
        [
         "SUSPICIOUS OCC",
         "13",
         1628
        ],
        [
         "SUSPICIOUS OCC",
         "14",
         1635
        ],
        [
         "SUSPICIOUS OCC",
         "15",
         1737
        ],
        [
         "SUSPICIOUS OCC",
         "16",
         1690
        ],
        [
         "SUSPICIOUS OCC",
         "17",
         1607
        ],
        [
         "SUSPICIOUS OCC",
         "18",
         1628
        ],
        [
         "SUSPICIOUS OCC",
         "19",
         1480
        ],
        [
         "SUSPICIOUS OCC",
         "20",
         1322
        ],
        [
         "SUSPICIOUS OCC",
         "21",
         1368
        ],
        [
         "SUSPICIOUS OCC",
         "22",
         1318
        ],
        [
         "SUSPICIOUS OCC",
         "23",
         1202
        ],
        [
         "TREA",
         "05",
         1
        ],
        [
         "TREA",
         "06",
         1
        ],
        [
         "TREA",
         "12",
         1
        ],
        [
         "TREA",
         "20",
         1
        ],
        [
         "TRESPASS",
         "00",
         260
        ],
        [
         "TRESPASS",
         "01",
         180
        ],
        [
         "TRESPASS",
         "02",
         241
        ],
        [
         "TRESPASS",
         "03",
         174
        ],
        [
         "TRESPASS",
         "04",
         138
        ],
        [
         "TRESPASS",
         "05",
         213
        ],
        [
         "TRESPASS",
         "06",
         450
        ],
        [
         "TRESPASS",
         "07",
         623
        ],
        [
         "TRESPASS",
         "08",
         582
        ],
        [
         "TRESPASS",
         "09",
         519
        ],
        [
         "TRESPASS",
         "10",
         497
        ],
        [
         "TRESPASS",
         "11",
         446
        ],
        [
         "TRESPASS",
         "12",
         463
        ],
        [
         "TRESPASS",
         "13",
         402
        ],
        [
         "TRESPASS",
         "14",
         359
        ],
        [
         "TRESPASS",
         "15",
         441
        ],
        [
         "TRESPASS",
         "16",
         434
        ],
        [
         "TRESPASS",
         "17",
         431
        ],
        [
         "TRESPASS",
         "18",
         436
        ],
        [
         "TRESPASS",
         "19",
         406
        ],
        [
         "TRESPASS",
         "20",
         382
        ],
        [
         "TRESPASS",
         "21",
         384
        ],
        [
         "TRESPASS",
         "22",
         299
        ],
        [
         "TRESPASS",
         "23",
         246
        ],
        [
         "VANDALISM",
         "00",
         2654
        ],
        [
         "VANDALISM",
         "01",
         1916
        ],
        [
         "VANDALISM",
         "02",
         1780
        ],
        [
         "VANDALISM",
         "03",
         1223
        ],
        [
         "VANDALISM",
         "04",
         798
        ],
        [
         "VANDALISM",
         "05",
         697
        ],
        [
         "VANDALISM",
         "06",
         782
        ],
        [
         "VANDALISM",
         "07",
         932
        ],
        [
         "VANDALISM",
         "08",
         1347
        ],
        [
         "VANDALISM",
         "09",
         1375
        ],
        [
         "VANDALISM",
         "10",
         1385
        ],
        [
         "VANDALISM",
         "11",
         1290
        ],
        [
         "VANDALISM",
         "12",
         1683
        ],
        [
         "VANDALISM",
         "13",
         1343
        ],
        [
         "VANDALISM",
         "14",
         1534
        ],
        [
         "VANDALISM",
         "15",
         1833
        ],
        [
         "VANDALISM",
         "16",
         1988
        ],
        [
         "VANDALISM",
         "17",
         2696
        ],
        [
         "VANDALISM",
         "18",
         3200
        ],
        [
         "VANDALISM",
         "19",
         3053
        ],
        [
         "VANDALISM",
         "20",
         2956
        ],
        [
         "VANDALISM",
         "21",
         3149
        ],
        [
         "VANDALISM",
         "22",
         3124
        ],
        [
         "VANDALISM",
         "23",
         2853
        ],
        [
         "VEHICLE THEFT",
         "00",
         1568
        ],
        [
         "VEHICLE THEFT",
         "01",
         1129
        ],
        [
         "VEHICLE THEFT",
         "02",
         889
        ],
        [
         "VEHICLE THEFT",
         "03",
         552
        ],
        [
         "VEHICLE THEFT",
         "04",
         440
        ],
        [
         "VEHICLE THEFT",
         "05",
         392
        ],
        [
         "VEHICLE THEFT",
         "06",
         635
        ],
        [
         "VEHICLE THEFT",
         "07",
         1049
        ],
        [
         "VEHICLE THEFT",
         "08",
         1548
        ],
        [
         "VEHICLE THEFT",
         "09",
         1580
        ],
        [
         "VEHICLE THEFT",
         "10",
         1452
        ],
        [
         "VEHICLE THEFT",
         "11",
         1321
        ],
        [
         "VEHICLE THEFT",
         "12",
         1938
        ],
        [
         "VEHICLE THEFT",
         "13",
         1453
        ],
        [
         "VEHICLE THEFT",
         "14",
         1687
        ],
        [
         "VEHICLE THEFT",
         "15",
         1917
        ],
        [
         "VEHICLE THEFT",
         "16",
         2292
        ],
        [
         "VEHICLE THEFT",
         "17",
         2942
        ],
        [
         "VEHICLE THEFT",
         "18",
         3485
        ],
        [
         "VEHICLE THEFT",
         "19",
         3079
        ],
        [
         "VEHICLE THEFT",
         "20",
         3139
        ],
        [
         "VEHICLE THEFT",
         "21",
         2997
        ],
        [
         "VEHICLE THEFT",
         "22",
         3110
        ],
        [
         "VEHICLE THEFT",
         "23",
         2888
        ],
        [
         "WARRANTS",
         "00",
         1933
        ],
        [
         "WARRANTS",
         "01",
         1413
        ],
        [
         "WARRANTS",
         "02",
         1212
        ],
        [
         "WARRANTS",
         "03",
         950
        ],
        [
         "WARRANTS",
         "04",
         674
        ],
        [
         "WARRANTS",
         "05",
         459
        ],
        [
         "WARRANTS",
         "06",
         792
        ],
        [
         "WARRANTS",
         "07",
         1613
        ],
        [
         "WARRANTS",
         "08",
         2000
        ],
        [
         "WARRANTS",
         "09",
         2297
        ],
        [
         "WARRANTS",
         "10",
         2466
        ],
        [
         "WARRANTS",
         "11",
         2591
        ],
        [
         "WARRANTS",
         "12",
         2643
        ],
        [
         "WARRANTS",
         "13",
         2870
        ],
        [
         "WARRANTS",
         "14",
         2789
        ],
        [
         "WARRANTS",
         "15",
         2786
        ],
        [
         "WARRANTS",
         "16",
         3010
        ],
        [
         "WARRANTS",
         "17",
         3018
        ],
        [
         "WARRANTS",
         "18",
         2722
        ],
        [
         "WARRANTS",
         "19",
         2381
        ],
        [
         "WARRANTS",
         "20",
         1913
        ],
        [
         "WARRANTS",
         "21",
         1868
        ],
        [
         "WARRANTS",
         "22",
         2186
        ],
        [
         "WARRANTS",
         "23",
         2042
        ],
        [
         "WEAPON LAWS",
         "00",
         466
        ],
        [
         "WEAPON LAWS",
         "01",
         354
        ],
        [
         "WEAPON LAWS",
         "02",
         323
        ],
        [
         "WEAPON LAWS",
         "03",
         199
        ],
        [
         "WEAPON LAWS",
         "04",
         142
        ],
        [
         "WEAPON LAWS",
         "05",
         74
        ],
        [
         "WEAPON LAWS",
         "06",
         98
        ],
        [
         "WEAPON LAWS",
         "07",
         197
        ],
        [
         "WEAPON LAWS",
         "08",
         236
        ],
        [
         "WEAPON LAWS",
         "09",
         247
        ],
        [
         "WEAPON LAWS",
         "10",
         272
        ],
        [
         "WEAPON LAWS",
         "11",
         335
        ],
        [
         "WEAPON LAWS",
         "12",
         372
        ],
        [
         "WEAPON LAWS",
         "13",
         348
        ],
        [
         "WEAPON LAWS",
         "14",
         374
        ],
        [
         "WEAPON LAWS",
         "15",
         416
        ],
        [
         "WEAPON LAWS",
         "16",
         458
        ],
        [
         "WEAPON LAWS",
         "17",
         453
        ],
        [
         "WEAPON LAWS",
         "18",
         507
        ],
        [
         "WEAPON LAWS",
         "19",
         462
        ],
        [
         "WEAPON LAWS",
         "20",
         398
        ],
        [
         "WEAPON LAWS",
         "21",
         460
        ],
        [
         "WEAPON LAWS",
         "22",
         492
        ],
        [
         "WEAPON LAWS",
         "23",
         505
        ]
       ],
       "datasetInfos": [],
       "dbfsResultPath": null,
       "isJsonSchema": true,
       "metadata": {},
       "overflow": false,
       "plotOptions": {
        "customPlotOptions": {},
        "displayType": "table",
        "pivotAggregation": null,
        "pivotColumns": null,
        "xColumns": null,
        "yColumns": null
       },
       "removedWidgets": [],
       "schema": [
        {
         "metadata": "{}",
         "name": "category",
         "type": "\"string\""
        },
        {
         "metadata": "{}",
         "name": "hour",
         "type": "\"string\""
        },
        {
         "metadata": "{}",
         "name": "crime_counts",
         "type": "\"long\""
        }
       ],
       "type": "table"
      }
     },
     "output_type": "display_data"
    },
    {
     "output_type": "display_data",
     "data": {
      "text/plain": [
       "Databricks visualization. Run in Databricks to view."
      ]
     },
     "metadata": {
      "application/vnd.databricks.v1.subcommand+json": {
       "baseErrorDetails": null,
       "bindings": {},
       "collapsed": false,
       "command": "%sql WITH q AS (select category, substring(time, 1,2) as hour, count(*) as crime_counts\nfrom sf_crime\nwhere PdDistrict in ('SOUTHERN', 'MISSION', 'NORTHERN')\ngroup by category, hour\norder by category, hour) SELECT `category`,`hour`,SUM(`crime_counts`) `column_aaa6e47c260` FROM q GROUP BY `category`,`hour`",
       "commandTitle": "Visualization 1",
       "commandType": "auto",
       "commandVersion": 0,
       "commentThread": [],
       "commentsVisible": false,
       "contentSha256Hex": null,
       "customPlotOptions": {
        "redashChart": [
         {
          "key": "type",
          "value": "CHART"
         },
         {
          "key": "options",
          "value": {
           "alignYAxesAtZero": true,
           "coefficient": 1,
           "columnConfigurationMap": {
            "series": {
             "column": "category",
             "id": "column_aaa6e47c267"
            },
            "x": {
             "column": "hour",
             "id": "column_aaa6e47c266"
            },
            "y": [
             {
              "column": "crime_counts",
              "id": "column_aaa6e47c260",
              "transform": "SUM"
             }
            ]
           },
           "dateTimeFormat": "DD/MM/YYYY HH:mm",
           "direction": {
            "type": "counterclockwise"
           },
           "error_y": {
            "type": "data",
            "visible": true
           },
           "globalSeriesType": "column",
           "isAggregationOn": true,
           "legend": {
            "traceorder": "normal"
           },
           "missingValuesAsZero": true,
           "numberFormat": "0,0.[00000]",
           "percentFormat": "0[.]00%",
           "series": {
            "error_y": {
             "type": "data",
             "visible": true
            },
            "stacking": "stack"
           },
           "seriesOptions": {
            "column_aaa6e47c260": {
             "name": "crime_counts",
             "yAxis": 0
            }
           },
           "showDataLabels": false,
           "sizemode": "diameter",
           "sortX": true,
           "sortY": true,
           "swappedAxes": false,
           "textFormat": "",
           "useAggregationsUi": true,
           "valuesOptions": {},
           "version": 2,
           "xAxis": {
            "labels": {
             "enabled": true
            },
            "type": "-"
           },
           "yAxis": [
            {
             "type": "-"
            },
            {
             "opposite": true,
             "type": "-"
            }
           ]
          }
         }
        ]
       },
       "datasetPreviewNameToCmdIdMap": {},
       "diffDeletes": [],
       "diffInserts": [],
       "displayType": "redashChart",
       "error": null,
       "errorDetails": null,
       "errorSummary": null,
       "errorTraceType": null,
       "finishTime": 0,
       "globalVars": {},
       "guid": "",
       "height": "auto",
       "hideCommandCode": false,
       "hideCommandResult": false,
       "iPythonMetadata": null,
       "inputWidgets": {},
       "isLockedInExamMode": false,
       "latestUser": "a user",
       "latestUserId": null,
       "listResultMetadata": null,
       "metadata": {},
       "nuid": "63b096c5-cb4d-4fb2-8d17-131680b076bd",
       "origId": 0,
       "parentHierarchy": [],
       "pivotAggregation": null,
       "pivotColumns": null,
       "position": 23.78125,
       "resultDbfsErrorMessage": null,
       "resultDbfsStatus": "INLINED_IN_TREE",
       "results": null,
       "showCommandTitle": false,
       "startTime": 0,
       "state": "input",
       "streamStates": {},
       "subcommandOptions": {
        "queryPlan": {
         "groups": [
          {
           "column": "hour",
           "type": "column"
          },
          {
           "column": "category",
           "type": "column"
          }
         ],
         "selects": [
          {
           "column": "hour",
           "type": "column"
          },
          {
           "column": "category",
           "type": "column"
          },
          {
           "alias": "column_aaa6e47c260",
           "args": [
            {
             "column": "crime_counts",
             "type": "column"
            }
           ],
           "function": "SUM",
           "type": "function"
          }
         ]
        }
       },
       "submitTime": 0,
       "subtype": "tableResultSubCmd.visualization",
       "tableResultIndex": 0,
       "tableResultSettingsMap": {},
       "useConsistentColors": false,
       "version": "CommandV1",
       "width": "auto",
       "workflows": [],
       "xColumns": null,
       "yColumns": null
      }
     },
     "output_type": "display_data"
    }
   ],
   "source": [
    "%sql\n",
    "\n",
    "select category, substring(time, 1,2) as hour, count(*) as crime_counts\n",
    "from sf_crime\n",
    "where PdDistrict in ('SOUTHERN', 'MISSION', 'NORTHERN')\n",
    "group by category, hour\n",
    "order by category, hour"
   ]
  },
  {
   "cell_type": "markdown",
   "metadata": {
    "application/vnd.databricks.v1+cell": {
     "cellMetadata": {},
     "inputWidgets": {},
     "nuid": "05fc412a-d54d-4a1c-94dc-24ae0da1fd05",
     "showTitle": false,
     "tableResultSettingsMap": {},
     "title": ""
    }
   },
   "source": [
    "**Q7 question**\n",
    "For different category of crime, find the percentage of resolution. Based on the output, give your hints to adjust the policy."
   ]
  },
  {
   "cell_type": "code",
   "execution_count": 0,
   "metadata": {
    "application/vnd.databricks.v1+cell": {
     "cellMetadata": {
      "byteLimit": 2048000,
      "implicitDf": true,
      "rowLimit": 10000
     },
     "inputWidgets": {},
     "nuid": "8e798fca-c9ed-4e3d-ab19-71ea5355146a",
     "showTitle": false,
     "tableResultSettingsMap": {},
     "title": ""
    }
   },
   "outputs": [
    {
     "output_type": "display_data",
     "data": {
      "text/html": [
       "<style scoped>\n",
       "  .table-result-container {\n",
       "    max-height: 300px;\n",
       "    overflow: auto;\n",
       "  }\n",
       "  table, th, td {\n",
       "    border: 1px solid black;\n",
       "    border-collapse: collapse;\n",
       "  }\n",
       "  th, td {\n",
       "    padding: 5px;\n",
       "  }\n",
       "  th {\n",
       "    text-align: left;\n",
       "  }\n",
       "</style><div class='table-result-container'><table class='table-result'><thead style='background-color: white'><tr><th>category</th><th>Resolution</th><th>resolved</th><th>total</th><th>percentage</th></tr></thead><tbody><tr><td>WARRANTS</td><td>ARREST, BOOKED</td><td>93092</td><td>99821</td><td>93.26</td></tr><tr><td>DRIVING UNDER THE INFLUENCE</td><td>ARREST, BOOKED</td><td>4941</td><td>5652</td><td>87.42</td></tr><tr><td>STOLEN PROPERTY</td><td>ARREST, BOOKED</td><td>9693</td><td>11450</td><td>84.66</td></tr><tr><td>DRUG/NARCOTIC</td><td>ARREST, BOOKED</td><td>97926</td><td>117821</td><td>83.11</td></tr><tr><td>DRUNKENNESS</td><td>ARREST, BOOKED</td><td>7471</td><td>9760</td><td>76.55</td></tr><tr><td>LIQUOR LAWS</td><td>ARREST, BOOKED</td><td>1839</td><td>2840</td><td>64.75</td></tr><tr><td>WEAPON LAWS</td><td>ARREST, BOOKED</td><td>13334</td><td>21004</td><td>63.48</td></tr><tr><td>LOITERING</td><td>ARREST, CITED</td><td>1432</td><td>2402</td><td>59.62</td></tr><tr><td>PROSTITUTION</td><td>ARREST, CITED</td><td>9667</td><td>16501</td><td>58.58</td></tr><tr><td>BRIBERY</td><td>ARREST, BOOKED</td><td>418</td><td>796</td><td>52.51</td></tr><tr><td>KIDNAPPING</td><td>ARREST, BOOKED</td><td>2165</td><td>4282</td><td>50.56</td></tr><tr><td>MISSING PERSON</td><td>LOCATED</td><td>19615</td><td>44268</td><td>44.31</td></tr><tr><td>TREA</td><td>ARREST, BOOKED</td><td>6</td><td>14</td><td>42.86</td></tr><tr><td>TRESPASS</td><td>ARREST, BOOKED</td><td>7598</td><td>19194</td><td>39.59</td></tr><tr><td>OTHER OFFENSES</td><td>ARREST, BOOKED</td><td>115427</td><td>301874</td><td>38.24</td></tr><tr><td>DISORDERLY CONDUCT</td><td>ARREST, BOOKED</td><td>3702</td><td>9932</td><td>37.27</td></tr><tr><td>PROSTITUTION</td><td>ARREST, BOOKED</td><td>5780</td><td>16501</td><td>35.03</td></tr><tr><td>SECONDARY CODES</td><td>ARREST, BOOKED</td><td>7811</td><td>22378</td><td>34.90</td></tr><tr><td>GAMBLING</td><td>ARREST, BOOKED</td><td>118</td><td>343</td><td>34.40</td></tr><tr><td>OTHER OFFENSES</td><td>ARREST, CITED</td><td>94817</td><td>301874</td><td>31.41</td></tr><tr><td>ASSAULT</td><td>ARREST, BOOKED</td><td>49246</td><td>167042</td><td>29.48</td></tr><tr><td>LOITERING</td><td>ARREST, BOOKED</td><td>658</td><td>2402</td><td>27.39</td></tr><tr><td>DISORDERLY CONDUCT</td><td>ARREST, CITED</td><td>2627</td><td>9932</td><td>26.45</td></tr><tr><td>TRESPASS</td><td>ARREST, CITED</td><td>5053</td><td>19194</td><td>26.33</td></tr><tr><td>PORNOGRAPHY/OBSCENE MAT</td><td>ARREST, BOOKED</td><td>15</td><td>57</td><td>26.32</td></tr><tr><td>GAMBLING</td><td>ARREST, CITED</td><td>83</td><td>343</td><td>24.20</td></tr><tr><td>LIQUOR LAWS</td><td>ARREST, CITED</td><td>652</td><td>2840</td><td>22.96</td></tr><tr><td>FORGERY/COUNTERFEITING</td><td>ARREST, BOOKED</td><td>4339</td><td>22995</td><td>18.87</td></tr><tr><td>SEX OFFENSES, FORCIBLE</td><td>ARREST, BOOKED</td><td>1648</td><td>8747</td><td>18.84</td></tr><tr><td>SUICIDE</td><td>PSYCHOPATHIC CASE</td><td>235</td><td>1291</td><td>18.20</td></tr><tr><td>ROBBERY</td><td>ARREST, BOOKED</td><td>9598</td><td>54467</td><td>17.62</td></tr><tr><td>SEX OFFENSES, NON FORCIBLE</td><td>DISTRICT ATTORNEY REFUSES TO PROSECUTE</td><td>7</td><td>43</td><td>16.28</td></tr><tr><td>ARSON</td><td>ARREST, BOOKED</td><td>630</td><td>3875</td><td>16.26</td></tr><tr><td>EMBEZZLEMENT</td><td>ARREST, BOOKED</td><td>453</td><td>2984</td><td>15.18</td></tr><tr><td>EXTORTION</td><td>ARREST, BOOKED</td><td>107</td><td>729</td><td>14.68</td></tr><tr><td>TREA</td><td>ARREST, CITED</td><td>2</td><td>14</td><td>14.29</td></tr><tr><td>BURGLARY</td><td>ARREST, BOOKED</td><td>12765</td><td>91067</td><td>14.02</td></tr><tr><td>FRAUD</td><td>ARREST, BOOKED</td><td>4940</td><td>41348</td><td>11.95</td></tr><tr><td>NON-CRIMINAL</td><td>PSYCHOPATHIC CASE</td><td>27027</td><td>236928</td><td>11.41</td></tr><tr><td>PORNOGRAPHY/OBSCENE MAT</td><td>ARREST, CITED</td><td>6</td><td>57</td><td>10.53</td></tr><tr><td>SEX OFFENSES, NON FORCIBLE</td><td>UNFOUNDED</td><td>4</td><td>43</td><td>9.30</td></tr><tr><td>FORGERY/COUNTERFEITING</td><td>PROSECUTED BY OUTSIDE AGENCY</td><td>1866</td><td>22995</td><td>8.11</td></tr><tr><td>DRUG/NARCOTIC</td><td>ARREST, CITED</td><td>9046</td><td>117821</td><td>7.68</td></tr><tr><td>VANDALISM</td><td>ARREST, BOOKED</td><td>8734</td><td>114718</td><td>7.61</td></tr><tr><td>SEX OFFENSES, FORCIBLE</td><td>DISTRICT ATTORNEY REFUSES TO PROSECUTE</td><td>592</td><td>8747</td><td>6.77</td></tr><tr><td>DRIVING UNDER THE INFLUENCE</td><td>ARREST, CITED</td><td>380</td><td>5652</td><td>6.72</td></tr><tr><td>RECOVERED VEHICLE</td><td>ARREST, BOOKED</td><td>564</td><td>8688</td><td>6.49</td></tr><tr><td>FORGERY/COUNTERFEITING</td><td>NOT PROSECUTED</td><td>1421</td><td>22995</td><td>6.18</td></tr><tr><td>WEAPON LAWS</td><td>ARREST, CITED</td><td>1157</td><td>21004</td><td>5.51</td></tr><tr><td>BAD CHECKS</td><td>ARREST, BOOKED</td><td>49</td><td>924</td><td>5.30</td></tr><tr><td>LARCENY/THEFT</td><td>ARREST, BOOKED</td><td>25136</td><td>477975</td><td>5.26</td></tr><tr><td>BAD CHECKS</td><td>PROSECUTED BY OUTSIDE AGENCY</td><td>48</td><td>924</td><td>5.19</td></tr><tr><td>BAD CHECKS</td><td>NOT PROSECUTED</td><td>45</td><td>924</td><td>4.87</td></tr><tr><td>FRAUD</td><td>NOT PROSECUTED</td><td>1940</td><td>41348</td><td>4.69</td></tr><tr><td>SEX OFFENSES, NON FORCIBLE</td><td>ARREST, BOOKED</td><td>2</td><td>43</td><td>4.65</td></tr><tr><td>SEX OFFENSES, NON FORCIBLE</td><td>COMPLAINANT REFUSES TO PROSECUTE</td><td>2</td><td>43</td><td>4.65</td></tr><tr><td>DRUNKENNESS</td><td>ARREST, CITED</td><td>441</td><td>9760</td><td>4.52</td></tr><tr><td>SEX OFFENSES, FORCIBLE</td><td>COMPLAINANT REFUSES TO PROSECUTE</td><td>392</td><td>8747</td><td>4.48</td></tr><tr><td>ASSAULT</td><td>ARREST, CITED</td><td>7027</td><td>167042</td><td>4.21</td></tr><tr><td>NON-CRIMINAL</td><td>ARREST, BOOKED</td><td>9918</td><td>236928</td><td>4.19</td></tr><tr><td>VEHICLE THEFT</td><td>ARREST, BOOKED</td><td>5064</td><td>126228</td><td>4.01</td></tr><tr><td>VEHICLE THEFT</td><td>UNFOUNDED</td><td>4789</td><td>126228</td><td>3.79</td></tr><tr><td>PORNOGRAPHY/OBSCENE MAT</td><td>DISTRICT ATTORNEY REFUSES TO PROSECUTE</td><td>2</td><td>57</td><td>3.51</td></tr><tr><td>GAMBLING</td><td>PROSECUTED BY OUTSIDE AGENCY</td><td>12</td><td>343</td><td>3.50</td></tr><tr><td>GAMBLING</td><td>NOT PROSECUTED</td><td>12</td><td>343</td><td>3.50</td></tr><tr><td>SUSPICIOUS OCC</td><td>ARREST, BOOKED</td><td>2765</td><td>79087</td><td>3.50</td></tr><tr><td>EMBEZZLEMENT</td><td>DISTRICT ATTORNEY REFUSES TO PROSECUTE</td><td>98</td><td>2984</td><td>3.28</td></tr><tr><td>SUSPICIOUS OCC</td><td>UNFOUNDED</td><td>2507</td><td>79087</td><td>3.17</td></tr><tr><td>NON-CRIMINAL</td><td>UNFOUNDED</td><td>7398</td><td>236928</td><td>3.12</td></tr><tr><td>KIDNAPPING</td><td>DISTRICT ATTORNEY REFUSES TO PROSECUTE</td><td>129</td><td>4282</td><td>3.01</td></tr><tr><td>SECONDARY CODES</td><td>COMPLAINANT REFUSES TO PROSECUTE</td><td>621</td><td>22378</td><td>2.78</td></tr><tr><td>SUICIDE</td><td>ARREST, BOOKED</td><td>34</td><td>1291</td><td>2.63</td></tr><tr><td>VANDALISM</td><td>ARREST, CITED</td><td>2967</td><td>114718</td><td>2.59</td></tr><tr><td>MISSING PERSON</td><td>ARREST, BOOKED</td><td>1125</td><td>44268</td><td>2.54</td></tr><tr><td>SECONDARY CODES</td><td>DISTRICT ATTORNEY REFUSES TO PROSECUTE</td><td>528</td><td>22378</td><td>2.36</td></tr><tr><td>SEX OFFENSES, NON FORCIBLE</td><td>ARREST, CITED</td><td>1</td><td>43</td><td>2.33</td></tr><tr><td>KIDNAPPING</td><td>COMPLAINANT REFUSES TO PROSECUTE</td><td>99</td><td>4282</td><td>2.31</td></tr><tr><td>SEX OFFENSES, FORCIBLE</td><td>ARREST, CITED</td><td>200</td><td>8747</td><td>2.29</td></tr><tr><td>FRAUD</td><td>ARREST, CITED</td><td>921</td><td>41348</td><td>2.23</td></tr><tr><td>LARCENY/THEFT</td><td>ARREST, CITED</td><td>10463</td><td>477975</td><td>2.19</td></tr><tr><td>FRAUD</td><td>PROSECUTED BY OUTSIDE AGENCY</td><td>881</td><td>41348</td><td>2.13</td></tr><tr><td>EMBEZZLEMENT</td><td>ARREST, CITED</td><td>60</td><td>2984</td><td>2.01</td></tr><tr><td>SEX OFFENSES, FORCIBLE</td><td>UNFOUNDED</td><td>173</td><td>8747</td><td>1.98</td></tr><tr><td>BRIBERY</td><td>DISTRICT ATTORNEY REFUSES TO PROSECUTE</td><td>15</td><td>796</td><td>1.88</td></tr><tr><td>MISSING PERSON</td><td>UNFOUNDED</td><td>827</td><td>44268</td><td>1.87</td></tr><tr><td>PORNOGRAPHY/OBSCENE MAT</td><td>UNFOUNDED</td><td>1</td><td>57</td><td>1.75</td></tr><tr><td>FORGERY/COUNTERFEITING</td><td>UNFOUNDED</td><td>393</td><td>22995</td><td>1.71</td></tr><tr><td>EXTORTION</td><td>DISTRICT ATTORNEY REFUSES TO PROSECUTE</td><td>12</td><td>729</td><td>1.65</td></tr><tr><td>EMBEZZLEMENT</td><td>COMPLAINANT REFUSES TO PROSECUTE</td><td>48</td><td>2984</td><td>1.61</td></tr><tr><td>EMBEZZLEMENT</td><td>UNFOUNDED</td><td>46</td><td>2984</td><td>1.54</td></tr><tr><td>BAD CHECKS</td><td>DISTRICT ATTORNEY REFUSES TO PROSECUTE</td><td>14</td><td>924</td><td>1.52</td></tr><tr><td>EMBEZZLEMENT</td><td>PROSECUTED BY OUTSIDE AGENCY</td><td>45</td><td>2984</td><td>1.51</td></tr><tr><td>SUICIDE</td><td>LOCATED</td><td>19</td><td>1291</td><td>1.47</td></tr><tr><td>EMBEZZLEMENT</td><td>NOT PROSECUTED</td><td>44</td><td>2984</td><td>1.47</td></tr><tr><td>STOLEN PROPERTY</td><td>ARREST, CITED</td><td>161</td><td>11450</td><td>1.41</td></tr><tr><td>BRIBERY</td><td>COMPLAINANT REFUSES TO PROSECUTE</td><td>11</td><td>796</td><td>1.38</td></tr><tr><td>EXTORTION</td><td>COMPLAINANT REFUSES TO PROSECUTE</td><td>10</td><td>729</td><td>1.37</td></tr><tr><td>NON-CRIMINAL</td><td>ARREST, CITED</td><td>3220</td><td>236928</td><td>1.36</td></tr><tr><td>BAD CHECKS</td><td>UNFOUNDED</td><td>12</td><td>924</td><td>1.30</td></tr><tr><td>EMBEZZLEMENT</td><td>EXCEPTIONAL CLEARANCE</td><td>38</td><td>2984</td><td>1.27</td></tr><tr><td>ASSAULT</td><td>DISTRICT ATTORNEY REFUSES TO PROSECUTE</td><td>2051</td><td>167042</td><td>1.23</td></tr><tr><td>SEX OFFENSES, FORCIBLE</td><td>EXCEPTIONAL CLEARANCE</td><td>104</td><td>8747</td><td>1.19</td></tr><tr><td>SUSPICIOUS OCC</td><td>ARREST, CITED</td><td>889</td><td>79087</td><td>1.12</td></tr><tr><td>EXTORTION</td><td>UNFOUNDED</td><td>8</td><td>729</td><td>1.10</td></tr><tr><td>ASSAULT</td><td>COMPLAINANT REFUSES TO PROSECUTE</td><td>1797</td><td>167042</td><td>1.08</td></tr><tr><td>FORGERY/COUNTERFEITING</td><td>ARREST, CITED</td><td>247</td><td>22995</td><td>1.07</td></tr><tr><td>ROBBERY</td><td>COMPLAINANT REFUSES TO PROSECUTE</td><td>536</td><td>54467</td><td>0.98</td></tr><tr><td>SECONDARY CODES</td><td>UNFOUNDED</td><td>217</td><td>22378</td><td>0.97</td></tr><tr><td>MISSING PERSON</td><td>PSYCHOPATHIC CASE</td><td>426</td><td>44268</td><td>0.96</td></tr><tr><td>ROBBERY</td><td>DISTRICT ATTORNEY REFUSES TO PROSECUTE</td><td>500</td><td>54467</td><td>0.92</td></tr><tr><td>WARRANTS</td><td>ARREST, CITED</td><td>885</td><td>99821</td><td>0.89</td></tr><tr><td>SECONDARY CODES</td><td>ARREST, CITED</td><td>188</td><td>22378</td><td>0.84</td></tr><tr><td>EXTORTION</td><td>ARREST, CITED</td><td>6</td><td>729</td><td>0.82</td></tr><tr><td>KIDNAPPING</td><td>UNFOUNDED</td><td>35</td><td>4282</td><td>0.82</td></tr><tr><td>PROSTITUTION</td><td>EXCEPTIONAL CLEARANCE</td><td>131</td><td>16501</td><td>0.79</td></tr><tr><td>SUSPICIOUS OCC</td><td>COMPLAINANT REFUSES TO PROSECUTE</td><td>611</td><td>79087</td><td>0.77</td></tr><tr><td>ROBBERY</td><td>UNFOUNDED</td><td>408</td><td>54467</td><td>0.75</td></tr><tr><td>WEAPON LAWS</td><td>UNFOUNDED</td><td>156</td><td>21004</td><td>0.74</td></tr><tr><td>SUICIDE</td><td>EXCEPTIONAL CLEARANCE</td><td>9</td><td>1291</td><td>0.70</td></tr><tr><td>SUICIDE</td><td>UNFOUNDED</td><td>9</td><td>1291</td><td>0.70</td></tr><tr><td>LIQUOR LAWS</td><td>PROSECUTED BY OUTSIDE AGENCY</td><td>20</td><td>2840</td><td>0.70</td></tr><tr><td>FRAUD</td><td>UNFOUNDED</td><td>285</td><td>41348</td><td>0.69</td></tr><tr><td>FORGERY/COUNTERFEITING</td><td>DISTRICT ATTORNEY REFUSES TO PROSECUTE</td><td>156</td><td>22995</td><td>0.68</td></tr><tr><td>MISSING PERSON</td><td>ARREST, CITED</td><td>296</td><td>44268</td><td>0.67</td></tr><tr><td>ARSON</td><td>UNFOUNDED</td><td>25</td><td>3875</td><td>0.65</td></tr><tr><td>BAD CHECKS</td><td>EXCEPTIONAL CLEARANCE</td><td>6</td><td>924</td><td>0.65</td></tr><tr><td>BRIBERY</td><td>UNFOUNDED</td><td>5</td><td>796</td><td>0.63</td></tr><tr><td>BRIBERY</td><td>ARREST, CITED</td><td>5</td><td>796</td><td>0.63</td></tr><tr><td>MISSING PERSON</td><td>EXCEPTIONAL CLEARANCE</td><td>271</td><td>44268</td><td>0.61</td></tr><tr><td>ASSAULT</td><td>UNFOUNDED</td><td>1000</td><td>167042</td><td>0.60</td></tr><tr><td>DISORDERLY CONDUCT</td><td>UNFOUNDED</td><td>60</td><td>9932</td><td>0.60</td></tr><tr><td>NON-CRIMINAL</td><td>COMPLAINANT REFUSES TO PROSECUTE</td><td>1432</td><td>236928</td><td>0.60</td></tr><tr><td>BURGLARY</td><td>UNFOUNDED</td><td>545</td><td>91067</td><td>0.60</td></tr><tr><td>GAMBLING</td><td>UNFOUNDED</td><td>2</td><td>343</td><td>0.58</td></tr><tr><td>SUSPICIOUS OCC</td><td>NOT PROSECUTED</td><td>456</td><td>79087</td><td>0.58</td></tr><tr><td>OTHER OFFENSES</td><td>UNFOUNDED</td><td>1715</td><td>301874</td><td>0.57</td></tr><tr><td>EXTORTION</td><td>EXCEPTIONAL CLEARANCE</td><td>4</td><td>729</td><td>0.55</td></tr><tr><td>BAD CHECKS</td><td>COMPLAINANT REFUSES TO PROSECUTE</td><td>5</td><td>924</td><td>0.54</td></tr><tr><td>STOLEN PROPERTY</td><td>NOT PROSECUTED</td><td>59</td><td>11450</td><td>0.52</td></tr><tr><td>SUSPICIOUS OCC</td><td>DISTRICT ATTORNEY REFUSES TO PROSECUTE</td><td>389</td><td>79087</td><td>0.49</td></tr><tr><td>WEAPON LAWS</td><td>DISTRICT ATTORNEY REFUSES TO PROSECUTE</td><td>94</td><td>21004</td><td>0.45</td></tr><tr><td>BURGLARY</td><td>DISTRICT ATTORNEY REFUSES TO PROSECUTE</td><td>413</td><td>91067</td><td>0.45</td></tr><tr><td>ARSON</td><td>PSYCHOPATHIC CASE</td><td>17</td><td>3875</td><td>0.44</td></tr><tr><td>ARSON</td><td>ARREST, CITED</td><td>17</td><td>3875</td><td>0.44</td></tr><tr><td>EXTORTION</td><td>PROSECUTED BY OUTSIDE AGENCY</td><td>3</td><td>729</td><td>0.41</td></tr><tr><td>NON-CRIMINAL</td><td>EXCEPTIONAL CLEARANCE</td><td>945</td><td>236928</td><td>0.40</td></tr><tr><td>KIDNAPPING</td><td>ARREST, CITED</td><td>17</td><td>4282</td><td>0.40</td></tr><tr><td>BRIBERY</td><td>EXCEPTIONAL CLEARANCE</td><td>3</td><td>796</td><td>0.38</td></tr><tr><td>ASSAULT</td><td>EXCEPTIONAL CLEARANCE</td><td>632</td><td>167042</td><td>0.38</td></tr><tr><td>DRUNKENNESS</td><td>PSYCHOPATHIC CASE</td><td>37</td><td>9760</td><td>0.38</td></tr><tr><td>VANDALISM</td><td>UNFOUNDED</td><td>434</td><td>114718</td><td>0.38</td></tr><tr><td>NON-CRIMINAL</td><td>LOCATED</td><td>866</td><td>236928</td><td>0.37</td></tr><tr><td>TRESPASS</td><td>UNFOUNDED</td><td>68</td><td>19194</td><td>0.35</td></tr><tr><td>KIDNAPPING</td><td>PROSECUTED BY OUTSIDE AGENCY</td><td>15</td><td>4282</td><td>0.35</td></tr><tr><td>NON-CRIMINAL</td><td>NOT PROSECUTED</td><td>796</td><td>236928</td><td>0.34</td></tr><tr><td>FORGERY/COUNTERFEITING</td><td>EXCEPTIONAL CLEARANCE</td><td>76</td><td>22995</td><td>0.33</td></tr><tr><td>SUSPICIOUS OCC</td><td>EXCEPTIONAL CLEARANCE</td><td>262</td><td>79087</td><td>0.33</td></tr><tr><td>LARCENY/THEFT</td><td>NOT PROSECUTED</td><td>1600</td><td>477975</td><td>0.33</td></tr><tr><td>KIDNAPPING</td><td>EXCEPTIONAL CLEARANCE</td><td>14</td><td>4282</td><td>0.33</td></tr><tr><td>BURGLARY</td><td>COMPLAINANT REFUSES TO PROSECUTE</td><td>298</td><td>91067</td><td>0.33</td></tr><tr><td>SUSPICIOUS OCC</td><td>PROSECUTED BY OUTSIDE AGENCY</td><td>256</td><td>79087</td><td>0.32</td></tr><tr><td>FRAUD</td><td>EXCEPTIONAL CLEARANCE</td><td>129</td><td>41348</td><td>0.31</td></tr><tr><td>FRAUD</td><td>DISTRICT ATTORNEY REFUSES TO PROSECUTE</td><td>130</td><td>41348</td><td>0.31</td></tr><tr><td>WEAPON LAWS</td><td>NOT PROSECUTED</td><td>66</td><td>21004</td><td>0.31</td></tr><tr><td>SUSPICIOUS OCC</td><td>LOCATED</td><td>235</td><td>79087</td><td>0.30</td></tr><tr><td>GAMBLING</td><td>DISTRICT ATTORNEY REFUSES TO PROSECUTE</td><td>1</td><td>343</td><td>0.29</td></tr><tr><td>GAMBLING</td><td>EXCEPTIONAL CLEARANCE</td><td>1</td><td>343</td><td>0.29</td></tr><tr><td>DRUNKENNESS</td><td>UNFOUNDED</td><td>28</td><td>9760</td><td>0.29</td></tr><tr><td>TRESPASS</td><td>COMPLAINANT REFUSES TO PROSECUTE</td><td>56</td><td>19194</td><td>0.29</td></tr><tr><td>DISORDERLY CONDUCT</td><td>COMPLAINANT REFUSES TO PROSECUTE</td><td>28</td><td>9932</td><td>0.28</td></tr><tr><td>EXTORTION</td><td>NOT PROSECUTED</td><td>2</td><td>729</td><td>0.27</td></tr><tr><td>TRESPASS</td><td>PSYCHOPATHIC CASE</td><td>52</td><td>19194</td><td>0.27</td></tr><tr><td>SUSPICIOUS OCC</td><td>PSYCHOPATHIC CASE</td><td>202</td><td>79087</td><td>0.26</td></tr><tr><td>SEX OFFENSES, FORCIBLE</td><td>PROSECUTED BY OUTSIDE AGENCY</td><td>23</td><td>8747</td><td>0.26</td></tr><tr><td>STOLEN PROPERTY</td><td>PROSECUTED BY OUTSIDE AGENCY</td><td>30</td><td>11450</td><td>0.26</td></tr><tr><td>LARCENY/THEFT</td><td>UNFOUNDED</td><td>1221</td><td>477975</td><td>0.26</td></tr><tr><td>SECONDARY CODES</td><td>NOT PROSECUTED</td><td>56</td><td>22378</td><td>0.25</td></tr><tr><td>OTHER OFFENSES</td><td>PROSECUTED BY OUTSIDE AGENCY</td><td>718</td><td>301874</td><td>0.24</td></tr><tr><td>ASSAULT</td><td>PSYCHOPATHIC CASE</td><td>403</td><td>167042</td><td>0.24</td></tr><tr><td>DRUNKENNESS</td><td>NOT PROSECUTED</td><td>23</td><td>9760</td><td>0.24</td></tr><tr><td>STOLEN PROPERTY</td><td>DISTRICT ATTORNEY REFUSES TO PROSECUTE</td><td>27</td><td>11450</td><td>0.24</td></tr><tr><td>VANDALISM</td><td>COMPLAINANT REFUSES TO PROSECUTE</td><td>264</td><td>114718</td><td>0.23</td></tr><tr><td>SECONDARY CODES</td><td>EXCEPTIONAL CLEARANCE</td><td>46</td><td>22378</td><td>0.21</td></tr><tr><td>OTHER OFFENSES</td><td>DISTRICT ATTORNEY REFUSES TO PROSECUTE</td><td>635</td><td>301874</td><td>0.21</td></tr><tr><td>WEAPON LAWS</td><td>COMPLAINANT REFUSES TO PROSECUTE</td><td>45</td><td>21004</td><td>0.21</td></tr><tr><td>SEX OFFENSES, FORCIBLE</td><td>NOT PROSECUTED</td><td>18</td><td>8747</td><td>0.21</td></tr><tr><td>OTHER OFFENSES</td><td>COMPLAINANT REFUSES TO PROSECUTE</td><td>604</td><td>301874</td><td>0.20</td></tr><tr><td>ROBBERY</td><td>NOT PROSECUTED</td><td>109</td><td>54467</td><td>0.20</td></tr><tr><td>NON-CRIMINAL</td><td>PROSECUTED BY OUTSIDE AGENCY</td><td>476</td><td>236928</td><td>0.20</td></tr><tr><td>NON-CRIMINAL</td><td>DISTRICT ATTORNEY REFUSES TO PROSECUTE</td><td>470</td><td>236928</td><td>0.20</td></tr><tr><td>WEAPON LAWS</td><td>EXCEPTIONAL CLEARANCE</td><td>39</td><td>21004</td><td>0.19</td></tr><tr><td>DRUG/NARCOTIC</td><td>UNFOUNDED</td><td>219</td><td>117821</td><td>0.19</td></tr><tr><td>LIQUOR LAWS</td><td>NOT PROSECUTED</td><td>5</td><td>2840</td><td>0.18</td></tr><tr><td>FORGERY/COUNTERFEITING</td><td>COMPLAINANT REFUSES TO PROSECUTE</td><td>42</td><td>22995</td><td>0.18</td></tr><tr><td>DISORDERLY CONDUCT</td><td>PSYCHOPATHIC CASE</td><td>18</td><td>9932</td><td>0.18</td></tr><tr><td>LOITERING</td><td>NOT PROSECUTED</td><td>4</td><td>2402</td><td>0.17</td></tr><tr><td>ROBBERY</td><td>ARREST, CITED</td><td>90</td><td>54467</td><td>0.17</td></tr><tr><td>VANDALISM</td><td>DISTRICT ATTORNEY REFUSES TO PROSECUTE</td><td>191</td><td>114718</td><td>0.17</td></tr><tr><td>VANDALISM</td><td>PSYCHOPATHIC CASE</td><td>196</td><td>114718</td><td>0.17</td></tr><tr><td>BURGLARY</td><td>ARREST, CITED</td><td>146</td><td>91067</td><td>0.16</td></tr><tr><td>SUICIDE</td><td>ARREST, CITED</td><td>2</td><td>1291</td><td>0.15</td></tr><tr><td>ROBBERY</td><td>EXCEPTIONAL CLEARANCE</td><td>82</td><td>54467</td><td>0.15</td></tr><tr><td>PROSTITUTION</td><td>UNFOUNDED</td><td>25</td><td>16501</td><td>0.15</td></tr><tr><td>VEHICLE THEFT</td><td>ARREST, CITED</td><td>185</td><td>126228</td><td>0.15</td></tr><tr><td>STOLEN PROPERTY</td><td>UNFOUNDED</td><td>17</td><td>11450</td><td>0.15</td></tr><tr><td>BURGLARY</td><td>EXCEPTIONAL CLEARANCE</td><td>134</td><td>91067</td><td>0.15</td></tr><tr><td>LIQUOR LAWS</td><td>LOCATED</td><td>4</td><td>2840</td><td>0.14</td></tr><tr><td>SECONDARY CODES</td><td>PROSECUTED BY OUTSIDE AGENCY</td><td>31</td><td>22378</td><td>0.14</td></tr><tr><td>OTHER OFFENSES</td><td>NOT PROSECUTED</td><td>433</td><td>301874</td><td>0.14</td></tr><tr><td>SEX OFFENSES, FORCIBLE</td><td>LOCATED</td><td>12</td><td>8747</td><td>0.14</td></tr><tr><td>KIDNAPPING</td><td>NOT PROSECUTED</td><td>6</td><td>4282</td><td>0.14</td></tr><tr><td>SECONDARY CODES</td><td>PSYCHOPATHIC CASE</td><td>30</td><td>22378</td><td>0.13</td></tr><tr><td>WARRANTS</td><td>UNFOUNDED</td><td>132</td><td>99821</td><td>0.13</td></tr><tr><td>BRIBERY</td><td>NOT PROSECUTED</td><td>1</td><td>796</td><td>0.13</td></tr><tr><td>TRESPASS</td><td>NOT PROSECUTED</td><td>24</td><td>19194</td><td>0.13</td></tr><tr><td>STOLEN PROPERTY</td><td>EXCEPTIONAL CLEARANCE</td><td>15</td><td>11450</td><td>0.13</td></tr><tr><td>OTHER OFFENSES</td><td>EXCEPTIONAL CLEARANCE</td><td>361</td><td>301874</td><td>0.12</td></tr><tr><td>DRUNKENNESS</td><td>COMPLAINANT REFUSES TO PROSECUTE</td><td>12</td><td>9760</td><td>0.12</td></tr><tr><td>LOITERING</td><td>UNFOUNDED</td><td>3</td><td>2402</td><td>0.12</td></tr><tr><td>PROSTITUTION</td><td>DISTRICT ATTORNEY REFUSES TO PROSECUTE</td><td>20</td><td>16501</td><td>0.12</td></tr><tr><td>DRUG/NARCOTIC</td><td>NOT PROSECUTED</td><td>139</td><td>117821</td><td>0.12</td></tr><tr><td>KIDNAPPING</td><td>LOCATED</td><td>5</td><td>4282</td><td>0.12</td></tr><tr><td>FRAUD</td><td>COMPLAINANT REFUSES TO PROSECUTE</td><td>46</td><td>41348</td><td>0.11</td></tr><tr><td>LIQUOR LAWS</td><td>UNFOUNDED</td><td>3</td><td>2840</td><td>0.11</td></tr><tr><td>LIQUOR LAWS</td><td>PSYCHOPATHIC CASE</td><td>3</td><td>2840</td><td>0.11</td></tr><tr><td>DRIVING UNDER THE INFLUENCE</td><td>UNFOUNDED</td><td>6</td><td>5652</td><td>0.11</td></tr><tr><td>SEX OFFENSES, FORCIBLE</td><td>PSYCHOPATHIC CASE</td><td>10</td><td>8747</td><td>0.11</td></tr><tr><td>BAD CHECKS</td><td>ARREST, CITED</td><td>1</td><td>924</td><td>0.11</td></tr><tr><td>DISORDERLY CONDUCT</td><td>NOT PROSECUTED</td><td>11</td><td>9932</td><td>0.11</td></tr><tr><td>TRESPASS</td><td>EXCEPTIONAL CLEARANCE</td><td>22</td><td>19194</td><td>0.11</td></tr><tr><td>WEAPON LAWS</td><td>PSYCHOPATHIC CASE</td><td>20</td><td>21004</td><td>0.10</td></tr><tr><td>EMBEZZLEMENT</td><td>LOCATED</td><td>3</td><td>2984</td><td>0.10</td></tr><tr><td>DISORDERLY CONDUCT</td><td>EXCEPTIONAL CLEARANCE</td><td>10</td><td>9932</td><td>0.10</td></tr><tr><td>LARCENY/THEFT</td><td>COMPLAINANT REFUSES TO PROSECUTE</td><td>471</td><td>477975</td><td>0.10</td></tr><tr><td>LARCENY/THEFT</td><td>DISTRICT ATTORNEY REFUSES TO PROSECUTE</td><td>467</td><td>477975</td><td>0.10</td></tr><tr><td>ROBBERY</td><td>PROSECUTED BY OUTSIDE AGENCY</td><td>47</td><td>54467</td><td>0.09</td></tr><tr><td>DISORDERLY CONDUCT</td><td>DISTRICT ATTORNEY REFUSES TO PROSECUTE</td><td>9</td><td>9932</td><td>0.09</td></tr><tr><td>TRESPASS</td><td>DISTRICT ATTORNEY REFUSES TO PROSECUTE</td><td>18</td><td>19194</td><td>0.09</td></tr><tr><td>LARCENY/THEFT</td><td>EXCEPTIONAL CLEARANCE</td><td>442</td><td>477975</td><td>0.09</td></tr><tr><td>SUICIDE</td><td>DISTRICT ATTORNEY REFUSES TO PROSECUTE</td><td>1</td><td>1291</td><td>0.08</td></tr><tr><td>ARSON</td><td>NOT PROSECUTED</td><td>3</td><td>3875</td><td>0.08</td></tr><tr><td>ARSON</td><td>PROSECUTED BY OUTSIDE AGENCY</td><td>3</td><td>3875</td><td>0.08</td></tr><tr><td>ARSON</td><td>COMPLAINANT REFUSES TO PROSECUTE</td><td>3</td><td>3875</td><td>0.08</td></tr><tr><td>ASSAULT</td><td>NOT PROSECUTED</td><td>136</td><td>167042</td><td>0.08</td></tr><tr><td>DRUNKENNESS</td><td>LOCATED</td><td>8</td><td>9760</td><td>0.08</td></tr><tr><td>LOITERING</td><td>DISTRICT ATTORNEY REFUSES TO PROSECUTE</td><td>2</td><td>2402</td><td>0.08</td></tr><tr><td>LOITERING</td><td>LOCATED</td><td>2</td><td>2402</td><td>0.08</td></tr><tr><td>MISSING PERSON</td><td>PROSECUTED BY OUTSIDE AGENCY</td><td>32</td><td>44268</td><td>0.07</td></tr><tr><td>OTHER OFFENSES</td><td>PSYCHOPATHIC CASE</td><td>212</td><td>301874</td><td>0.07</td></tr><tr><td>DRUNKENNESS</td><td>EXCEPTIONAL CLEARANCE</td><td>7</td><td>9760</td><td>0.07</td></tr><tr><td>WEAPON LAWS</td><td>PROSECUTED BY OUTSIDE AGENCY</td><td>15</td><td>21004</td><td>0.07</td></tr><tr><td>PROSTITUTION</td><td>COMPLAINANT REFUSES TO PROSECUTE</td><td>11</td><td>16501</td><td>0.07</td></tr><tr><td>EMBEZZLEMENT</td><td>PSYCHOPATHIC CASE</td><td>2</td><td>2984</td><td>0.07</td></tr><tr><td>RECOVERED VEHICLE</td><td>ARREST, CITED</td><td>6</td><td>8688</td><td>0.07</td></tr><tr><td>VANDALISM</td><td>EXCEPTIONAL CLEARANCE</td><td>83</td><td>114718</td><td>0.07</td></tr><tr><td>KIDNAPPING</td><td>PSYCHOPATHIC CASE</td><td>3</td><td>4282</td><td>0.07</td></tr><tr><td>ASSAULT</td><td>LOCATED</td><td>93</td><td>167042</td><td>0.06</td></tr><tr><td>ASSAULT</td><td>PROSECUTED BY OUTSIDE AGENCY</td><td>102</td><td>167042</td><td>0.06</td></tr><tr><td>DRUNKENNESS</td><td>DISTRICT ATTORNEY REFUSES TO PROSECUTE</td><td>6</td><td>9760</td><td>0.06</td></tr><tr><td>DISORDERLY CONDUCT</td><td>LOCATED</td><td>6</td><td>9932</td><td>0.06</td></tr><tr><td>VEHICLE THEFT</td><td>DISTRICT ATTORNEY REFUSES TO PROSECUTE</td><td>70</td><td>126228</td><td>0.06</td></tr><tr><td>BURGLARY</td><td>NOT PROSECUTED</td><td>55</td><td>91067</td><td>0.06</td></tr><tr><td>SECONDARY CODES</td><td>LOCATED</td><td>11</td><td>22378</td><td>0.05</td></tr><tr><td>DRIVING UNDER THE INFLUENCE</td><td>EXCEPTIONAL CLEARANCE</td><td>3</td><td>5652</td><td>0.05</td></tr><tr><td>ARSON</td><td>EXCEPTIONAL CLEARANCE</td><td>2</td><td>3875</td><td>0.05</td></tr><tr><td>TRESPASS</td><td>LOCATED</td><td>10</td><td>19194</td><td>0.05</td></tr><tr><td>LIQUOR LAWS</td><td>EXCEPTIONAL CLEARANCE</td><td>1</td><td>2840</td><td>0.04</td></tr><tr><td>MISSING PERSON</td><td>NOT PROSECUTED</td><td>19</td><td>44268</td><td>0.04</td></tr><tr><td>OTHER OFFENSES</td><td>LOCATED</td><td>119</td><td>301874</td><td>0.04</td></tr><tr><td>DRIVING UNDER THE INFLUENCE</td><td>LOCATED</td><td>2</td><td>5652</td><td>0.04</td></tr><tr><td>WARRANTS</td><td>PSYCHOPATHIC CASE</td><td>36</td><td>99821</td><td>0.04</td></tr><tr><td>WARRANTS</td><td>DISTRICT ATTORNEY REFUSES TO PROSECUTE</td><td>36</td><td>99821</td><td>0.04</td></tr><tr><td>WARRANTS</td><td>PROSECUTED BY OUTSIDE AGENCY</td><td>43</td><td>99821</td><td>0.04</td></tr><tr><td>LOITERING</td><td>PROSECUTED BY OUTSIDE AGENCY</td><td>1</td><td>2402</td><td>0.04</td></tr><tr><td>LOITERING</td><td>EXCEPTIONAL CLEARANCE</td><td>1</td><td>2402</td><td>0.04</td></tr><tr><td>PROSTITUTION</td><td>LOCATED</td><td>7</td><td>16501</td><td>0.04</td></tr><tr><td>PROSTITUTION</td><td>PROSECUTED BY OUTSIDE AGENCY</td><td>7</td><td>16501</td><td>0.04</td></tr><tr><td>DRUG/NARCOTIC</td><td>PSYCHOPATHIC CASE</td><td>51</td><td>117821</td><td>0.04</td></tr><tr><td>DRUG/NARCOTIC</td><td>COMPLAINANT REFUSES TO PROSECUTE</td><td>49</td><td>117821</td><td>0.04</td></tr><tr><td>VEHICLE THEFT</td><td>COMPLAINANT REFUSES TO PROSECUTE</td><td>53</td><td>126228</td><td>0.04</td></tr><tr><td>BURGLARY</td><td>PROSECUTED BY OUTSIDE AGENCY</td><td>32</td><td>91067</td><td>0.04</td></tr><tr><td>MISSING PERSON</td><td>DISTRICT ATTORNEY REFUSES TO PROSECUTE</td><td>15</td><td>44268</td><td>0.03</td></tr><tr><td>MISSING PERSON</td><td>COMPLAINANT REFUSES TO PROSECUTE</td><td>12</td><td>44268</td><td>0.03</td></tr><tr><td>WARRANTS</td><td>LOCATED</td><td>34</td><td>99821</td><td>0.03</td></tr><tr><td>WARRANTS</td><td>EXCEPTIONAL CLEARANCE</td><td>30</td><td>99821</td><td>0.03</td></tr><tr><td>ARSON</td><td>PROSECUTED FOR LESSER OFFENSE</td><td>1</td><td>3875</td><td>0.03</td></tr><tr><td>WEAPON LAWS</td><td>LOCATED</td><td>7</td><td>21004</td><td>0.03</td></tr><tr><td>RECOVERED VEHICLE</td><td>UNFOUNDED</td><td>3</td><td>8688</td><td>0.03</td></tr><tr><td>VANDALISM</td><td>NOT PROSECUTED</td><td>34</td><td>114718</td><td>0.03</td></tr><tr><td>DRUG/NARCOTIC</td><td>PROSECUTED BY OUTSIDE AGENCY</td><td>35</td><td>117821</td><td>0.03</td></tr><tr><td>DRUG/NARCOTIC</td><td>EXCEPTIONAL CLEARANCE</td><td>37</td><td>117821</td><td>0.03</td></tr><tr><td>TRESPASS</td><td>PROSECUTED BY OUTSIDE AGENCY</td><td>5</td><td>19194</td><td>0.03</td></tr><tr><td>VEHICLE THEFT</td><td>EXCEPTIONAL CLEARANCE</td><td>35</td><td>126228</td><td>0.03</td></tr><tr><td>STOLEN PROPERTY</td><td>COMPLAINANT REFUSES TO PROSECUTE</td><td>4</td><td>11450</td><td>0.03</td></tr><tr><td>STOLEN PROPERTY</td><td>LOCATED</td><td>3</td><td>11450</td><td>0.03</td></tr><tr><td>LARCENY/THEFT</td><td>PROSECUTED BY OUTSIDE AGENCY</td><td>156</td><td>477975</td><td>0.03</td></tr><tr><td>FRAUD</td><td>LOCATED</td><td>7</td><td>41348</td><td>0.02</td></tr><tr><td>FRAUD</td><td>PSYCHOPATHIC CASE</td><td>10</td><td>41348</td><td>0.02</td></tr><tr><td>DRIVING UNDER THE INFLUENCE</td><td>PSYCHOPATHIC CASE</td><td>1</td><td>5652</td><td>0.02</td></tr><tr><td>DRIVING UNDER THE INFLUENCE</td><td>PROSECUTED BY OUTSIDE AGENCY</td><td>1</td><td>5652</td><td>0.02</td></tr><tr><td>DRIVING UNDER THE INFLUENCE</td><td>PROSECUTED FOR LESSER OFFENSE</td><td>1</td><td>5652</td><td>0.02</td></tr><tr><td>WARRANTS</td><td>COMPLAINANT REFUSES TO PROSECUTE</td><td>21</td><td>99821</td><td>0.02</td></tr><tr><td>WARRANTS</td><td>NOT PROSECUTED</td><td>18</td><td>99821</td><td>0.02</td></tr><tr><td>DISORDERLY CONDUCT</td><td>PROSECUTED BY OUTSIDE AGENCY</td><td>2</td><td>9932</td><td>0.02</td></tr><tr><td>VANDALISM</td><td>LOCATED</td><td>25</td><td>114718</td><td>0.02</td></tr><tr><td>DRUG/NARCOTIC</td><td>LOCATED</td><td>24</td><td>117821</td><td>0.02</td></tr><tr><td>DRUG/NARCOTIC</td><td>DISTRICT ATTORNEY REFUSES TO PROSECUTE</td><td>24</td><td>117821</td><td>0.02</td></tr><tr><td>VEHICLE THEFT</td><td>LOCATED</td><td>20</td><td>126228</td><td>0.02</td></tr><tr><td>VEHICLE THEFT</td><td>NOT PROSECUTED</td><td>19</td><td>126228</td><td>0.02</td></tr><tr><td>KIDNAPPING</td><td>PROSECUTED FOR LESSER OFFENSE</td><td>1</td><td>4282</td><td>0.02</td></tr><tr><td>BURGLARY</td><td>LOCATED</td><td>15</td><td>91067</td><td>0.02</td></tr><tr><td>SECONDARY CODES</td><td>PROSECUTED FOR LESSER OFFENSE</td><td>3</td><td>22378</td><td>0.01</td></tr><tr><td>OTHER OFFENSES</td><td>PROSECUTED FOR LESSER OFFENSE</td><td>18</td><td>301874</td><td>0.01</td></tr><tr><td>WARRANTS</td><td>PROSECUTED FOR LESSER OFFENSE</td><td>12</td><td>99821</td><td>0.01</td></tr><tr><td>FORGERY/COUNTERFEITING</td><td>PROSECUTED FOR LESSER OFFENSE</td><td>2</td><td>22995</td><td>0.01</td></tr><tr><td>FORGERY/COUNTERFEITING</td><td>PSYCHOPATHIC CASE</td><td>3</td><td>22995</td><td>0.01</td></tr><tr><td>ASSAULT</td><td>PROSECUTED FOR LESSER OFFENSE</td><td>12</td><td>167042</td><td>0.01</td></tr><tr><td>DRUNKENNESS</td><td>PROSECUTED FOR LESSER OFFENSE</td><td>1</td><td>9760</td><td>0.01</td></tr><tr><td>DRUNKENNESS</td><td>PROSECUTED BY OUTSIDE AGENCY</td><td>1</td><td>9760</td><td>0.01</td></tr><tr><td>ROBBERY</td><td>PSYCHOPATHIC CASE</td><td>6</td><td>54467</td><td>0.01</td></tr><tr><td>ROBBERY</td><td>LOCATED</td><td>8</td><td>54467</td><td>0.01</td></tr><tr><td>PROSTITUTION</td><td>NOT PROSECUTED</td><td>1</td><td>16501</td><td>0.01</td></tr><tr><td>PROSTITUTION</td><td>PSYCHOPATHIC CASE</td><td>2</td><td>16501</td><td>0.01</td></tr><tr><td>DISORDERLY CONDUCT</td><td>PROSECUTED FOR LESSER OFFENSE</td><td>1</td><td>9932</td><td>0.01</td></tr><tr><td>RECOVERED VEHICLE</td><td>EXCEPTIONAL CLEARANCE</td><td>1</td><td>8688</td><td>0.01</td></tr><tr><td>RECOVERED VEHICLE</td><td>NOT PROSECUTED</td><td>1</td><td>8688</td><td>0.01</td></tr><tr><td>VANDALISM</td><td>PROSECUTED BY OUTSIDE AGENCY</td><td>12</td><td>114718</td><td>0.01</td></tr><tr><td>DRUG/NARCOTIC</td><td>PROSECUTED FOR LESSER OFFENSE</td><td>15</td><td>117821</td><td>0.01</td></tr><tr><td>TRESPASS</td><td>PROSECUTED FOR LESSER OFFENSE</td><td>1</td><td>19194</td><td>0.01</td></tr><tr><td>VEHICLE THEFT</td><td>PROSECUTED BY OUTSIDE AGENCY</td><td>11</td><td>126228</td><td>0.01</td></tr><tr><td>STOLEN PROPERTY</td><td>PROSECUTED FOR LESSER OFFENSE</td><td>1</td><td>11450</td><td>0.01</td></tr><tr><td>STOLEN PROPERTY</td><td>PSYCHOPATHIC CASE</td><td>1</td><td>11450</td><td>0.01</td></tr><tr><td>LARCENY/THEFT</td><td>PSYCHOPATHIC CASE</td><td>47</td><td>477975</td><td>0.01</td></tr><tr><td>LARCENY/THEFT</td><td>LOCATED</td><td>44</td><td>477975</td><td>0.01</td></tr><tr><td>BURGLARY</td><td>PSYCHOPATHIC CASE</td><td>9</td><td>91067</td><td>0.01</td></tr><tr><td>FRAUD</td><td>PROSECUTED FOR LESSER OFFENSE</td><td>2</td><td>41348</td><td>0.00</td></tr><tr><td>FORGERY/COUNTERFEITING</td><td>LOCATED</td><td>1</td><td>22995</td><td>0.00</td></tr><tr><td>WEAPON LAWS</td><td>PROSECUTED FOR LESSER OFFENSE</td><td>1</td><td>21004</td><td>0.00</td></tr><tr><td>SUSPICIOUS OCC</td><td>PROSECUTED FOR LESSER OFFENSE</td><td>1</td><td>79087</td><td>0.00</td></tr><tr><td>ROBBERY</td><td>PROSECUTED FOR LESSER OFFENSE</td><td>1</td><td>54467</td><td>0.00</td></tr><tr><td>NON-CRIMINAL</td><td>PROSECUTED FOR LESSER OFFENSE</td><td>5</td><td>236928</td><td>0.00</td></tr><tr><td>VEHICLE THEFT</td><td>PSYCHOPATHIC CASE</td><td>1</td><td>126228</td><td>0.00</td></tr><tr><td>VEHICLE THEFT</td><td>PROSECUTED FOR LESSER OFFENSE</td><td>1</td><td>126228</td><td>0.00</td></tr><tr><td>LARCENY/THEFT</td><td>PROSECUTED FOR LESSER OFFENSE</td><td>1</td><td>477975</td><td>0.00</td></tr><tr><td>BURGLARY</td><td>PROSECUTED FOR LESSER OFFENSE</td><td>2</td><td>91067</td><td>0.00</td></tr></tbody></table></div>"
      ]
     },
     "metadata": {
      "application/vnd.databricks.v1+output": {
       "addedWidgets": {},
       "aggData": [],
       "aggError": "",
       "aggOverflow": false,
       "aggSchema": [],
       "aggSeriesLimitReached": false,
       "aggType": "",
       "arguments": {},
       "columnCustomDisplayInfos": {},
       "data": [
        [
         "WARRANTS",
         "ARREST, BOOKED",
         93092,
         99821,
         "93.26"
        ],
        [
         "DRIVING UNDER THE INFLUENCE",
         "ARREST, BOOKED",
         4941,
         5652,
         "87.42"
        ],
        [
         "STOLEN PROPERTY",
         "ARREST, BOOKED",
         9693,
         11450,
         "84.66"
        ],
        [
         "DRUG/NARCOTIC",
         "ARREST, BOOKED",
         97926,
         117821,
         "83.11"
        ],
        [
         "DRUNKENNESS",
         "ARREST, BOOKED",
         7471,
         9760,
         "76.55"
        ],
        [
         "LIQUOR LAWS",
         "ARREST, BOOKED",
         1839,
         2840,
         "64.75"
        ],
        [
         "WEAPON LAWS",
         "ARREST, BOOKED",
         13334,
         21004,
         "63.48"
        ],
        [
         "LOITERING",
         "ARREST, CITED",
         1432,
         2402,
         "59.62"
        ],
        [
         "PROSTITUTION",
         "ARREST, CITED",
         9667,
         16501,
         "58.58"
        ],
        [
         "BRIBERY",
         "ARREST, BOOKED",
         418,
         796,
         "52.51"
        ],
        [
         "KIDNAPPING",
         "ARREST, BOOKED",
         2165,
         4282,
         "50.56"
        ],
        [
         "MISSING PERSON",
         "LOCATED",
         19615,
         44268,
         "44.31"
        ],
        [
         "TREA",
         "ARREST, BOOKED",
         6,
         14,
         "42.86"
        ],
        [
         "TRESPASS",
         "ARREST, BOOKED",
         7598,
         19194,
         "39.59"
        ],
        [
         "OTHER OFFENSES",
         "ARREST, BOOKED",
         115427,
         301874,
         "38.24"
        ],
        [
         "DISORDERLY CONDUCT",
         "ARREST, BOOKED",
         3702,
         9932,
         "37.27"
        ],
        [
         "PROSTITUTION",
         "ARREST, BOOKED",
         5780,
         16501,
         "35.03"
        ],
        [
         "SECONDARY CODES",
         "ARREST, BOOKED",
         7811,
         22378,
         "34.90"
        ],
        [
         "GAMBLING",
         "ARREST, BOOKED",
         118,
         343,
         "34.40"
        ],
        [
         "OTHER OFFENSES",
         "ARREST, CITED",
         94817,
         301874,
         "31.41"
        ],
        [
         "ASSAULT",
         "ARREST, BOOKED",
         49246,
         167042,
         "29.48"
        ],
        [
         "LOITERING",
         "ARREST, BOOKED",
         658,
         2402,
         "27.39"
        ],
        [
         "DISORDERLY CONDUCT",
         "ARREST, CITED",
         2627,
         9932,
         "26.45"
        ],
        [
         "TRESPASS",
         "ARREST, CITED",
         5053,
         19194,
         "26.33"
        ],
        [
         "PORNOGRAPHY/OBSCENE MAT",
         "ARREST, BOOKED",
         15,
         57,
         "26.32"
        ],
        [
         "GAMBLING",
         "ARREST, CITED",
         83,
         343,
         "24.20"
        ],
        [
         "LIQUOR LAWS",
         "ARREST, CITED",
         652,
         2840,
         "22.96"
        ],
        [
         "FORGERY/COUNTERFEITING",
         "ARREST, BOOKED",
         4339,
         22995,
         "18.87"
        ],
        [
         "SEX OFFENSES, FORCIBLE",
         "ARREST, BOOKED",
         1648,
         8747,
         "18.84"
        ],
        [
         "SUICIDE",
         "PSYCHOPATHIC CASE",
         235,
         1291,
         "18.20"
        ],
        [
         "ROBBERY",
         "ARREST, BOOKED",
         9598,
         54467,
         "17.62"
        ],
        [
         "SEX OFFENSES, NON FORCIBLE",
         "DISTRICT ATTORNEY REFUSES TO PROSECUTE",
         7,
         43,
         "16.28"
        ],
        [
         "ARSON",
         "ARREST, BOOKED",
         630,
         3875,
         "16.26"
        ],
        [
         "EMBEZZLEMENT",
         "ARREST, BOOKED",
         453,
         2984,
         "15.18"
        ],
        [
         "EXTORTION",
         "ARREST, BOOKED",
         107,
         729,
         "14.68"
        ],
        [
         "TREA",
         "ARREST, CITED",
         2,
         14,
         "14.29"
        ],
        [
         "BURGLARY",
         "ARREST, BOOKED",
         12765,
         91067,
         "14.02"
        ],
        [
         "FRAUD",
         "ARREST, BOOKED",
         4940,
         41348,
         "11.95"
        ],
        [
         "NON-CRIMINAL",
         "PSYCHOPATHIC CASE",
         27027,
         236928,
         "11.41"
        ],
        [
         "PORNOGRAPHY/OBSCENE MAT",
         "ARREST, CITED",
         6,
         57,
         "10.53"
        ],
        [
         "SEX OFFENSES, NON FORCIBLE",
         "UNFOUNDED",
         4,
         43,
         "9.30"
        ],
        [
         "FORGERY/COUNTERFEITING",
         "PROSECUTED BY OUTSIDE AGENCY",
         1866,
         22995,
         "8.11"
        ],
        [
         "DRUG/NARCOTIC",
         "ARREST, CITED",
         9046,
         117821,
         "7.68"
        ],
        [
         "VANDALISM",
         "ARREST, BOOKED",
         8734,
         114718,
         "7.61"
        ],
        [
         "SEX OFFENSES, FORCIBLE",
         "DISTRICT ATTORNEY REFUSES TO PROSECUTE",
         592,
         8747,
         "6.77"
        ],
        [
         "DRIVING UNDER THE INFLUENCE",
         "ARREST, CITED",
         380,
         5652,
         "6.72"
        ],
        [
         "RECOVERED VEHICLE",
         "ARREST, BOOKED",
         564,
         8688,
         "6.49"
        ],
        [
         "FORGERY/COUNTERFEITING",
         "NOT PROSECUTED",
         1421,
         22995,
         "6.18"
        ],
        [
         "WEAPON LAWS",
         "ARREST, CITED",
         1157,
         21004,
         "5.51"
        ],
        [
         "BAD CHECKS",
         "ARREST, BOOKED",
         49,
         924,
         "5.30"
        ],
        [
         "LARCENY/THEFT",
         "ARREST, BOOKED",
         25136,
         477975,
         "5.26"
        ],
        [
         "BAD CHECKS",
         "PROSECUTED BY OUTSIDE AGENCY",
         48,
         924,
         "5.19"
        ],
        [
         "BAD CHECKS",
         "NOT PROSECUTED",
         45,
         924,
         "4.87"
        ],
        [
         "FRAUD",
         "NOT PROSECUTED",
         1940,
         41348,
         "4.69"
        ],
        [
         "SEX OFFENSES, NON FORCIBLE",
         "ARREST, BOOKED",
         2,
         43,
         "4.65"
        ],
        [
         "SEX OFFENSES, NON FORCIBLE",
         "COMPLAINANT REFUSES TO PROSECUTE",
         2,
         43,
         "4.65"
        ],
        [
         "DRUNKENNESS",
         "ARREST, CITED",
         441,
         9760,
         "4.52"
        ],
        [
         "SEX OFFENSES, FORCIBLE",
         "COMPLAINANT REFUSES TO PROSECUTE",
         392,
         8747,
         "4.48"
        ],
        [
         "ASSAULT",
         "ARREST, CITED",
         7027,
         167042,
         "4.21"
        ],
        [
         "NON-CRIMINAL",
         "ARREST, BOOKED",
         9918,
         236928,
         "4.19"
        ],
        [
         "VEHICLE THEFT",
         "ARREST, BOOKED",
         5064,
         126228,
         "4.01"
        ],
        [
         "VEHICLE THEFT",
         "UNFOUNDED",
         4789,
         126228,
         "3.79"
        ],
        [
         "PORNOGRAPHY/OBSCENE MAT",
         "DISTRICT ATTORNEY REFUSES TO PROSECUTE",
         2,
         57,
         "3.51"
        ],
        [
         "GAMBLING",
         "PROSECUTED BY OUTSIDE AGENCY",
         12,
         343,
         "3.50"
        ],
        [
         "GAMBLING",
         "NOT PROSECUTED",
         12,
         343,
         "3.50"
        ],
        [
         "SUSPICIOUS OCC",
         "ARREST, BOOKED",
         2765,
         79087,
         "3.50"
        ],
        [
         "EMBEZZLEMENT",
         "DISTRICT ATTORNEY REFUSES TO PROSECUTE",
         98,
         2984,
         "3.28"
        ],
        [
         "SUSPICIOUS OCC",
         "UNFOUNDED",
         2507,
         79087,
         "3.17"
        ],
        [
         "NON-CRIMINAL",
         "UNFOUNDED",
         7398,
         236928,
         "3.12"
        ],
        [
         "KIDNAPPING",
         "DISTRICT ATTORNEY REFUSES TO PROSECUTE",
         129,
         4282,
         "3.01"
        ],
        [
         "SECONDARY CODES",
         "COMPLAINANT REFUSES TO PROSECUTE",
         621,
         22378,
         "2.78"
        ],
        [
         "SUICIDE",
         "ARREST, BOOKED",
         34,
         1291,
         "2.63"
        ],
        [
         "VANDALISM",
         "ARREST, CITED",
         2967,
         114718,
         "2.59"
        ],
        [
         "MISSING PERSON",
         "ARREST, BOOKED",
         1125,
         44268,
         "2.54"
        ],
        [
         "SECONDARY CODES",
         "DISTRICT ATTORNEY REFUSES TO PROSECUTE",
         528,
         22378,
         "2.36"
        ],
        [
         "SEX OFFENSES, NON FORCIBLE",
         "ARREST, CITED",
         1,
         43,
         "2.33"
        ],
        [
         "KIDNAPPING",
         "COMPLAINANT REFUSES TO PROSECUTE",
         99,
         4282,
         "2.31"
        ],
        [
         "SEX OFFENSES, FORCIBLE",
         "ARREST, CITED",
         200,
         8747,
         "2.29"
        ],
        [
         "FRAUD",
         "ARREST, CITED",
         921,
         41348,
         "2.23"
        ],
        [
         "LARCENY/THEFT",
         "ARREST, CITED",
         10463,
         477975,
         "2.19"
        ],
        [
         "FRAUD",
         "PROSECUTED BY OUTSIDE AGENCY",
         881,
         41348,
         "2.13"
        ],
        [
         "EMBEZZLEMENT",
         "ARREST, CITED",
         60,
         2984,
         "2.01"
        ],
        [
         "SEX OFFENSES, FORCIBLE",
         "UNFOUNDED",
         173,
         8747,
         "1.98"
        ],
        [
         "BRIBERY",
         "DISTRICT ATTORNEY REFUSES TO PROSECUTE",
         15,
         796,
         "1.88"
        ],
        [
         "MISSING PERSON",
         "UNFOUNDED",
         827,
         44268,
         "1.87"
        ],
        [
         "PORNOGRAPHY/OBSCENE MAT",
         "UNFOUNDED",
         1,
         57,
         "1.75"
        ],
        [
         "FORGERY/COUNTERFEITING",
         "UNFOUNDED",
         393,
         22995,
         "1.71"
        ],
        [
         "EXTORTION",
         "DISTRICT ATTORNEY REFUSES TO PROSECUTE",
         12,
         729,
         "1.65"
        ],
        [
         "EMBEZZLEMENT",
         "COMPLAINANT REFUSES TO PROSECUTE",
         48,
         2984,
         "1.61"
        ],
        [
         "EMBEZZLEMENT",
         "UNFOUNDED",
         46,
         2984,
         "1.54"
        ],
        [
         "BAD CHECKS",
         "DISTRICT ATTORNEY REFUSES TO PROSECUTE",
         14,
         924,
         "1.52"
        ],
        [
         "EMBEZZLEMENT",
         "PROSECUTED BY OUTSIDE AGENCY",
         45,
         2984,
         "1.51"
        ],
        [
         "SUICIDE",
         "LOCATED",
         19,
         1291,
         "1.47"
        ],
        [
         "EMBEZZLEMENT",
         "NOT PROSECUTED",
         44,
         2984,
         "1.47"
        ],
        [
         "STOLEN PROPERTY",
         "ARREST, CITED",
         161,
         11450,
         "1.41"
        ],
        [
         "BRIBERY",
         "COMPLAINANT REFUSES TO PROSECUTE",
         11,
         796,
         "1.38"
        ],
        [
         "EXTORTION",
         "COMPLAINANT REFUSES TO PROSECUTE",
         10,
         729,
         "1.37"
        ],
        [
         "NON-CRIMINAL",
         "ARREST, CITED",
         3220,
         236928,
         "1.36"
        ],
        [
         "BAD CHECKS",
         "UNFOUNDED",
         12,
         924,
         "1.30"
        ],
        [
         "EMBEZZLEMENT",
         "EXCEPTIONAL CLEARANCE",
         38,
         2984,
         "1.27"
        ],
        [
         "ASSAULT",
         "DISTRICT ATTORNEY REFUSES TO PROSECUTE",
         2051,
         167042,
         "1.23"
        ],
        [
         "SEX OFFENSES, FORCIBLE",
         "EXCEPTIONAL CLEARANCE",
         104,
         8747,
         "1.19"
        ],
        [
         "SUSPICIOUS OCC",
         "ARREST, CITED",
         889,
         79087,
         "1.12"
        ],
        [
         "EXTORTION",
         "UNFOUNDED",
         8,
         729,
         "1.10"
        ],
        [
         "ASSAULT",
         "COMPLAINANT REFUSES TO PROSECUTE",
         1797,
         167042,
         "1.08"
        ],
        [
         "FORGERY/COUNTERFEITING",
         "ARREST, CITED",
         247,
         22995,
         "1.07"
        ],
        [
         "ROBBERY",
         "COMPLAINANT REFUSES TO PROSECUTE",
         536,
         54467,
         "0.98"
        ],
        [
         "SECONDARY CODES",
         "UNFOUNDED",
         217,
         22378,
         "0.97"
        ],
        [
         "MISSING PERSON",
         "PSYCHOPATHIC CASE",
         426,
         44268,
         "0.96"
        ],
        [
         "ROBBERY",
         "DISTRICT ATTORNEY REFUSES TO PROSECUTE",
         500,
         54467,
         "0.92"
        ],
        [
         "WARRANTS",
         "ARREST, CITED",
         885,
         99821,
         "0.89"
        ],
        [
         "SECONDARY CODES",
         "ARREST, CITED",
         188,
         22378,
         "0.84"
        ],
        [
         "EXTORTION",
         "ARREST, CITED",
         6,
         729,
         "0.82"
        ],
        [
         "KIDNAPPING",
         "UNFOUNDED",
         35,
         4282,
         "0.82"
        ],
        [
         "PROSTITUTION",
         "EXCEPTIONAL CLEARANCE",
         131,
         16501,
         "0.79"
        ],
        [
         "SUSPICIOUS OCC",
         "COMPLAINANT REFUSES TO PROSECUTE",
         611,
         79087,
         "0.77"
        ],
        [
         "ROBBERY",
         "UNFOUNDED",
         408,
         54467,
         "0.75"
        ],
        [
         "WEAPON LAWS",
         "UNFOUNDED",
         156,
         21004,
         "0.74"
        ],
        [
         "SUICIDE",
         "EXCEPTIONAL CLEARANCE",
         9,
         1291,
         "0.70"
        ],
        [
         "SUICIDE",
         "UNFOUNDED",
         9,
         1291,
         "0.70"
        ],
        [
         "LIQUOR LAWS",
         "PROSECUTED BY OUTSIDE AGENCY",
         20,
         2840,
         "0.70"
        ],
        [
         "FRAUD",
         "UNFOUNDED",
         285,
         41348,
         "0.69"
        ],
        [
         "FORGERY/COUNTERFEITING",
         "DISTRICT ATTORNEY REFUSES TO PROSECUTE",
         156,
         22995,
         "0.68"
        ],
        [
         "MISSING PERSON",
         "ARREST, CITED",
         296,
         44268,
         "0.67"
        ],
        [
         "ARSON",
         "UNFOUNDED",
         25,
         3875,
         "0.65"
        ],
        [
         "BAD CHECKS",
         "EXCEPTIONAL CLEARANCE",
         6,
         924,
         "0.65"
        ],
        [
         "BRIBERY",
         "UNFOUNDED",
         5,
         796,
         "0.63"
        ],
        [
         "BRIBERY",
         "ARREST, CITED",
         5,
         796,
         "0.63"
        ],
        [
         "MISSING PERSON",
         "EXCEPTIONAL CLEARANCE",
         271,
         44268,
         "0.61"
        ],
        [
         "ASSAULT",
         "UNFOUNDED",
         1000,
         167042,
         "0.60"
        ],
        [
         "DISORDERLY CONDUCT",
         "UNFOUNDED",
         60,
         9932,
         "0.60"
        ],
        [
         "NON-CRIMINAL",
         "COMPLAINANT REFUSES TO PROSECUTE",
         1432,
         236928,
         "0.60"
        ],
        [
         "BURGLARY",
         "UNFOUNDED",
         545,
         91067,
         "0.60"
        ],
        [
         "GAMBLING",
         "UNFOUNDED",
         2,
         343,
         "0.58"
        ],
        [
         "SUSPICIOUS OCC",
         "NOT PROSECUTED",
         456,
         79087,
         "0.58"
        ],
        [
         "OTHER OFFENSES",
         "UNFOUNDED",
         1715,
         301874,
         "0.57"
        ],
        [
         "EXTORTION",
         "EXCEPTIONAL CLEARANCE",
         4,
         729,
         "0.55"
        ],
        [
         "BAD CHECKS",
         "COMPLAINANT REFUSES TO PROSECUTE",
         5,
         924,
         "0.54"
        ],
        [
         "STOLEN PROPERTY",
         "NOT PROSECUTED",
         59,
         11450,
         "0.52"
        ],
        [
         "SUSPICIOUS OCC",
         "DISTRICT ATTORNEY REFUSES TO PROSECUTE",
         389,
         79087,
         "0.49"
        ],
        [
         "WEAPON LAWS",
         "DISTRICT ATTORNEY REFUSES TO PROSECUTE",
         94,
         21004,
         "0.45"
        ],
        [
         "BURGLARY",
         "DISTRICT ATTORNEY REFUSES TO PROSECUTE",
         413,
         91067,
         "0.45"
        ],
        [
         "ARSON",
         "PSYCHOPATHIC CASE",
         17,
         3875,
         "0.44"
        ],
        [
         "ARSON",
         "ARREST, CITED",
         17,
         3875,
         "0.44"
        ],
        [
         "EXTORTION",
         "PROSECUTED BY OUTSIDE AGENCY",
         3,
         729,
         "0.41"
        ],
        [
         "NON-CRIMINAL",
         "EXCEPTIONAL CLEARANCE",
         945,
         236928,
         "0.40"
        ],
        [
         "KIDNAPPING",
         "ARREST, CITED",
         17,
         4282,
         "0.40"
        ],
        [
         "BRIBERY",
         "EXCEPTIONAL CLEARANCE",
         3,
         796,
         "0.38"
        ],
        [
         "ASSAULT",
         "EXCEPTIONAL CLEARANCE",
         632,
         167042,
         "0.38"
        ],
        [
         "DRUNKENNESS",
         "PSYCHOPATHIC CASE",
         37,
         9760,
         "0.38"
        ],
        [
         "VANDALISM",
         "UNFOUNDED",
         434,
         114718,
         "0.38"
        ],
        [
         "NON-CRIMINAL",
         "LOCATED",
         866,
         236928,
         "0.37"
        ],
        [
         "TRESPASS",
         "UNFOUNDED",
         68,
         19194,
         "0.35"
        ],
        [
         "KIDNAPPING",
         "PROSECUTED BY OUTSIDE AGENCY",
         15,
         4282,
         "0.35"
        ],
        [
         "NON-CRIMINAL",
         "NOT PROSECUTED",
         796,
         236928,
         "0.34"
        ],
        [
         "FORGERY/COUNTERFEITING",
         "EXCEPTIONAL CLEARANCE",
         76,
         22995,
         "0.33"
        ],
        [
         "SUSPICIOUS OCC",
         "EXCEPTIONAL CLEARANCE",
         262,
         79087,
         "0.33"
        ],
        [
         "LARCENY/THEFT",
         "NOT PROSECUTED",
         1600,
         477975,
         "0.33"
        ],
        [
         "KIDNAPPING",
         "EXCEPTIONAL CLEARANCE",
         14,
         4282,
         "0.33"
        ],
        [
         "BURGLARY",
         "COMPLAINANT REFUSES TO PROSECUTE",
         298,
         91067,
         "0.33"
        ],
        [
         "SUSPICIOUS OCC",
         "PROSECUTED BY OUTSIDE AGENCY",
         256,
         79087,
         "0.32"
        ],
        [
         "FRAUD",
         "EXCEPTIONAL CLEARANCE",
         129,
         41348,
         "0.31"
        ],
        [
         "FRAUD",
         "DISTRICT ATTORNEY REFUSES TO PROSECUTE",
         130,
         41348,
         "0.31"
        ],
        [
         "WEAPON LAWS",
         "NOT PROSECUTED",
         66,
         21004,
         "0.31"
        ],
        [
         "SUSPICIOUS OCC",
         "LOCATED",
         235,
         79087,
         "0.30"
        ],
        [
         "GAMBLING",
         "DISTRICT ATTORNEY REFUSES TO PROSECUTE",
         1,
         343,
         "0.29"
        ],
        [
         "GAMBLING",
         "EXCEPTIONAL CLEARANCE",
         1,
         343,
         "0.29"
        ],
        [
         "DRUNKENNESS",
         "UNFOUNDED",
         28,
         9760,
         "0.29"
        ],
        [
         "TRESPASS",
         "COMPLAINANT REFUSES TO PROSECUTE",
         56,
         19194,
         "0.29"
        ],
        [
         "DISORDERLY CONDUCT",
         "COMPLAINANT REFUSES TO PROSECUTE",
         28,
         9932,
         "0.28"
        ],
        [
         "EXTORTION",
         "NOT PROSECUTED",
         2,
         729,
         "0.27"
        ],
        [
         "TRESPASS",
         "PSYCHOPATHIC CASE",
         52,
         19194,
         "0.27"
        ],
        [
         "SUSPICIOUS OCC",
         "PSYCHOPATHIC CASE",
         202,
         79087,
         "0.26"
        ],
        [
         "SEX OFFENSES, FORCIBLE",
         "PROSECUTED BY OUTSIDE AGENCY",
         23,
         8747,
         "0.26"
        ],
        [
         "STOLEN PROPERTY",
         "PROSECUTED BY OUTSIDE AGENCY",
         30,
         11450,
         "0.26"
        ],
        [
         "LARCENY/THEFT",
         "UNFOUNDED",
         1221,
         477975,
         "0.26"
        ],
        [
         "SECONDARY CODES",
         "NOT PROSECUTED",
         56,
         22378,
         "0.25"
        ],
        [
         "OTHER OFFENSES",
         "PROSECUTED BY OUTSIDE AGENCY",
         718,
         301874,
         "0.24"
        ],
        [
         "ASSAULT",
         "PSYCHOPATHIC CASE",
         403,
         167042,
         "0.24"
        ],
        [
         "DRUNKENNESS",
         "NOT PROSECUTED",
         23,
         9760,
         "0.24"
        ],
        [
         "STOLEN PROPERTY",
         "DISTRICT ATTORNEY REFUSES TO PROSECUTE",
         27,
         11450,
         "0.24"
        ],
        [
         "VANDALISM",
         "COMPLAINANT REFUSES TO PROSECUTE",
         264,
         114718,
         "0.23"
        ],
        [
         "SECONDARY CODES",
         "EXCEPTIONAL CLEARANCE",
         46,
         22378,
         "0.21"
        ],
        [
         "OTHER OFFENSES",
         "DISTRICT ATTORNEY REFUSES TO PROSECUTE",
         635,
         301874,
         "0.21"
        ],
        [
         "WEAPON LAWS",
         "COMPLAINANT REFUSES TO PROSECUTE",
         45,
         21004,
         "0.21"
        ],
        [
         "SEX OFFENSES, FORCIBLE",
         "NOT PROSECUTED",
         18,
         8747,
         "0.21"
        ],
        [
         "OTHER OFFENSES",
         "COMPLAINANT REFUSES TO PROSECUTE",
         604,
         301874,
         "0.20"
        ],
        [
         "ROBBERY",
         "NOT PROSECUTED",
         109,
         54467,
         "0.20"
        ],
        [
         "NON-CRIMINAL",
         "PROSECUTED BY OUTSIDE AGENCY",
         476,
         236928,
         "0.20"
        ],
        [
         "NON-CRIMINAL",
         "DISTRICT ATTORNEY REFUSES TO PROSECUTE",
         470,
         236928,
         "0.20"
        ],
        [
         "WEAPON LAWS",
         "EXCEPTIONAL CLEARANCE",
         39,
         21004,
         "0.19"
        ],
        [
         "DRUG/NARCOTIC",
         "UNFOUNDED",
         219,
         117821,
         "0.19"
        ],
        [
         "LIQUOR LAWS",
         "NOT PROSECUTED",
         5,
         2840,
         "0.18"
        ],
        [
         "FORGERY/COUNTERFEITING",
         "COMPLAINANT REFUSES TO PROSECUTE",
         42,
         22995,
         "0.18"
        ],
        [
         "DISORDERLY CONDUCT",
         "PSYCHOPATHIC CASE",
         18,
         9932,
         "0.18"
        ],
        [
         "LOITERING",
         "NOT PROSECUTED",
         4,
         2402,
         "0.17"
        ],
        [
         "ROBBERY",
         "ARREST, CITED",
         90,
         54467,
         "0.17"
        ],
        [
         "VANDALISM",
         "DISTRICT ATTORNEY REFUSES TO PROSECUTE",
         191,
         114718,
         "0.17"
        ],
        [
         "VANDALISM",
         "PSYCHOPATHIC CASE",
         196,
         114718,
         "0.17"
        ],
        [
         "BURGLARY",
         "ARREST, CITED",
         146,
         91067,
         "0.16"
        ],
        [
         "SUICIDE",
         "ARREST, CITED",
         2,
         1291,
         "0.15"
        ],
        [
         "ROBBERY",
         "EXCEPTIONAL CLEARANCE",
         82,
         54467,
         "0.15"
        ],
        [
         "PROSTITUTION",
         "UNFOUNDED",
         25,
         16501,
         "0.15"
        ],
        [
         "VEHICLE THEFT",
         "ARREST, CITED",
         185,
         126228,
         "0.15"
        ],
        [
         "STOLEN PROPERTY",
         "UNFOUNDED",
         17,
         11450,
         "0.15"
        ],
        [
         "BURGLARY",
         "EXCEPTIONAL CLEARANCE",
         134,
         91067,
         "0.15"
        ],
        [
         "LIQUOR LAWS",
         "LOCATED",
         4,
         2840,
         "0.14"
        ],
        [
         "SECONDARY CODES",
         "PROSECUTED BY OUTSIDE AGENCY",
         31,
         22378,
         "0.14"
        ],
        [
         "OTHER OFFENSES",
         "NOT PROSECUTED",
         433,
         301874,
         "0.14"
        ],
        [
         "SEX OFFENSES, FORCIBLE",
         "LOCATED",
         12,
         8747,
         "0.14"
        ],
        [
         "KIDNAPPING",
         "NOT PROSECUTED",
         6,
         4282,
         "0.14"
        ],
        [
         "SECONDARY CODES",
         "PSYCHOPATHIC CASE",
         30,
         22378,
         "0.13"
        ],
        [
         "WARRANTS",
         "UNFOUNDED",
         132,
         99821,
         "0.13"
        ],
        [
         "BRIBERY",
         "NOT PROSECUTED",
         1,
         796,
         "0.13"
        ],
        [
         "TRESPASS",
         "NOT PROSECUTED",
         24,
         19194,
         "0.13"
        ],
        [
         "STOLEN PROPERTY",
         "EXCEPTIONAL CLEARANCE",
         15,
         11450,
         "0.13"
        ],
        [
         "OTHER OFFENSES",
         "EXCEPTIONAL CLEARANCE",
         361,
         301874,
         "0.12"
        ],
        [
         "DRUNKENNESS",
         "COMPLAINANT REFUSES TO PROSECUTE",
         12,
         9760,
         "0.12"
        ],
        [
         "LOITERING",
         "UNFOUNDED",
         3,
         2402,
         "0.12"
        ],
        [
         "PROSTITUTION",
         "DISTRICT ATTORNEY REFUSES TO PROSECUTE",
         20,
         16501,
         "0.12"
        ],
        [
         "DRUG/NARCOTIC",
         "NOT PROSECUTED",
         139,
         117821,
         "0.12"
        ],
        [
         "KIDNAPPING",
         "LOCATED",
         5,
         4282,
         "0.12"
        ],
        [
         "FRAUD",
         "COMPLAINANT REFUSES TO PROSECUTE",
         46,
         41348,
         "0.11"
        ],
        [
         "LIQUOR LAWS",
         "UNFOUNDED",
         3,
         2840,
         "0.11"
        ],
        [
         "LIQUOR LAWS",
         "PSYCHOPATHIC CASE",
         3,
         2840,
         "0.11"
        ],
        [
         "DRIVING UNDER THE INFLUENCE",
         "UNFOUNDED",
         6,
         5652,
         "0.11"
        ],
        [
         "SEX OFFENSES, FORCIBLE",
         "PSYCHOPATHIC CASE",
         10,
         8747,
         "0.11"
        ],
        [
         "BAD CHECKS",
         "ARREST, CITED",
         1,
         924,
         "0.11"
        ],
        [
         "DISORDERLY CONDUCT",
         "NOT PROSECUTED",
         11,
         9932,
         "0.11"
        ],
        [
         "TRESPASS",
         "EXCEPTIONAL CLEARANCE",
         22,
         19194,
         "0.11"
        ],
        [
         "WEAPON LAWS",
         "PSYCHOPATHIC CASE",
         20,
         21004,
         "0.10"
        ],
        [
         "EMBEZZLEMENT",
         "LOCATED",
         3,
         2984,
         "0.10"
        ],
        [
         "DISORDERLY CONDUCT",
         "EXCEPTIONAL CLEARANCE",
         10,
         9932,
         "0.10"
        ],
        [
         "LARCENY/THEFT",
         "COMPLAINANT REFUSES TO PROSECUTE",
         471,
         477975,
         "0.10"
        ],
        [
         "LARCENY/THEFT",
         "DISTRICT ATTORNEY REFUSES TO PROSECUTE",
         467,
         477975,
         "0.10"
        ],
        [
         "ROBBERY",
         "PROSECUTED BY OUTSIDE AGENCY",
         47,
         54467,
         "0.09"
        ],
        [
         "DISORDERLY CONDUCT",
         "DISTRICT ATTORNEY REFUSES TO PROSECUTE",
         9,
         9932,
         "0.09"
        ],
        [
         "TRESPASS",
         "DISTRICT ATTORNEY REFUSES TO PROSECUTE",
         18,
         19194,
         "0.09"
        ],
        [
         "LARCENY/THEFT",
         "EXCEPTIONAL CLEARANCE",
         442,
         477975,
         "0.09"
        ],
        [
         "SUICIDE",
         "DISTRICT ATTORNEY REFUSES TO PROSECUTE",
         1,
         1291,
         "0.08"
        ],
        [
         "ARSON",
         "NOT PROSECUTED",
         3,
         3875,
         "0.08"
        ],
        [
         "ARSON",
         "PROSECUTED BY OUTSIDE AGENCY",
         3,
         3875,
         "0.08"
        ],
        [
         "ARSON",
         "COMPLAINANT REFUSES TO PROSECUTE",
         3,
         3875,
         "0.08"
        ],
        [
         "ASSAULT",
         "NOT PROSECUTED",
         136,
         167042,
         "0.08"
        ],
        [
         "DRUNKENNESS",
         "LOCATED",
         8,
         9760,
         "0.08"
        ],
        [
         "LOITERING",
         "DISTRICT ATTORNEY REFUSES TO PROSECUTE",
         2,
         2402,
         "0.08"
        ],
        [
         "LOITERING",
         "LOCATED",
         2,
         2402,
         "0.08"
        ],
        [
         "MISSING PERSON",
         "PROSECUTED BY OUTSIDE AGENCY",
         32,
         44268,
         "0.07"
        ],
        [
         "OTHER OFFENSES",
         "PSYCHOPATHIC CASE",
         212,
         301874,
         "0.07"
        ],
        [
         "DRUNKENNESS",
         "EXCEPTIONAL CLEARANCE",
         7,
         9760,
         "0.07"
        ],
        [
         "WEAPON LAWS",
         "PROSECUTED BY OUTSIDE AGENCY",
         15,
         21004,
         "0.07"
        ],
        [
         "PROSTITUTION",
         "COMPLAINANT REFUSES TO PROSECUTE",
         11,
         16501,
         "0.07"
        ],
        [
         "EMBEZZLEMENT",
         "PSYCHOPATHIC CASE",
         2,
         2984,
         "0.07"
        ],
        [
         "RECOVERED VEHICLE",
         "ARREST, CITED",
         6,
         8688,
         "0.07"
        ],
        [
         "VANDALISM",
         "EXCEPTIONAL CLEARANCE",
         83,
         114718,
         "0.07"
        ],
        [
         "KIDNAPPING",
         "PSYCHOPATHIC CASE",
         3,
         4282,
         "0.07"
        ],
        [
         "ASSAULT",
         "LOCATED",
         93,
         167042,
         "0.06"
        ],
        [
         "ASSAULT",
         "PROSECUTED BY OUTSIDE AGENCY",
         102,
         167042,
         "0.06"
        ],
        [
         "DRUNKENNESS",
         "DISTRICT ATTORNEY REFUSES TO PROSECUTE",
         6,
         9760,
         "0.06"
        ],
        [
         "DISORDERLY CONDUCT",
         "LOCATED",
         6,
         9932,
         "0.06"
        ],
        [
         "VEHICLE THEFT",
         "DISTRICT ATTORNEY REFUSES TO PROSECUTE",
         70,
         126228,
         "0.06"
        ],
        [
         "BURGLARY",
         "NOT PROSECUTED",
         55,
         91067,
         "0.06"
        ],
        [
         "SECONDARY CODES",
         "LOCATED",
         11,
         22378,
         "0.05"
        ],
        [
         "DRIVING UNDER THE INFLUENCE",
         "EXCEPTIONAL CLEARANCE",
         3,
         5652,
         "0.05"
        ],
        [
         "ARSON",
         "EXCEPTIONAL CLEARANCE",
         2,
         3875,
         "0.05"
        ],
        [
         "TRESPASS",
         "LOCATED",
         10,
         19194,
         "0.05"
        ],
        [
         "LIQUOR LAWS",
         "EXCEPTIONAL CLEARANCE",
         1,
         2840,
         "0.04"
        ],
        [
         "MISSING PERSON",
         "NOT PROSECUTED",
         19,
         44268,
         "0.04"
        ],
        [
         "OTHER OFFENSES",
         "LOCATED",
         119,
         301874,
         "0.04"
        ],
        [
         "DRIVING UNDER THE INFLUENCE",
         "LOCATED",
         2,
         5652,
         "0.04"
        ],
        [
         "WARRANTS",
         "PSYCHOPATHIC CASE",
         36,
         99821,
         "0.04"
        ],
        [
         "WARRANTS",
         "DISTRICT ATTORNEY REFUSES TO PROSECUTE",
         36,
         99821,
         "0.04"
        ],
        [
         "WARRANTS",
         "PROSECUTED BY OUTSIDE AGENCY",
         43,
         99821,
         "0.04"
        ],
        [
         "LOITERING",
         "PROSECUTED BY OUTSIDE AGENCY",
         1,
         2402,
         "0.04"
        ],
        [
         "LOITERING",
         "EXCEPTIONAL CLEARANCE",
         1,
         2402,
         "0.04"
        ],
        [
         "PROSTITUTION",
         "LOCATED",
         7,
         16501,
         "0.04"
        ],
        [
         "PROSTITUTION",
         "PROSECUTED BY OUTSIDE AGENCY",
         7,
         16501,
         "0.04"
        ],
        [
         "DRUG/NARCOTIC",
         "PSYCHOPATHIC CASE",
         51,
         117821,
         "0.04"
        ],
        [
         "DRUG/NARCOTIC",
         "COMPLAINANT REFUSES TO PROSECUTE",
         49,
         117821,
         "0.04"
        ],
        [
         "VEHICLE THEFT",
         "COMPLAINANT REFUSES TO PROSECUTE",
         53,
         126228,
         "0.04"
        ],
        [
         "BURGLARY",
         "PROSECUTED BY OUTSIDE AGENCY",
         32,
         91067,
         "0.04"
        ],
        [
         "MISSING PERSON",
         "DISTRICT ATTORNEY REFUSES TO PROSECUTE",
         15,
         44268,
         "0.03"
        ],
        [
         "MISSING PERSON",
         "COMPLAINANT REFUSES TO PROSECUTE",
         12,
         44268,
         "0.03"
        ],
        [
         "WARRANTS",
         "LOCATED",
         34,
         99821,
         "0.03"
        ],
        [
         "WARRANTS",
         "EXCEPTIONAL CLEARANCE",
         30,
         99821,
         "0.03"
        ],
        [
         "ARSON",
         "PROSECUTED FOR LESSER OFFENSE",
         1,
         3875,
         "0.03"
        ],
        [
         "WEAPON LAWS",
         "LOCATED",
         7,
         21004,
         "0.03"
        ],
        [
         "RECOVERED VEHICLE",
         "UNFOUNDED",
         3,
         8688,
         "0.03"
        ],
        [
         "VANDALISM",
         "NOT PROSECUTED",
         34,
         114718,
         "0.03"
        ],
        [
         "DRUG/NARCOTIC",
         "PROSECUTED BY OUTSIDE AGENCY",
         35,
         117821,
         "0.03"
        ],
        [
         "DRUG/NARCOTIC",
         "EXCEPTIONAL CLEARANCE",
         37,
         117821,
         "0.03"
        ],
        [
         "TRESPASS",
         "PROSECUTED BY OUTSIDE AGENCY",
         5,
         19194,
         "0.03"
        ],
        [
         "VEHICLE THEFT",
         "EXCEPTIONAL CLEARANCE",
         35,
         126228,
         "0.03"
        ],
        [
         "STOLEN PROPERTY",
         "COMPLAINANT REFUSES TO PROSECUTE",
         4,
         11450,
         "0.03"
        ],
        [
         "STOLEN PROPERTY",
         "LOCATED",
         3,
         11450,
         "0.03"
        ],
        [
         "LARCENY/THEFT",
         "PROSECUTED BY OUTSIDE AGENCY",
         156,
         477975,
         "0.03"
        ],
        [
         "FRAUD",
         "LOCATED",
         7,
         41348,
         "0.02"
        ],
        [
         "FRAUD",
         "PSYCHOPATHIC CASE",
         10,
         41348,
         "0.02"
        ],
        [
         "DRIVING UNDER THE INFLUENCE",
         "PSYCHOPATHIC CASE",
         1,
         5652,
         "0.02"
        ],
        [
         "DRIVING UNDER THE INFLUENCE",
         "PROSECUTED BY OUTSIDE AGENCY",
         1,
         5652,
         "0.02"
        ],
        [
         "DRIVING UNDER THE INFLUENCE",
         "PROSECUTED FOR LESSER OFFENSE",
         1,
         5652,
         "0.02"
        ],
        [
         "WARRANTS",
         "COMPLAINANT REFUSES TO PROSECUTE",
         21,
         99821,
         "0.02"
        ],
        [
         "WARRANTS",
         "NOT PROSECUTED",
         18,
         99821,
         "0.02"
        ],
        [
         "DISORDERLY CONDUCT",
         "PROSECUTED BY OUTSIDE AGENCY",
         2,
         9932,
         "0.02"
        ],
        [
         "VANDALISM",
         "LOCATED",
         25,
         114718,
         "0.02"
        ],
        [
         "DRUG/NARCOTIC",
         "LOCATED",
         24,
         117821,
         "0.02"
        ],
        [
         "DRUG/NARCOTIC",
         "DISTRICT ATTORNEY REFUSES TO PROSECUTE",
         24,
         117821,
         "0.02"
        ],
        [
         "VEHICLE THEFT",
         "LOCATED",
         20,
         126228,
         "0.02"
        ],
        [
         "VEHICLE THEFT",
         "NOT PROSECUTED",
         19,
         126228,
         "0.02"
        ],
        [
         "KIDNAPPING",
         "PROSECUTED FOR LESSER OFFENSE",
         1,
         4282,
         "0.02"
        ],
        [
         "BURGLARY",
         "LOCATED",
         15,
         91067,
         "0.02"
        ],
        [
         "SECONDARY CODES",
         "PROSECUTED FOR LESSER OFFENSE",
         3,
         22378,
         "0.01"
        ],
        [
         "OTHER OFFENSES",
         "PROSECUTED FOR LESSER OFFENSE",
         18,
         301874,
         "0.01"
        ],
        [
         "WARRANTS",
         "PROSECUTED FOR LESSER OFFENSE",
         12,
         99821,
         "0.01"
        ],
        [
         "FORGERY/COUNTERFEITING",
         "PROSECUTED FOR LESSER OFFENSE",
         2,
         22995,
         "0.01"
        ],
        [
         "FORGERY/COUNTERFEITING",
         "PSYCHOPATHIC CASE",
         3,
         22995,
         "0.01"
        ],
        [
         "ASSAULT",
         "PROSECUTED FOR LESSER OFFENSE",
         12,
         167042,
         "0.01"
        ],
        [
         "DRUNKENNESS",
         "PROSECUTED FOR LESSER OFFENSE",
         1,
         9760,
         "0.01"
        ],
        [
         "DRUNKENNESS",
         "PROSECUTED BY OUTSIDE AGENCY",
         1,
         9760,
         "0.01"
        ],
        [
         "ROBBERY",
         "PSYCHOPATHIC CASE",
         6,
         54467,
         "0.01"
        ],
        [
         "ROBBERY",
         "LOCATED",
         8,
         54467,
         "0.01"
        ],
        [
         "PROSTITUTION",
         "NOT PROSECUTED",
         1,
         16501,
         "0.01"
        ],
        [
         "PROSTITUTION",
         "PSYCHOPATHIC CASE",
         2,
         16501,
         "0.01"
        ],
        [
         "DISORDERLY CONDUCT",
         "PROSECUTED FOR LESSER OFFENSE",
         1,
         9932,
         "0.01"
        ],
        [
         "RECOVERED VEHICLE",
         "EXCEPTIONAL CLEARANCE",
         1,
         8688,
         "0.01"
        ],
        [
         "RECOVERED VEHICLE",
         "NOT PROSECUTED",
         1,
         8688,
         "0.01"
        ],
        [
         "VANDALISM",
         "PROSECUTED BY OUTSIDE AGENCY",
         12,
         114718,
         "0.01"
        ],
        [
         "DRUG/NARCOTIC",
         "PROSECUTED FOR LESSER OFFENSE",
         15,
         117821,
         "0.01"
        ],
        [
         "TRESPASS",
         "PROSECUTED FOR LESSER OFFENSE",
         1,
         19194,
         "0.01"
        ],
        [
         "VEHICLE THEFT",
         "PROSECUTED BY OUTSIDE AGENCY",
         11,
         126228,
         "0.01"
        ],
        [
         "STOLEN PROPERTY",
         "PROSECUTED FOR LESSER OFFENSE",
         1,
         11450,
         "0.01"
        ],
        [
         "STOLEN PROPERTY",
         "PSYCHOPATHIC CASE",
         1,
         11450,
         "0.01"
        ],
        [
         "LARCENY/THEFT",
         "PSYCHOPATHIC CASE",
         47,
         477975,
         "0.01"
        ],
        [
         "LARCENY/THEFT",
         "LOCATED",
         44,
         477975,
         "0.01"
        ],
        [
         "BURGLARY",
         "PSYCHOPATHIC CASE",
         9,
         91067,
         "0.01"
        ],
        [
         "FRAUD",
         "PROSECUTED FOR LESSER OFFENSE",
         2,
         41348,
         "0.00"
        ],
        [
         "FORGERY/COUNTERFEITING",
         "LOCATED",
         1,
         22995,
         "0.00"
        ],
        [
         "WEAPON LAWS",
         "PROSECUTED FOR LESSER OFFENSE",
         1,
         21004,
         "0.00"
        ],
        [
         "SUSPICIOUS OCC",
         "PROSECUTED FOR LESSER OFFENSE",
         1,
         79087,
         "0.00"
        ],
        [
         "ROBBERY",
         "PROSECUTED FOR LESSER OFFENSE",
         1,
         54467,
         "0.00"
        ],
        [
         "NON-CRIMINAL",
         "PROSECUTED FOR LESSER OFFENSE",
         5,
         236928,
         "0.00"
        ],
        [
         "VEHICLE THEFT",
         "PSYCHOPATHIC CASE",
         1,
         126228,
         "0.00"
        ],
        [
         "VEHICLE THEFT",
         "PROSECUTED FOR LESSER OFFENSE",
         1,
         126228,
         "0.00"
        ],
        [
         "LARCENY/THEFT",
         "PROSECUTED FOR LESSER OFFENSE",
         1,
         477975,
         "0.00"
        ],
        [
         "BURGLARY",
         "PROSECUTED FOR LESSER OFFENSE",
         2,
         91067,
         "0.00"
        ]
       ],
       "datasetInfos": [],
       "dbfsResultPath": null,
       "isJsonSchema": true,
       "metadata": {},
       "overflow": false,
       "plotOptions": {
        "customPlotOptions": {},
        "displayType": "table",
        "pivotAggregation": null,
        "pivotColumns": null,
        "xColumns": null,
        "yColumns": null
       },
       "removedWidgets": [],
       "schema": [
        {
         "metadata": "{}",
         "name": "category",
         "type": "\"string\""
        },
        {
         "metadata": "{}",
         "name": "Resolution",
         "type": "\"string\""
        },
        {
         "metadata": "{}",
         "name": "resolved",
         "type": "\"long\""
        },
        {
         "metadata": "{}",
         "name": "total",
         "type": "\"long\""
        },
        {
         "metadata": "{}",
         "name": "percentage",
         "type": "\"decimal(27,2)\""
        }
       ],
       "type": "table"
      }
     },
     "output_type": "display_data"
    }
   ],
   "source": [
    "%sql\n",
    "\n",
    "WITH resolution_counts AS (\n",
    "    -- 计算每个 (category, Resolution) 组合的数量，包括 'NONE'\n",
    "    SELECT category, Resolution, COUNT(*) AS resolved\n",
    "    FROM sf_crime\n",
    "    GROUP BY category, Resolution\n",
    "),\n",
    "total_cases AS (\n",
    "    -- 计算每个 category 下的总数（包含 'NONE'）\n",
    "    SELECT category, SUM(resolved) AS total\n",
    "    FROM resolution_counts\n",
    "    GROUP BY category\n",
    ")\n",
    "SELECT r.category, r.Resolution, r.resolved, t.total,\n",
    "       ROUND(r.resolved * 100.0 / t.total, 2) AS percentage\n",
    "FROM resolution_counts r\n",
    "JOIN total_cases t ON r.category = t.category\n",
    "WHERE r.Resolution <> 'NONE'  -- 只保留有效的 Resolution 计算 percentage%\n",
    "ORDER BY percentage DESC;\n",
    "\n"
   ]
  },
  {
   "cell_type": "code",
   "execution_count": 0,
   "metadata": {
    "application/vnd.databricks.v1+cell": {
     "cellMetadata": {
      "byteLimit": 2048000,
      "implicitDf": true,
      "rowLimit": 10000
     },
     "inputWidgets": {},
     "nuid": "ece722c7-722c-4093-8f54-bce079990e98",
     "showTitle": false,
     "tableResultSettingsMap": {},
     "title": ""
    }
   },
   "outputs": [
    {
     "output_type": "display_data",
     "data": {
      "text/html": [
       "<style scoped>\n",
       "  .table-result-container {\n",
       "    max-height: 300px;\n",
       "    overflow: auto;\n",
       "  }\n",
       "  table, th, td {\n",
       "    border: 1px solid black;\n",
       "    border-collapse: collapse;\n",
       "  }\n",
       "  th, td {\n",
       "    padding: 5px;\n",
       "  }\n",
       "  th {\n",
       "    text-align: left;\n",
       "  }\n",
       "</style><div class='table-result-container'><table class='table-result'><thead style='background-color: white'><tr><th>category</th><th>Resolution</th><th>resolved</th><th>total</th><th>percentage</th></tr></thead><tbody><tr><td>WARRANTS</td><td>ARREST, BOOKED</td><td>93092</td><td>94339</td><td>98.68</td></tr><tr><td>RECOVERED VEHICLE</td><td>ARREST, BOOKED</td><td>564</td><td>575</td><td>98.09</td></tr><tr><td>STOLEN PROPERTY</td><td>ARREST, BOOKED</td><td>9693</td><td>10011</td><td>96.82</td></tr><tr><td>DRUNKENNESS</td><td>ARREST, BOOKED</td><td>7471</td><td>8035</td><td>92.98</td></tr><tr><td>DRIVING UNDER THE INFLUENCE</td><td>ARREST, BOOKED</td><td>4941</td><td>5335</td><td>92.61</td></tr><tr><td>BRIBERY</td><td>ARREST, BOOKED</td><td>418</td><td>458</td><td>91.27</td></tr><tr><td>DRUG/NARCOTIC</td><td>ARREST, BOOKED</td><td>97926</td><td>107565</td><td>91.04</td></tr><tr><td>ARSON</td><td>ARREST, BOOKED</td><td>630</td><td>701</td><td>89.87</td></tr><tr><td>WEAPON LAWS</td><td>ARREST, BOOKED</td><td>13334</td><td>14934</td><td>89.29</td></tr><tr><td>BURGLARY</td><td>ARREST, BOOKED</td><td>12765</td><td>14414</td><td>88.56</td></tr><tr><td>KIDNAPPING</td><td>ARREST, BOOKED</td><td>2165</td><td>2489</td><td>86.98</td></tr><tr><td>MISSING PERSON</td><td>LOCATED</td><td>19615</td><td>22638</td><td>86.65</td></tr><tr><td>ROBBERY</td><td>ARREST, BOOKED</td><td>9598</td><td>11385</td><td>84.30</td></tr><tr><td>SECONDARY CODES</td><td>ARREST, BOOKED</td><td>7811</td><td>9542</td><td>81.86</td></tr><tr><td>ASSAULT</td><td>ARREST, BOOKED</td><td>49246</td><td>62499</td><td>78.79</td></tr><tr><td>SUICIDE</td><td>PSYCHOPATHIC CASE</td><td>235</td><td>309</td><td>76.05</td></tr><tr><td>TREA</td><td>ARREST, BOOKED</td><td>6</td><td>8</td><td>75.00</td></tr><tr><td>LIQUOR LAWS</td><td>ARREST, BOOKED</td><td>1839</td><td>2527</td><td>72.77</td></tr><tr><td>EXTORTION</td><td>ARREST, BOOKED</td><td>107</td><td>152</td><td>70.39</td></tr><tr><td>LOITERING</td><td>ARREST, CITED</td><td>1432</td><td>2103</td><td>68.09</td></tr><tr><td>VANDALISM</td><td>ARREST, BOOKED</td><td>8734</td><td>12940</td><td>67.50</td></tr><tr><td>LARCENY/THEFT</td><td>ARREST, BOOKED</td><td>25136</td><td>40048</td><td>62.76</td></tr><tr><td>PORNOGRAPHY/OBSCENE MAT</td><td>ARREST, BOOKED</td><td>15</td><td>24</td><td>62.50</td></tr><tr><td>PROSTITUTION</td><td>ARREST, CITED</td><td>9667</td><td>15651</td><td>61.77</td></tr><tr><td>TRESPASS</td><td>ARREST, BOOKED</td><td>7598</td><td>12907</td><td>58.87</td></tr><tr><td>DISORDERLY CONDUCT</td><td>ARREST, BOOKED</td><td>3702</td><td>6474</td><td>57.18</td></tr><tr><td>EMBEZZLEMENT</td><td>ARREST, BOOKED</td><td>453</td><td>837</td><td>54.12</td></tr><tr><td>OTHER OFFENSES</td><td>ARREST, BOOKED</td><td>115427</td><td>215059</td><td>53.67</td></tr><tr><td>FRAUD</td><td>ARREST, BOOKED</td><td>4940</td><td>9291</td><td>53.17</td></tr><tr><td>SEX OFFENSES, FORCIBLE</td><td>ARREST, BOOKED</td><td>1648</td><td>3172</td><td>51.95</td></tr><tr><td>GAMBLING</td><td>ARREST, BOOKED</td><td>118</td><td>229</td><td>51.53</td></tr><tr><td>NON-CRIMINAL</td><td>PSYCHOPATHIC CASE</td><td>27027</td><td>52553</td><td>51.43</td></tr><tr><td>FORGERY/COUNTERFEITING</td><td>ARREST, BOOKED</td><td>4339</td><td>8546</td><td>50.77</td></tr><tr><td>VEHICLE THEFT</td><td>ARREST, BOOKED</td><td>5064</td><td>10248</td><td>49.41</td></tr><tr><td>VEHICLE THEFT</td><td>UNFOUNDED</td><td>4789</td><td>10248</td><td>46.73</td></tr><tr><td>OTHER OFFENSES</td><td>ARREST, CITED</td><td>94817</td><td>215059</td><td>44.09</td></tr><tr><td>SEX OFFENSES, NON FORCIBLE</td><td>DISTRICT ATTORNEY REFUSES TO PROSECUTE</td><td>7</td><td>16</td><td>43.75</td></tr><tr><td>DISORDERLY CONDUCT</td><td>ARREST, CITED</td><td>2627</td><td>6474</td><td>40.58</td></tr><tr><td>TRESPASS</td><td>ARREST, CITED</td><td>5053</td><td>12907</td><td>39.15</td></tr><tr><td>PROSTITUTION</td><td>ARREST, BOOKED</td><td>5780</td><td>15651</td><td>36.93</td></tr><tr><td>GAMBLING</td><td>ARREST, CITED</td><td>83</td><td>229</td><td>36.24</td></tr><tr><td>SUSPICIOUS OCC</td><td>ARREST, BOOKED</td><td>2765</td><td>8573</td><td>32.25</td></tr><tr><td>LOITERING</td><td>ARREST, BOOKED</td><td>658</td><td>2103</td><td>31.29</td></tr><tr><td>SUSPICIOUS OCC</td><td>UNFOUNDED</td><td>2507</td><td>8573</td><td>29.24</td></tr><tr><td>BAD CHECKS</td><td>ARREST, BOOKED</td><td>49</td><td>180</td><td>27.22</td></tr><tr><td>BAD CHECKS</td><td>PROSECUTED BY OUTSIDE AGENCY</td><td>48</td><td>180</td><td>26.67</td></tr><tr><td>LARCENY/THEFT</td><td>ARREST, CITED</td><td>10463</td><td>40048</td><td>26.13</td></tr><tr><td>LIQUOR LAWS</td><td>ARREST, CITED</td><td>652</td><td>2527</td><td>25.80</td></tr><tr><td>PORNOGRAPHY/OBSCENE MAT</td><td>ARREST, CITED</td><td>6</td><td>24</td><td>25.00</td></tr><tr><td>BAD CHECKS</td><td>NOT PROSECUTED</td><td>45</td><td>180</td><td>25.00</td></tr><tr><td>TREA</td><td>ARREST, CITED</td><td>2</td><td>8</td><td>25.00</td></tr><tr><td>SEX OFFENSES, NON FORCIBLE</td><td>UNFOUNDED</td><td>4</td><td>16</td><td>25.00</td></tr><tr><td>VANDALISM</td><td>ARREST, CITED</td><td>2967</td><td>12940</td><td>22.93</td></tr><tr><td>FORGERY/COUNTERFEITING</td><td>PROSECUTED BY OUTSIDE AGENCY</td><td>1866</td><td>8546</td><td>21.83</td></tr><tr><td>FRAUD</td><td>NOT PROSECUTED</td><td>1940</td><td>9291</td><td>20.88</td></tr><tr><td>NON-CRIMINAL</td><td>ARREST, BOOKED</td><td>9918</td><td>52553</td><td>18.87</td></tr><tr><td>SEX OFFENSES, FORCIBLE</td><td>DISTRICT ATTORNEY REFUSES TO PROSECUTE</td><td>592</td><td>3172</td><td>18.66</td></tr><tr><td>FORGERY/COUNTERFEITING</td><td>NOT PROSECUTED</td><td>1421</td><td>8546</td><td>16.63</td></tr><tr><td>NON-CRIMINAL</td><td>UNFOUNDED</td><td>7398</td><td>52553</td><td>14.08</td></tr><tr><td>SEX OFFENSES, NON FORCIBLE</td><td>COMPLAINANT REFUSES TO PROSECUTE</td><td>2</td><td>16</td><td>12.50</td></tr><tr><td>SEX OFFENSES, NON FORCIBLE</td><td>ARREST, BOOKED</td><td>2</td><td>16</td><td>12.50</td></tr><tr><td>SEX OFFENSES, FORCIBLE</td><td>COMPLAINANT REFUSES TO PROSECUTE</td><td>392</td><td>3172</td><td>12.36</td></tr><tr><td>EMBEZZLEMENT</td><td>DISTRICT ATTORNEY REFUSES TO PROSECUTE</td><td>98</td><td>837</td><td>11.71</td></tr><tr><td>ASSAULT</td><td>ARREST, CITED</td><td>7027</td><td>62499</td><td>11.24</td></tr><tr><td>SUICIDE</td><td>ARREST, BOOKED</td><td>34</td><td>309</td><td>11.00</td></tr><tr><td>SUSPICIOUS OCC</td><td>ARREST, CITED</td><td>889</td><td>8573</td><td>10.37</td></tr><tr><td>FRAUD</td><td>ARREST, CITED</td><td>921</td><td>9291</td><td>9.91</td></tr><tr><td>FRAUD</td><td>PROSECUTED BY OUTSIDE AGENCY</td><td>881</td><td>9291</td><td>9.48</td></tr><tr><td>DRUG/NARCOTIC</td><td>ARREST, CITED</td><td>9046</td><td>107565</td><td>8.41</td></tr><tr><td>PORNOGRAPHY/OBSCENE MAT</td><td>DISTRICT ATTORNEY REFUSES TO PROSECUTE</td><td>2</td><td>24</td><td>8.33</td></tr><tr><td>EXTORTION</td><td>DISTRICT ATTORNEY REFUSES TO PROSECUTE</td><td>12</td><td>152</td><td>7.89</td></tr><tr><td>BAD CHECKS</td><td>DISTRICT ATTORNEY REFUSES TO PROSECUTE</td><td>14</td><td>180</td><td>7.78</td></tr><tr><td>WEAPON LAWS</td><td>ARREST, CITED</td><td>1157</td><td>14934</td><td>7.75</td></tr><tr><td>EMBEZZLEMENT</td><td>ARREST, CITED</td><td>60</td><td>837</td><td>7.17</td></tr><tr><td>SUSPICIOUS OCC</td><td>COMPLAINANT REFUSES TO PROSECUTE</td><td>611</td><td>8573</td><td>7.13</td></tr><tr><td>DRIVING UNDER THE INFLUENCE</td><td>ARREST, CITED</td><td>380</td><td>5335</td><td>7.12</td></tr><tr><td>BAD CHECKS</td><td>UNFOUNDED</td><td>12</td><td>180</td><td>6.67</td></tr><tr><td>EXTORTION</td><td>COMPLAINANT REFUSES TO PROSECUTE</td><td>10</td><td>152</td><td>6.58</td></tr><tr><td>SECONDARY CODES</td><td>COMPLAINANT REFUSES TO PROSECUTE</td><td>621</td><td>9542</td><td>6.51</td></tr><tr><td>SEX OFFENSES, FORCIBLE</td><td>ARREST, CITED</td><td>200</td><td>3172</td><td>6.31</td></tr><tr><td>SEX OFFENSES, NON FORCIBLE</td><td>ARREST, CITED</td><td>1</td><td>16</td><td>6.25</td></tr><tr><td>SUICIDE</td><td>LOCATED</td><td>19</td><td>309</td><td>6.15</td></tr><tr><td>NON-CRIMINAL</td><td>ARREST, CITED</td><td>3220</td><td>52553</td><td>6.13</td></tr><tr><td>EMBEZZLEMENT</td><td>COMPLAINANT REFUSES TO PROSECUTE</td><td>48</td><td>837</td><td>5.73</td></tr><tr><td>SECONDARY CODES</td><td>DISTRICT ATTORNEY REFUSES TO PROSECUTE</td><td>528</td><td>9542</td><td>5.53</td></tr><tr><td>EMBEZZLEMENT</td><td>UNFOUNDED</td><td>46</td><td>837</td><td>5.50</td></tr><tr><td>DRUNKENNESS</td><td>ARREST, CITED</td><td>441</td><td>8035</td><td>5.49</td></tr><tr><td>SEX OFFENSES, FORCIBLE</td><td>UNFOUNDED</td><td>173</td><td>3172</td><td>5.45</td></tr><tr><td>EMBEZZLEMENT</td><td>PROSECUTED BY OUTSIDE AGENCY</td><td>45</td><td>837</td><td>5.38</td></tr><tr><td>SUSPICIOUS OCC</td><td>NOT PROSECUTED</td><td>456</td><td>8573</td><td>5.32</td></tr><tr><td>EXTORTION</td><td>UNFOUNDED</td><td>8</td><td>152</td><td>5.26</td></tr><tr><td>EMBEZZLEMENT</td><td>NOT PROSECUTED</td><td>44</td><td>837</td><td>5.26</td></tr><tr><td>GAMBLING</td><td>NOT PROSECUTED</td><td>12</td><td>229</td><td>5.24</td></tr><tr><td>GAMBLING</td><td>PROSECUTED BY OUTSIDE AGENCY</td><td>12</td><td>229</td><td>5.24</td></tr><tr><td>KIDNAPPING</td><td>DISTRICT ATTORNEY REFUSES TO PROSECUTE</td><td>129</td><td>2489</td><td>5.18</td></tr><tr><td>MISSING PERSON</td><td>ARREST, BOOKED</td><td>1125</td><td>22638</td><td>4.97</td></tr><tr><td>ROBBERY</td><td>COMPLAINANT REFUSES TO PROSECUTE</td><td>536</td><td>11385</td><td>4.71</td></tr><tr><td>FORGERY/COUNTERFEITING</td><td>UNFOUNDED</td><td>393</td><td>8546</td><td>4.60</td></tr><tr><td>SUSPICIOUS OCC</td><td>DISTRICT ATTORNEY REFUSES TO PROSECUTE</td><td>389</td><td>8573</td><td>4.54</td></tr><tr><td>EMBEZZLEMENT</td><td>EXCEPTIONAL CLEARANCE</td><td>38</td><td>837</td><td>4.54</td></tr><tr><td>ROBBERY</td><td>DISTRICT ATTORNEY REFUSES TO PROSECUTE</td><td>500</td><td>11385</td><td>4.39</td></tr><tr><td>PORNOGRAPHY/OBSCENE MAT</td><td>UNFOUNDED</td><td>1</td><td>24</td><td>4.17</td></tr><tr><td>LARCENY/THEFT</td><td>NOT PROSECUTED</td><td>1600</td><td>40048</td><td>4.00</td></tr><tr><td>KIDNAPPING</td><td>COMPLAINANT REFUSES TO PROSECUTE</td><td>99</td><td>2489</td><td>3.98</td></tr><tr><td>EXTORTION</td><td>ARREST, CITED</td><td>6</td><td>152</td><td>3.95</td></tr><tr><td>BURGLARY</td><td>UNFOUNDED</td><td>545</td><td>14414</td><td>3.78</td></tr><tr><td>MISSING PERSON</td><td>UNFOUNDED</td><td>827</td><td>22638</td><td>3.65</td></tr><tr><td>ROBBERY</td><td>UNFOUNDED</td><td>408</td><td>11385</td><td>3.58</td></tr><tr><td>ARSON</td><td>UNFOUNDED</td><td>25</td><td>701</td><td>3.57</td></tr><tr><td>VANDALISM</td><td>UNFOUNDED</td><td>434</td><td>12940</td><td>3.35</td></tr><tr><td>BAD CHECKS</td><td>EXCEPTIONAL CLEARANCE</td><td>6</td><td>180</td><td>3.33</td></tr><tr><td>SEX OFFENSES, FORCIBLE</td><td>EXCEPTIONAL CLEARANCE</td><td>104</td><td>3172</td><td>3.28</td></tr><tr><td>BRIBERY</td><td>DISTRICT ATTORNEY REFUSES TO PROSECUTE</td><td>15</td><td>458</td><td>3.28</td></tr><tr><td>ASSAULT</td><td>DISTRICT ATTORNEY REFUSES TO PROSECUTE</td><td>2051</td><td>62499</td><td>3.28</td></tr><tr><td>FRAUD</td><td>UNFOUNDED</td><td>285</td><td>9291</td><td>3.07</td></tr><tr><td>SUSPICIOUS OCC</td><td>EXCEPTIONAL CLEARANCE</td><td>262</td><td>8573</td><td>3.06</td></tr><tr><td>LARCENY/THEFT</td><td>UNFOUNDED</td><td>1221</td><td>40048</td><td>3.05</td></tr><tr><td>SUSPICIOUS OCC</td><td>PROSECUTED BY OUTSIDE AGENCY</td><td>256</td><td>8573</td><td>2.99</td></tr><tr><td>SUICIDE</td><td>UNFOUNDED</td><td>9</td><td>309</td><td>2.91</td></tr><tr><td>SUICIDE</td><td>EXCEPTIONAL CLEARANCE</td><td>9</td><td>309</td><td>2.91</td></tr><tr><td>FORGERY/COUNTERFEITING</td><td>ARREST, CITED</td><td>247</td><td>8546</td><td>2.89</td></tr><tr><td>ASSAULT</td><td>COMPLAINANT REFUSES TO PROSECUTE</td><td>1797</td><td>62499</td><td>2.88</td></tr><tr><td>BURGLARY</td><td>DISTRICT ATTORNEY REFUSES TO PROSECUTE</td><td>413</td><td>14414</td><td>2.87</td></tr><tr><td>BAD CHECKS</td><td>COMPLAINANT REFUSES TO PROSECUTE</td><td>5</td><td>180</td><td>2.78</td></tr><tr><td>SUSPICIOUS OCC</td><td>LOCATED</td><td>235</td><td>8573</td><td>2.74</td></tr><tr><td>NON-CRIMINAL</td><td>COMPLAINANT REFUSES TO PROSECUTE</td><td>1432</td><td>52553</td><td>2.72</td></tr><tr><td>EXTORTION</td><td>EXCEPTIONAL CLEARANCE</td><td>4</td><td>152</td><td>2.63</td></tr><tr><td>ARSON</td><td>ARREST, CITED</td><td>17</td><td>701</td><td>2.43</td></tr><tr><td>ARSON</td><td>PSYCHOPATHIC CASE</td><td>17</td><td>701</td><td>2.43</td></tr><tr><td>BRIBERY</td><td>COMPLAINANT REFUSES TO PROSECUTE</td><td>11</td><td>458</td><td>2.40</td></tr><tr><td>SUSPICIOUS OCC</td><td>PSYCHOPATHIC CASE</td><td>202</td><td>8573</td><td>2.36</td></tr><tr><td>SECONDARY CODES</td><td>UNFOUNDED</td><td>217</td><td>9542</td><td>2.27</td></tr><tr><td>BURGLARY</td><td>COMPLAINANT REFUSES TO PROSECUTE</td><td>298</td><td>14414</td><td>2.07</td></tr><tr><td>VANDALISM</td><td>COMPLAINANT REFUSES TO PROSECUTE</td><td>264</td><td>12940</td><td>2.04</td></tr><tr><td>SECONDARY CODES</td><td>ARREST, CITED</td><td>188</td><td>9542</td><td>1.97</td></tr><tr><td>EXTORTION</td><td>PROSECUTED BY OUTSIDE AGENCY</td><td>3</td><td>152</td><td>1.97</td></tr><tr><td>MISSING PERSON</td><td>PSYCHOPATHIC CASE</td><td>426</td><td>22638</td><td>1.88</td></tr><tr><td>FORGERY/COUNTERFEITING</td><td>DISTRICT ATTORNEY REFUSES TO PROSECUTE</td><td>156</td><td>8546</td><td>1.83</td></tr><tr><td>VEHICLE THEFT</td><td>ARREST, CITED</td><td>185</td><td>10248</td><td>1.81</td></tr><tr><td>NON-CRIMINAL</td><td>EXCEPTIONAL CLEARANCE</td><td>945</td><td>52553</td><td>1.80</td></tr><tr><td>NON-CRIMINAL</td><td>LOCATED</td><td>866</td><td>52553</td><td>1.65</td></tr><tr><td>STOLEN PROPERTY</td><td>ARREST, CITED</td><td>161</td><td>10011</td><td>1.61</td></tr><tr><td>ASSAULT</td><td>UNFOUNDED</td><td>1000</td><td>62499</td><td>1.60</td></tr><tr><td>VANDALISM</td><td>PSYCHOPATHIC CASE</td><td>196</td><td>12940</td><td>1.51</td></tr><tr><td>NON-CRIMINAL</td><td>NOT PROSECUTED</td><td>796</td><td>52553</td><td>1.51</td></tr><tr><td>VANDALISM</td><td>DISTRICT ATTORNEY REFUSES TO PROSECUTE</td><td>191</td><td>12940</td><td>1.48</td></tr><tr><td>KIDNAPPING</td><td>UNFOUNDED</td><td>35</td><td>2489</td><td>1.41</td></tr><tr><td>FRAUD</td><td>DISTRICT ATTORNEY REFUSES TO PROSECUTE</td><td>130</td><td>9291</td><td>1.40</td></tr><tr><td>FRAUD</td><td>EXCEPTIONAL CLEARANCE</td><td>129</td><td>9291</td><td>1.39</td></tr><tr><td>EXTORTION</td><td>NOT PROSECUTED</td><td>2</td><td>152</td><td>1.32</td></tr><tr><td>MISSING PERSON</td><td>ARREST, CITED</td><td>296</td><td>22638</td><td>1.31</td></tr><tr><td>MISSING PERSON</td><td>EXCEPTIONAL CLEARANCE</td><td>271</td><td>22638</td><td>1.20</td></tr><tr><td>LARCENY/THEFT</td><td>COMPLAINANT REFUSES TO PROSECUTE</td><td>471</td><td>40048</td><td>1.18</td></tr><tr><td>LARCENY/THEFT</td><td>DISTRICT ATTORNEY REFUSES TO PROSECUTE</td><td>467</td><td>40048</td><td>1.17</td></tr><tr><td>LARCENY/THEFT</td><td>EXCEPTIONAL CLEARANCE</td><td>442</td><td>40048</td><td>1.10</td></tr><tr><td>BRIBERY</td><td>ARREST, CITED</td><td>5</td><td>458</td><td>1.09</td></tr><tr><td>BRIBERY</td><td>UNFOUNDED</td><td>5</td><td>458</td><td>1.09</td></tr><tr><td>RECOVERED VEHICLE</td><td>ARREST, CITED</td><td>6</td><td>575</td><td>1.04</td></tr><tr><td>WEAPON LAWS</td><td>UNFOUNDED</td><td>156</td><td>14934</td><td>1.04</td></tr><tr><td>ASSAULT</td><td>EXCEPTIONAL CLEARANCE</td><td>632</td><td>62499</td><td>1.01</td></tr><tr><td>BURGLARY</td><td>ARREST, CITED</td><td>146</td><td>14414</td><td>1.01</td></tr><tr><td>ROBBERY</td><td>NOT PROSECUTED</td><td>109</td><td>11385</td><td>0.96</td></tr><tr><td>WARRANTS</td><td>ARREST, CITED</td><td>885</td><td>94339</td><td>0.94</td></tr><tr><td>DISORDERLY CONDUCT</td><td>UNFOUNDED</td><td>60</td><td>6474</td><td>0.93</td></tr><tr><td>BURGLARY</td><td>EXCEPTIONAL CLEARANCE</td><td>134</td><td>14414</td><td>0.93</td></tr><tr><td>NON-CRIMINAL</td><td>PROSECUTED BY OUTSIDE AGENCY</td><td>476</td><td>52553</td><td>0.91</td></tr><tr><td>FORGERY/COUNTERFEITING</td><td>EXCEPTIONAL CLEARANCE</td><td>76</td><td>8546</td><td>0.89</td></tr><tr><td>NON-CRIMINAL</td><td>DISTRICT ATTORNEY REFUSES TO PROSECUTE</td><td>470</td><td>52553</td><td>0.89</td></tr><tr><td>GAMBLING</td><td>UNFOUNDED</td><td>2</td><td>229</td><td>0.87</td></tr><tr><td>PROSTITUTION</td><td>EXCEPTIONAL CLEARANCE</td><td>131</td><td>15651</td><td>0.84</td></tr><tr><td>OTHER OFFENSES</td><td>UNFOUNDED</td><td>1715</td><td>215059</td><td>0.80</td></tr><tr><td>ROBBERY</td><td>ARREST, CITED</td><td>90</td><td>11385</td><td>0.79</td></tr><tr><td>LIQUOR LAWS</td><td>PROSECUTED BY OUTSIDE AGENCY</td><td>20</td><td>2527</td><td>0.79</td></tr><tr><td>SEX OFFENSES, FORCIBLE</td><td>PROSECUTED BY OUTSIDE AGENCY</td><td>23</td><td>3172</td><td>0.73</td></tr><tr><td>ROBBERY</td><td>EXCEPTIONAL CLEARANCE</td><td>82</td><td>11385</td><td>0.72</td></tr><tr><td>VEHICLE THEFT</td><td>DISTRICT ATTORNEY REFUSES TO PROSECUTE</td><td>70</td><td>10248</td><td>0.68</td></tr><tr><td>KIDNAPPING</td><td>ARREST, CITED</td><td>17</td><td>2489</td><td>0.68</td></tr><tr><td>BRIBERY</td><td>EXCEPTIONAL CLEARANCE</td><td>3</td><td>458</td><td>0.66</td></tr><tr><td>SUICIDE</td><td>ARREST, CITED</td><td>2</td><td>309</td><td>0.65</td></tr><tr><td>ASSAULT</td><td>PSYCHOPATHIC CASE</td><td>403</td><td>62499</td><td>0.64</td></tr><tr><td>VANDALISM</td><td>EXCEPTIONAL CLEARANCE</td><td>83</td><td>12940</td><td>0.64</td></tr><tr><td>WEAPON LAWS</td><td>DISTRICT ATTORNEY REFUSES TO PROSECUTE</td><td>94</td><td>14934</td><td>0.63</td></tr><tr><td>KIDNAPPING</td><td>PROSECUTED BY OUTSIDE AGENCY</td><td>15</td><td>2489</td><td>0.60</td></tr><tr><td>SECONDARY CODES</td><td>NOT PROSECUTED</td><td>56</td><td>9542</td><td>0.59</td></tr><tr><td>STOLEN PROPERTY</td><td>NOT PROSECUTED</td><td>59</td><td>10011</td><td>0.59</td></tr><tr><td>SEX OFFENSES, FORCIBLE</td><td>NOT PROSECUTED</td><td>18</td><td>3172</td><td>0.57</td></tr><tr><td>KIDNAPPING</td><td>EXCEPTIONAL CLEARANCE</td><td>14</td><td>2489</td><td>0.56</td></tr><tr><td>BAD CHECKS</td><td>ARREST, CITED</td><td>1</td><td>180</td><td>0.56</td></tr><tr><td>TRESPASS</td><td>UNFOUNDED</td><td>68</td><td>12907</td><td>0.53</td></tr><tr><td>RECOVERED VEHICLE</td><td>UNFOUNDED</td><td>3</td><td>575</td><td>0.52</td></tr><tr><td>VEHICLE THEFT</td><td>COMPLAINANT REFUSES TO PROSECUTE</td><td>53</td><td>10248</td><td>0.52</td></tr><tr><td>FRAUD</td><td>COMPLAINANT REFUSES TO PROSECUTE</td><td>46</td><td>9291</td><td>0.50</td></tr><tr><td>FORGERY/COUNTERFEITING</td><td>COMPLAINANT REFUSES TO PROSECUTE</td><td>42</td><td>8546</td><td>0.49</td></tr><tr><td>SECONDARY CODES</td><td>EXCEPTIONAL CLEARANCE</td><td>46</td><td>9542</td><td>0.48</td></tr><tr><td>DRUNKENNESS</td><td>PSYCHOPATHIC CASE</td><td>37</td><td>8035</td><td>0.46</td></tr><tr><td>WEAPON LAWS</td><td>NOT PROSECUTED</td><td>66</td><td>14934</td><td>0.44</td></tr><tr><td>GAMBLING</td><td>EXCEPTIONAL CLEARANCE</td><td>1</td><td>229</td><td>0.44</td></tr><tr><td>GAMBLING</td><td>DISTRICT ATTORNEY REFUSES TO PROSECUTE</td><td>1</td><td>229</td><td>0.44</td></tr><tr><td>TRESPASS</td><td>COMPLAINANT REFUSES TO PROSECUTE</td><td>56</td><td>12907</td><td>0.43</td></tr><tr><td>ARSON</td><td>COMPLAINANT REFUSES TO PROSECUTE</td><td>3</td><td>701</td><td>0.43</td></tr><tr><td>DISORDERLY CONDUCT</td><td>COMPLAINANT REFUSES TO PROSECUTE</td><td>28</td><td>6474</td><td>0.43</td></tr><tr><td>ARSON</td><td>PROSECUTED BY OUTSIDE AGENCY</td><td>3</td><td>701</td><td>0.43</td></tr><tr><td>ARSON</td><td>NOT PROSECUTED</td><td>3</td><td>701</td><td>0.43</td></tr><tr><td>ROBBERY</td><td>PROSECUTED BY OUTSIDE AGENCY</td><td>47</td><td>11385</td><td>0.41</td></tr><tr><td>TRESPASS</td><td>PSYCHOPATHIC CASE</td><td>52</td><td>12907</td><td>0.40</td></tr><tr><td>LARCENY/THEFT</td><td>PROSECUTED BY OUTSIDE AGENCY</td><td>156</td><td>40048</td><td>0.39</td></tr><tr><td>SEX OFFENSES, FORCIBLE</td><td>LOCATED</td><td>12</td><td>3172</td><td>0.38</td></tr><tr><td>BURGLARY</td><td>NOT PROSECUTED</td><td>55</td><td>14414</td><td>0.38</td></tr><tr><td>EMBEZZLEMENT</td><td>LOCATED</td><td>3</td><td>837</td><td>0.36</td></tr><tr><td>DRUNKENNESS</td><td>UNFOUNDED</td><td>28</td><td>8035</td><td>0.35</td></tr><tr><td>VEHICLE THEFT</td><td>EXCEPTIONAL CLEARANCE</td><td>35</td><td>10248</td><td>0.34</td></tr><tr><td>OTHER OFFENSES</td><td>PROSECUTED BY OUTSIDE AGENCY</td><td>718</td><td>215059</td><td>0.33</td></tr><tr><td>SEX OFFENSES, FORCIBLE</td><td>PSYCHOPATHIC CASE</td><td>10</td><td>3172</td><td>0.32</td></tr><tr><td>SECONDARY CODES</td><td>PROSECUTED BY OUTSIDE AGENCY</td><td>31</td><td>9542</td><td>0.32</td></tr><tr><td>SUICIDE</td><td>DISTRICT ATTORNEY REFUSES TO PROSECUTE</td><td>1</td><td>309</td><td>0.32</td></tr><tr><td>SECONDARY CODES</td><td>PSYCHOPATHIC CASE</td><td>30</td><td>9542</td><td>0.31</td></tr><tr><td>WEAPON LAWS</td><td>COMPLAINANT REFUSES TO PROSECUTE</td><td>45</td><td>14934</td><td>0.30</td></tr><tr><td>OTHER OFFENSES</td><td>DISTRICT ATTORNEY REFUSES TO PROSECUTE</td><td>635</td><td>215059</td><td>0.30</td></tr><tr><td>STOLEN PROPERTY</td><td>PROSECUTED BY OUTSIDE AGENCY</td><td>30</td><td>10011</td><td>0.30</td></tr><tr><td>DRUNKENNESS</td><td>NOT PROSECUTED</td><td>23</td><td>8035</td><td>0.29</td></tr><tr><td>ARSON</td><td>EXCEPTIONAL CLEARANCE</td><td>2</td><td>701</td><td>0.29</td></tr><tr><td>DISORDERLY CONDUCT</td><td>PSYCHOPATHIC CASE</td><td>18</td><td>6474</td><td>0.28</td></tr><tr><td>OTHER OFFENSES</td><td>COMPLAINANT REFUSES TO PROSECUTE</td><td>604</td><td>215059</td><td>0.28</td></tr><tr><td>STOLEN PROPERTY</td><td>DISTRICT ATTORNEY REFUSES TO PROSECUTE</td><td>27</td><td>10011</td><td>0.27</td></tr><tr><td>VANDALISM</td><td>NOT PROSECUTED</td><td>34</td><td>12940</td><td>0.26</td></tr><tr><td>WEAPON LAWS</td><td>EXCEPTIONAL CLEARANCE</td><td>39</td><td>14934</td><td>0.26</td></tr><tr><td>KIDNAPPING</td><td>NOT PROSECUTED</td><td>6</td><td>2489</td><td>0.24</td></tr><tr><td>EMBEZZLEMENT</td><td>PSYCHOPATHIC CASE</td><td>2</td><td>837</td><td>0.24</td></tr><tr><td>ASSAULT</td><td>NOT PROSECUTED</td><td>136</td><td>62499</td><td>0.22</td></tr><tr><td>BURGLARY</td><td>PROSECUTED BY OUTSIDE AGENCY</td><td>32</td><td>14414</td><td>0.22</td></tr><tr><td>BRIBERY</td><td>NOT PROSECUTED</td><td>1</td><td>458</td><td>0.22</td></tr><tr><td>LIQUOR LAWS</td><td>NOT PROSECUTED</td><td>5</td><td>2527</td><td>0.20</td></tr><tr><td>DRUG/NARCOTIC</td><td>UNFOUNDED</td><td>219</td><td>107565</td><td>0.20</td></tr><tr><td>OTHER OFFENSES</td><td>NOT PROSECUTED</td><td>433</td><td>215059</td><td>0.20</td></tr><tr><td>KIDNAPPING</td><td>LOCATED</td><td>5</td><td>2489</td><td>0.20</td></tr><tr><td>VEHICLE THEFT</td><td>LOCATED</td><td>20</td><td>10248</td><td>0.20</td></tr><tr><td>TRESPASS</td><td>NOT PROSECUTED</td><td>24</td><td>12907</td><td>0.19</td></tr><tr><td>VEHICLE THEFT</td><td>NOT PROSECUTED</td><td>19</td><td>10248</td><td>0.19</td></tr><tr><td>VANDALISM</td><td>LOCATED</td><td>25</td><td>12940</td><td>0.19</td></tr><tr><td>LOITERING</td><td>NOT PROSECUTED</td><td>4</td><td>2103</td><td>0.19</td></tr><tr><td>TRESPASS</td><td>EXCEPTIONAL CLEARANCE</td><td>22</td><td>12907</td><td>0.17</td></tr><tr><td>STOLEN PROPERTY</td><td>UNFOUNDED</td><td>17</td><td>10011</td><td>0.17</td></tr><tr><td>OTHER OFFENSES</td><td>EXCEPTIONAL CLEARANCE</td><td>361</td><td>215059</td><td>0.17</td></tr><tr><td>DISORDERLY CONDUCT</td><td>NOT PROSECUTED</td><td>11</td><td>6474</td><td>0.17</td></tr><tr><td>RECOVERED VEHICLE</td><td>NOT PROSECUTED</td><td>1</td><td>575</td><td>0.17</td></tr><tr><td>RECOVERED VEHICLE</td><td>EXCEPTIONAL CLEARANCE</td><td>1</td><td>575</td><td>0.17</td></tr><tr><td>PROSTITUTION</td><td>UNFOUNDED</td><td>25</td><td>15651</td><td>0.16</td></tr><tr><td>ASSAULT</td><td>PROSECUTED BY OUTSIDE AGENCY</td><td>102</td><td>62499</td><td>0.16</td></tr><tr><td>LIQUOR LAWS</td><td>LOCATED</td><td>4</td><td>2527</td><td>0.16</td></tr><tr><td>ASSAULT</td><td>LOCATED</td><td>93</td><td>62499</td><td>0.15</td></tr><tr><td>DRUNKENNESS</td><td>COMPLAINANT REFUSES TO PROSECUTE</td><td>12</td><td>8035</td><td>0.15</td></tr><tr><td>STOLEN PROPERTY</td><td>EXCEPTIONAL CLEARANCE</td><td>15</td><td>10011</td><td>0.15</td></tr><tr><td>DISORDERLY CONDUCT</td><td>EXCEPTIONAL CLEARANCE</td><td>10</td><td>6474</td><td>0.15</td></tr><tr><td>MISSING PERSON</td><td>PROSECUTED BY OUTSIDE AGENCY</td><td>32</td><td>22638</td><td>0.14</td></tr><tr><td>TRESPASS</td><td>DISTRICT ATTORNEY REFUSES TO PROSECUTE</td><td>18</td><td>12907</td><td>0.14</td></tr><tr><td>DISORDERLY CONDUCT</td><td>DISTRICT ATTORNEY REFUSES TO PROSECUTE</td><td>9</td><td>6474</td><td>0.14</td></tr><tr><td>WARRANTS</td><td>UNFOUNDED</td><td>132</td><td>94339</td><td>0.14</td></tr><tr><td>ARSON</td><td>PROSECUTED FOR LESSER OFFENSE</td><td>1</td><td>701</td><td>0.14</td></tr><tr><td>LOITERING</td><td>UNFOUNDED</td><td>3</td><td>2103</td><td>0.14</td></tr><tr><td>WEAPON LAWS</td><td>PSYCHOPATHIC CASE</td><td>20</td><td>14934</td><td>0.13</td></tr><tr><td>DRUG/NARCOTIC</td><td>NOT PROSECUTED</td><td>139</td><td>107565</td><td>0.13</td></tr><tr><td>PROSTITUTION</td><td>DISTRICT ATTORNEY REFUSES TO PROSECUTE</td><td>20</td><td>15651</td><td>0.13</td></tr><tr><td>SECONDARY CODES</td><td>LOCATED</td><td>11</td><td>9542</td><td>0.12</td></tr><tr><td>LARCENY/THEFT</td><td>PSYCHOPATHIC CASE</td><td>47</td><td>40048</td><td>0.12</td></tr><tr><td>LIQUOR LAWS</td><td>PSYCHOPATHIC CASE</td><td>3</td><td>2527</td><td>0.12</td></tr><tr><td>KIDNAPPING</td><td>PSYCHOPATHIC CASE</td><td>3</td><td>2489</td><td>0.12</td></tr><tr><td>LIQUOR LAWS</td><td>UNFOUNDED</td><td>3</td><td>2527</td><td>0.12</td></tr><tr><td>LARCENY/THEFT</td><td>LOCATED</td><td>44</td><td>40048</td><td>0.11</td></tr><tr><td>VEHICLE THEFT</td><td>PROSECUTED BY OUTSIDE AGENCY</td><td>11</td><td>10248</td><td>0.11</td></tr><tr><td>FRAUD</td><td>PSYCHOPATHIC CASE</td><td>10</td><td>9291</td><td>0.11</td></tr><tr><td>DRIVING UNDER THE INFLUENCE</td><td>UNFOUNDED</td><td>6</td><td>5335</td><td>0.11</td></tr><tr><td>LOITERING</td><td>LOCATED</td><td>2</td><td>2103</td><td>0.10</td></tr><tr><td>BURGLARY</td><td>LOCATED</td><td>15</td><td>14414</td><td>0.10</td></tr><tr><td>DRUNKENNESS</td><td>LOCATED</td><td>8</td><td>8035</td><td>0.10</td></tr><tr><td>WEAPON LAWS</td><td>PROSECUTED BY OUTSIDE AGENCY</td><td>15</td><td>14934</td><td>0.10</td></tr><tr><td>OTHER OFFENSES</td><td>PSYCHOPATHIC CASE</td><td>212</td><td>215059</td><td>0.10</td></tr><tr><td>LOITERING</td><td>DISTRICT ATTORNEY REFUSES TO PROSECUTE</td><td>2</td><td>2103</td><td>0.10</td></tr><tr><td>DISORDERLY CONDUCT</td><td>LOCATED</td><td>6</td><td>6474</td><td>0.09</td></tr><tr><td>VANDALISM</td><td>PROSECUTED BY OUTSIDE AGENCY</td><td>12</td><td>12940</td><td>0.09</td></tr><tr><td>DRUNKENNESS</td><td>EXCEPTIONAL CLEARANCE</td><td>7</td><td>8035</td><td>0.09</td></tr><tr><td>TRESPASS</td><td>LOCATED</td><td>10</td><td>12907</td><td>0.08</td></tr><tr><td>MISSING PERSON</td><td>NOT PROSECUTED</td><td>19</td><td>22638</td><td>0.08</td></tr><tr><td>FRAUD</td><td>LOCATED</td><td>7</td><td>9291</td><td>0.08</td></tr><tr><td>PROSTITUTION</td><td>COMPLAINANT REFUSES TO PROSECUTE</td><td>11</td><td>15651</td><td>0.07</td></tr><tr><td>ROBBERY</td><td>LOCATED</td><td>8</td><td>11385</td><td>0.07</td></tr><tr><td>DRUNKENNESS</td><td>DISTRICT ATTORNEY REFUSES TO PROSECUTE</td><td>6</td><td>8035</td><td>0.07</td></tr><tr><td>MISSING PERSON</td><td>DISTRICT ATTORNEY REFUSES TO PROSECUTE</td><td>15</td><td>22638</td><td>0.07</td></tr><tr><td>OTHER OFFENSES</td><td>LOCATED</td><td>119</td><td>215059</td><td>0.06</td></tr><tr><td>BURGLARY</td><td>PSYCHOPATHIC CASE</td><td>9</td><td>14414</td><td>0.06</td></tr><tr><td>DRIVING UNDER THE INFLUENCE</td><td>EXCEPTIONAL CLEARANCE</td><td>3</td><td>5335</td><td>0.06</td></tr><tr><td>WEAPON LAWS</td><td>LOCATED</td><td>7</td><td>14934</td><td>0.05</td></tr><tr><td>DRUG/NARCOTIC</td><td>COMPLAINANT REFUSES TO PROSECUTE</td><td>49</td><td>107565</td><td>0.05</td></tr><tr><td>ROBBERY</td><td>PSYCHOPATHIC CASE</td><td>6</td><td>11385</td><td>0.05</td></tr><tr><td>WARRANTS</td><td>PROSECUTED BY OUTSIDE AGENCY</td><td>43</td><td>94339</td><td>0.05</td></tr><tr><td>DRUG/NARCOTIC</td><td>PSYCHOPATHIC CASE</td><td>51</td><td>107565</td><td>0.05</td></tr><tr><td>MISSING PERSON</td><td>COMPLAINANT REFUSES TO PROSECUTE</td><td>12</td><td>22638</td><td>0.05</td></tr><tr><td>LOITERING</td><td>EXCEPTIONAL CLEARANCE</td><td>1</td><td>2103</td><td>0.05</td></tr><tr><td>LOITERING</td><td>PROSECUTED BY OUTSIDE AGENCY</td><td>1</td><td>2103</td><td>0.05</td></tr><tr><td>FORGERY/COUNTERFEITING</td><td>PSYCHOPATHIC CASE</td><td>3</td><td>8546</td><td>0.04</td></tr><tr><td>LIQUOR LAWS</td><td>EXCEPTIONAL CLEARANCE</td><td>1</td><td>2527</td><td>0.04</td></tr><tr><td>PROSTITUTION</td><td>PROSECUTED BY OUTSIDE AGENCY</td><td>7</td><td>15651</td><td>0.04</td></tr><tr><td>PROSTITUTION</td><td>LOCATED</td><td>7</td><td>15651</td><td>0.04</td></tr><tr><td>WARRANTS</td><td>DISTRICT ATTORNEY REFUSES TO PROSECUTE</td><td>36</td><td>94339</td><td>0.04</td></tr><tr><td>WARRANTS</td><td>LOCATED</td><td>34</td><td>94339</td><td>0.04</td></tr><tr><td>WARRANTS</td><td>PSYCHOPATHIC CASE</td><td>36</td><td>94339</td><td>0.04</td></tr><tr><td>TRESPASS</td><td>PROSECUTED BY OUTSIDE AGENCY</td><td>5</td><td>12907</td><td>0.04</td></tr><tr><td>KIDNAPPING</td><td>PROSECUTED FOR LESSER OFFENSE</td><td>1</td><td>2489</td><td>0.04</td></tr><tr><td>STOLEN PROPERTY</td><td>COMPLAINANT REFUSES TO PROSECUTE</td><td>4</td><td>10011</td><td>0.04</td></tr><tr><td>DRIVING UNDER THE INFLUENCE</td><td>LOCATED</td><td>2</td><td>5335</td><td>0.04</td></tr><tr><td>DRUG/NARCOTIC</td><td>EXCEPTIONAL CLEARANCE</td><td>37</td><td>107565</td><td>0.03</td></tr><tr><td>SECONDARY CODES</td><td>PROSECUTED FOR LESSER OFFENSE</td><td>3</td><td>9542</td><td>0.03</td></tr><tr><td>DRUG/NARCOTIC</td><td>PROSECUTED BY OUTSIDE AGENCY</td><td>35</td><td>107565</td><td>0.03</td></tr><tr><td>DISORDERLY CONDUCT</td><td>PROSECUTED BY OUTSIDE AGENCY</td><td>2</td><td>6474</td><td>0.03</td></tr><tr><td>WARRANTS</td><td>EXCEPTIONAL CLEARANCE</td><td>30</td><td>94339</td><td>0.03</td></tr><tr><td>STOLEN PROPERTY</td><td>LOCATED</td><td>3</td><td>10011</td><td>0.03</td></tr><tr><td>DRIVING UNDER THE INFLUENCE</td><td>PROSECUTED FOR LESSER OFFENSE</td><td>1</td><td>5335</td><td>0.02</td></tr><tr><td>WARRANTS</td><td>NOT PROSECUTED</td><td>18</td><td>94339</td><td>0.02</td></tr><tr><td>ASSAULT</td><td>PROSECUTED FOR LESSER OFFENSE</td><td>12</td><td>62499</td><td>0.02</td></tr><tr><td>DRIVING UNDER THE INFLUENCE</td><td>PROSECUTED BY OUTSIDE AGENCY</td><td>1</td><td>5335</td><td>0.02</td></tr><tr><td>DRUG/NARCOTIC</td><td>DISTRICT ATTORNEY REFUSES TO PROSECUTE</td><td>24</td><td>107565</td><td>0.02</td></tr><tr><td>FRAUD</td><td>PROSECUTED FOR LESSER OFFENSE</td><td>2</td><td>9291</td><td>0.02</td></tr><tr><td>DRUG/NARCOTIC</td><td>LOCATED</td><td>24</td><td>107565</td><td>0.02</td></tr><tr><td>DRIVING UNDER THE INFLUENCE</td><td>PSYCHOPATHIC CASE</td><td>1</td><td>5335</td><td>0.02</td></tr><tr><td>WARRANTS</td><td>COMPLAINANT REFUSES TO PROSECUTE</td><td>21</td><td>94339</td><td>0.02</td></tr><tr><td>DISORDERLY CONDUCT</td><td>PROSECUTED FOR LESSER OFFENSE</td><td>1</td><td>6474</td><td>0.02</td></tr><tr><td>FORGERY/COUNTERFEITING</td><td>PROSECUTED FOR LESSER OFFENSE</td><td>2</td><td>8546</td><td>0.02</td></tr><tr><td>OTHER OFFENSES</td><td>PROSECUTED FOR LESSER OFFENSE</td><td>18</td><td>215059</td><td>0.01</td></tr><tr><td>DRUG/NARCOTIC</td><td>PROSECUTED FOR LESSER OFFENSE</td><td>15</td><td>107565</td><td>0.01</td></tr><tr><td>WEAPON LAWS</td><td>PROSECUTED FOR LESSER OFFENSE</td><td>1</td><td>14934</td><td>0.01</td></tr><tr><td>STOLEN PROPERTY</td><td>PSYCHOPATHIC CASE</td><td>1</td><td>10011</td><td>0.01</td></tr><tr><td>BURGLARY</td><td>PROSECUTED FOR LESSER OFFENSE</td><td>2</td><td>14414</td><td>0.01</td></tr><tr><td>NON-CRIMINAL</td><td>PROSECUTED FOR LESSER OFFENSE</td><td>5</td><td>52553</td><td>0.01</td></tr><tr><td>SUSPICIOUS OCC</td><td>PROSECUTED FOR LESSER OFFENSE</td><td>1</td><td>8573</td><td>0.01</td></tr><tr><td>WARRANTS</td><td>PROSECUTED FOR LESSER OFFENSE</td><td>12</td><td>94339</td><td>0.01</td></tr><tr><td>TRESPASS</td><td>PROSECUTED FOR LESSER OFFENSE</td><td>1</td><td>12907</td><td>0.01</td></tr><tr><td>ROBBERY</td><td>PROSECUTED FOR LESSER OFFENSE</td><td>1</td><td>11385</td><td>0.01</td></tr><tr><td>STOLEN PROPERTY</td><td>PROSECUTED FOR LESSER OFFENSE</td><td>1</td><td>10011</td><td>0.01</td></tr><tr><td>VEHICLE THEFT</td><td>PROSECUTED FOR LESSER OFFENSE</td><td>1</td><td>10248</td><td>0.01</td></tr><tr><td>VEHICLE THEFT</td><td>PSYCHOPATHIC CASE</td><td>1</td><td>10248</td><td>0.01</td></tr><tr><td>PROSTITUTION</td><td>PSYCHOPATHIC CASE</td><td>2</td><td>15651</td><td>0.01</td></tr><tr><td>PROSTITUTION</td><td>NOT PROSECUTED</td><td>1</td><td>15651</td><td>0.01</td></tr><tr><td>DRUNKENNESS</td><td>PROSECUTED BY OUTSIDE AGENCY</td><td>1</td><td>8035</td><td>0.01</td></tr><tr><td>DRUNKENNESS</td><td>PROSECUTED FOR LESSER OFFENSE</td><td>1</td><td>8035</td><td>0.01</td></tr><tr><td>FORGERY/COUNTERFEITING</td><td>LOCATED</td><td>1</td><td>8546</td><td>0.01</td></tr><tr><td>LARCENY/THEFT</td><td>PROSECUTED FOR LESSER OFFENSE</td><td>1</td><td>40048</td><td>0.00</td></tr></tbody></table></div>"
      ]
     },
     "metadata": {
      "application/vnd.databricks.v1+output": {
       "addedWidgets": {},
       "aggData": [],
       "aggError": "",
       "aggOverflow": false,
       "aggSchema": [],
       "aggSeriesLimitReached": false,
       "aggType": "",
       "arguments": {},
       "columnCustomDisplayInfos": {},
       "data": [
        [
         "WARRANTS",
         "ARREST, BOOKED",
         93092,
         94339,
         "98.68"
        ],
        [
         "RECOVERED VEHICLE",
         "ARREST, BOOKED",
         564,
         575,
         "98.09"
        ],
        [
         "STOLEN PROPERTY",
         "ARREST, BOOKED",
         9693,
         10011,
         "96.82"
        ],
        [
         "DRUNKENNESS",
         "ARREST, BOOKED",
         7471,
         8035,
         "92.98"
        ],
        [
         "DRIVING UNDER THE INFLUENCE",
         "ARREST, BOOKED",
         4941,
         5335,
         "92.61"
        ],
        [
         "BRIBERY",
         "ARREST, BOOKED",
         418,
         458,
         "91.27"
        ],
        [
         "DRUG/NARCOTIC",
         "ARREST, BOOKED",
         97926,
         107565,
         "91.04"
        ],
        [
         "ARSON",
         "ARREST, BOOKED",
         630,
         701,
         "89.87"
        ],
        [
         "WEAPON LAWS",
         "ARREST, BOOKED",
         13334,
         14934,
         "89.29"
        ],
        [
         "BURGLARY",
         "ARREST, BOOKED",
         12765,
         14414,
         "88.56"
        ],
        [
         "KIDNAPPING",
         "ARREST, BOOKED",
         2165,
         2489,
         "86.98"
        ],
        [
         "MISSING PERSON",
         "LOCATED",
         19615,
         22638,
         "86.65"
        ],
        [
         "ROBBERY",
         "ARREST, BOOKED",
         9598,
         11385,
         "84.30"
        ],
        [
         "SECONDARY CODES",
         "ARREST, BOOKED",
         7811,
         9542,
         "81.86"
        ],
        [
         "ASSAULT",
         "ARREST, BOOKED",
         49246,
         62499,
         "78.79"
        ],
        [
         "SUICIDE",
         "PSYCHOPATHIC CASE",
         235,
         309,
         "76.05"
        ],
        [
         "TREA",
         "ARREST, BOOKED",
         6,
         8,
         "75.00"
        ],
        [
         "LIQUOR LAWS",
         "ARREST, BOOKED",
         1839,
         2527,
         "72.77"
        ],
        [
         "EXTORTION",
         "ARREST, BOOKED",
         107,
         152,
         "70.39"
        ],
        [
         "LOITERING",
         "ARREST, CITED",
         1432,
         2103,
         "68.09"
        ],
        [
         "VANDALISM",
         "ARREST, BOOKED",
         8734,
         12940,
         "67.50"
        ],
        [
         "LARCENY/THEFT",
         "ARREST, BOOKED",
         25136,
         40048,
         "62.76"
        ],
        [
         "PORNOGRAPHY/OBSCENE MAT",
         "ARREST, BOOKED",
         15,
         24,
         "62.50"
        ],
        [
         "PROSTITUTION",
         "ARREST, CITED",
         9667,
         15651,
         "61.77"
        ],
        [
         "TRESPASS",
         "ARREST, BOOKED",
         7598,
         12907,
         "58.87"
        ],
        [
         "DISORDERLY CONDUCT",
         "ARREST, BOOKED",
         3702,
         6474,
         "57.18"
        ],
        [
         "EMBEZZLEMENT",
         "ARREST, BOOKED",
         453,
         837,
         "54.12"
        ],
        [
         "OTHER OFFENSES",
         "ARREST, BOOKED",
         115427,
         215059,
         "53.67"
        ],
        [
         "FRAUD",
         "ARREST, BOOKED",
         4940,
         9291,
         "53.17"
        ],
        [
         "SEX OFFENSES, FORCIBLE",
         "ARREST, BOOKED",
         1648,
         3172,
         "51.95"
        ],
        [
         "GAMBLING",
         "ARREST, BOOKED",
         118,
         229,
         "51.53"
        ],
        [
         "NON-CRIMINAL",
         "PSYCHOPATHIC CASE",
         27027,
         52553,
         "51.43"
        ],
        [
         "FORGERY/COUNTERFEITING",
         "ARREST, BOOKED",
         4339,
         8546,
         "50.77"
        ],
        [
         "VEHICLE THEFT",
         "ARREST, BOOKED",
         5064,
         10248,
         "49.41"
        ],
        [
         "VEHICLE THEFT",
         "UNFOUNDED",
         4789,
         10248,
         "46.73"
        ],
        [
         "OTHER OFFENSES",
         "ARREST, CITED",
         94817,
         215059,
         "44.09"
        ],
        [
         "SEX OFFENSES, NON FORCIBLE",
         "DISTRICT ATTORNEY REFUSES TO PROSECUTE",
         7,
         16,
         "43.75"
        ],
        [
         "DISORDERLY CONDUCT",
         "ARREST, CITED",
         2627,
         6474,
         "40.58"
        ],
        [
         "TRESPASS",
         "ARREST, CITED",
         5053,
         12907,
         "39.15"
        ],
        [
         "PROSTITUTION",
         "ARREST, BOOKED",
         5780,
         15651,
         "36.93"
        ],
        [
         "GAMBLING",
         "ARREST, CITED",
         83,
         229,
         "36.24"
        ],
        [
         "SUSPICIOUS OCC",
         "ARREST, BOOKED",
         2765,
         8573,
         "32.25"
        ],
        [
         "LOITERING",
         "ARREST, BOOKED",
         658,
         2103,
         "31.29"
        ],
        [
         "SUSPICIOUS OCC",
         "UNFOUNDED",
         2507,
         8573,
         "29.24"
        ],
        [
         "BAD CHECKS",
         "ARREST, BOOKED",
         49,
         180,
         "27.22"
        ],
        [
         "BAD CHECKS",
         "PROSECUTED BY OUTSIDE AGENCY",
         48,
         180,
         "26.67"
        ],
        [
         "LARCENY/THEFT",
         "ARREST, CITED",
         10463,
         40048,
         "26.13"
        ],
        [
         "LIQUOR LAWS",
         "ARREST, CITED",
         652,
         2527,
         "25.80"
        ],
        [
         "PORNOGRAPHY/OBSCENE MAT",
         "ARREST, CITED",
         6,
         24,
         "25.00"
        ],
        [
         "BAD CHECKS",
         "NOT PROSECUTED",
         45,
         180,
         "25.00"
        ],
        [
         "TREA",
         "ARREST, CITED",
         2,
         8,
         "25.00"
        ],
        [
         "SEX OFFENSES, NON FORCIBLE",
         "UNFOUNDED",
         4,
         16,
         "25.00"
        ],
        [
         "VANDALISM",
         "ARREST, CITED",
         2967,
         12940,
         "22.93"
        ],
        [
         "FORGERY/COUNTERFEITING",
         "PROSECUTED BY OUTSIDE AGENCY",
         1866,
         8546,
         "21.83"
        ],
        [
         "FRAUD",
         "NOT PROSECUTED",
         1940,
         9291,
         "20.88"
        ],
        [
         "NON-CRIMINAL",
         "ARREST, BOOKED",
         9918,
         52553,
         "18.87"
        ],
        [
         "SEX OFFENSES, FORCIBLE",
         "DISTRICT ATTORNEY REFUSES TO PROSECUTE",
         592,
         3172,
         "18.66"
        ],
        [
         "FORGERY/COUNTERFEITING",
         "NOT PROSECUTED",
         1421,
         8546,
         "16.63"
        ],
        [
         "NON-CRIMINAL",
         "UNFOUNDED",
         7398,
         52553,
         "14.08"
        ],
        [
         "SEX OFFENSES, NON FORCIBLE",
         "COMPLAINANT REFUSES TO PROSECUTE",
         2,
         16,
         "12.50"
        ],
        [
         "SEX OFFENSES, NON FORCIBLE",
         "ARREST, BOOKED",
         2,
         16,
         "12.50"
        ],
        [
         "SEX OFFENSES, FORCIBLE",
         "COMPLAINANT REFUSES TO PROSECUTE",
         392,
         3172,
         "12.36"
        ],
        [
         "EMBEZZLEMENT",
         "DISTRICT ATTORNEY REFUSES TO PROSECUTE",
         98,
         837,
         "11.71"
        ],
        [
         "ASSAULT",
         "ARREST, CITED",
         7027,
         62499,
         "11.24"
        ],
        [
         "SUICIDE",
         "ARREST, BOOKED",
         34,
         309,
         "11.00"
        ],
        [
         "SUSPICIOUS OCC",
         "ARREST, CITED",
         889,
         8573,
         "10.37"
        ],
        [
         "FRAUD",
         "ARREST, CITED",
         921,
         9291,
         "9.91"
        ],
        [
         "FRAUD",
         "PROSECUTED BY OUTSIDE AGENCY",
         881,
         9291,
         "9.48"
        ],
        [
         "DRUG/NARCOTIC",
         "ARREST, CITED",
         9046,
         107565,
         "8.41"
        ],
        [
         "PORNOGRAPHY/OBSCENE MAT",
         "DISTRICT ATTORNEY REFUSES TO PROSECUTE",
         2,
         24,
         "8.33"
        ],
        [
         "EXTORTION",
         "DISTRICT ATTORNEY REFUSES TO PROSECUTE",
         12,
         152,
         "7.89"
        ],
        [
         "BAD CHECKS",
         "DISTRICT ATTORNEY REFUSES TO PROSECUTE",
         14,
         180,
         "7.78"
        ],
        [
         "WEAPON LAWS",
         "ARREST, CITED",
         1157,
         14934,
         "7.75"
        ],
        [
         "EMBEZZLEMENT",
         "ARREST, CITED",
         60,
         837,
         "7.17"
        ],
        [
         "SUSPICIOUS OCC",
         "COMPLAINANT REFUSES TO PROSECUTE",
         611,
         8573,
         "7.13"
        ],
        [
         "DRIVING UNDER THE INFLUENCE",
         "ARREST, CITED",
         380,
         5335,
         "7.12"
        ],
        [
         "BAD CHECKS",
         "UNFOUNDED",
         12,
         180,
         "6.67"
        ],
        [
         "EXTORTION",
         "COMPLAINANT REFUSES TO PROSECUTE",
         10,
         152,
         "6.58"
        ],
        [
         "SECONDARY CODES",
         "COMPLAINANT REFUSES TO PROSECUTE",
         621,
         9542,
         "6.51"
        ],
        [
         "SEX OFFENSES, FORCIBLE",
         "ARREST, CITED",
         200,
         3172,
         "6.31"
        ],
        [
         "SEX OFFENSES, NON FORCIBLE",
         "ARREST, CITED",
         1,
         16,
         "6.25"
        ],
        [
         "SUICIDE",
         "LOCATED",
         19,
         309,
         "6.15"
        ],
        [
         "NON-CRIMINAL",
         "ARREST, CITED",
         3220,
         52553,
         "6.13"
        ],
        [
         "EMBEZZLEMENT",
         "COMPLAINANT REFUSES TO PROSECUTE",
         48,
         837,
         "5.73"
        ],
        [
         "SECONDARY CODES",
         "DISTRICT ATTORNEY REFUSES TO PROSECUTE",
         528,
         9542,
         "5.53"
        ],
        [
         "EMBEZZLEMENT",
         "UNFOUNDED",
         46,
         837,
         "5.50"
        ],
        [
         "DRUNKENNESS",
         "ARREST, CITED",
         441,
         8035,
         "5.49"
        ],
        [
         "SEX OFFENSES, FORCIBLE",
         "UNFOUNDED",
         173,
         3172,
         "5.45"
        ],
        [
         "EMBEZZLEMENT",
         "PROSECUTED BY OUTSIDE AGENCY",
         45,
         837,
         "5.38"
        ],
        [
         "SUSPICIOUS OCC",
         "NOT PROSECUTED",
         456,
         8573,
         "5.32"
        ],
        [
         "EXTORTION",
         "UNFOUNDED",
         8,
         152,
         "5.26"
        ],
        [
         "EMBEZZLEMENT",
         "NOT PROSECUTED",
         44,
         837,
         "5.26"
        ],
        [
         "GAMBLING",
         "NOT PROSECUTED",
         12,
         229,
         "5.24"
        ],
        [
         "GAMBLING",
         "PROSECUTED BY OUTSIDE AGENCY",
         12,
         229,
         "5.24"
        ],
        [
         "KIDNAPPING",
         "DISTRICT ATTORNEY REFUSES TO PROSECUTE",
         129,
         2489,
         "5.18"
        ],
        [
         "MISSING PERSON",
         "ARREST, BOOKED",
         1125,
         22638,
         "4.97"
        ],
        [
         "ROBBERY",
         "COMPLAINANT REFUSES TO PROSECUTE",
         536,
         11385,
         "4.71"
        ],
        [
         "FORGERY/COUNTERFEITING",
         "UNFOUNDED",
         393,
         8546,
         "4.60"
        ],
        [
         "SUSPICIOUS OCC",
         "DISTRICT ATTORNEY REFUSES TO PROSECUTE",
         389,
         8573,
         "4.54"
        ],
        [
         "EMBEZZLEMENT",
         "EXCEPTIONAL CLEARANCE",
         38,
         837,
         "4.54"
        ],
        [
         "ROBBERY",
         "DISTRICT ATTORNEY REFUSES TO PROSECUTE",
         500,
         11385,
         "4.39"
        ],
        [
         "PORNOGRAPHY/OBSCENE MAT",
         "UNFOUNDED",
         1,
         24,
         "4.17"
        ],
        [
         "LARCENY/THEFT",
         "NOT PROSECUTED",
         1600,
         40048,
         "4.00"
        ],
        [
         "KIDNAPPING",
         "COMPLAINANT REFUSES TO PROSECUTE",
         99,
         2489,
         "3.98"
        ],
        [
         "EXTORTION",
         "ARREST, CITED",
         6,
         152,
         "3.95"
        ],
        [
         "BURGLARY",
         "UNFOUNDED",
         545,
         14414,
         "3.78"
        ],
        [
         "MISSING PERSON",
         "UNFOUNDED",
         827,
         22638,
         "3.65"
        ],
        [
         "ROBBERY",
         "UNFOUNDED",
         408,
         11385,
         "3.58"
        ],
        [
         "ARSON",
         "UNFOUNDED",
         25,
         701,
         "3.57"
        ],
        [
         "VANDALISM",
         "UNFOUNDED",
         434,
         12940,
         "3.35"
        ],
        [
         "BAD CHECKS",
         "EXCEPTIONAL CLEARANCE",
         6,
         180,
         "3.33"
        ],
        [
         "SEX OFFENSES, FORCIBLE",
         "EXCEPTIONAL CLEARANCE",
         104,
         3172,
         "3.28"
        ],
        [
         "BRIBERY",
         "DISTRICT ATTORNEY REFUSES TO PROSECUTE",
         15,
         458,
         "3.28"
        ],
        [
         "ASSAULT",
         "DISTRICT ATTORNEY REFUSES TO PROSECUTE",
         2051,
         62499,
         "3.28"
        ],
        [
         "FRAUD",
         "UNFOUNDED",
         285,
         9291,
         "3.07"
        ],
        [
         "SUSPICIOUS OCC",
         "EXCEPTIONAL CLEARANCE",
         262,
         8573,
         "3.06"
        ],
        [
         "LARCENY/THEFT",
         "UNFOUNDED",
         1221,
         40048,
         "3.05"
        ],
        [
         "SUSPICIOUS OCC",
         "PROSECUTED BY OUTSIDE AGENCY",
         256,
         8573,
         "2.99"
        ],
        [
         "SUICIDE",
         "UNFOUNDED",
         9,
         309,
         "2.91"
        ],
        [
         "SUICIDE",
         "EXCEPTIONAL CLEARANCE",
         9,
         309,
         "2.91"
        ],
        [
         "FORGERY/COUNTERFEITING",
         "ARREST, CITED",
         247,
         8546,
         "2.89"
        ],
        [
         "ASSAULT",
         "COMPLAINANT REFUSES TO PROSECUTE",
         1797,
         62499,
         "2.88"
        ],
        [
         "BURGLARY",
         "DISTRICT ATTORNEY REFUSES TO PROSECUTE",
         413,
         14414,
         "2.87"
        ],
        [
         "BAD CHECKS",
         "COMPLAINANT REFUSES TO PROSECUTE",
         5,
         180,
         "2.78"
        ],
        [
         "SUSPICIOUS OCC",
         "LOCATED",
         235,
         8573,
         "2.74"
        ],
        [
         "NON-CRIMINAL",
         "COMPLAINANT REFUSES TO PROSECUTE",
         1432,
         52553,
         "2.72"
        ],
        [
         "EXTORTION",
         "EXCEPTIONAL CLEARANCE",
         4,
         152,
         "2.63"
        ],
        [
         "ARSON",
         "ARREST, CITED",
         17,
         701,
         "2.43"
        ],
        [
         "ARSON",
         "PSYCHOPATHIC CASE",
         17,
         701,
         "2.43"
        ],
        [
         "BRIBERY",
         "COMPLAINANT REFUSES TO PROSECUTE",
         11,
         458,
         "2.40"
        ],
        [
         "SUSPICIOUS OCC",
         "PSYCHOPATHIC CASE",
         202,
         8573,
         "2.36"
        ],
        [
         "SECONDARY CODES",
         "UNFOUNDED",
         217,
         9542,
         "2.27"
        ],
        [
         "BURGLARY",
         "COMPLAINANT REFUSES TO PROSECUTE",
         298,
         14414,
         "2.07"
        ],
        [
         "VANDALISM",
         "COMPLAINANT REFUSES TO PROSECUTE",
         264,
         12940,
         "2.04"
        ],
        [
         "SECONDARY CODES",
         "ARREST, CITED",
         188,
         9542,
         "1.97"
        ],
        [
         "EXTORTION",
         "PROSECUTED BY OUTSIDE AGENCY",
         3,
         152,
         "1.97"
        ],
        [
         "MISSING PERSON",
         "PSYCHOPATHIC CASE",
         426,
         22638,
         "1.88"
        ],
        [
         "FORGERY/COUNTERFEITING",
         "DISTRICT ATTORNEY REFUSES TO PROSECUTE",
         156,
         8546,
         "1.83"
        ],
        [
         "VEHICLE THEFT",
         "ARREST, CITED",
         185,
         10248,
         "1.81"
        ],
        [
         "NON-CRIMINAL",
         "EXCEPTIONAL CLEARANCE",
         945,
         52553,
         "1.80"
        ],
        [
         "NON-CRIMINAL",
         "LOCATED",
         866,
         52553,
         "1.65"
        ],
        [
         "STOLEN PROPERTY",
         "ARREST, CITED",
         161,
         10011,
         "1.61"
        ],
        [
         "ASSAULT",
         "UNFOUNDED",
         1000,
         62499,
         "1.60"
        ],
        [
         "VANDALISM",
         "PSYCHOPATHIC CASE",
         196,
         12940,
         "1.51"
        ],
        [
         "NON-CRIMINAL",
         "NOT PROSECUTED",
         796,
         52553,
         "1.51"
        ],
        [
         "VANDALISM",
         "DISTRICT ATTORNEY REFUSES TO PROSECUTE",
         191,
         12940,
         "1.48"
        ],
        [
         "KIDNAPPING",
         "UNFOUNDED",
         35,
         2489,
         "1.41"
        ],
        [
         "FRAUD",
         "DISTRICT ATTORNEY REFUSES TO PROSECUTE",
         130,
         9291,
         "1.40"
        ],
        [
         "FRAUD",
         "EXCEPTIONAL CLEARANCE",
         129,
         9291,
         "1.39"
        ],
        [
         "EXTORTION",
         "NOT PROSECUTED",
         2,
         152,
         "1.32"
        ],
        [
         "MISSING PERSON",
         "ARREST, CITED",
         296,
         22638,
         "1.31"
        ],
        [
         "MISSING PERSON",
         "EXCEPTIONAL CLEARANCE",
         271,
         22638,
         "1.20"
        ],
        [
         "LARCENY/THEFT",
         "COMPLAINANT REFUSES TO PROSECUTE",
         471,
         40048,
         "1.18"
        ],
        [
         "LARCENY/THEFT",
         "DISTRICT ATTORNEY REFUSES TO PROSECUTE",
         467,
         40048,
         "1.17"
        ],
        [
         "LARCENY/THEFT",
         "EXCEPTIONAL CLEARANCE",
         442,
         40048,
         "1.10"
        ],
        [
         "BRIBERY",
         "ARREST, CITED",
         5,
         458,
         "1.09"
        ],
        [
         "BRIBERY",
         "UNFOUNDED",
         5,
         458,
         "1.09"
        ],
        [
         "RECOVERED VEHICLE",
         "ARREST, CITED",
         6,
         575,
         "1.04"
        ],
        [
         "WEAPON LAWS",
         "UNFOUNDED",
         156,
         14934,
         "1.04"
        ],
        [
         "ASSAULT",
         "EXCEPTIONAL CLEARANCE",
         632,
         62499,
         "1.01"
        ],
        [
         "BURGLARY",
         "ARREST, CITED",
         146,
         14414,
         "1.01"
        ],
        [
         "ROBBERY",
         "NOT PROSECUTED",
         109,
         11385,
         "0.96"
        ],
        [
         "WARRANTS",
         "ARREST, CITED",
         885,
         94339,
         "0.94"
        ],
        [
         "DISORDERLY CONDUCT",
         "UNFOUNDED",
         60,
         6474,
         "0.93"
        ],
        [
         "BURGLARY",
         "EXCEPTIONAL CLEARANCE",
         134,
         14414,
         "0.93"
        ],
        [
         "NON-CRIMINAL",
         "PROSECUTED BY OUTSIDE AGENCY",
         476,
         52553,
         "0.91"
        ],
        [
         "FORGERY/COUNTERFEITING",
         "EXCEPTIONAL CLEARANCE",
         76,
         8546,
         "0.89"
        ],
        [
         "NON-CRIMINAL",
         "DISTRICT ATTORNEY REFUSES TO PROSECUTE",
         470,
         52553,
         "0.89"
        ],
        [
         "GAMBLING",
         "UNFOUNDED",
         2,
         229,
         "0.87"
        ],
        [
         "PROSTITUTION",
         "EXCEPTIONAL CLEARANCE",
         131,
         15651,
         "0.84"
        ],
        [
         "OTHER OFFENSES",
         "UNFOUNDED",
         1715,
         215059,
         "0.80"
        ],
        [
         "ROBBERY",
         "ARREST, CITED",
         90,
         11385,
         "0.79"
        ],
        [
         "LIQUOR LAWS",
         "PROSECUTED BY OUTSIDE AGENCY",
         20,
         2527,
         "0.79"
        ],
        [
         "SEX OFFENSES, FORCIBLE",
         "PROSECUTED BY OUTSIDE AGENCY",
         23,
         3172,
         "0.73"
        ],
        [
         "ROBBERY",
         "EXCEPTIONAL CLEARANCE",
         82,
         11385,
         "0.72"
        ],
        [
         "VEHICLE THEFT",
         "DISTRICT ATTORNEY REFUSES TO PROSECUTE",
         70,
         10248,
         "0.68"
        ],
        [
         "KIDNAPPING",
         "ARREST, CITED",
         17,
         2489,
         "0.68"
        ],
        [
         "BRIBERY",
         "EXCEPTIONAL CLEARANCE",
         3,
         458,
         "0.66"
        ],
        [
         "SUICIDE",
         "ARREST, CITED",
         2,
         309,
         "0.65"
        ],
        [
         "ASSAULT",
         "PSYCHOPATHIC CASE",
         403,
         62499,
         "0.64"
        ],
        [
         "VANDALISM",
         "EXCEPTIONAL CLEARANCE",
         83,
         12940,
         "0.64"
        ],
        [
         "WEAPON LAWS",
         "DISTRICT ATTORNEY REFUSES TO PROSECUTE",
         94,
         14934,
         "0.63"
        ],
        [
         "KIDNAPPING",
         "PROSECUTED BY OUTSIDE AGENCY",
         15,
         2489,
         "0.60"
        ],
        [
         "SECONDARY CODES",
         "NOT PROSECUTED",
         56,
         9542,
         "0.59"
        ],
        [
         "STOLEN PROPERTY",
         "NOT PROSECUTED",
         59,
         10011,
         "0.59"
        ],
        [
         "SEX OFFENSES, FORCIBLE",
         "NOT PROSECUTED",
         18,
         3172,
         "0.57"
        ],
        [
         "KIDNAPPING",
         "EXCEPTIONAL CLEARANCE",
         14,
         2489,
         "0.56"
        ],
        [
         "BAD CHECKS",
         "ARREST, CITED",
         1,
         180,
         "0.56"
        ],
        [
         "TRESPASS",
         "UNFOUNDED",
         68,
         12907,
         "0.53"
        ],
        [
         "RECOVERED VEHICLE",
         "UNFOUNDED",
         3,
         575,
         "0.52"
        ],
        [
         "VEHICLE THEFT",
         "COMPLAINANT REFUSES TO PROSECUTE",
         53,
         10248,
         "0.52"
        ],
        [
         "FRAUD",
         "COMPLAINANT REFUSES TO PROSECUTE",
         46,
         9291,
         "0.50"
        ],
        [
         "FORGERY/COUNTERFEITING",
         "COMPLAINANT REFUSES TO PROSECUTE",
         42,
         8546,
         "0.49"
        ],
        [
         "SECONDARY CODES",
         "EXCEPTIONAL CLEARANCE",
         46,
         9542,
         "0.48"
        ],
        [
         "DRUNKENNESS",
         "PSYCHOPATHIC CASE",
         37,
         8035,
         "0.46"
        ],
        [
         "WEAPON LAWS",
         "NOT PROSECUTED",
         66,
         14934,
         "0.44"
        ],
        [
         "GAMBLING",
         "EXCEPTIONAL CLEARANCE",
         1,
         229,
         "0.44"
        ],
        [
         "GAMBLING",
         "DISTRICT ATTORNEY REFUSES TO PROSECUTE",
         1,
         229,
         "0.44"
        ],
        [
         "TRESPASS",
         "COMPLAINANT REFUSES TO PROSECUTE",
         56,
         12907,
         "0.43"
        ],
        [
         "ARSON",
         "COMPLAINANT REFUSES TO PROSECUTE",
         3,
         701,
         "0.43"
        ],
        [
         "DISORDERLY CONDUCT",
         "COMPLAINANT REFUSES TO PROSECUTE",
         28,
         6474,
         "0.43"
        ],
        [
         "ARSON",
         "PROSECUTED BY OUTSIDE AGENCY",
         3,
         701,
         "0.43"
        ],
        [
         "ARSON",
         "NOT PROSECUTED",
         3,
         701,
         "0.43"
        ],
        [
         "ROBBERY",
         "PROSECUTED BY OUTSIDE AGENCY",
         47,
         11385,
         "0.41"
        ],
        [
         "TRESPASS",
         "PSYCHOPATHIC CASE",
         52,
         12907,
         "0.40"
        ],
        [
         "LARCENY/THEFT",
         "PROSECUTED BY OUTSIDE AGENCY",
         156,
         40048,
         "0.39"
        ],
        [
         "SEX OFFENSES, FORCIBLE",
         "LOCATED",
         12,
         3172,
         "0.38"
        ],
        [
         "BURGLARY",
         "NOT PROSECUTED",
         55,
         14414,
         "0.38"
        ],
        [
         "EMBEZZLEMENT",
         "LOCATED",
         3,
         837,
         "0.36"
        ],
        [
         "DRUNKENNESS",
         "UNFOUNDED",
         28,
         8035,
         "0.35"
        ],
        [
         "VEHICLE THEFT",
         "EXCEPTIONAL CLEARANCE",
         35,
         10248,
         "0.34"
        ],
        [
         "OTHER OFFENSES",
         "PROSECUTED BY OUTSIDE AGENCY",
         718,
         215059,
         "0.33"
        ],
        [
         "SEX OFFENSES, FORCIBLE",
         "PSYCHOPATHIC CASE",
         10,
         3172,
         "0.32"
        ],
        [
         "SECONDARY CODES",
         "PROSECUTED BY OUTSIDE AGENCY",
         31,
         9542,
         "0.32"
        ],
        [
         "SUICIDE",
         "DISTRICT ATTORNEY REFUSES TO PROSECUTE",
         1,
         309,
         "0.32"
        ],
        [
         "SECONDARY CODES",
         "PSYCHOPATHIC CASE",
         30,
         9542,
         "0.31"
        ],
        [
         "WEAPON LAWS",
         "COMPLAINANT REFUSES TO PROSECUTE",
         45,
         14934,
         "0.30"
        ],
        [
         "OTHER OFFENSES",
         "DISTRICT ATTORNEY REFUSES TO PROSECUTE",
         635,
         215059,
         "0.30"
        ],
        [
         "STOLEN PROPERTY",
         "PROSECUTED BY OUTSIDE AGENCY",
         30,
         10011,
         "0.30"
        ],
        [
         "DRUNKENNESS",
         "NOT PROSECUTED",
         23,
         8035,
         "0.29"
        ],
        [
         "ARSON",
         "EXCEPTIONAL CLEARANCE",
         2,
         701,
         "0.29"
        ],
        [
         "DISORDERLY CONDUCT",
         "PSYCHOPATHIC CASE",
         18,
         6474,
         "0.28"
        ],
        [
         "OTHER OFFENSES",
         "COMPLAINANT REFUSES TO PROSECUTE",
         604,
         215059,
         "0.28"
        ],
        [
         "STOLEN PROPERTY",
         "DISTRICT ATTORNEY REFUSES TO PROSECUTE",
         27,
         10011,
         "0.27"
        ],
        [
         "VANDALISM",
         "NOT PROSECUTED",
         34,
         12940,
         "0.26"
        ],
        [
         "WEAPON LAWS",
         "EXCEPTIONAL CLEARANCE",
         39,
         14934,
         "0.26"
        ],
        [
         "KIDNAPPING",
         "NOT PROSECUTED",
         6,
         2489,
         "0.24"
        ],
        [
         "EMBEZZLEMENT",
         "PSYCHOPATHIC CASE",
         2,
         837,
         "0.24"
        ],
        [
         "ASSAULT",
         "NOT PROSECUTED",
         136,
         62499,
         "0.22"
        ],
        [
         "BURGLARY",
         "PROSECUTED BY OUTSIDE AGENCY",
         32,
         14414,
         "0.22"
        ],
        [
         "BRIBERY",
         "NOT PROSECUTED",
         1,
         458,
         "0.22"
        ],
        [
         "LIQUOR LAWS",
         "NOT PROSECUTED",
         5,
         2527,
         "0.20"
        ],
        [
         "DRUG/NARCOTIC",
         "UNFOUNDED",
         219,
         107565,
         "0.20"
        ],
        [
         "OTHER OFFENSES",
         "NOT PROSECUTED",
         433,
         215059,
         "0.20"
        ],
        [
         "KIDNAPPING",
         "LOCATED",
         5,
         2489,
         "0.20"
        ],
        [
         "VEHICLE THEFT",
         "LOCATED",
         20,
         10248,
         "0.20"
        ],
        [
         "TRESPASS",
         "NOT PROSECUTED",
         24,
         12907,
         "0.19"
        ],
        [
         "VEHICLE THEFT",
         "NOT PROSECUTED",
         19,
         10248,
         "0.19"
        ],
        [
         "VANDALISM",
         "LOCATED",
         25,
         12940,
         "0.19"
        ],
        [
         "LOITERING",
         "NOT PROSECUTED",
         4,
         2103,
         "0.19"
        ],
        [
         "TRESPASS",
         "EXCEPTIONAL CLEARANCE",
         22,
         12907,
         "0.17"
        ],
        [
         "STOLEN PROPERTY",
         "UNFOUNDED",
         17,
         10011,
         "0.17"
        ],
        [
         "OTHER OFFENSES",
         "EXCEPTIONAL CLEARANCE",
         361,
         215059,
         "0.17"
        ],
        [
         "DISORDERLY CONDUCT",
         "NOT PROSECUTED",
         11,
         6474,
         "0.17"
        ],
        [
         "RECOVERED VEHICLE",
         "NOT PROSECUTED",
         1,
         575,
         "0.17"
        ],
        [
         "RECOVERED VEHICLE",
         "EXCEPTIONAL CLEARANCE",
         1,
         575,
         "0.17"
        ],
        [
         "PROSTITUTION",
         "UNFOUNDED",
         25,
         15651,
         "0.16"
        ],
        [
         "ASSAULT",
         "PROSECUTED BY OUTSIDE AGENCY",
         102,
         62499,
         "0.16"
        ],
        [
         "LIQUOR LAWS",
         "LOCATED",
         4,
         2527,
         "0.16"
        ],
        [
         "ASSAULT",
         "LOCATED",
         93,
         62499,
         "0.15"
        ],
        [
         "DRUNKENNESS",
         "COMPLAINANT REFUSES TO PROSECUTE",
         12,
         8035,
         "0.15"
        ],
        [
         "STOLEN PROPERTY",
         "EXCEPTIONAL CLEARANCE",
         15,
         10011,
         "0.15"
        ],
        [
         "DISORDERLY CONDUCT",
         "EXCEPTIONAL CLEARANCE",
         10,
         6474,
         "0.15"
        ],
        [
         "MISSING PERSON",
         "PROSECUTED BY OUTSIDE AGENCY",
         32,
         22638,
         "0.14"
        ],
        [
         "TRESPASS",
         "DISTRICT ATTORNEY REFUSES TO PROSECUTE",
         18,
         12907,
         "0.14"
        ],
        [
         "DISORDERLY CONDUCT",
         "DISTRICT ATTORNEY REFUSES TO PROSECUTE",
         9,
         6474,
         "0.14"
        ],
        [
         "WARRANTS",
         "UNFOUNDED",
         132,
         94339,
         "0.14"
        ],
        [
         "ARSON",
         "PROSECUTED FOR LESSER OFFENSE",
         1,
         701,
         "0.14"
        ],
        [
         "LOITERING",
         "UNFOUNDED",
         3,
         2103,
         "0.14"
        ],
        [
         "WEAPON LAWS",
         "PSYCHOPATHIC CASE",
         20,
         14934,
         "0.13"
        ],
        [
         "DRUG/NARCOTIC",
         "NOT PROSECUTED",
         139,
         107565,
         "0.13"
        ],
        [
         "PROSTITUTION",
         "DISTRICT ATTORNEY REFUSES TO PROSECUTE",
         20,
         15651,
         "0.13"
        ],
        [
         "SECONDARY CODES",
         "LOCATED",
         11,
         9542,
         "0.12"
        ],
        [
         "LARCENY/THEFT",
         "PSYCHOPATHIC CASE",
         47,
         40048,
         "0.12"
        ],
        [
         "LIQUOR LAWS",
         "PSYCHOPATHIC CASE",
         3,
         2527,
         "0.12"
        ],
        [
         "KIDNAPPING",
         "PSYCHOPATHIC CASE",
         3,
         2489,
         "0.12"
        ],
        [
         "LIQUOR LAWS",
         "UNFOUNDED",
         3,
         2527,
         "0.12"
        ],
        [
         "LARCENY/THEFT",
         "LOCATED",
         44,
         40048,
         "0.11"
        ],
        [
         "VEHICLE THEFT",
         "PROSECUTED BY OUTSIDE AGENCY",
         11,
         10248,
         "0.11"
        ],
        [
         "FRAUD",
         "PSYCHOPATHIC CASE",
         10,
         9291,
         "0.11"
        ],
        [
         "DRIVING UNDER THE INFLUENCE",
         "UNFOUNDED",
         6,
         5335,
         "0.11"
        ],
        [
         "LOITERING",
         "LOCATED",
         2,
         2103,
         "0.10"
        ],
        [
         "BURGLARY",
         "LOCATED",
         15,
         14414,
         "0.10"
        ],
        [
         "DRUNKENNESS",
         "LOCATED",
         8,
         8035,
         "0.10"
        ],
        [
         "WEAPON LAWS",
         "PROSECUTED BY OUTSIDE AGENCY",
         15,
         14934,
         "0.10"
        ],
        [
         "OTHER OFFENSES",
         "PSYCHOPATHIC CASE",
         212,
         215059,
         "0.10"
        ],
        [
         "LOITERING",
         "DISTRICT ATTORNEY REFUSES TO PROSECUTE",
         2,
         2103,
         "0.10"
        ],
        [
         "DISORDERLY CONDUCT",
         "LOCATED",
         6,
         6474,
         "0.09"
        ],
        [
         "VANDALISM",
         "PROSECUTED BY OUTSIDE AGENCY",
         12,
         12940,
         "0.09"
        ],
        [
         "DRUNKENNESS",
         "EXCEPTIONAL CLEARANCE",
         7,
         8035,
         "0.09"
        ],
        [
         "TRESPASS",
         "LOCATED",
         10,
         12907,
         "0.08"
        ],
        [
         "MISSING PERSON",
         "NOT PROSECUTED",
         19,
         22638,
         "0.08"
        ],
        [
         "FRAUD",
         "LOCATED",
         7,
         9291,
         "0.08"
        ],
        [
         "PROSTITUTION",
         "COMPLAINANT REFUSES TO PROSECUTE",
         11,
         15651,
         "0.07"
        ],
        [
         "ROBBERY",
         "LOCATED",
         8,
         11385,
         "0.07"
        ],
        [
         "DRUNKENNESS",
         "DISTRICT ATTORNEY REFUSES TO PROSECUTE",
         6,
         8035,
         "0.07"
        ],
        [
         "MISSING PERSON",
         "DISTRICT ATTORNEY REFUSES TO PROSECUTE",
         15,
         22638,
         "0.07"
        ],
        [
         "OTHER OFFENSES",
         "LOCATED",
         119,
         215059,
         "0.06"
        ],
        [
         "BURGLARY",
         "PSYCHOPATHIC CASE",
         9,
         14414,
         "0.06"
        ],
        [
         "DRIVING UNDER THE INFLUENCE",
         "EXCEPTIONAL CLEARANCE",
         3,
         5335,
         "0.06"
        ],
        [
         "WEAPON LAWS",
         "LOCATED",
         7,
         14934,
         "0.05"
        ],
        [
         "DRUG/NARCOTIC",
         "COMPLAINANT REFUSES TO PROSECUTE",
         49,
         107565,
         "0.05"
        ],
        [
         "ROBBERY",
         "PSYCHOPATHIC CASE",
         6,
         11385,
         "0.05"
        ],
        [
         "WARRANTS",
         "PROSECUTED BY OUTSIDE AGENCY",
         43,
         94339,
         "0.05"
        ],
        [
         "DRUG/NARCOTIC",
         "PSYCHOPATHIC CASE",
         51,
         107565,
         "0.05"
        ],
        [
         "MISSING PERSON",
         "COMPLAINANT REFUSES TO PROSECUTE",
         12,
         22638,
         "0.05"
        ],
        [
         "LOITERING",
         "EXCEPTIONAL CLEARANCE",
         1,
         2103,
         "0.05"
        ],
        [
         "LOITERING",
         "PROSECUTED BY OUTSIDE AGENCY",
         1,
         2103,
         "0.05"
        ],
        [
         "FORGERY/COUNTERFEITING",
         "PSYCHOPATHIC CASE",
         3,
         8546,
         "0.04"
        ],
        [
         "LIQUOR LAWS",
         "EXCEPTIONAL CLEARANCE",
         1,
         2527,
         "0.04"
        ],
        [
         "PROSTITUTION",
         "PROSECUTED BY OUTSIDE AGENCY",
         7,
         15651,
         "0.04"
        ],
        [
         "PROSTITUTION",
         "LOCATED",
         7,
         15651,
         "0.04"
        ],
        [
         "WARRANTS",
         "DISTRICT ATTORNEY REFUSES TO PROSECUTE",
         36,
         94339,
         "0.04"
        ],
        [
         "WARRANTS",
         "LOCATED",
         34,
         94339,
         "0.04"
        ],
        [
         "WARRANTS",
         "PSYCHOPATHIC CASE",
         36,
         94339,
         "0.04"
        ],
        [
         "TRESPASS",
         "PROSECUTED BY OUTSIDE AGENCY",
         5,
         12907,
         "0.04"
        ],
        [
         "KIDNAPPING",
         "PROSECUTED FOR LESSER OFFENSE",
         1,
         2489,
         "0.04"
        ],
        [
         "STOLEN PROPERTY",
         "COMPLAINANT REFUSES TO PROSECUTE",
         4,
         10011,
         "0.04"
        ],
        [
         "DRIVING UNDER THE INFLUENCE",
         "LOCATED",
         2,
         5335,
         "0.04"
        ],
        [
         "DRUG/NARCOTIC",
         "EXCEPTIONAL CLEARANCE",
         37,
         107565,
         "0.03"
        ],
        [
         "SECONDARY CODES",
         "PROSECUTED FOR LESSER OFFENSE",
         3,
         9542,
         "0.03"
        ],
        [
         "DRUG/NARCOTIC",
         "PROSECUTED BY OUTSIDE AGENCY",
         35,
         107565,
         "0.03"
        ],
        [
         "DISORDERLY CONDUCT",
         "PROSECUTED BY OUTSIDE AGENCY",
         2,
         6474,
         "0.03"
        ],
        [
         "WARRANTS",
         "EXCEPTIONAL CLEARANCE",
         30,
         94339,
         "0.03"
        ],
        [
         "STOLEN PROPERTY",
         "LOCATED",
         3,
         10011,
         "0.03"
        ],
        [
         "DRIVING UNDER THE INFLUENCE",
         "PROSECUTED FOR LESSER OFFENSE",
         1,
         5335,
         "0.02"
        ],
        [
         "WARRANTS",
         "NOT PROSECUTED",
         18,
         94339,
         "0.02"
        ],
        [
         "ASSAULT",
         "PROSECUTED FOR LESSER OFFENSE",
         12,
         62499,
         "0.02"
        ],
        [
         "DRIVING UNDER THE INFLUENCE",
         "PROSECUTED BY OUTSIDE AGENCY",
         1,
         5335,
         "0.02"
        ],
        [
         "DRUG/NARCOTIC",
         "DISTRICT ATTORNEY REFUSES TO PROSECUTE",
         24,
         107565,
         "0.02"
        ],
        [
         "FRAUD",
         "PROSECUTED FOR LESSER OFFENSE",
         2,
         9291,
         "0.02"
        ],
        [
         "DRUG/NARCOTIC",
         "LOCATED",
         24,
         107565,
         "0.02"
        ],
        [
         "DRIVING UNDER THE INFLUENCE",
         "PSYCHOPATHIC CASE",
         1,
         5335,
         "0.02"
        ],
        [
         "WARRANTS",
         "COMPLAINANT REFUSES TO PROSECUTE",
         21,
         94339,
         "0.02"
        ],
        [
         "DISORDERLY CONDUCT",
         "PROSECUTED FOR LESSER OFFENSE",
         1,
         6474,
         "0.02"
        ],
        [
         "FORGERY/COUNTERFEITING",
         "PROSECUTED FOR LESSER OFFENSE",
         2,
         8546,
         "0.02"
        ],
        [
         "OTHER OFFENSES",
         "PROSECUTED FOR LESSER OFFENSE",
         18,
         215059,
         "0.01"
        ],
        [
         "DRUG/NARCOTIC",
         "PROSECUTED FOR LESSER OFFENSE",
         15,
         107565,
         "0.01"
        ],
        [
         "WEAPON LAWS",
         "PROSECUTED FOR LESSER OFFENSE",
         1,
         14934,
         "0.01"
        ],
        [
         "STOLEN PROPERTY",
         "PSYCHOPATHIC CASE",
         1,
         10011,
         "0.01"
        ],
        [
         "BURGLARY",
         "PROSECUTED FOR LESSER OFFENSE",
         2,
         14414,
         "0.01"
        ],
        [
         "NON-CRIMINAL",
         "PROSECUTED FOR LESSER OFFENSE",
         5,
         52553,
         "0.01"
        ],
        [
         "SUSPICIOUS OCC",
         "PROSECUTED FOR LESSER OFFENSE",
         1,
         8573,
         "0.01"
        ],
        [
         "WARRANTS",
         "PROSECUTED FOR LESSER OFFENSE",
         12,
         94339,
         "0.01"
        ],
        [
         "TRESPASS",
         "PROSECUTED FOR LESSER OFFENSE",
         1,
         12907,
         "0.01"
        ],
        [
         "ROBBERY",
         "PROSECUTED FOR LESSER OFFENSE",
         1,
         11385,
         "0.01"
        ],
        [
         "STOLEN PROPERTY",
         "PROSECUTED FOR LESSER OFFENSE",
         1,
         10011,
         "0.01"
        ],
        [
         "VEHICLE THEFT",
         "PROSECUTED FOR LESSER OFFENSE",
         1,
         10248,
         "0.01"
        ],
        [
         "VEHICLE THEFT",
         "PSYCHOPATHIC CASE",
         1,
         10248,
         "0.01"
        ],
        [
         "PROSTITUTION",
         "PSYCHOPATHIC CASE",
         2,
         15651,
         "0.01"
        ],
        [
         "PROSTITUTION",
         "NOT PROSECUTED",
         1,
         15651,
         "0.01"
        ],
        [
         "DRUNKENNESS",
         "PROSECUTED BY OUTSIDE AGENCY",
         1,
         8035,
         "0.01"
        ],
        [
         "DRUNKENNESS",
         "PROSECUTED FOR LESSER OFFENSE",
         1,
         8035,
         "0.01"
        ],
        [
         "FORGERY/COUNTERFEITING",
         "LOCATED",
         1,
         8546,
         "0.01"
        ],
        [
         "LARCENY/THEFT",
         "PROSECUTED FOR LESSER OFFENSE",
         1,
         40048,
         "0.00"
        ]
       ],
       "datasetInfos": [],
       "dbfsResultPath": null,
       "isJsonSchema": true,
       "metadata": {},
       "overflow": false,
       "plotOptions": {
        "customPlotOptions": {},
        "displayType": "table",
        "pivotAggregation": null,
        "pivotColumns": null,
        "xColumns": null,
        "yColumns": null
       },
       "removedWidgets": [],
       "schema": [
        {
         "metadata": "{}",
         "name": "category",
         "type": "\"string\""
        },
        {
         "metadata": "{}",
         "name": "Resolution",
         "type": "\"string\""
        },
        {
         "metadata": "{}",
         "name": "resolved",
         "type": "\"long\""
        },
        {
         "metadata": "{}",
         "name": "total",
         "type": "\"long\""
        },
        {
         "metadata": "{}",
         "name": "percentage",
         "type": "\"decimal(27,2)\""
        }
       ],
       "type": "table"
      }
     },
     "output_type": "display_data"
    }
   ],
   "source": [
    "%sql\n",
    "WITH resolution_counts AS (\n",
    "    -- 计算每种有效 Resolution 类型的案件数\n",
    "    SELECT category, Resolution, COUNT(*) AS resolved\n",
    "    FROM sf_crime\n",
    "    WHERE Resolution <> 'NONE'  -- ✅ 这里去掉 'NONE'\n",
    "    GROUP BY category, Resolution\n",
    "),\n",
    "total_cases AS (\n",
    "    -- 计算每个 category 下的所有被解决的案件（也去掉 'NONE'）\n",
    "    SELECT category, SUM(resolved) AS total\n",
    "    FROM resolution_counts\n",
    "    GROUP BY category\n",
    ")\n",
    "SELECT r.category, r.Resolution, r.resolved, t.total,\n",
    "       ROUND(r.resolved * 100.0 / t.total, 2) AS percentage\n",
    "FROM resolution_counts r\n",
    "JOIN total_cases t ON r.category = t.category\n",
    "ORDER BY percentage DESC;\n"
   ]
  },
  {
   "cell_type": "markdown",
   "metadata": {
    "application/vnd.databricks.v1+cell": {
     "cellMetadata": {},
     "inputWidgets": {},
     "nuid": "8cfbfd1c-496a-4b24-b7aa-288b52d08c2a",
     "showTitle": false,
     "tableResultSettingsMap": {},
     "title": ""
    }
   },
   "source": []
  },
  {
   "cell_type": "markdown",
   "metadata": {
    "application/vnd.databricks.v1+cell": {
     "cellMetadata": {},
     "inputWidgets": {},
     "nuid": "47283f8c-8df3-4695-9eb1-382ae88edec7",
     "showTitle": false,
     "tableResultSettingsMap": {},
     "title": ""
    }
   },
   "source": []
  }
 ],
 "metadata": {
  "application/vnd.databricks.v1+notebook": {
   "computePreferences": null,
   "dashboards": [],
   "environmentMetadata": {
    "base_environment": "",
    "environment_version": "1"
   },
   "inputWidgetPreferences": null,
   "language": "python",
   "notebookMetadata": {
    "mostRecentlyExecutedCommandWithImplicitDF": {
     "commandId": 2161326548210976,
     "dataframes": [
      "_sqldf"
     ]
    },
    "pythonIndentUnit": 4
   },
   "notebookName": "HW1-Minfei 2025-03-01 13:11:42",
   "widgets": {}
  }
 },
 "nbformat": 4,
 "nbformat_minor": 0
}
